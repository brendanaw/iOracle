{
 "cells": [
  {
   "cell_type": "markdown",
   "id": "b0acf6f7",
   "metadata": {},
   "source": [
    "# Random Forest Regessor Base Model"
   ]
  },
  {
   "cell_type": "markdown",
   "id": "ec9d6e7f",
   "metadata": {},
   "source": [
    "## Package imports"
   ]
  },
  {
   "cell_type": "code",
   "execution_count": 1,
   "id": "f6d0cab5",
   "metadata": {
    "ExecuteTime": {
     "end_time": "2022-01-06T12:38:33.269761Z",
     "start_time": "2022-01-06T12:38:32.011425Z"
    }
   },
   "outputs": [],
   "source": [
    "import yfinance as yf\n",
    "import pandas as pd\n",
    "import numpy as np\n",
    "import matplotlib.pyplot as plt\n",
    "import datetime \n",
    "import ta\n",
    "from sklearn.tree import DecisionTreeRegressor\n",
    "from sklearn.ensemble import RandomForestRegressor\n",
    "from sklearn.model_selection import cross_validate, ParameterGrid, train_test_split, GridSearchCV, RandomizedSearchCV, learning_curve\n",
    "from sklearn import metrics\n",
    "from sklearn.preprocessing import StandardScaler\n",
    "from ta.momentum import RSIIndicator\n",
    "from ta.trend import SMAIndicator\n",
    "from ta.volatility import BollingerBands\n",
    "from datetime import datetime as dt"
   ]
  },
  {
   "cell_type": "markdown",
   "id": "fb7b7516",
   "metadata": {},
   "source": [
    "## Custom TimedSplit Class"
   ]
  },
  {
   "cell_type": "code",
   "execution_count": 2,
   "id": "efb6afa9",
   "metadata": {
    "ExecuteTime": {
     "end_time": "2022-01-06T12:38:33.282373Z",
     "start_time": "2022-01-06T12:38:33.271249Z"
    }
   },
   "outputs": [],
   "source": [
    "class train_val_split:\n",
    "    \n",
    "    def __init__(self, df, duration=30, window=1, prediction_period=5, start = '2018-01-01', end = '2020-03-31'):\n",
    "        self.duration = duration # training period, for dates\n",
    "        self.window = window # rolling window freq, for dates\n",
    "        self.prediction_period = prediction_period # prediciton horizon, for dates\n",
    "        self.start = start\n",
    "        self.end = end\n",
    "        self.df = df.loc[(df.index >= start) & (df.index <= end)].reset_index()\n",
    "        self.start_ind = self.df[self.df.Date>=self.start].index.min()\n",
    "        \n",
    "    @staticmethod\n",
    "    def _strfdate(date):\n",
    "        return dt.strftime(date, '%Y-%m-%d')\n",
    "           \n",
    "    \n",
    "    def split_by_date(self):\n",
    "        self.end_ind = self.start_ind + self.duration\n",
    "        \n",
    "        dates = []\n",
    "        \n",
    "        while self.end_ind <=  len(self.df) - self.prediction_period:\n",
    "            date_start = self._strfdate(self.df.Date[self.start_ind])\n",
    "            date_end = self._strfdate(self.df.Date[self.end_ind])\n",
    "            \n",
    "            dates.append([date_start, date_end])\n",
    "            \n",
    "            self.start_ind += self.window\n",
    "            self.end_ind = self.start_ind + self.duration\n",
    "            \n",
    "        return dates\n",
    "    \n",
    "    def _chk_split(self, date_split):\n",
    "        for n in range(len(date_split)-1):\n",
    "            if date_split[n] >= date_split[n+1]:\n",
    "                return False\n",
    "        if date_split[0] < self.start:\n",
    "            return False\n",
    "        if date_split[-1] > self.end:\n",
    "            return False\n",
    "        return True\n",
    "            \n",
    "    \n",
    "    def split_by_index(self, date_split = ['2018-09-30','2019-06-30','2020-03-31']):\n",
    "        \n",
    "        if not self._chk_split(date_split):\n",
    "            return \"Check date split again\"\n",
    "        \n",
    "        ind_out = []            \n",
    "        for n, date in enumerate(date_split):\n",
    "            self.train_end_ind = self.df[self.df.Date<=date].index.max()\n",
    "            \n",
    "            if n < len(date_split)-1:\n",
    "                val_end = self.df[self.df.Date<=date_split[n+1]].index.max()\n",
    "            else:\n",
    "                val_end = self.df.index.max()\n",
    "            \n",
    "            #check boundary_dates\n",
    "            print(self.df.Date[self.train_end_ind], self.df.Date[self.train_end_ind+1], self.df.Date[val_end])\n",
    "                \n",
    "            ind_out.append((list(range(self.start_ind, self.train_end_ind+1)), list(range(self.train_end_ind+1, val_end+1))))\n",
    "            \n",
    "        return ind_out\n",
    "    \n",
    "    def get_val_map(self, start='2020-06-01', end='2020-12-31'):\n",
    "        start_ind = self.df[self.df.Date>=start].index.min()\n",
    "        end_ind = self.df[self.df.Date<=end].index.max()\n",
    "        \n",
    "        return {self._strfdate(self.df.Date[n-5]):self._strfdate(self.df.Date[n]) for n in range(start_ind, end_ind+1)}"
   ]
  },
  {
   "cell_type": "markdown",
   "id": "067cd2f1",
   "metadata": {},
   "source": [
    "## Download Data"
   ]
  },
  {
   "cell_type": "code",
   "execution_count": 3,
   "id": "232b6407",
   "metadata": {
    "ExecuteTime": {
     "end_time": "2022-01-06T12:38:33.285754Z",
     "start_time": "2022-01-06T12:38:33.283507Z"
    }
   },
   "outputs": [],
   "source": [
    "def get_data(ticker, start=\"2017-01-01\", end=\"2022-01-01\"):\n",
    "    return yf.download(ticker, start, end)"
   ]
  },
  {
   "cell_type": "code",
   "execution_count": 4,
   "id": "d015cf06",
   "metadata": {
    "ExecuteTime": {
     "end_time": "2022-01-06T12:38:33.727368Z",
     "start_time": "2022-01-06T12:38:33.287357Z"
    },
    "scrolled": true
   },
   "outputs": [
    {
     "name": "stdout",
     "output_type": "stream",
     "text": [
      "[*********************100%***********************]  1 of 1 completed\n"
     ]
    }
   ],
   "source": [
    "aapl_data = get_data(\"AAPL\")"
   ]
  },
  {
   "cell_type": "code",
   "execution_count": 5,
   "id": "d3252133",
   "metadata": {
    "ExecuteTime": {
     "end_time": "2022-01-06T12:38:33.740471Z",
     "start_time": "2022-01-06T12:38:33.728418Z"
    },
    "scrolled": true
   },
   "outputs": [
    {
     "data": {
      "text/html": [
       "<div>\n",
       "<style scoped>\n",
       "    .dataframe tbody tr th:only-of-type {\n",
       "        vertical-align: middle;\n",
       "    }\n",
       "\n",
       "    .dataframe tbody tr th {\n",
       "        vertical-align: top;\n",
       "    }\n",
       "\n",
       "    .dataframe thead th {\n",
       "        text-align: right;\n",
       "    }\n",
       "</style>\n",
       "<table border=\"1\" class=\"dataframe\">\n",
       "  <thead>\n",
       "    <tr style=\"text-align: right;\">\n",
       "      <th></th>\n",
       "      <th>Open</th>\n",
       "      <th>High</th>\n",
       "      <th>Low</th>\n",
       "      <th>Close</th>\n",
       "      <th>Adj Close</th>\n",
       "      <th>Volume</th>\n",
       "    </tr>\n",
       "    <tr>\n",
       "      <th>Date</th>\n",
       "      <th></th>\n",
       "      <th></th>\n",
       "      <th></th>\n",
       "      <th></th>\n",
       "      <th></th>\n",
       "      <th></th>\n",
       "    </tr>\n",
       "  </thead>\n",
       "  <tbody>\n",
       "    <tr>\n",
       "      <th>2017-01-03</th>\n",
       "      <td>28.950001</td>\n",
       "      <td>29.082500</td>\n",
       "      <td>28.690001</td>\n",
       "      <td>29.037500</td>\n",
       "      <td>27.332470</td>\n",
       "      <td>115127600</td>\n",
       "    </tr>\n",
       "    <tr>\n",
       "      <th>2017-01-04</th>\n",
       "      <td>28.962500</td>\n",
       "      <td>29.127501</td>\n",
       "      <td>28.937500</td>\n",
       "      <td>29.004999</td>\n",
       "      <td>27.301880</td>\n",
       "      <td>84472400</td>\n",
       "    </tr>\n",
       "    <tr>\n",
       "      <th>2017-01-05</th>\n",
       "      <td>28.980000</td>\n",
       "      <td>29.215000</td>\n",
       "      <td>28.952499</td>\n",
       "      <td>29.152500</td>\n",
       "      <td>27.440720</td>\n",
       "      <td>88774400</td>\n",
       "    </tr>\n",
       "    <tr>\n",
       "      <th>2017-01-06</th>\n",
       "      <td>29.195000</td>\n",
       "      <td>29.540001</td>\n",
       "      <td>29.117500</td>\n",
       "      <td>29.477501</td>\n",
       "      <td>27.746632</td>\n",
       "      <td>127007600</td>\n",
       "    </tr>\n",
       "    <tr>\n",
       "      <th>2017-01-09</th>\n",
       "      <td>29.487499</td>\n",
       "      <td>29.857500</td>\n",
       "      <td>29.485001</td>\n",
       "      <td>29.747499</td>\n",
       "      <td>28.000780</td>\n",
       "      <td>134247600</td>\n",
       "    </tr>\n",
       "    <tr>\n",
       "      <th>...</th>\n",
       "      <td>...</td>\n",
       "      <td>...</td>\n",
       "      <td>...</td>\n",
       "      <td>...</td>\n",
       "      <td>...</td>\n",
       "      <td>...</td>\n",
       "    </tr>\n",
       "    <tr>\n",
       "      <th>2021-12-27</th>\n",
       "      <td>177.089996</td>\n",
       "      <td>180.419998</td>\n",
       "      <td>177.070007</td>\n",
       "      <td>180.330002</td>\n",
       "      <td>180.330002</td>\n",
       "      <td>74919600</td>\n",
       "    </tr>\n",
       "    <tr>\n",
       "      <th>2021-12-28</th>\n",
       "      <td>180.160004</td>\n",
       "      <td>181.330002</td>\n",
       "      <td>178.529999</td>\n",
       "      <td>179.289993</td>\n",
       "      <td>179.289993</td>\n",
       "      <td>79144300</td>\n",
       "    </tr>\n",
       "    <tr>\n",
       "      <th>2021-12-29</th>\n",
       "      <td>179.330002</td>\n",
       "      <td>180.630005</td>\n",
       "      <td>178.139999</td>\n",
       "      <td>179.380005</td>\n",
       "      <td>179.380005</td>\n",
       "      <td>62348900</td>\n",
       "    </tr>\n",
       "    <tr>\n",
       "      <th>2021-12-30</th>\n",
       "      <td>179.470001</td>\n",
       "      <td>180.570007</td>\n",
       "      <td>178.089996</td>\n",
       "      <td>178.199997</td>\n",
       "      <td>178.199997</td>\n",
       "      <td>59773000</td>\n",
       "    </tr>\n",
       "    <tr>\n",
       "      <th>2021-12-31</th>\n",
       "      <td>178.089996</td>\n",
       "      <td>179.229996</td>\n",
       "      <td>177.259995</td>\n",
       "      <td>177.570007</td>\n",
       "      <td>177.570007</td>\n",
       "      <td>64025500</td>\n",
       "    </tr>\n",
       "  </tbody>\n",
       "</table>\n",
       "<p>1259 rows × 6 columns</p>\n",
       "</div>"
      ],
      "text/plain": [
       "                  Open        High         Low       Close   Adj Close  \\\n",
       "Date                                                                     \n",
       "2017-01-03   28.950001   29.082500   28.690001   29.037500   27.332470   \n",
       "2017-01-04   28.962500   29.127501   28.937500   29.004999   27.301880   \n",
       "2017-01-05   28.980000   29.215000   28.952499   29.152500   27.440720   \n",
       "2017-01-06   29.195000   29.540001   29.117500   29.477501   27.746632   \n",
       "2017-01-09   29.487499   29.857500   29.485001   29.747499   28.000780   \n",
       "...                ...         ...         ...         ...         ...   \n",
       "2021-12-27  177.089996  180.419998  177.070007  180.330002  180.330002   \n",
       "2021-12-28  180.160004  181.330002  178.529999  179.289993  179.289993   \n",
       "2021-12-29  179.330002  180.630005  178.139999  179.380005  179.380005   \n",
       "2021-12-30  179.470001  180.570007  178.089996  178.199997  178.199997   \n",
       "2021-12-31  178.089996  179.229996  177.259995  177.570007  177.570007   \n",
       "\n",
       "               Volume  \n",
       "Date                   \n",
       "2017-01-03  115127600  \n",
       "2017-01-04   84472400  \n",
       "2017-01-05   88774400  \n",
       "2017-01-06  127007600  \n",
       "2017-01-09  134247600  \n",
       "...               ...  \n",
       "2021-12-27   74919600  \n",
       "2021-12-28   79144300  \n",
       "2021-12-29   62348900  \n",
       "2021-12-30   59773000  \n",
       "2021-12-31   64025500  \n",
       "\n",
       "[1259 rows x 6 columns]"
      ]
     },
     "execution_count": 5,
     "metadata": {},
     "output_type": "execute_result"
    }
   ],
   "source": [
    "aapl_data"
   ]
  },
  {
   "cell_type": "markdown",
   "id": "d16e3cca",
   "metadata": {},
   "source": [
    "## Plot the Adjusted Closing Price"
   ]
  },
  {
   "cell_type": "code",
   "execution_count": 6,
   "id": "c8addd4b",
   "metadata": {
    "ExecuteTime": {
     "end_time": "2022-01-06T12:38:33.744623Z",
     "start_time": "2022-01-06T12:38:33.741882Z"
    }
   },
   "outputs": [],
   "source": [
    "def plot_chart(df):\n",
    "    df['Adj Close'].plot()\n",
    "    plt.ylabel(\"Adjusted Close Prices\")\n",
    "    plt.show()"
   ]
  },
  {
   "cell_type": "code",
   "execution_count": 7,
   "id": "f33571b9",
   "metadata": {
    "ExecuteTime": {
     "end_time": "2022-01-06T12:38:33.881814Z",
     "start_time": "2022-01-06T12:38:33.746826Z"
    }
   },
   "outputs": [
    {
     "data": {
      "image/png": "[encoded data removed]",
      "text/plain": [
       "<Figure size 432x288 with 1 Axes>"
      ]
     },
     "metadata": {
      "needs_background": "light"
     },
     "output_type": "display_data"
    }
   ],
   "source": [
    "plot_chart(aapl_data)"
   ]
  },
  {
   "cell_type": "markdown",
   "id": "50f7d74f",
   "metadata": {},
   "source": [
    "## % Change Histogram"
   ]
  },
  {
   "cell_type": "code",
   "execution_count": 8,
   "id": "2bc8e42d",
   "metadata": {
    "ExecuteTime": {
     "end_time": "2022-01-06T12:38:33.997244Z",
     "start_time": "2022-01-06T12:38:33.884645Z"
    }
   },
   "outputs": [
    {
     "data": {
      "image/png": "[encoded data removed]",
      "text/plain": [
       "<Figure size 432x288 with 1 Axes>"
      ]
     },
     "metadata": {
      "needs_background": "light"
     },
     "output_type": "display_data"
    }
   ],
   "source": [
    "aapl_data['Adj Close'].pct_change().plot.hist(bins=50)\n",
    "plt.xlabel(\"Adjusted close 1 day percent change\")\n",
    "plt.show()"
   ]
  },
  {
   "cell_type": "markdown",
   "id": "16e61335",
   "metadata": {},
   "source": [
    "## Add features, target and drop NaN"
   ]
  },
  {
   "cell_type": "code",
   "execution_count": 9,
   "id": "01850b8a",
   "metadata": {
    "ExecuteTime": {
     "end_time": "2022-01-06T12:38:34.003122Z",
     "start_time": "2022-01-06T12:38:33.998529Z"
    }
   },
   "outputs": [],
   "source": [
    "def add_features_target(df):\n",
    "    feature_names = []\n",
    "    # add 14,50,200 day (MA, RSI, BB Width), volume, VIX and append names to feature names\n",
    "    for n in [14, 50, 200]:\n",
    "        df[str(n) + 'd' + ' ma'] = SMAIndicator(df['Adj Close'], window=n).sma_indicator()\n",
    "        df[str(n) + 'd' + ' rsi'] = RSIIndicator(df['Adj Close'], window=n).rsi()\n",
    "        df[str(n) + 'd' + ' bbwidth'] = BollingerBands(df['Adj Close'], window=n).bollinger_wband()\n",
    "        feature_names = feature_names + [str(n) + 'd' + ' ma' , str(n) + 'd' + ' rsi', str(n) + 'd' + ' bbwidth']\n",
    "    \n",
    "    # add VIX\n",
    "    df[\"VIX\"] = get_data(\"^VIX\")[\"Adj Close\"]\n",
    "    feature_names.append(\"VIX\")\n",
    "    \n",
    "    # add target label 5 day future close column \n",
    "    df['5d_future_close'] = df['Adj Close'].shift(-5)\n",
    "    \n",
    "    # add vol to feature_names\n",
    "    feature_names.append(\"Volume\")\n",
    "    \n",
    "    # add Adj Close to feature_names\n",
    "    feature_names.append(\"Adj Close\")\n",
    "\n",
    "    return df, feature_names"
   ]
  },
  {
   "cell_type": "code",
   "execution_count": 10,
   "id": "ed6467cf",
   "metadata": {
    "ExecuteTime": {
     "end_time": "2022-01-06T12:38:34.285967Z",
     "start_time": "2022-01-06T12:38:34.005995Z"
    }
   },
   "outputs": [
    {
     "name": "stdout",
     "output_type": "stream",
     "text": [
      "[*********************100%***********************]  1 of 1 completed\n"
     ]
    }
   ],
   "source": [
    "aapl_data, feature_names = add_features_target(aapl_data)"
   ]
  },
  {
   "cell_type": "code",
   "execution_count": 11,
   "id": "6e89a3b3",
   "metadata": {
    "ExecuteTime": {
     "end_time": "2022-01-06T12:38:34.302843Z",
     "start_time": "2022-01-06T12:38:34.287000Z"
    }
   },
   "outputs": [
    {
     "data": {
      "text/html": [
       "<div>\n",
       "<style scoped>\n",
       "    .dataframe tbody tr th:only-of-type {\n",
       "        vertical-align: middle;\n",
       "    }\n",
       "\n",
       "    .dataframe tbody tr th {\n",
       "        vertical-align: top;\n",
       "    }\n",
       "\n",
       "    .dataframe thead th {\n",
       "        text-align: right;\n",
       "    }\n",
       "</style>\n",
       "<table border=\"1\" class=\"dataframe\">\n",
       "  <thead>\n",
       "    <tr style=\"text-align: right;\">\n",
       "      <th></th>\n",
       "      <th>Open</th>\n",
       "      <th>High</th>\n",
       "      <th>Low</th>\n",
       "      <th>Close</th>\n",
       "      <th>Adj Close</th>\n",
       "      <th>Volume</th>\n",
       "      <th>14d ma</th>\n",
       "      <th>14d rsi</th>\n",
       "      <th>14d bbwidth</th>\n",
       "      <th>50d ma</th>\n",
       "      <th>50d rsi</th>\n",
       "      <th>50d bbwidth</th>\n",
       "      <th>200d ma</th>\n",
       "      <th>200d rsi</th>\n",
       "      <th>200d bbwidth</th>\n",
       "      <th>VIX</th>\n",
       "      <th>5d_future_close</th>\n",
       "    </tr>\n",
       "    <tr>\n",
       "      <th>Date</th>\n",
       "      <th></th>\n",
       "      <th></th>\n",
       "      <th></th>\n",
       "      <th></th>\n",
       "      <th></th>\n",
       "      <th></th>\n",
       "      <th></th>\n",
       "      <th></th>\n",
       "      <th></th>\n",
       "      <th></th>\n",
       "      <th></th>\n",
       "      <th></th>\n",
       "      <th></th>\n",
       "      <th></th>\n",
       "      <th></th>\n",
       "      <th></th>\n",
       "      <th></th>\n",
       "    </tr>\n",
       "  </thead>\n",
       "  <tbody>\n",
       "    <tr>\n",
       "      <th>2017-01-03</th>\n",
       "      <td>28.950001</td>\n",
       "      <td>29.082500</td>\n",
       "      <td>28.690001</td>\n",
       "      <td>29.037500</td>\n",
       "      <td>27.332470</td>\n",
       "      <td>115127600</td>\n",
       "      <td>NaN</td>\n",
       "      <td>NaN</td>\n",
       "      <td>NaN</td>\n",
       "      <td>NaN</td>\n",
       "      <td>NaN</td>\n",
       "      <td>NaN</td>\n",
       "      <td>NaN</td>\n",
       "      <td>NaN</td>\n",
       "      <td>NaN</td>\n",
       "      <td>12.850000</td>\n",
       "      <td>28.029022</td>\n",
       "    </tr>\n",
       "    <tr>\n",
       "      <th>2017-01-04</th>\n",
       "      <td>28.962500</td>\n",
       "      <td>29.127501</td>\n",
       "      <td>28.937500</td>\n",
       "      <td>29.004999</td>\n",
       "      <td>27.301880</td>\n",
       "      <td>84472400</td>\n",
       "      <td>NaN</td>\n",
       "      <td>NaN</td>\n",
       "      <td>NaN</td>\n",
       "      <td>NaN</td>\n",
       "      <td>NaN</td>\n",
       "      <td>NaN</td>\n",
       "      <td>NaN</td>\n",
       "      <td>NaN</td>\n",
       "      <td>NaN</td>\n",
       "      <td>11.850000</td>\n",
       "      <td>28.179623</td>\n",
       "    </tr>\n",
       "    <tr>\n",
       "      <th>2017-01-05</th>\n",
       "      <td>28.980000</td>\n",
       "      <td>29.215000</td>\n",
       "      <td>28.952499</td>\n",
       "      <td>29.152500</td>\n",
       "      <td>27.440720</td>\n",
       "      <td>88774400</td>\n",
       "      <td>NaN</td>\n",
       "      <td>NaN</td>\n",
       "      <td>NaN</td>\n",
       "      <td>NaN</td>\n",
       "      <td>NaN</td>\n",
       "      <td>NaN</td>\n",
       "      <td>NaN</td>\n",
       "      <td>NaN</td>\n",
       "      <td>NaN</td>\n",
       "      <td>11.670000</td>\n",
       "      <td>28.061966</td>\n",
       "    </tr>\n",
       "    <tr>\n",
       "      <th>2017-01-06</th>\n",
       "      <td>29.195000</td>\n",
       "      <td>29.540001</td>\n",
       "      <td>29.117500</td>\n",
       "      <td>29.477501</td>\n",
       "      <td>27.746632</td>\n",
       "      <td>127007600</td>\n",
       "      <td>NaN</td>\n",
       "      <td>NaN</td>\n",
       "      <td>NaN</td>\n",
       "      <td>NaN</td>\n",
       "      <td>NaN</td>\n",
       "      <td>NaN</td>\n",
       "      <td>NaN</td>\n",
       "      <td>NaN</td>\n",
       "      <td>NaN</td>\n",
       "      <td>11.320000</td>\n",
       "      <td>28.012547</td>\n",
       "    </tr>\n",
       "    <tr>\n",
       "      <th>2017-01-09</th>\n",
       "      <td>29.487499</td>\n",
       "      <td>29.857500</td>\n",
       "      <td>29.485001</td>\n",
       "      <td>29.747499</td>\n",
       "      <td>28.000780</td>\n",
       "      <td>134247600</td>\n",
       "      <td>NaN</td>\n",
       "      <td>NaN</td>\n",
       "      <td>NaN</td>\n",
       "      <td>NaN</td>\n",
       "      <td>NaN</td>\n",
       "      <td>NaN</td>\n",
       "      <td>NaN</td>\n",
       "      <td>NaN</td>\n",
       "      <td>NaN</td>\n",
       "      <td>11.560000</td>\n",
       "      <td>28.238451</td>\n",
       "    </tr>\n",
       "    <tr>\n",
       "      <th>...</th>\n",
       "      <td>...</td>\n",
       "      <td>...</td>\n",
       "      <td>...</td>\n",
       "      <td>...</td>\n",
       "      <td>...</td>\n",
       "      <td>...</td>\n",
       "      <td>...</td>\n",
       "      <td>...</td>\n",
       "      <td>...</td>\n",
       "      <td>...</td>\n",
       "      <td>...</td>\n",
       "      <td>...</td>\n",
       "      <td>...</td>\n",
       "      <td>...</td>\n",
       "      <td>...</td>\n",
       "      <td>...</td>\n",
       "      <td>...</td>\n",
       "    </tr>\n",
       "    <tr>\n",
       "      <th>2021-12-27</th>\n",
       "      <td>177.089996</td>\n",
       "      <td>180.419998</td>\n",
       "      <td>177.070007</td>\n",
       "      <td>180.330002</td>\n",
       "      <td>180.330002</td>\n",
       "      <td>74919600</td>\n",
       "      <td>174.859286</td>\n",
       "      <td>66.906727</td>\n",
       "      <td>7.189071</td>\n",
       "      <td>159.531765</td>\n",
       "      <td>63.020253</td>\n",
       "      <td>27.625799</td>\n",
       "      <td>142.548195</td>\n",
       "      <td>57.879061</td>\n",
       "      <td>40.039614</td>\n",
       "      <td>17.680000</td>\n",
       "      <td>NaN</td>\n",
       "    </tr>\n",
       "    <tr>\n",
       "      <th>2021-12-28</th>\n",
       "      <td>180.160004</td>\n",
       "      <td>181.330002</td>\n",
       "      <td>178.529999</td>\n",
       "      <td>179.289993</td>\n",
       "      <td>179.289993</td>\n",
       "      <td>79144300</td>\n",
       "      <td>175.438571</td>\n",
       "      <td>64.966891</td>\n",
       "      <td>7.201413</td>\n",
       "      <td>160.224987</td>\n",
       "      <td>62.353723</td>\n",
       "      <td>27.831235</td>\n",
       "      <td>142.827572</td>\n",
       "      <td>57.698713</td>\n",
       "      <td>40.433601</td>\n",
       "      <td>17.540001</td>\n",
       "      <td>NaN</td>\n",
       "    </tr>\n",
       "    <tr>\n",
       "      <th>2021-12-29</th>\n",
       "      <td>179.330002</td>\n",
       "      <td>180.630005</td>\n",
       "      <td>178.139999</td>\n",
       "      <td>179.380005</td>\n",
       "      <td>179.380005</td>\n",
       "      <td>62348900</td>\n",
       "      <td>175.745714</td>\n",
       "      <td>65.061307</td>\n",
       "      <td>7.542623</td>\n",
       "      <td>160.885858</td>\n",
       "      <td>62.388854</td>\n",
       "      <td>28.054260</td>\n",
       "      <td>143.099537</td>\n",
       "      <td>57.710175</td>\n",
       "      <td>40.839350</td>\n",
       "      <td>16.950001</td>\n",
       "      <td>NaN</td>\n",
       "    </tr>\n",
       "    <tr>\n",
       "      <th>2021-12-30</th>\n",
       "      <td>179.470001</td>\n",
       "      <td>180.570007</td>\n",
       "      <td>178.089996</td>\n",
       "      <td>178.199997</td>\n",
       "      <td>178.199997</td>\n",
       "      <td>59773000</td>\n",
       "      <td>176.005714</td>\n",
       "      <td>62.676541</td>\n",
       "      <td>7.620866</td>\n",
       "      <td>161.478994</td>\n",
       "      <td>61.619637</td>\n",
       "      <td>28.234823</td>\n",
       "      <td>143.369632</td>\n",
       "      <td>57.504880</td>\n",
       "      <td>41.170713</td>\n",
       "      <td>17.330000</td>\n",
       "      <td>NaN</td>\n",
       "    </tr>\n",
       "    <tr>\n",
       "      <th>2021-12-31</th>\n",
       "      <td>178.089996</td>\n",
       "      <td>179.229996</td>\n",
       "      <td>177.259995</td>\n",
       "      <td>177.570007</td>\n",
       "      <td>177.570007</td>\n",
       "      <td>64025500</td>\n",
       "      <td>175.871429</td>\n",
       "      <td>61.382930</td>\n",
       "      <td>7.388769</td>\n",
       "      <td>162.049545</td>\n",
       "      <td>61.208510</td>\n",
       "      <td>28.325293</td>\n",
       "      <td>143.657630</td>\n",
       "      <td>57.395326</td>\n",
       "      <td>41.372845</td>\n",
       "      <td>17.219999</td>\n",
       "      <td>NaN</td>\n",
       "    </tr>\n",
       "  </tbody>\n",
       "</table>\n",
       "<p>1259 rows × 17 columns</p>\n",
       "</div>"
      ],
      "text/plain": [
       "                  Open        High         Low       Close   Adj Close  \\\n",
       "Date                                                                     \n",
       "2017-01-03   28.950001   29.082500   28.690001   29.037500   27.332470   \n",
       "2017-01-04   28.962500   29.127501   28.937500   29.004999   27.301880   \n",
       "2017-01-05   28.980000   29.215000   28.952499   29.152500   27.440720   \n",
       "2017-01-06   29.195000   29.540001   29.117500   29.477501   27.746632   \n",
       "2017-01-09   29.487499   29.857500   29.485001   29.747499   28.000780   \n",
       "...                ...         ...         ...         ...         ...   \n",
       "2021-12-27  177.089996  180.419998  177.070007  180.330002  180.330002   \n",
       "2021-12-28  180.160004  181.330002  178.529999  179.289993  179.289993   \n",
       "2021-12-29  179.330002  180.630005  178.139999  179.380005  179.380005   \n",
       "2021-12-30  179.470001  180.570007  178.089996  178.199997  178.199997   \n",
       "2021-12-31  178.089996  179.229996  177.259995  177.570007  177.570007   \n",
       "\n",
       "               Volume      14d ma    14d rsi  14d bbwidth      50d ma  \\\n",
       "Date                                                                    \n",
       "2017-01-03  115127600         NaN        NaN          NaN         NaN   \n",
       "2017-01-04   84472400         NaN        NaN          NaN         NaN   \n",
       "2017-01-05   88774400         NaN        NaN          NaN         NaN   \n",
       "2017-01-06  127007600         NaN        NaN          NaN         NaN   \n",
       "2017-01-09  134247600         NaN        NaN          NaN         NaN   \n",
       "...               ...         ...        ...          ...         ...   \n",
       "2021-12-27   74919600  174.859286  66.906727     7.189071  159.531765   \n",
       "2021-12-28   79144300  175.438571  64.966891     7.201413  160.224987   \n",
       "2021-12-29   62348900  175.745714  65.061307     7.542623  160.885858   \n",
       "2021-12-30   59773000  176.005714  62.676541     7.620866  161.478994   \n",
       "2021-12-31   64025500  175.871429  61.382930     7.388769  162.049545   \n",
       "\n",
       "              50d rsi  50d bbwidth     200d ma   200d rsi  200d bbwidth  \\\n",
       "Date                                                                      \n",
       "2017-01-03        NaN          NaN         NaN        NaN           NaN   \n",
       "2017-01-04        NaN          NaN         NaN        NaN           NaN   \n",
       "2017-01-05        NaN          NaN         NaN        NaN           NaN   \n",
       "2017-01-06        NaN          NaN         NaN        NaN           NaN   \n",
       "2017-01-09        NaN          NaN         NaN        NaN           NaN   \n",
       "...               ...          ...         ...        ...           ...   \n",
       "2021-12-27  63.020253    27.625799  142.548195  57.879061     40.039614   \n",
       "2021-12-28  62.353723    27.831235  142.827572  57.698713     40.433601   \n",
       "2021-12-29  62.388854    28.054260  143.099537  57.710175     40.839350   \n",
       "2021-12-30  61.619637    28.234823  143.369632  57.504880     41.170713   \n",
       "2021-12-31  61.208510    28.325293  143.657630  57.395326     41.372845   \n",
       "\n",
       "                  VIX  5d_future_close  \n",
       "Date                                    \n",
       "2017-01-03  12.850000        28.029022  \n",
       "2017-01-04  11.850000        28.179623  \n",
       "2017-01-05  11.670000        28.061966  \n",
       "2017-01-06  11.320000        28.012547  \n",
       "2017-01-09  11.560000        28.238451  \n",
       "...               ...              ...  \n",
       "2021-12-27  17.680000              NaN  \n",
       "2021-12-28  17.540001              NaN  \n",
       "2021-12-29  16.950001              NaN  \n",
       "2021-12-30  17.330000              NaN  \n",
       "2021-12-31  17.219999              NaN  \n",
       "\n",
       "[1259 rows x 17 columns]"
      ]
     },
     "execution_count": 11,
     "metadata": {},
     "output_type": "execute_result"
    }
   ],
   "source": [
    "aapl_data"
   ]
  },
  {
   "cell_type": "code",
   "execution_count": 12,
   "id": "1e35dd82",
   "metadata": {
    "ExecuteTime": {
     "end_time": "2022-01-06T12:38:34.307562Z",
     "start_time": "2022-01-06T12:38:34.303995Z"
    },
    "scrolled": true
   },
   "outputs": [
    {
     "data": {
      "text/plain": [
       "['14d ma',\n",
       " '14d rsi',\n",
       " '14d bbwidth',\n",
       " '50d ma',\n",
       " '50d rsi',\n",
       " '50d bbwidth',\n",
       " '200d ma',\n",
       " '200d rsi',\n",
       " '200d bbwidth',\n",
       " 'VIX',\n",
       " 'Volume',\n",
       " 'Adj Close']"
      ]
     },
     "execution_count": 12,
     "metadata": {},
     "output_type": "execute_result"
    }
   ],
   "source": [
    "feature_names"
   ]
  },
  {
   "cell_type": "markdown",
   "id": "6ee2899b",
   "metadata": {},
   "source": [
    "## Scale Features"
   ]
  },
  {
   "cell_type": "code",
   "execution_count": 13,
   "id": "7ca0fda0",
   "metadata": {
    "ExecuteTime": {
     "end_time": "2022-01-06T12:38:34.311027Z",
     "start_time": "2022-01-06T12:38:34.308598Z"
    },
    "scrolled": false
   },
   "outputs": [],
   "source": [
    "def scale_features(df):\n",
    "    #Instantiate scaler\n",
    "    scaler = StandardScaler()\n",
    "    #fit and transform features\n",
    "    df[feature_names] = scaler.fit_transform(df[feature_names])\n",
    "    #Show scaled features\n",
    "    return df"
   ]
  },
  {
   "cell_type": "code",
   "execution_count": 14,
   "id": "56a2df1b",
   "metadata": {
    "ExecuteTime": {
     "end_time": "2022-01-06T12:38:34.330397Z",
     "start_time": "2022-01-06T12:38:34.312014Z"
    },
    "scrolled": true
   },
   "outputs": [
    {
     "data": {
      "text/html": [
       "<div>\n",
       "<style scoped>\n",
       "    .dataframe tbody tr th:only-of-type {\n",
       "        vertical-align: middle;\n",
       "    }\n",
       "\n",
       "    .dataframe tbody tr th {\n",
       "        vertical-align: top;\n",
       "    }\n",
       "\n",
       "    .dataframe thead th {\n",
       "        text-align: right;\n",
       "    }\n",
       "</style>\n",
       "<table border=\"1\" class=\"dataframe\">\n",
       "  <thead>\n",
       "    <tr style=\"text-align: right;\">\n",
       "      <th></th>\n",
       "      <th>Open</th>\n",
       "      <th>High</th>\n",
       "      <th>Low</th>\n",
       "      <th>Close</th>\n",
       "      <th>Adj Close</th>\n",
       "      <th>Volume</th>\n",
       "      <th>14d ma</th>\n",
       "      <th>14d rsi</th>\n",
       "      <th>14d bbwidth</th>\n",
       "      <th>50d ma</th>\n",
       "      <th>50d rsi</th>\n",
       "      <th>50d bbwidth</th>\n",
       "      <th>200d ma</th>\n",
       "      <th>200d rsi</th>\n",
       "      <th>200d bbwidth</th>\n",
       "      <th>VIX</th>\n",
       "      <th>5d_future_close</th>\n",
       "    </tr>\n",
       "    <tr>\n",
       "      <th>Date</th>\n",
       "      <th></th>\n",
       "      <th></th>\n",
       "      <th></th>\n",
       "      <th></th>\n",
       "      <th></th>\n",
       "      <th></th>\n",
       "      <th></th>\n",
       "      <th></th>\n",
       "      <th></th>\n",
       "      <th></th>\n",
       "      <th></th>\n",
       "      <th></th>\n",
       "      <th></th>\n",
       "      <th></th>\n",
       "      <th></th>\n",
       "      <th></th>\n",
       "      <th></th>\n",
       "    </tr>\n",
       "  </thead>\n",
       "  <tbody>\n",
       "    <tr>\n",
       "      <th>2017-01-03</th>\n",
       "      <td>28.950001</td>\n",
       "      <td>29.082500</td>\n",
       "      <td>28.690001</td>\n",
       "      <td>29.037500</td>\n",
       "      <td>-1.123305</td>\n",
       "      <td>-0.104462</td>\n",
       "      <td>NaN</td>\n",
       "      <td>NaN</td>\n",
       "      <td>NaN</td>\n",
       "      <td>NaN</td>\n",
       "      <td>NaN</td>\n",
       "      <td>NaN</td>\n",
       "      <td>NaN</td>\n",
       "      <td>NaN</td>\n",
       "      <td>NaN</td>\n",
       "      <td>-0.634851</td>\n",
       "      <td>28.029022</td>\n",
       "    </tr>\n",
       "    <tr>\n",
       "      <th>2017-01-04</th>\n",
       "      <td>28.962500</td>\n",
       "      <td>29.127501</td>\n",
       "      <td>28.937500</td>\n",
       "      <td>29.004999</td>\n",
       "      <td>-1.124048</td>\n",
       "      <td>-0.650566</td>\n",
       "      <td>NaN</td>\n",
       "      <td>NaN</td>\n",
       "      <td>NaN</td>\n",
       "      <td>NaN</td>\n",
       "      <td>NaN</td>\n",
       "      <td>NaN</td>\n",
       "      <td>NaN</td>\n",
       "      <td>NaN</td>\n",
       "      <td>NaN</td>\n",
       "      <td>-0.748808</td>\n",
       "      <td>28.179623</td>\n",
       "    </tr>\n",
       "    <tr>\n",
       "      <th>2017-01-05</th>\n",
       "      <td>28.980000</td>\n",
       "      <td>29.215000</td>\n",
       "      <td>28.952499</td>\n",
       "      <td>29.152500</td>\n",
       "      <td>-1.120674</td>\n",
       "      <td>-0.573929</td>\n",
       "      <td>NaN</td>\n",
       "      <td>NaN</td>\n",
       "      <td>NaN</td>\n",
       "      <td>NaN</td>\n",
       "      <td>NaN</td>\n",
       "      <td>NaN</td>\n",
       "      <td>NaN</td>\n",
       "      <td>NaN</td>\n",
       "      <td>NaN</td>\n",
       "      <td>-0.769320</td>\n",
       "      <td>28.061966</td>\n",
       "    </tr>\n",
       "    <tr>\n",
       "      <th>2017-01-06</th>\n",
       "      <td>29.195000</td>\n",
       "      <td>29.540001</td>\n",
       "      <td>29.117500</td>\n",
       "      <td>29.477501</td>\n",
       "      <td>-1.113238</td>\n",
       "      <td>0.107173</td>\n",
       "      <td>NaN</td>\n",
       "      <td>NaN</td>\n",
       "      <td>NaN</td>\n",
       "      <td>NaN</td>\n",
       "      <td>NaN</td>\n",
       "      <td>NaN</td>\n",
       "      <td>NaN</td>\n",
       "      <td>NaN</td>\n",
       "      <td>NaN</td>\n",
       "      <td>-0.809206</td>\n",
       "      <td>28.012547</td>\n",
       "    </tr>\n",
       "    <tr>\n",
       "      <th>2017-01-09</th>\n",
       "      <td>29.487499</td>\n",
       "      <td>29.857500</td>\n",
       "      <td>29.485001</td>\n",
       "      <td>29.747499</td>\n",
       "      <td>-1.107061</td>\n",
       "      <td>0.236150</td>\n",
       "      <td>NaN</td>\n",
       "      <td>NaN</td>\n",
       "      <td>NaN</td>\n",
       "      <td>NaN</td>\n",
       "      <td>NaN</td>\n",
       "      <td>NaN</td>\n",
       "      <td>NaN</td>\n",
       "      <td>NaN</td>\n",
       "      <td>NaN</td>\n",
       "      <td>-0.781856</td>\n",
       "      <td>28.238451</td>\n",
       "    </tr>\n",
       "    <tr>\n",
       "      <th>...</th>\n",
       "      <td>...</td>\n",
       "      <td>...</td>\n",
       "      <td>...</td>\n",
       "      <td>...</td>\n",
       "      <td>...</td>\n",
       "      <td>...</td>\n",
       "      <td>...</td>\n",
       "      <td>...</td>\n",
       "      <td>...</td>\n",
       "      <td>...</td>\n",
       "      <td>...</td>\n",
       "      <td>...</td>\n",
       "      <td>...</td>\n",
       "      <td>...</td>\n",
       "      <td>...</td>\n",
       "      <td>...</td>\n",
       "      <td>...</td>\n",
       "    </tr>\n",
       "    <tr>\n",
       "      <th>2021-12-27</th>\n",
       "      <td>177.089996</td>\n",
       "      <td>180.419998</td>\n",
       "      <td>177.070007</td>\n",
       "      <td>180.330002</td>\n",
       "      <td>2.595451</td>\n",
       "      <td>-0.820744</td>\n",
       "      <td>2.510499</td>\n",
       "      <td>0.656524</td>\n",
       "      <td>-0.434753</td>\n",
       "      <td>2.235153</td>\n",
       "      <td>0.905336</td>\n",
       "      <td>0.752399</td>\n",
       "      <td>2.128221</td>\n",
       "      <td>0.873145</td>\n",
       "      <td>-0.317902</td>\n",
       "      <td>-0.084437</td>\n",
       "      <td>NaN</td>\n",
       "    </tr>\n",
       "    <tr>\n",
       "      <th>2021-12-28</th>\n",
       "      <td>180.160004</td>\n",
       "      <td>181.330002</td>\n",
       "      <td>178.529999</td>\n",
       "      <td>179.289993</td>\n",
       "      <td>2.570173</td>\n",
       "      <td>-0.745483</td>\n",
       "      <td>2.524811</td>\n",
       "      <td>0.510732</td>\n",
       "      <td>-0.432460</td>\n",
       "      <td>2.252961</td>\n",
       "      <td>0.812799</td>\n",
       "      <td>0.774174</td>\n",
       "      <td>2.136422</td>\n",
       "      <td>0.813206</td>\n",
       "      <td>-0.297046</td>\n",
       "      <td>-0.100391</td>\n",
       "      <td>NaN</td>\n",
       "    </tr>\n",
       "    <tr>\n",
       "      <th>2021-12-29</th>\n",
       "      <td>179.330002</td>\n",
       "      <td>180.630005</td>\n",
       "      <td>178.139999</td>\n",
       "      <td>179.380005</td>\n",
       "      <td>2.572361</td>\n",
       "      <td>-1.044683</td>\n",
       "      <td>2.532399</td>\n",
       "      <td>0.517828</td>\n",
       "      <td>-0.369075</td>\n",
       "      <td>2.269937</td>\n",
       "      <td>0.817677</td>\n",
       "      <td>0.797813</td>\n",
       "      <td>2.144406</td>\n",
       "      <td>0.817016</td>\n",
       "      <td>-0.275567</td>\n",
       "      <td>-0.167626</td>\n",
       "      <td>NaN</td>\n",
       "    </tr>\n",
       "    <tr>\n",
       "      <th>2021-12-30</th>\n",
       "      <td>179.470001</td>\n",
       "      <td>180.570007</td>\n",
       "      <td>178.089996</td>\n",
       "      <td>178.199997</td>\n",
       "      <td>2.543679</td>\n",
       "      <td>-1.090571</td>\n",
       "      <td>2.538823</td>\n",
       "      <td>0.338597</td>\n",
       "      <td>-0.354540</td>\n",
       "      <td>2.285174</td>\n",
       "      <td>0.710884</td>\n",
       "      <td>0.816951</td>\n",
       "      <td>2.152334</td>\n",
       "      <td>0.748785</td>\n",
       "      <td>-0.258026</td>\n",
       "      <td>-0.124322</td>\n",
       "      <td>NaN</td>\n",
       "    </tr>\n",
       "    <tr>\n",
       "      <th>2021-12-31</th>\n",
       "      <td>178.089996</td>\n",
       "      <td>179.229996</td>\n",
       "      <td>177.259995</td>\n",
       "      <td>177.570007</td>\n",
       "      <td>2.528367</td>\n",
       "      <td>-1.014816</td>\n",
       "      <td>2.535505</td>\n",
       "      <td>0.241373</td>\n",
       "      <td>-0.397656</td>\n",
       "      <td>2.299831</td>\n",
       "      <td>0.653806</td>\n",
       "      <td>0.826540</td>\n",
       "      <td>2.160788</td>\n",
       "      <td>0.712375</td>\n",
       "      <td>-0.247325</td>\n",
       "      <td>-0.136857</td>\n",
       "      <td>NaN</td>\n",
       "    </tr>\n",
       "  </tbody>\n",
       "</table>\n",
       "<p>1259 rows × 17 columns</p>\n",
       "</div>"
      ],
      "text/plain": [
       "                  Open        High         Low       Close  Adj Close  \\\n",
       "Date                                                                    \n",
       "2017-01-03   28.950001   29.082500   28.690001   29.037500  -1.123305   \n",
       "2017-01-04   28.962500   29.127501   28.937500   29.004999  -1.124048   \n",
       "2017-01-05   28.980000   29.215000   28.952499   29.152500  -1.120674   \n",
       "2017-01-06   29.195000   29.540001   29.117500   29.477501  -1.113238   \n",
       "2017-01-09   29.487499   29.857500   29.485001   29.747499  -1.107061   \n",
       "...                ...         ...         ...         ...        ...   \n",
       "2021-12-27  177.089996  180.419998  177.070007  180.330002   2.595451   \n",
       "2021-12-28  180.160004  181.330002  178.529999  179.289993   2.570173   \n",
       "2021-12-29  179.330002  180.630005  178.139999  179.380005   2.572361   \n",
       "2021-12-30  179.470001  180.570007  178.089996  178.199997   2.543679   \n",
       "2021-12-31  178.089996  179.229996  177.259995  177.570007   2.528367   \n",
       "\n",
       "              Volume    14d ma   14d rsi  14d bbwidth    50d ma   50d rsi  \\\n",
       "Date                                                                        \n",
       "2017-01-03 -0.104462       NaN       NaN          NaN       NaN       NaN   \n",
       "2017-01-04 -0.650566       NaN       NaN          NaN       NaN       NaN   \n",
       "2017-01-05 -0.573929       NaN       NaN          NaN       NaN       NaN   \n",
       "2017-01-06  0.107173       NaN       NaN          NaN       NaN       NaN   \n",
       "2017-01-09  0.236150       NaN       NaN          NaN       NaN       NaN   \n",
       "...              ...       ...       ...          ...       ...       ...   \n",
       "2021-12-27 -0.820744  2.510499  0.656524    -0.434753  2.235153  0.905336   \n",
       "2021-12-28 -0.745483  2.524811  0.510732    -0.432460  2.252961  0.812799   \n",
       "2021-12-29 -1.044683  2.532399  0.517828    -0.369075  2.269937  0.817677   \n",
       "2021-12-30 -1.090571  2.538823  0.338597    -0.354540  2.285174  0.710884   \n",
       "2021-12-31 -1.014816  2.535505  0.241373    -0.397656  2.299831  0.653806   \n",
       "\n",
       "            50d bbwidth   200d ma  200d rsi  200d bbwidth       VIX  \\\n",
       "Date                                                                  \n",
       "2017-01-03          NaN       NaN       NaN           NaN -0.634851   \n",
       "2017-01-04          NaN       NaN       NaN           NaN -0.748808   \n",
       "2017-01-05          NaN       NaN       NaN           NaN -0.769320   \n",
       "2017-01-06          NaN       NaN       NaN           NaN -0.809206   \n",
       "2017-01-09          NaN       NaN       NaN           NaN -0.781856   \n",
       "...                 ...       ...       ...           ...       ...   \n",
       "2021-12-27     0.752399  2.128221  0.873145     -0.317902 -0.084437   \n",
       "2021-12-28     0.774174  2.136422  0.813206     -0.297046 -0.100391   \n",
       "2021-12-29     0.797813  2.144406  0.817016     -0.275567 -0.167626   \n",
       "2021-12-30     0.816951  2.152334  0.748785     -0.258026 -0.124322   \n",
       "2021-12-31     0.826540  2.160788  0.712375     -0.247325 -0.136857   \n",
       "\n",
       "            5d_future_close  \n",
       "Date                         \n",
       "2017-01-03        28.029022  \n",
       "2017-01-04        28.179623  \n",
       "2017-01-05        28.061966  \n",
       "2017-01-06        28.012547  \n",
       "2017-01-09        28.238451  \n",
       "...                     ...  \n",
       "2021-12-27              NaN  \n",
       "2021-12-28              NaN  \n",
       "2021-12-29              NaN  \n",
       "2021-12-30              NaN  \n",
       "2021-12-31              NaN  \n",
       "\n",
       "[1259 rows x 17 columns]"
      ]
     },
     "execution_count": 14,
     "metadata": {},
     "output_type": "execute_result"
    }
   ],
   "source": [
    "# Scale features only but not target label\n",
    "aapl_data = scale_features(aapl_data)\n",
    "aapl_data"
   ]
  },
  {
   "cell_type": "code",
   "execution_count": 15,
   "id": "f773c962",
   "metadata": {
    "ExecuteTime": {
     "end_time": "2022-01-06T12:38:34.343750Z",
     "start_time": "2022-01-06T12:38:34.331368Z"
    }
   },
   "outputs": [
    {
     "data": {
      "text/html": [
       "<div>\n",
       "<style scoped>\n",
       "    .dataframe tbody tr th:only-of-type {\n",
       "        vertical-align: middle;\n",
       "    }\n",
       "\n",
       "    .dataframe tbody tr th {\n",
       "        vertical-align: top;\n",
       "    }\n",
       "\n",
       "    .dataframe thead th {\n",
       "        text-align: right;\n",
       "    }\n",
       "</style>\n",
       "<table border=\"1\" class=\"dataframe\">\n",
       "  <thead>\n",
       "    <tr style=\"text-align: right;\">\n",
       "      <th></th>\n",
       "      <th>Open</th>\n",
       "      <th>High</th>\n",
       "      <th>Low</th>\n",
       "      <th>Close</th>\n",
       "      <th>Adj Close</th>\n",
       "      <th>Volume</th>\n",
       "      <th>14d ma</th>\n",
       "      <th>14d rsi</th>\n",
       "      <th>14d bbwidth</th>\n",
       "      <th>50d ma</th>\n",
       "      <th>50d rsi</th>\n",
       "      <th>50d bbwidth</th>\n",
       "      <th>200d ma</th>\n",
       "      <th>200d rsi</th>\n",
       "      <th>200d bbwidth</th>\n",
       "      <th>VIX</th>\n",
       "      <th>5d_future_close</th>\n",
       "    </tr>\n",
       "    <tr>\n",
       "      <th>Date</th>\n",
       "      <th></th>\n",
       "      <th></th>\n",
       "      <th></th>\n",
       "      <th></th>\n",
       "      <th></th>\n",
       "      <th></th>\n",
       "      <th></th>\n",
       "      <th></th>\n",
       "      <th></th>\n",
       "      <th></th>\n",
       "      <th></th>\n",
       "      <th></th>\n",
       "      <th></th>\n",
       "      <th></th>\n",
       "      <th></th>\n",
       "      <th></th>\n",
       "      <th></th>\n",
       "    </tr>\n",
       "  </thead>\n",
       "  <tbody>\n",
       "    <tr>\n",
       "      <th>2021-12-17</th>\n",
       "      <td>169.929993</td>\n",
       "      <td>173.470001</td>\n",
       "      <td>169.690002</td>\n",
       "      <td>171.139999</td>\n",
       "      <td>2.372079</td>\n",
       "      <td>1.326126</td>\n",
       "      <td>2.415201</td>\n",
       "      <td>-0.029469</td>\n",
       "      <td>0.678785</td>\n",
       "      <td>2.150824</td>\n",
       "      <td>0.432060</td>\n",
       "      <td>0.742994</td>\n",
       "      <td>2.087513</td>\n",
       "      <td>0.498584</td>\n",
       "      <td>-0.378594</td>\n",
       "      <td>0.358857</td>\n",
       "      <td>180.330002</td>\n",
       "    </tr>\n",
       "    <tr>\n",
       "      <th>2021-12-20</th>\n",
       "      <td>168.279999</td>\n",
       "      <td>170.580002</td>\n",
       "      <td>167.460007</td>\n",
       "      <td>169.750000</td>\n",
       "      <td>2.338294</td>\n",
       "      <td>-0.240359</td>\n",
       "      <td>2.423054</td>\n",
       "      <td>-0.189816</td>\n",
       "      <td>0.583618</td>\n",
       "      <td>2.164726</td>\n",
       "      <td>0.312848</td>\n",
       "      <td>0.728853</td>\n",
       "      <td>2.095428</td>\n",
       "      <td>0.419247</td>\n",
       "      <td>-0.378146</td>\n",
       "      <td>0.507001</td>\n",
       "      <td>179.289993</td>\n",
       "    </tr>\n",
       "    <tr>\n",
       "      <th>2021-12-21</th>\n",
       "      <td>171.559998</td>\n",
       "      <td>173.199997</td>\n",
       "      <td>169.119995</td>\n",
       "      <td>172.990005</td>\n",
       "      <td>2.417045</td>\n",
       "      <td>-0.530969</td>\n",
       "      <td>2.437561</td>\n",
       "      <td>0.092961</td>\n",
       "      <td>0.444058</td>\n",
       "      <td>2.180338</td>\n",
       "      <td>0.502546</td>\n",
       "      <td>0.728315</td>\n",
       "      <td>2.103128</td>\n",
       "      <td>0.560274</td>\n",
       "      <td>-0.367201</td>\n",
       "      <td>0.295041</td>\n",
       "      <td>179.380005</td>\n",
       "    </tr>\n",
       "    <tr>\n",
       "      <th>2021-12-22</th>\n",
       "      <td>173.039993</td>\n",
       "      <td>175.860001</td>\n",
       "      <td>172.149994</td>\n",
       "      <td>175.639999</td>\n",
       "      <td>2.481456</td>\n",
       "      <td>-0.514056</td>\n",
       "      <td>2.458526</td>\n",
       "      <td>0.305059</td>\n",
       "      <td>0.236957</td>\n",
       "      <td>2.197979</td>\n",
       "      <td>0.651503</td>\n",
       "      <td>0.728153</td>\n",
       "      <td>2.111380</td>\n",
       "      <td>0.674154</td>\n",
       "      <td>-0.354129</td>\n",
       "      <td>0.023822</td>\n",
       "      <td>178.199997</td>\n",
       "    </tr>\n",
       "    <tr>\n",
       "      <th>2021-12-23</th>\n",
       "      <td>175.850006</td>\n",
       "      <td>176.850006</td>\n",
       "      <td>175.270004</td>\n",
       "      <td>176.279999</td>\n",
       "      <td>2.497012</td>\n",
       "      <td>-0.937660</td>\n",
       "      <td>2.484010</td>\n",
       "      <td>0.355476</td>\n",
       "      <td>-0.223334</td>\n",
       "      <td>2.216257</td>\n",
       "      <td>0.686989</td>\n",
       "      <td>0.716053</td>\n",
       "      <td>2.119435</td>\n",
       "      <td>0.701522</td>\n",
       "      <td>-0.338573</td>\n",
       "      <td>-0.052529</td>\n",
       "      <td>177.570007</td>\n",
       "    </tr>\n",
       "    <tr>\n",
       "      <th>2021-12-27</th>\n",
       "      <td>177.089996</td>\n",
       "      <td>180.419998</td>\n",
       "      <td>177.070007</td>\n",
       "      <td>180.330002</td>\n",
       "      <td>2.595451</td>\n",
       "      <td>-0.820744</td>\n",
       "      <td>2.510499</td>\n",
       "      <td>0.656524</td>\n",
       "      <td>-0.434753</td>\n",
       "      <td>2.235153</td>\n",
       "      <td>0.905336</td>\n",
       "      <td>0.752399</td>\n",
       "      <td>2.128221</td>\n",
       "      <td>0.873145</td>\n",
       "      <td>-0.317902</td>\n",
       "      <td>-0.084437</td>\n",
       "      <td>NaN</td>\n",
       "    </tr>\n",
       "    <tr>\n",
       "      <th>2021-12-28</th>\n",
       "      <td>180.160004</td>\n",
       "      <td>181.330002</td>\n",
       "      <td>178.529999</td>\n",
       "      <td>179.289993</td>\n",
       "      <td>2.570173</td>\n",
       "      <td>-0.745483</td>\n",
       "      <td>2.524811</td>\n",
       "      <td>0.510732</td>\n",
       "      <td>-0.432460</td>\n",
       "      <td>2.252961</td>\n",
       "      <td>0.812799</td>\n",
       "      <td>0.774174</td>\n",
       "      <td>2.136422</td>\n",
       "      <td>0.813206</td>\n",
       "      <td>-0.297046</td>\n",
       "      <td>-0.100391</td>\n",
       "      <td>NaN</td>\n",
       "    </tr>\n",
       "    <tr>\n",
       "      <th>2021-12-29</th>\n",
       "      <td>179.330002</td>\n",
       "      <td>180.630005</td>\n",
       "      <td>178.139999</td>\n",
       "      <td>179.380005</td>\n",
       "      <td>2.572361</td>\n",
       "      <td>-1.044683</td>\n",
       "      <td>2.532399</td>\n",
       "      <td>0.517828</td>\n",
       "      <td>-0.369075</td>\n",
       "      <td>2.269937</td>\n",
       "      <td>0.817677</td>\n",
       "      <td>0.797813</td>\n",
       "      <td>2.144406</td>\n",
       "      <td>0.817016</td>\n",
       "      <td>-0.275567</td>\n",
       "      <td>-0.167626</td>\n",
       "      <td>NaN</td>\n",
       "    </tr>\n",
       "    <tr>\n",
       "      <th>2021-12-30</th>\n",
       "      <td>179.470001</td>\n",
       "      <td>180.570007</td>\n",
       "      <td>178.089996</td>\n",
       "      <td>178.199997</td>\n",
       "      <td>2.543679</td>\n",
       "      <td>-1.090571</td>\n",
       "      <td>2.538823</td>\n",
       "      <td>0.338597</td>\n",
       "      <td>-0.354540</td>\n",
       "      <td>2.285174</td>\n",
       "      <td>0.710884</td>\n",
       "      <td>0.816951</td>\n",
       "      <td>2.152334</td>\n",
       "      <td>0.748785</td>\n",
       "      <td>-0.258026</td>\n",
       "      <td>-0.124322</td>\n",
       "      <td>NaN</td>\n",
       "    </tr>\n",
       "    <tr>\n",
       "      <th>2021-12-31</th>\n",
       "      <td>178.089996</td>\n",
       "      <td>179.229996</td>\n",
       "      <td>177.259995</td>\n",
       "      <td>177.570007</td>\n",
       "      <td>2.528367</td>\n",
       "      <td>-1.014816</td>\n",
       "      <td>2.535505</td>\n",
       "      <td>0.241373</td>\n",
       "      <td>-0.397656</td>\n",
       "      <td>2.299831</td>\n",
       "      <td>0.653806</td>\n",
       "      <td>0.826540</td>\n",
       "      <td>2.160788</td>\n",
       "      <td>0.712375</td>\n",
       "      <td>-0.247325</td>\n",
       "      <td>-0.136857</td>\n",
       "      <td>NaN</td>\n",
       "    </tr>\n",
       "  </tbody>\n",
       "</table>\n",
       "</div>"
      ],
      "text/plain": [
       "                  Open        High         Low       Close  Adj Close  \\\n",
       "Date                                                                    \n",
       "2021-12-17  169.929993  173.470001  169.690002  171.139999   2.372079   \n",
       "2021-12-20  168.279999  170.580002  167.460007  169.750000   2.338294   \n",
       "2021-12-21  171.559998  173.199997  169.119995  172.990005   2.417045   \n",
       "2021-12-22  173.039993  175.860001  172.149994  175.639999   2.481456   \n",
       "2021-12-23  175.850006  176.850006  175.270004  176.279999   2.497012   \n",
       "2021-12-27  177.089996  180.419998  177.070007  180.330002   2.595451   \n",
       "2021-12-28  180.160004  181.330002  178.529999  179.289993   2.570173   \n",
       "2021-12-29  179.330002  180.630005  178.139999  179.380005   2.572361   \n",
       "2021-12-30  179.470001  180.570007  178.089996  178.199997   2.543679   \n",
       "2021-12-31  178.089996  179.229996  177.259995  177.570007   2.528367   \n",
       "\n",
       "              Volume    14d ma   14d rsi  14d bbwidth    50d ma   50d rsi  \\\n",
       "Date                                                                        \n",
       "2021-12-17  1.326126  2.415201 -0.029469     0.678785  2.150824  0.432060   \n",
       "2021-12-20 -0.240359  2.423054 -0.189816     0.583618  2.164726  0.312848   \n",
       "2021-12-21 -0.530969  2.437561  0.092961     0.444058  2.180338  0.502546   \n",
       "2021-12-22 -0.514056  2.458526  0.305059     0.236957  2.197979  0.651503   \n",
       "2021-12-23 -0.937660  2.484010  0.355476    -0.223334  2.216257  0.686989   \n",
       "2021-12-27 -0.820744  2.510499  0.656524    -0.434753  2.235153  0.905336   \n",
       "2021-12-28 -0.745483  2.524811  0.510732    -0.432460  2.252961  0.812799   \n",
       "2021-12-29 -1.044683  2.532399  0.517828    -0.369075  2.269937  0.817677   \n",
       "2021-12-30 -1.090571  2.538823  0.338597    -0.354540  2.285174  0.710884   \n",
       "2021-12-31 -1.014816  2.535505  0.241373    -0.397656  2.299831  0.653806   \n",
       "\n",
       "            50d bbwidth   200d ma  200d rsi  200d bbwidth       VIX  \\\n",
       "Date                                                                  \n",
       "2021-12-17     0.742994  2.087513  0.498584     -0.378594  0.358857   \n",
       "2021-12-20     0.728853  2.095428  0.419247     -0.378146  0.507001   \n",
       "2021-12-21     0.728315  2.103128  0.560274     -0.367201  0.295041   \n",
       "2021-12-22     0.728153  2.111380  0.674154     -0.354129  0.023822   \n",
       "2021-12-23     0.716053  2.119435  0.701522     -0.338573 -0.052529   \n",
       "2021-12-27     0.752399  2.128221  0.873145     -0.317902 -0.084437   \n",
       "2021-12-28     0.774174  2.136422  0.813206     -0.297046 -0.100391   \n",
       "2021-12-29     0.797813  2.144406  0.817016     -0.275567 -0.167626   \n",
       "2021-12-30     0.816951  2.152334  0.748785     -0.258026 -0.124322   \n",
       "2021-12-31     0.826540  2.160788  0.712375     -0.247325 -0.136857   \n",
       "\n",
       "            5d_future_close  \n",
       "Date                         \n",
       "2021-12-17       180.330002  \n",
       "2021-12-20       179.289993  \n",
       "2021-12-21       179.380005  \n",
       "2021-12-22       178.199997  \n",
       "2021-12-23       177.570007  \n",
       "2021-12-27              NaN  \n",
       "2021-12-28              NaN  \n",
       "2021-12-29              NaN  \n",
       "2021-12-30              NaN  \n",
       "2021-12-31              NaN  "
      ]
     },
     "execution_count": 15,
     "metadata": {},
     "output_type": "execute_result"
    }
   ],
   "source": [
    "aapl_data.tail(10)"
   ]
  },
  {
   "cell_type": "code",
   "execution_count": 16,
   "id": "60679e6f",
   "metadata": {
    "ExecuteTime": {
     "end_time": "2022-01-06T12:38:34.350430Z",
     "start_time": "2022-01-06T12:38:34.344725Z"
    },
    "scrolled": true
   },
   "outputs": [],
   "source": [
    "total_train = aapl_data.loc[(aapl_data.index >= \"2018-01-01\") & (aapl_data.index <= \"2020-12-31\")]\n",
    "X_train = total_train[feature_names]\n",
    "y_train = total_train['5d_future_close']\n",
    "total_test = aapl_data.loc[(aapl_data.index >= \"2021-01-01\") & (aapl_data.index <= \"2021-12-23\")]\n",
    "X_test = total_test[feature_names]\n",
    "y_test = total_test['5d_future_close']"
   ]
  },
  {
   "cell_type": "markdown",
   "id": "a6fc1ed9",
   "metadata": {},
   "source": [
    "## Train Test Split"
   ]
  },
  {
   "cell_type": "code",
   "execution_count": 17,
   "id": "07256ee5",
   "metadata": {
    "ExecuteTime": {
     "end_time": "2022-01-06T12:38:34.354961Z",
     "start_time": "2022-01-06T12:38:34.351341Z"
    }
   },
   "outputs": [],
   "source": [
    "split = train_val_split(X_train, end = '2020-12-31')"
   ]
  },
  {
   "cell_type": "code",
   "execution_count": 18,
   "id": "a22a0a83",
   "metadata": {
    "ExecuteTime": {
     "end_time": "2022-01-06T12:38:34.360515Z",
     "start_time": "2022-01-06T12:38:34.355861Z"
    },
    "scrolled": true
   },
   "outputs": [
    {
     "name": "stdout",
     "output_type": "stream",
     "text": [
      "2018-09-28 00:00:00 2018-10-01 00:00:00 2019-06-28 00:00:00\n",
      "2019-06-28 00:00:00 2019-07-01 00:00:00 2020-03-31 00:00:00\n",
      "2020-03-31 00:00:00 2020-04-01 00:00:00 2020-12-31 00:00:00\n",
      "([0, 1, 2, 3, 4, 5, 6, 7, 8, 9, 10, 11, 12, 13, 14, 15, 16, 17, 18, 19, 20, 21, 22, 23, 24, 25, 26, 27, 28, 29, 30, 31, 32, 33, 34, 35, 36, 37, 38, 39, 40, 41, 42, 43, 44, 45, 46, 47, 48, 49, 50, 51, 52, 53, 54, 55, 56, 57, 58, 59, 60, 61, 62, 63, 64, 65, 66, 67, 68, 69, 70, 71, 72, 73, 74, 75, 76, 77, 78, 79, 80, 81, 82, 83, 84, 85, 86, 87, 88, 89, 90, 91, 92, 93, 94, 95, 96, 97, 98, 99, 100, 101, 102, 103, 104, 105, 106, 107, 108, 109, 110, 111, 112, 113, 114, 115, 116, 117, 118, 119, 120, 121, 122, 123, 124, 125, 126, 127, 128, 129, 130, 131, 132, 133, 134, 135, 136, 137, 138, 139, 140, 141, 142, 143, 144, 145, 146, 147, 148, 149, 150, 151, 152, 153, 154, 155, 156, 157, 158, 159, 160, 161, 162, 163, 164, 165, 166, 167, 168, 169, 170, 171, 172, 173, 174, 175, 176, 177, 178, 179, 180, 181, 182, 183, 184, 185, 186, 187], [188, 189, 190, 191, 192, 193, 194, 195, 196, 197, 198, 199, 200, 201, 202, 203, 204, 205, 206, 207, 208, 209, 210, 211, 212, 213, 214, 215, 216, 217, 218, 219, 220, 221, 222, 223, 224, 225, 226, 227, 228, 229, 230, 231, 232, 233, 234, 235, 236, 237, 238, 239, 240, 241, 242, 243, 244, 245, 246, 247, 248, 249, 250, 251, 252, 253, 254, 255, 256, 257, 258, 259, 260, 261, 262, 263, 264, 265, 266, 267, 268, 269, 270, 271, 272, 273, 274, 275, 276, 277, 278, 279, 280, 281, 282, 283, 284, 285, 286, 287, 288, 289, 290, 291, 292, 293, 294, 295, 296, 297, 298, 299, 300, 301, 302, 303, 304, 305, 306, 307, 308, 309, 310, 311, 312, 313, 314, 315, 316, 317, 318, 319, 320, 321, 322, 323, 324, 325, 326, 327, 328, 329, 330, 331, 332, 333, 334, 335, 336, 337, 338, 339, 340, 341, 342, 343, 344, 345, 346, 347, 348, 349, 350, 351, 352, 353, 354, 355, 356, 357, 358, 359, 360, 361, 362, 363, 364, 365, 366, 367, 368, 369, 370, 371, 372, 373, 374])\n",
      "([0, 1, 2, 3, 4, 5, 6, 7, 8, 9, 10, 11, 12, 13, 14, 15, 16, 17, 18, 19, 20, 21, 22, 23, 24, 25, 26, 27, 28, 29, 30, 31, 32, 33, 34, 35, 36, 37, 38, 39, 40, 41, 42, 43, 44, 45, 46, 47, 48, 49, 50, 51, 52, 53, 54, 55, 56, 57, 58, 59, 60, 61, 62, 63, 64, 65, 66, 67, 68, 69, 70, 71, 72, 73, 74, 75, 76, 77, 78, 79, 80, 81, 82, 83, 84, 85, 86, 87, 88, 89, 90, 91, 92, 93, 94, 95, 96, 97, 98, 99, 100, 101, 102, 103, 104, 105, 106, 107, 108, 109, 110, 111, 112, 113, 114, 115, 116, 117, 118, 119, 120, 121, 122, 123, 124, 125, 126, 127, 128, 129, 130, 131, 132, 133, 134, 135, 136, 137, 138, 139, 140, 141, 142, 143, 144, 145, 146, 147, 148, 149, 150, 151, 152, 153, 154, 155, 156, 157, 158, 159, 160, 161, 162, 163, 164, 165, 166, 167, 168, 169, 170, 171, 172, 173, 174, 175, 176, 177, 178, 179, 180, 181, 182, 183, 184, 185, 186, 187, 188, 189, 190, 191, 192, 193, 194, 195, 196, 197, 198, 199, 200, 201, 202, 203, 204, 205, 206, 207, 208, 209, 210, 211, 212, 213, 214, 215, 216, 217, 218, 219, 220, 221, 222, 223, 224, 225, 226, 227, 228, 229, 230, 231, 232, 233, 234, 235, 236, 237, 238, 239, 240, 241, 242, 243, 244, 245, 246, 247, 248, 249, 250, 251, 252, 253, 254, 255, 256, 257, 258, 259, 260, 261, 262, 263, 264, 265, 266, 267, 268, 269, 270, 271, 272, 273, 274, 275, 276, 277, 278, 279, 280, 281, 282, 283, 284, 285, 286, 287, 288, 289, 290, 291, 292, 293, 294, 295, 296, 297, 298, 299, 300, 301, 302, 303, 304, 305, 306, 307, 308, 309, 310, 311, 312, 313, 314, 315, 316, 317, 318, 319, 320, 321, 322, 323, 324, 325, 326, 327, 328, 329, 330, 331, 332, 333, 334, 335, 336, 337, 338, 339, 340, 341, 342, 343, 344, 345, 346, 347, 348, 349, 350, 351, 352, 353, 354, 355, 356, 357, 358, 359, 360, 361, 362, 363, 364, 365, 366, 367, 368, 369, 370, 371, 372, 373, 374], [375, 376, 377, 378, 379, 380, 381, 382, 383, 384, 385, 386, 387, 388, 389, 390, 391, 392, 393, 394, 395, 396, 397, 398, 399, 400, 401, 402, 403, 404, 405, 406, 407, 408, 409, 410, 411, 412, 413, 414, 415, 416, 417, 418, 419, 420, 421, 422, 423, 424, 425, 426, 427, 428, 429, 430, 431, 432, 433, 434, 435, 436, 437, 438, 439, 440, 441, 442, 443, 444, 445, 446, 447, 448, 449, 450, 451, 452, 453, 454, 455, 456, 457, 458, 459, 460, 461, 462, 463, 464, 465, 466, 467, 468, 469, 470, 471, 472, 473, 474, 475, 476, 477, 478, 479, 480, 481, 482, 483, 484, 485, 486, 487, 488, 489, 490, 491, 492, 493, 494, 495, 496, 497, 498, 499, 500, 501, 502, 503, 504, 505, 506, 507, 508, 509, 510, 511, 512, 513, 514, 515, 516, 517, 518, 519, 520, 521, 522, 523, 524, 525, 526, 527, 528, 529, 530, 531, 532, 533, 534, 535, 536, 537, 538, 539, 540, 541, 542, 543, 544, 545, 546, 547, 548, 549, 550, 551, 552, 553, 554, 555, 556, 557, 558, 559, 560, 561, 562, 563, 564])\n",
      "([0, 1, 2, 3, 4, 5, 6, 7, 8, 9, 10, 11, 12, 13, 14, 15, 16, 17, 18, 19, 20, 21, 22, 23, 24, 25, 26, 27, 28, 29, 30, 31, 32, 33, 34, 35, 36, 37, 38, 39, 40, 41, 42, 43, 44, 45, 46, 47, 48, 49, 50, 51, 52, 53, 54, 55, 56, 57, 58, 59, 60, 61, 62, 63, 64, 65, 66, 67, 68, 69, 70, 71, 72, 73, 74, 75, 76, 77, 78, 79, 80, 81, 82, 83, 84, 85, 86, 87, 88, 89, 90, 91, 92, 93, 94, 95, 96, 97, 98, 99, 100, 101, 102, 103, 104, 105, 106, 107, 108, 109, 110, 111, 112, 113, 114, 115, 116, 117, 118, 119, 120, 121, 122, 123, 124, 125, 126, 127, 128, 129, 130, 131, 132, 133, 134, 135, 136, 137, 138, 139, 140, 141, 142, 143, 144, 145, 146, 147, 148, 149, 150, 151, 152, 153, 154, 155, 156, 157, 158, 159, 160, 161, 162, 163, 164, 165, 166, 167, 168, 169, 170, 171, 172, 173, 174, 175, 176, 177, 178, 179, 180, 181, 182, 183, 184, 185, 186, 187, 188, 189, 190, 191, 192, 193, 194, 195, 196, 197, 198, 199, 200, 201, 202, 203, 204, 205, 206, 207, 208, 209, 210, 211, 212, 213, 214, 215, 216, 217, 218, 219, 220, 221, 222, 223, 224, 225, 226, 227, 228, 229, 230, 231, 232, 233, 234, 235, 236, 237, 238, 239, 240, 241, 242, 243, 244, 245, 246, 247, 248, 249, 250, 251, 252, 253, 254, 255, 256, 257, 258, 259, 260, 261, 262, 263, 264, 265, 266, 267, 268, 269, 270, 271, 272, 273, 274, 275, 276, 277, 278, 279, 280, 281, 282, 283, 284, 285, 286, 287, 288, 289, 290, 291, 292, 293, 294, 295, 296, 297, 298, 299, 300, 301, 302, 303, 304, 305, 306, 307, 308, 309, 310, 311, 312, 313, 314, 315, 316, 317, 318, 319, 320, 321, 322, 323, 324, 325, 326, 327, 328, 329, 330, 331, 332, 333, 334, 335, 336, 337, 338, 339, 340, 341, 342, 343, 344, 345, 346, 347, 348, 349, 350, 351, 352, 353, 354, 355, 356, 357, 358, 359, 360, 361, 362, 363, 364, 365, 366, 367, 368, 369, 370, 371, 372, 373, 374, 375, 376, 377, 378, 379, 380, 381, 382, 383, 384, 385, 386, 387, 388, 389, 390, 391, 392, 393, 394, 395, 396, 397, 398, 399, 400, 401, 402, 403, 404, 405, 406, 407, 408, 409, 410, 411, 412, 413, 414, 415, 416, 417, 418, 419, 420, 421, 422, 423, 424, 425, 426, 427, 428, 429, 430, 431, 432, 433, 434, 435, 436, 437, 438, 439, 440, 441, 442, 443, 444, 445, 446, 447, 448, 449, 450, 451, 452, 453, 454, 455, 456, 457, 458, 459, 460, 461, 462, 463, 464, 465, 466, 467, 468, 469, 470, 471, 472, 473, 474, 475, 476, 477, 478, 479, 480, 481, 482, 483, 484, 485, 486, 487, 488, 489, 490, 491, 492, 493, 494, 495, 496, 497, 498, 499, 500, 501, 502, 503, 504, 505, 506, 507, 508, 509, 510, 511, 512, 513, 514, 515, 516, 517, 518, 519, 520, 521, 522, 523, 524, 525, 526, 527, 528, 529, 530, 531, 532, 533, 534, 535, 536, 537, 538, 539, 540, 541, 542, 543, 544, 545, 546, 547, 548, 549, 550, 551, 552, 553, 554, 555, 556, 557, 558, 559, 560, 561, 562, 563, 564], [565, 566, 567, 568, 569, 570, 571, 572, 573, 574, 575, 576, 577, 578, 579, 580, 581, 582, 583, 584, 585, 586, 587, 588, 589, 590, 591, 592, 593, 594, 595, 596, 597, 598, 599, 600, 601, 602, 603, 604, 605, 606, 607, 608, 609, 610, 611, 612, 613, 614, 615, 616, 617, 618, 619, 620, 621, 622, 623, 624, 625, 626, 627, 628, 629, 630, 631, 632, 633, 634, 635, 636, 637, 638, 639, 640, 641, 642, 643, 644, 645, 646, 647, 648, 649, 650, 651, 652, 653, 654, 655, 656, 657, 658, 659, 660, 661, 662, 663, 664, 665, 666, 667, 668, 669, 670, 671, 672, 673, 674, 675, 676, 677, 678, 679, 680, 681, 682, 683, 684, 685, 686, 687, 688, 689, 690, 691, 692, 693, 694, 695, 696, 697, 698, 699, 700, 701, 702, 703, 704, 705, 706, 707, 708, 709, 710, 711, 712, 713, 714, 715, 716, 717, 718, 719, 720, 721, 722, 723, 724, 725, 726, 727, 728, 729, 730, 731, 732, 733, 734, 735, 736, 737, 738, 739, 740, 741, 742, 743, 744, 745, 746, 747, 748, 749, 750, 751, 752, 753, 754, 755])\n"
     ]
    }
   ],
   "source": [
    "splits = split.split_by_index()\n",
    "for x in splits:\n",
    "    print(x)"
   ]
  },
  {
   "cell_type": "code",
   "execution_count": 42,
   "id": "f7f907c9",
   "metadata": {
    "ExecuteTime": {
     "end_time": "2022-01-06T13:04:00.643654Z",
     "start_time": "2022-01-06T13:04:00.639214Z"
    }
   },
   "outputs": [],
   "source": [
    "import matplotlib.pyplot as plt"
   ]
  },
  {
   "cell_type": "code",
   "execution_count": null,
   "id": "c481507f",
   "metadata": {},
   "outputs": [],
   "source": [
    "plt."
   ]
  },
  {
   "cell_type": "markdown",
   "id": "1fb641cc",
   "metadata": {},
   "source": [
    "## Random Grid Search CV"
   ]
  },
  {
   "cell_type": "code",
   "execution_count": 19,
   "id": "61b40dae",
   "metadata": {
    "ExecuteTime": {
     "end_time": "2022-01-06T12:38:34.366510Z",
     "start_time": "2022-01-06T12:38:34.361581Z"
    }
   },
   "outputs": [],
   "source": [
    "def rf_random_grid_search():\n",
    "    \n",
    "    # Trees \n",
    "    n_estimators = [int(x) for x in np.linspace(start = 200, stop = 2000, num = 10)]\n",
    "    # Features to consider at every split\n",
    "    max_features = ['auto', 'sqrt']\n",
    "    # Maximum number of levels in tree\n",
    "    max_depth = [int(x) for x in np.linspace(10, 110, num = 11)]\n",
    "    max_depth.append(None)\n",
    "    # Minimum samples to split a node\n",
    "    min_samples_split = [2, 5, 10]\n",
    "    # Minimum number at each leaf node\n",
    "    min_samples_leaf = [1, 2, 4]\n",
    "    # Method of selecting samples at each tree\n",
    "    bootstrap = [True, False]\n",
    "\n",
    "    # Create the random grid\n",
    "    random_grid = {'n_estimators': n_estimators,\n",
    "                   'max_features': max_features,\n",
    "                   'max_depth': max_depth,\n",
    "                   'min_samples_split': min_samples_split,\n",
    "                   'min_samples_leaf': min_samples_leaf,\n",
    "                   'bootstrap': bootstrap}\n",
    "    # Instantiate model\n",
    "    rf = RandomForestRegressor()\n",
    "    # Random search of parameters with 5 folds\n",
    "    model = RandomizedSearchCV(estimator = rf, param_distributions = random_grid, scoring = 'neg_mean_absolute_error', n_iter = 10, cv = splits, verbose=2, random_state=42, n_jobs = -1)\n",
    "    \n",
    "    return model"
   ]
  },
  {
   "cell_type": "markdown",
   "id": "81f9a3d2",
   "metadata": {},
   "source": [
    "## Train the model"
   ]
  },
  {
   "cell_type": "code",
   "execution_count": 20,
   "id": "22ac02f9",
   "metadata": {
    "ExecuteTime": {
     "end_time": "2022-01-06T12:38:56.652154Z",
     "start_time": "2022-01-06T12:38:34.367836Z"
    },
    "scrolled": true
   },
   "outputs": [
    {
     "name": "stdout",
     "output_type": "stream",
     "text": [
      "Fitting 3 folds for each of 10 candidates, totalling 30 fits\n"
     ]
    },
    {
     "data": {
      "text/plain": [
       "RandomizedSearchCV(cv=[([0, 1, 2, 3, 4, 5, 6, 7, 8, 9, 10, 11, 12, 13, 14, 15,\n",
       "                         16, 17, 18, 19, 20, 21, 22, 23, 24, 25, 26, 27, 28, 29, ...],\n",
       "                        [188, 189, 190, 191, 192, 193, 194, 195, 196, 197, 198,\n",
       "                         199, 200, 201, 202, 203, 204, 205, 206, 207, 208, 209,\n",
       "                         210, 211, 212, 213, 214, 215, 216, 217, ...]),\n",
       "                       ([0, 1, 2, 3, 4, 5, 6, 7, 8, 9, 10, 11, 12, 13, 14, 15,\n",
       "                         16, 17, 18, 19, 20, 21, 22, 23, 24, 25, 26, 27, 28, 29, ...],\n",
       "                        [375, 376, 377, 378, 379, 380, 3...\n",
       "                   estimator=RandomForestRegressor(), n_jobs=-1,\n",
       "                   param_distributions={'bootstrap': [True, False],\n",
       "                                        'max_depth': [10, 20, 30, 40, 50, 60,\n",
       "                                                      70, 80, 90, 100, 110,\n",
       "                                                      None],\n",
       "                                        'max_features': ['auto', 'sqrt'],\n",
       "                                        'min_samples_leaf': [1, 2, 4],\n",
       "                                        'min_samples_split': [2, 5, 10],\n",
       "                                        'n_estimators': [200, 400, 600, 800,\n",
       "                                                         1000, 1200, 1400, 1600,\n",
       "                                                         1800, 2000]},\n",
       "                   random_state=42, scoring='neg_mean_absolute_error',\n",
       "                   verbose=2)"
      ]
     },
     "execution_count": 20,
     "metadata": {},
     "output_type": "execute_result"
    }
   ],
   "source": [
    "rf_random = rf_random_grid_search()\n",
    "# Fit\n",
    "rf_random.fit(X_train, y_train)"
   ]
  },
  {
   "cell_type": "markdown",
   "id": "e6edb8d6",
   "metadata": {},
   "source": [
    "## Base Model Best Parameters and Score"
   ]
  },
  {
   "cell_type": "code",
   "execution_count": 21,
   "id": "26d8e9d2",
   "metadata": {
    "ExecuteTime": {
     "end_time": "2022-01-06T12:38:56.656627Z",
     "start_time": "2022-01-06T12:38:56.653631Z"
    }
   },
   "outputs": [
    {
     "data": {
      "text/plain": [
       "{'n_estimators': 2000,\n",
       " 'min_samples_split': 2,\n",
       " 'min_samples_leaf': 2,\n",
       " 'max_features': 'auto',\n",
       " 'max_depth': 50,\n",
       " 'bootstrap': False}"
      ]
     },
     "execution_count": 21,
     "metadata": {},
     "output_type": "execute_result"
    }
   ],
   "source": [
    "rf_random.best_params_"
   ]
  },
  {
   "cell_type": "code",
   "execution_count": 22,
   "id": "17c244b3",
   "metadata": {
    "ExecuteTime": {
     "end_time": "2022-01-06T12:38:56.660161Z",
     "start_time": "2022-01-06T12:38:56.657886Z"
    },
    "scrolled": true
   },
   "outputs": [
    {
     "data": {
      "text/plain": [
       "-16.514740967863318"
      ]
     },
     "execution_count": 22,
     "metadata": {},
     "output_type": "execute_result"
    }
   ],
   "source": [
    "(rf_random.best_score_)"
   ]
  },
  {
   "cell_type": "markdown",
   "id": "c88fcc5d",
   "metadata": {},
   "source": [
    "## Predict with X_test and Score for y_test"
   ]
  },
  {
   "cell_type": "code",
   "execution_count": 23,
   "id": "e0295ab3",
   "metadata": {
    "ExecuteTime": {
     "end_time": "2022-01-06T12:38:56.770929Z",
     "start_time": "2022-01-06T12:38:56.661046Z"
    }
   },
   "outputs": [],
   "source": [
    "y_pred = rf_random.predict(X_test)"
   ]
  },
  {
   "cell_type": "code",
   "execution_count": 24,
   "id": "e17f2e24",
   "metadata": {
    "ExecuteTime": {
     "end_time": "2022-01-06T12:38:56.775256Z",
     "start_time": "2022-01-06T12:38:56.772094Z"
    }
   },
   "outputs": [
    {
     "data": {
      "text/plain": [
       "14.202587854053782"
      ]
     },
     "execution_count": 24,
     "metadata": {},
     "output_type": "execute_result"
    }
   ],
   "source": [
    "test_score = metrics.mean_absolute_error(y_test, y_pred)\n",
    "test_score"
   ]
  },
  {
   "cell_type": "code",
   "execution_count": 29,
   "id": "6d989610",
   "metadata": {
    "ExecuteTime": {
     "end_time": "2022-01-06T12:45:05.594712Z",
     "start_time": "2022-01-06T12:45:05.589243Z"
    }
   },
   "outputs": [
    {
     "data": {
      "text/plain": [
       "247"
      ]
     },
     "execution_count": 29,
     "metadata": {},
     "output_type": "execute_result"
    }
   ],
   "source": [
    "len(y_pred)"
   ]
  },
  {
   "cell_type": "code",
   "execution_count": 35,
   "id": "e0a8c93b",
   "metadata": {
    "ExecuteTime": {
     "end_time": "2022-01-06T12:50:41.082831Z",
     "start_time": "2022-01-06T12:50:41.076396Z"
    }
   },
   "outputs": [],
   "source": [
    "y_values = pd.DataFrame(y_test).rename(columns={\"5d_future_close\": \"Actual\"})"
   ]
  },
  {
   "cell_type": "code",
   "execution_count": 37,
   "id": "eb825d93",
   "metadata": {
    "ExecuteTime": {
     "end_time": "2022-01-06T12:51:15.367480Z",
     "start_time": "2022-01-06T12:51:15.356586Z"
    }
   },
   "outputs": [],
   "source": [
    "y_values['RF_pred'] = y_pred"
   ]
  },
  {
   "cell_type": "code",
   "execution_count": 39,
   "id": "8725c3b3",
   "metadata": {
    "ExecuteTime": {
     "end_time": "2022-01-06T12:54:30.768762Z",
     "start_time": "2022-01-06T12:54:30.762669Z"
    }
   },
   "outputs": [],
   "source": [
    "y_values['Residual'] = y_values[\"RF_pred\"] - y_values[\"Actual\"]"
   ]
  },
  {
   "cell_type": "code",
   "execution_count": 40,
   "id": "a4cd4966",
   "metadata": {
    "ExecuteTime": {
     "end_time": "2022-01-06T12:54:34.336138Z",
     "start_time": "2022-01-06T12:54:34.310768Z"
    }
   },
   "outputs": [
    {
     "data": {
      "text/html": [
       "<div>\n",
       "<style scoped>\n",
       "    .dataframe tbody tr th:only-of-type {\n",
       "        vertical-align: middle;\n",
       "    }\n",
       "\n",
       "    .dataframe tbody tr th {\n",
       "        vertical-align: top;\n",
       "    }\n",
       "\n",
       "    .dataframe thead th {\n",
       "        text-align: right;\n",
       "    }\n",
       "</style>\n",
       "<table border=\"1\" class=\"dataframe\">\n",
       "  <thead>\n",
       "    <tr style=\"text-align: right;\">\n",
       "      <th></th>\n",
       "      <th>Actual</th>\n",
       "      <th>RF_pred</th>\n",
       "      <th>Residual</th>\n",
       "    </tr>\n",
       "    <tr>\n",
       "      <th>Date</th>\n",
       "      <th></th>\n",
       "      <th></th>\n",
       "      <th></th>\n",
       "    </tr>\n",
       "  </thead>\n",
       "  <tbody>\n",
       "    <tr>\n",
       "      <th>2021-01-04</th>\n",
       "      <td>128.189728</td>\n",
       "      <td>134.071828</td>\n",
       "      <td>5.882100</td>\n",
       "    </tr>\n",
       "    <tr>\n",
       "      <th>2021-01-05</th>\n",
       "      <td>128.010834</td>\n",
       "      <td>130.505463</td>\n",
       "      <td>2.494629</td>\n",
       "    </tr>\n",
       "    <tr>\n",
       "      <th>2021-01-06</th>\n",
       "      <td>130.088028</td>\n",
       "      <td>134.071828</td>\n",
       "      <td>3.983800</td>\n",
       "    </tr>\n",
       "    <tr>\n",
       "      <th>2021-01-07</th>\n",
       "      <td>128.120163</td>\n",
       "      <td>129.440304</td>\n",
       "      <td>1.320141</td>\n",
       "    </tr>\n",
       "    <tr>\n",
       "      <th>2021-01-08</th>\n",
       "      <td>126.361015</td>\n",
       "      <td>129.940483</td>\n",
       "      <td>3.579468</td>\n",
       "    </tr>\n",
       "    <tr>\n",
       "      <th>...</th>\n",
       "      <td>...</td>\n",
       "      <td>...</td>\n",
       "      <td>...</td>\n",
       "    </tr>\n",
       "    <tr>\n",
       "      <th>2021-12-17</th>\n",
       "      <td>180.330002</td>\n",
       "      <td>133.154701</td>\n",
       "      <td>-47.175301</td>\n",
       "    </tr>\n",
       "    <tr>\n",
       "      <th>2021-12-20</th>\n",
       "      <td>179.289993</td>\n",
       "      <td>130.005284</td>\n",
       "      <td>-49.284710</td>\n",
       "    </tr>\n",
       "    <tr>\n",
       "      <th>2021-12-21</th>\n",
       "      <td>179.380005</td>\n",
       "      <td>131.005747</td>\n",
       "      <td>-48.374258</td>\n",
       "    </tr>\n",
       "    <tr>\n",
       "      <th>2021-12-22</th>\n",
       "      <td>178.199997</td>\n",
       "      <td>131.005747</td>\n",
       "      <td>-47.194250</td>\n",
       "    </tr>\n",
       "    <tr>\n",
       "      <th>2021-12-23</th>\n",
       "      <td>177.570007</td>\n",
       "      <td>131.005747</td>\n",
       "      <td>-46.564260</td>\n",
       "    </tr>\n",
       "  </tbody>\n",
       "</table>\n",
       "<p>247 rows × 3 columns</p>\n",
       "</div>"
      ],
      "text/plain": [
       "                Actual     RF_pred   Residual\n",
       "Date                                         \n",
       "2021-01-04  128.189728  134.071828   5.882100\n",
       "2021-01-05  128.010834  130.505463   2.494629\n",
       "2021-01-06  130.088028  134.071828   3.983800\n",
       "2021-01-07  128.120163  129.440304   1.320141\n",
       "2021-01-08  126.361015  129.940483   3.579468\n",
       "...                ...         ...        ...\n",
       "2021-12-17  180.330002  133.154701 -47.175301\n",
       "2021-12-20  179.289993  130.005284 -49.284710\n",
       "2021-12-21  179.380005  131.005747 -48.374258\n",
       "2021-12-22  178.199997  131.005747 -47.194250\n",
       "2021-12-23  177.570007  131.005747 -46.564260\n",
       "\n",
       "[247 rows x 3 columns]"
      ]
     },
     "execution_count": 40,
     "metadata": {},
     "output_type": "execute_result"
    }
   ],
   "source": [
    "y_values"
   ]
  },
  {
   "cell_type": "code",
   "execution_count": null,
   "id": "ca0b9313",
   "metadata": {},
   "outputs": [],
   "source": [
    "d"
   ]
  }
 ],
 "metadata": {
  "kernelspec": {
   "display_name": "Python 3 (ipykernel)",
   "language": "python",
   "name": "python3"
  },
  "language_info": {
   "codemirror_mode": {
    "name": "ipython",
    "version": 3
   },
   "file_extension": ".py",
   "mimetype": "text/x-python",
   "name": "python",
   "nbconvert_exporter": "python",
   "pygments_lexer": "ipython3",
   "version": "3.8.12"
  },
  "toc": {
   "base_numbering": 1,
   "nav_menu": {},
   "number_sections": true,
   "sideBar": true,
   "skip_h1_title": false,
   "title_cell": "Table of Contents",
   "title_sidebar": "Contents",
   "toc_cell": false,
   "toc_position": {},
   "toc_section_display": true,
   "toc_window_display": true
  },
  "varInspector": {
   "cols": {
    "lenName": 16,
    "lenType": 16,
    "lenVar": 40
   },
   "kernels_config": {
    "python": {
     "delete_cmd_postfix": "",
     "delete_cmd_prefix": "del ",
     "library": "var_list.py",
     "varRefreshCmd": "print(var_dic_list())"
    },
    "r": {
     "delete_cmd_postfix": ") ",
     "delete_cmd_prefix": "rm(",
     "library": "var_list.r",
     "varRefreshCmd": "cat(var_dic_list()) "
    }
   },
   "types_to_exclude": [
    "module",
    "function",
    "builtin_function_or_method",
    "instance",
    "_Feature"
   ],
   "window_display": false
  }
 },
 "nbformat": 4,
 "nbformat_minor": 5
}
