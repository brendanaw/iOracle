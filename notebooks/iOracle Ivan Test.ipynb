{
 "cells": [
  {
   "cell_type": "code",
   "execution_count": 1,
   "id": "8b62f5ce",
   "metadata": {
    "ExecuteTime": {
     "end_time": "2022-01-17T14:40:13.665581Z",
     "start_time": "2022-01-17T14:40:09.966339Z"
    }
   },
   "outputs": [],
   "source": [
    "%load_ext autoreload\n",
    "%autoreload 2\n",
    "\n",
    "from iOracle import data\n",
    "from iOracle import preproc as PreProc\n",
    "from iOracle import lstm as Lstm\n",
    "import pandas as pd\n",
    "import numpy as np\n",
    "import datetime as dt"
   ]
  },
  {
   "cell_type": "code",
   "execution_count": 2,
   "id": "ba6cd27d",
   "metadata": {
    "ExecuteTime": {
     "end_time": "2022-01-17T14:40:14.570422Z",
     "start_time": "2022-01-17T14:40:13.668265Z"
    }
   },
   "outputs": [
    {
     "name": "stdout",
     "output_type": "stream",
     "text": [
      "[*********************100%***********************]  1 of 1 completed\n",
      "[*********************100%***********************]  1 of 1 completed\n"
     ]
    }
   ],
   "source": [
    "df = pd.DataFrame()\n",
    "prep = PreProc.preproc(df)\n",
    "array = prep.get_lstm_pred_X(date='2021-1-15')"
   ]
  },
  {
   "cell_type": "code",
   "execution_count": 3,
   "id": "2d968ec5",
   "metadata": {
    "ExecuteTime": {
     "end_time": "2022-01-17T14:40:14.822925Z",
     "start_time": "2022-01-17T14:40:14.760871Z"
    }
   },
   "outputs": [
    {
     "data": {
      "text/plain": [
       "(1, 30, 12)"
      ]
     },
     "execution_count": 3,
     "metadata": {},
     "output_type": "execute_result"
    }
   ],
   "source": [
    "array.shape"
   ]
  },
  {
   "cell_type": "markdown",
   "id": "4d50e4e0",
   "metadata": {},
   "source": [
    "seq : obs : features\n",
    "1 : 30 : 12"
   ]
  },
  {
   "cell_type": "code",
   "execution_count": 14,
   "id": "f0c5dd00",
   "metadata": {
    "ExecuteTime": {
     "end_time": "2022-01-17T14:35:14.367897Z",
     "start_time": "2022-01-17T14:35:14.316795Z"
    }
   },
   "outputs": [],
   "source": [
    "shape = np.array(df.iloc[-30:,:]).shape\n",
    "array = np.array(df.iloc[-30:,:])\n",
    "newarray = array.reshape((1,shape[0],shape[1]))"
   ]
  },
  {
   "cell_type": "code",
   "execution_count": 16,
   "id": "94c49a94",
   "metadata": {
    "ExecuteTime": {
     "end_time": "2022-01-17T14:35:28.141737Z",
     "start_time": "2022-01-17T14:35:28.084143Z"
    }
   },
   "outputs": [
    {
     "data": {
      "text/plain": [
       "array([[[ 1.23519997e+02,  1.23779999e+02,  1.22209999e+02,\n",
       "          1.22940002e+02,  1.41226276e+00, -9.70588809e-01,\n",
       "          1.29547322e+00,  1.88612505e-02, -4.73079748e-01,\n",
       "          1.36828469e+00, -4.39288221e-01, -1.78047734e+00,\n",
       "          9.52342145e-01, -6.22512304e-01,  9.12276901e-01,\n",
       "         -3.41563276e-01],\n",
       "        [ 1.22599998e+02,  1.22860001e+02,  1.21519997e+02,\n",
       "          1.22250000e+02,  1.38446577e+00, -9.81249833e-01,\n",
       "          1.30440033e+00, -1.39394180e-01, -4.00705725e-01,\n",
       "          1.38161743e+00, -4.87309549e-01, -1.82810295e+00,\n",
       "          9.74611470e-01, -6.92553676e-01,  9.13368424e-01,\n",
       "         -3.81308410e-01],\n",
       "        [ 1.22309998e+02,  1.24570000e+02,  1.22250000e+02,\n",
       "          1.23750000e+02,  1.44489354e+00, -8.53842157e-01,\n",
       "          1.31470088e+00,  8.57581071e-02, -2.78890890e-01,\n",
       "          1.39255586e+00, -4.04527623e-01, -1.80633367e+00,\n",
       "          9.99481819e-01, -5.76680890e-01,  9.09798969e-01,\n",
       "         -3.39941143e-01],\n",
       "        [ 1.24370003e+02,  1.24980003e+02,  1.23089996e+02,\n",
       "          1.24379997e+02,  1.47027224e+00, -9.21476041e-01,\n",
       "          1.32959928e+00,  1.77857115e-01, -1.42550653e-01,\n",
       "          1.40157602e+00, -3.69824463e-01, -1.76105392e+00,\n",
       "          1.02592412e+00, -5.28146126e-01,  9.01496092e-01,\n",
       "         -3.90230840e-01],\n",
       "        [ 1.24529999e+02,  1.25949997e+02,  1.21000000e+02,\n",
       "          1.21779999e+02,  1.36553202e+00, -4.26056520e-01,\n",
       "          1.34079550e+00, -4.35587714e-01, -1.37907464e-01,\n",
       "          1.40897231e+00, -5.54706222e-01, -1.75453589e+00,\n",
       "          1.05049597e+00, -7.92410482e-01,  8.90370400e-01,\n",
       "         -2.61261866e-01],\n",
       "        [ 1.20500000e+02,  1.23870003e+02,  1.20150002e+02,\n",
       "          1.23239998e+02,  1.42434800e+00, -9.35244018e-01,\n",
       "          1.35452954e+00, -1.96991180e-01, -9.64608764e-02,\n",
       "          1.41612755e+00, -4.72170110e-01, -1.72709930e+00,\n",
       "          1.07817880e+00, -6.79316350e-01,  8.70435968e-01,\n",
       "         -2.40983727e-01],\n",
       "        [ 1.22430000e+02,  1.22760002e+02,  1.20550003e+02,\n",
       "          1.22410004e+02,  1.39091165e+00, -8.50408077e-01,\n",
       "          1.36966683e+00, -3.86318781e-01, -1.26490919e-01,\n",
       "          1.42158687e+00, -5.31277290e-01, -1.70728120e+00,\n",
       "          1.10546592e+00, -7.63376371e-01,  8.48167787e-01,\n",
       "         -1.76904890e-01],\n",
       "        [ 1.22599998e+02,  1.23349998e+02,  1.21540001e+02,\n",
       "          1.21779999e+02,  1.36553202e+00, -9.67319046e-01,\n",
       "          1.39334310e+00, -5.30492435e-01, -4.04624687e-01,\n",
       "          1.42998492e+00, -5.76355823e-01, -1.71681505e+00,\n",
       "          1.12927144e+00, -8.27165310e-01,  8.37523369e-01,\n",
       "         -6.25362001e-02],\n",
       "        [ 1.24339996e+02,  1.27900002e+02,  1.24129997e+02,\n",
       "          1.27879997e+02,  1.61126943e+00,  2.09421598e-01,\n",
       "          1.43129076e+00,  3.70681150e-01, -4.17822327e-01,\n",
       "          1.44084576e+00, -2.36618218e-01, -1.63128074e+00,\n",
       "          1.15731205e+00, -3.59584884e-01,  8.31377172e-01,\n",
       "         -2.10972169e-01],\n",
       "        [ 1.27410004e+02,  1.28369995e+02,  1.26559998e+02,\n",
       "          1.27809998e+02,  1.60844944e+00, -6.80531176e-01,\n",
       "          1.46646179e+00,  3.54391873e-01, -5.00892218e-01,\n",
       "          1.45476793e+00, -2.41720363e-01, -1.57848379e+00,\n",
       "          1.18364808e+00, -3.66688120e-01,  8.30605199e-01,\n",
       "         -2.42606016e-01],\n",
       "        [ 1.28899994e+02,  1.29580002e+02,  1.28039993e+02,\n",
       "          1.28699997e+02,  1.64430253e+00, -7.38551748e-01,\n",
       "          1.50261805e+00,  4.65600329e-01, -6.10424863e-01,\n",
       "          1.46772722e+00, -1.93748613e-01, -1.50600149e+00,\n",
       "          1.21165141e+00, -2.99480535e-01,  8.25684600e-01,\n",
       "         -2.88840147e-01],\n",
       "        [ 1.28960007e+02,  1.29100006e+02,  1.26120003e+02,\n",
       "          1.26660004e+02,  1.56212226e+00,  7.41535121e-01,\n",
       "          1.52533888e+00, -2.48315782e-02, -7.38158714e-01,\n",
       "          1.47887632e+00, -3.44762835e-01, -1.47165309e+00,\n",
       "          1.23911721e+00, -5.06826063e-01,  8.14114397e-01,\n",
       "         -3.18040716e-01],\n",
       "        [ 1.25019997e+02,  1.28309998e+02,  1.23449997e+02,\n",
       "          1.28229996e+02,  1.62536909e+00, -3.33158482e-01,\n",
       "          1.54178983e+00,  1.94289334e-01, -6.58655777e-01,\n",
       "          1.48962537e+00, -2.58252779e-01, -1.41206785e+00,\n",
       "          1.27021306e+00, -3.87825284e-01,  7.91049110e-01,\n",
       "         -2.68466328e-02],\n",
       "        [ 1.31610001e+02,  1.34410004e+02,  1.29649994e+02,\n",
       "          1.31880005e+02,  1.77240859e+00,  3.85212412e-01,\n",
       "          1.56806357e+00,  6.30661513e-01, -3.84359013e-01,\n",
       "          1.49684136e+00, -6.40082357e-02, -1.31315767e+00,\n",
       "          1.30075174e+00, -1.14895748e-01,  7.84856993e-01,\n",
       "         -1.02281333e-01],\n",
       "        [ 1.32160004e+02,  1.32429993e+02,  1.30779999e+02,\n",
       "          1.30960007e+02,  1.73534697e+00, -8.31053314e-01,\n",
       "          1.59200852e+00,  4.13021298e-01, -2.68370881e-01,\n",
       "          1.50628410e+00, -1.33082854e-01, -1.22329860e+00,\n",
       "          1.33206260e+00, -2.08370801e-01,  7.69986074e-01,\n",
       "         -1.76904890e-01],\n",
       "        [ 1.31320007e+02,  1.33460007e+02,  1.31100006e+02,\n",
       "          1.31970001e+02,  1.77603416e+00, -1.33295357e+00,\n",
       "          1.62102907e+00,  5.32455636e-01, -1.85573530e-01,\n",
       "          1.51658979e+00, -7.95735681e-02, -1.12563129e+00,\n",
       "          1.36726305e+00, -1.33250625e-01,  7.38039284e-01,\n",
       "         -3.21285138e-01],\n",
       "        [ 1.33990005e+02,  1.37339996e+02,  1.33509995e+02,\n",
       "          1.36690002e+02,  1.96617884e+00, -2.84396961e-01,\n",
       "          1.65966342e+00,  1.00492458e+00,  1.73263833e-01,\n",
       "          1.53177150e+00,  1.60705769e-01, -9.55150117e-01,\n",
       "          1.40112712e+00,  2.12499157e-01,  7.33704805e-01,\n",
       "         -3.07495997e-01],\n",
       "        [ 1.38050003e+02,  1.38789993e+02,  1.34339996e+02,\n",
       "          1.34869995e+02,  1.89286087e+00, -3.36238299e-01,\n",
       "          1.69098300e+00,  5.85585479e-01,  3.07592475e-01,\n",
       "          1.54682858e+00,  2.23525385e-02, -8.37108324e-01,\n",
       "          1.43852862e+00,  2.76297125e-02,  7.00158845e-01,\n",
       "         -1.95560740e-01],\n",
       "        [ 1.35580002e+02,  1.35990005e+02,  1.33399994e+02,\n",
       "          1.33720001e+02,  1.84653369e+00, -7.07010374e-01,\n",
       "          1.72663178e+00,  3.31845147e-01,  2.12858229e-01,\n",
       "          1.56365327e+00, -6.41518397e-02, -7.60065139e-01,\n",
       "          1.47402936e+00, -8.85529448e-02,  6.70371081e-01,\n",
       "         -2.20705589e-01],\n",
       "        [ 1.34080002e+02,  1.34740005e+02,  1.31720001e+02,\n",
       "          1.32690002e+02,  1.80503998e+00, -6.66843097e-01,\n",
       "          1.75484625e+00,  1.07768929e-01,  9.48550675e-02,\n",
       "          1.57807955e+00, -1.41435650e-01, -6.98019022e-01,\n",
       "          1.50978442e+00, -1.92339430e-01,  6.32697103e-01,\n",
       "         -2.22327877e-01],\n",
       "        [ 1.33520004e+02,  1.33610001e+02,  1.26760002e+02,\n",
       "          1.29410004e+02,  1.67290572e+00, -7.50716477e-04,\n",
       "          1.77574586e+00, -5.37097939e-01, -1.58684462e-01,\n",
       "          1.59002888e+00, -3.81499504e-01, -6.77612005e-01,\n",
       "          1.54413219e+00, -5.19520664e-01,  5.86451800e-01,\n",
       "          1.19967048e-01],\n",
       "        [ 1.28889999e+02,  1.31740005e+02,  1.28429993e+02,\n",
       "          1.31009995e+02,  1.73736138e+00, -6.88727441e-01,\n",
       "          1.80330348e+00, -3.08944156e-01, -5.66079917e-01,\n",
       "          1.60452735e+00, -2.94367241e-01, -6.53964173e-01,\n",
       "          1.58121441e+00, -4.00873472e-01,  5.29338179e-01,\n",
       "         -1.22463482e-02],\n",
       "        [ 1.27720001e+02,  1.31050003e+02,  1.26379997e+02,\n",
       "          1.26599998e+02,  1.55970490e+00,  1.76924470e-01,\n",
       "          1.79948185e+00, -1.04304714e+00, -5.11278976e-01,\n",
       "          1.61555463e+00, -6.03469597e-01, -6.70074272e-01,\n",
       "          1.61669425e+00, -8.32846037e-01,  4.59688050e-01,\n",
       "         -3.41467750e-02],\n",
       "        [ 1.28360001e+02,  1.31630005e+02,  1.27860001e+02,\n",
       "          1.30919998e+02,  1.73373581e+00, -5.09134718e-01,\n",
       "          1.80876728e+00, -4.52494997e-01, -5.69720544e-01,\n",
       "          1.63062403e+00, -3.69885278e-01, -6.61187037e-01,\n",
       "          1.65153688e+00, -5.14265989e-01,  4.13166070e-01,\n",
       "         -2.53150580e-01],\n",
       "        [ 1.32429993e+02,  1.32630005e+02,  1.30229996e+02,\n",
       "          1.32050003e+02,  1.77925772e+00, -5.75766116e-01,\n",
       "          1.81876929e+00, -3.14831292e-01, -6.03046311e-01,\n",
       "          1.64530206e+00, -3.10852938e-01, -6.36670485e-01,\n",
       "          1.68711453e+00, -4.32068247e-01,  3.66091825e-01,\n",
       "         -3.18851860e-01],\n",
       "        [ 1.29190002e+02,  1.30169998e+02,  1.28500000e+02,\n",
       "          1.28979996e+02,  1.65558250e+00, -6.47729534e-01,\n",
       "          1.82569597e+00, -7.89707071e-01, -7.08080053e-01,\n",
       "          1.66215652e+00, -5.20311312e-01, -6.90947993e-01,\n",
       "          1.71954760e+00, -7.28229390e-01,  3.22177891e-01,\n",
       "         -1.14448185e-01],\n",
       "        [ 1.28500000e+02,  1.29690002e+02,  1.26860001e+02,\n",
       "          1.28800003e+02,  1.64833136e+00, -7.74862845e-01,\n",
       "          1.82739779e+00, -8.16528490e-01, -7.30691632e-01,\n",
       "          1.67498492e+00, -5.32443405e-01, -7.09601955e-01,\n",
       "          1.75322168e+00, -7.45488098e-01,  2.68757331e-01,\n",
       "         -1.75282601e-01],\n",
       "        [ 1.28759995e+02,  1.31449997e+02,  1.28490005e+02,\n",
       "          1.30889999e+02,  1.73252728e+00, -8.24825841e-01,\n",
       "          1.82444204e+00, -5.26278517e-01, -7.29422695e-01,\n",
       "          1.69582145e+00, -4.19084113e-01, -7.98251108e-01,\n",
       "          1.78706275e+00, -5.92298518e-01,  2.22543227e-01,\n",
       "         -2.66128731e-01],\n",
       "        [ 1.30800003e+02,  1.31000000e+02,  1.28759995e+02,\n",
       "          1.28910004e+02,  1.65276344e+00, -8.00932003e-01,\n",
       "          1.81832148e+00, -8.39880954e-01, -6.90419782e-01,\n",
       "          1.71488532e+00, -5.54454458e-01, -9.13553604e-01,\n",
       "          1.81997706e+00, -7.82328633e-01,  1.71531581e-01,\n",
       "         -1.81771600e-01],\n",
       "        [ 1.28779999e+02,  1.30220001e+02,  1.27000000e+02,\n",
       "          1.27139999e+02,  1.58145895e+00, -4.78678742e-01,\n",
       "          1.80390080e+00, -1.10345095e+00, -5.94569503e-01,\n",
       "          1.73072569e+00, -6.73352671e-01, -1.02110050e+00,\n",
       "          1.85366963e+00, -9.50890225e-01,  1.06163447e-01,\n",
       "         -9.33589027e-02]]])"
      ]
     },
     "execution_count": 16,
     "metadata": {},
     "output_type": "execute_result"
    }
   ],
   "source": [
    "newarray"
   ]
  },
  {
   "cell_type": "code",
   "execution_count": 6,
   "id": "3e2e899f",
   "metadata": {
    "ExecuteTime": {
     "end_time": "2022-01-17T14:30:21.025042Z",
     "start_time": "2022-01-17T14:30:20.955125Z"
    }
   },
   "outputs": [
    {
     "data": {
      "text/html": [
       "<div>\n",
       "<style scoped>\n",
       "    .dataframe tbody tr th:only-of-type {\n",
       "        vertical-align: middle;\n",
       "    }\n",
       "\n",
       "    .dataframe tbody tr th {\n",
       "        vertical-align: top;\n",
       "    }\n",
       "\n",
       "    .dataframe thead th {\n",
       "        text-align: right;\n",
       "    }\n",
       "</style>\n",
       "<table border=\"1\" class=\"dataframe\">\n",
       "  <thead>\n",
       "    <tr style=\"text-align: right;\">\n",
       "      <th></th>\n",
       "      <th>Open</th>\n",
       "      <th>High</th>\n",
       "      <th>Low</th>\n",
       "      <th>Close</th>\n",
       "      <th>Adj Close</th>\n",
       "      <th>Volume</th>\n",
       "      <th>14d ma</th>\n",
       "      <th>14d rsi</th>\n",
       "      <th>14d bbwidth</th>\n",
       "      <th>50d ma</th>\n",
       "      <th>50d rsi</th>\n",
       "      <th>50d bbwidth</th>\n",
       "      <th>200d ma</th>\n",
       "      <th>200d rsi</th>\n",
       "      <th>200d bbwidth</th>\n",
       "      <th>VIX</th>\n",
       "    </tr>\n",
       "    <tr>\n",
       "      <th>Date</th>\n",
       "      <th></th>\n",
       "      <th></th>\n",
       "      <th></th>\n",
       "      <th></th>\n",
       "      <th></th>\n",
       "      <th></th>\n",
       "      <th></th>\n",
       "      <th></th>\n",
       "      <th></th>\n",
       "      <th></th>\n",
       "      <th></th>\n",
       "      <th></th>\n",
       "      <th></th>\n",
       "      <th></th>\n",
       "      <th></th>\n",
       "      <th></th>\n",
       "    </tr>\n",
       "  </thead>\n",
       "  <tbody>\n",
       "    <tr>\n",
       "      <th>2019-09-03</th>\n",
       "      <td>51.607498</td>\n",
       "      <td>51.744999</td>\n",
       "      <td>51.055000</td>\n",
       "      <td>51.424999</td>\n",
       "      <td>-1.492593</td>\n",
       "      <td>-0.953639</td>\n",
       "      <td>NaN</td>\n",
       "      <td>NaN</td>\n",
       "      <td>NaN</td>\n",
       "      <td>NaN</td>\n",
       "      <td>NaN</td>\n",
       "      <td>NaN</td>\n",
       "      <td>NaN</td>\n",
       "      <td>NaN</td>\n",
       "      <td>NaN</td>\n",
       "      <td>-0.472966</td>\n",
       "    </tr>\n",
       "    <tr>\n",
       "      <th>2019-09-04</th>\n",
       "      <td>52.097500</td>\n",
       "      <td>52.369999</td>\n",
       "      <td>51.830002</td>\n",
       "      <td>52.297501</td>\n",
       "      <td>-1.457850</td>\n",
       "      <td>-1.003983</td>\n",
       "      <td>NaN</td>\n",
       "      <td>NaN</td>\n",
       "      <td>NaN</td>\n",
       "      <td>NaN</td>\n",
       "      <td>NaN</td>\n",
       "      <td>NaN</td>\n",
       "      <td>NaN</td>\n",
       "      <td>NaN</td>\n",
       "      <td>NaN</td>\n",
       "      <td>-0.661958</td>\n",
       "    </tr>\n",
       "    <tr>\n",
       "      <th>2019-09-05</th>\n",
       "      <td>53.000000</td>\n",
       "      <td>53.492500</td>\n",
       "      <td>52.877499</td>\n",
       "      <td>53.320000</td>\n",
       "      <td>-1.417134</td>\n",
       "      <td>-0.719030</td>\n",
       "      <td>NaN</td>\n",
       "      <td>NaN</td>\n",
       "      <td>NaN</td>\n",
       "      <td>NaN</td>\n",
       "      <td>NaN</td>\n",
       "      <td>NaN</td>\n",
       "      <td>NaN</td>\n",
       "      <td>NaN</td>\n",
       "      <td>NaN</td>\n",
       "      <td>-0.747937</td>\n",
       "    </tr>\n",
       "    <tr>\n",
       "      <th>2019-09-06</th>\n",
       "      <td>53.512501</td>\n",
       "      <td>53.605000</td>\n",
       "      <td>53.127499</td>\n",
       "      <td>53.314999</td>\n",
       "      <td>-1.417333</td>\n",
       "      <td>-0.993479</td>\n",
       "      <td>NaN</td>\n",
       "      <td>NaN</td>\n",
       "      <td>NaN</td>\n",
       "      <td>NaN</td>\n",
       "      <td>NaN</td>\n",
       "      <td>NaN</td>\n",
       "      <td>NaN</td>\n",
       "      <td>NaN</td>\n",
       "      <td>NaN</td>\n",
       "      <td>-0.850950</td>\n",
       "    </tr>\n",
       "    <tr>\n",
       "      <th>2019-09-09</th>\n",
       "      <td>53.709999</td>\n",
       "      <td>54.110001</td>\n",
       "      <td>52.767502</td>\n",
       "      <td>53.542500</td>\n",
       "      <td>-1.408274</td>\n",
       "      <td>-0.514269</td>\n",
       "      <td>NaN</td>\n",
       "      <td>NaN</td>\n",
       "      <td>NaN</td>\n",
       "      <td>NaN</td>\n",
       "      <td>NaN</td>\n",
       "      <td>NaN</td>\n",
       "      <td>NaN</td>\n",
       "      <td>NaN</td>\n",
       "      <td>NaN</td>\n",
       "      <td>-0.829050</td>\n",
       "    </tr>\n",
       "    <tr>\n",
       "      <th>...</th>\n",
       "      <td>...</td>\n",
       "      <td>...</td>\n",
       "      <td>...</td>\n",
       "      <td>...</td>\n",
       "      <td>...</td>\n",
       "      <td>...</td>\n",
       "      <td>...</td>\n",
       "      <td>...</td>\n",
       "      <td>...</td>\n",
       "      <td>...</td>\n",
       "      <td>...</td>\n",
       "      <td>...</td>\n",
       "      <td>...</td>\n",
       "      <td>...</td>\n",
       "      <td>...</td>\n",
       "      <td>...</td>\n",
       "    </tr>\n",
       "    <tr>\n",
       "      <th>2021-01-11</th>\n",
       "      <td>129.190002</td>\n",
       "      <td>130.169998</td>\n",
       "      <td>128.500000</td>\n",
       "      <td>128.979996</td>\n",
       "      <td>1.655583</td>\n",
       "      <td>-0.647730</td>\n",
       "      <td>1.825696</td>\n",
       "      <td>-0.789707</td>\n",
       "      <td>-0.708080</td>\n",
       "      <td>1.662157</td>\n",
       "      <td>-0.520311</td>\n",
       "      <td>-0.690948</td>\n",
       "      <td>1.719548</td>\n",
       "      <td>-0.728229</td>\n",
       "      <td>0.322178</td>\n",
       "      <td>-0.114448</td>\n",
       "    </tr>\n",
       "    <tr>\n",
       "      <th>2021-01-12</th>\n",
       "      <td>128.500000</td>\n",
       "      <td>129.690002</td>\n",
       "      <td>126.860001</td>\n",
       "      <td>128.800003</td>\n",
       "      <td>1.648331</td>\n",
       "      <td>-0.774863</td>\n",
       "      <td>1.827398</td>\n",
       "      <td>-0.816528</td>\n",
       "      <td>-0.730692</td>\n",
       "      <td>1.674985</td>\n",
       "      <td>-0.532443</td>\n",
       "      <td>-0.709602</td>\n",
       "      <td>1.753222</td>\n",
       "      <td>-0.745488</td>\n",
       "      <td>0.268757</td>\n",
       "      <td>-0.175283</td>\n",
       "    </tr>\n",
       "    <tr>\n",
       "      <th>2021-01-13</th>\n",
       "      <td>128.759995</td>\n",
       "      <td>131.449997</td>\n",
       "      <td>128.490005</td>\n",
       "      <td>130.889999</td>\n",
       "      <td>1.732527</td>\n",
       "      <td>-0.824826</td>\n",
       "      <td>1.824442</td>\n",
       "      <td>-0.526279</td>\n",
       "      <td>-0.729423</td>\n",
       "      <td>1.695821</td>\n",
       "      <td>-0.419084</td>\n",
       "      <td>-0.798251</td>\n",
       "      <td>1.787063</td>\n",
       "      <td>-0.592299</td>\n",
       "      <td>0.222543</td>\n",
       "      <td>-0.266129</td>\n",
       "    </tr>\n",
       "    <tr>\n",
       "      <th>2021-01-14</th>\n",
       "      <td>130.800003</td>\n",
       "      <td>131.000000</td>\n",
       "      <td>128.759995</td>\n",
       "      <td>128.910004</td>\n",
       "      <td>1.652763</td>\n",
       "      <td>-0.800932</td>\n",
       "      <td>1.818321</td>\n",
       "      <td>-0.839881</td>\n",
       "      <td>-0.690420</td>\n",
       "      <td>1.714885</td>\n",
       "      <td>-0.554454</td>\n",
       "      <td>-0.913554</td>\n",
       "      <td>1.819977</td>\n",
       "      <td>-0.782329</td>\n",
       "      <td>0.171532</td>\n",
       "      <td>-0.181772</td>\n",
       "    </tr>\n",
       "    <tr>\n",
       "      <th>2021-01-15</th>\n",
       "      <td>128.779999</td>\n",
       "      <td>130.220001</td>\n",
       "      <td>127.000000</td>\n",
       "      <td>127.139999</td>\n",
       "      <td>1.581459</td>\n",
       "      <td>-0.478679</td>\n",
       "      <td>1.803901</td>\n",
       "      <td>-1.103451</td>\n",
       "      <td>-0.594570</td>\n",
       "      <td>1.730726</td>\n",
       "      <td>-0.673353</td>\n",
       "      <td>-1.021100</td>\n",
       "      <td>1.853670</td>\n",
       "      <td>-0.950890</td>\n",
       "      <td>0.106163</td>\n",
       "      <td>-0.093359</td>\n",
       "    </tr>\n",
       "  </tbody>\n",
       "</table>\n",
       "<p>347 rows × 16 columns</p>\n",
       "</div>"
      ],
      "text/plain": [
       "                  Open        High         Low       Close  Adj Close  \\\n",
       "Date                                                                    \n",
       "2019-09-03   51.607498   51.744999   51.055000   51.424999  -1.492593   \n",
       "2019-09-04   52.097500   52.369999   51.830002   52.297501  -1.457850   \n",
       "2019-09-05   53.000000   53.492500   52.877499   53.320000  -1.417134   \n",
       "2019-09-06   53.512501   53.605000   53.127499   53.314999  -1.417333   \n",
       "2019-09-09   53.709999   54.110001   52.767502   53.542500  -1.408274   \n",
       "...                ...         ...         ...         ...        ...   \n",
       "2021-01-11  129.190002  130.169998  128.500000  128.979996   1.655583   \n",
       "2021-01-12  128.500000  129.690002  126.860001  128.800003   1.648331   \n",
       "2021-01-13  128.759995  131.449997  128.490005  130.889999   1.732527   \n",
       "2021-01-14  130.800003  131.000000  128.759995  128.910004   1.652763   \n",
       "2021-01-15  128.779999  130.220001  127.000000  127.139999   1.581459   \n",
       "\n",
       "              Volume    14d ma   14d rsi  14d bbwidth    50d ma   50d rsi  \\\n",
       "Date                                                                        \n",
       "2019-09-03 -0.953639       NaN       NaN          NaN       NaN       NaN   \n",
       "2019-09-04 -1.003983       NaN       NaN          NaN       NaN       NaN   \n",
       "2019-09-05 -0.719030       NaN       NaN          NaN       NaN       NaN   \n",
       "2019-09-06 -0.993479       NaN       NaN          NaN       NaN       NaN   \n",
       "2019-09-09 -0.514269       NaN       NaN          NaN       NaN       NaN   \n",
       "...              ...       ...       ...          ...       ...       ...   \n",
       "2021-01-11 -0.647730  1.825696 -0.789707    -0.708080  1.662157 -0.520311   \n",
       "2021-01-12 -0.774863  1.827398 -0.816528    -0.730692  1.674985 -0.532443   \n",
       "2021-01-13 -0.824826  1.824442 -0.526279    -0.729423  1.695821 -0.419084   \n",
       "2021-01-14 -0.800932  1.818321 -0.839881    -0.690420  1.714885 -0.554454   \n",
       "2021-01-15 -0.478679  1.803901 -1.103451    -0.594570  1.730726 -0.673353   \n",
       "\n",
       "            50d bbwidth   200d ma  200d rsi  200d bbwidth       VIX  \n",
       "Date                                                                 \n",
       "2019-09-03          NaN       NaN       NaN           NaN -0.472966  \n",
       "2019-09-04          NaN       NaN       NaN           NaN -0.661958  \n",
       "2019-09-05          NaN       NaN       NaN           NaN -0.747937  \n",
       "2019-09-06          NaN       NaN       NaN           NaN -0.850950  \n",
       "2019-09-09          NaN       NaN       NaN           NaN -0.829050  \n",
       "...                 ...       ...       ...           ...       ...  \n",
       "2021-01-11    -0.690948  1.719548 -0.728229      0.322178 -0.114448  \n",
       "2021-01-12    -0.709602  1.753222 -0.745488      0.268757 -0.175283  \n",
       "2021-01-13    -0.798251  1.787063 -0.592299      0.222543 -0.266129  \n",
       "2021-01-14    -0.913554  1.819977 -0.782329      0.171532 -0.181772  \n",
       "2021-01-15    -1.021100  1.853670 -0.950890      0.106163 -0.093359  \n",
       "\n",
       "[347 rows x 16 columns]"
      ]
     },
     "execution_count": 6,
     "metadata": {},
     "output_type": "execute_result"
    }
   ],
   "source": [
    "df"
   ]
  },
  {
   "cell_type": "code",
   "execution_count": 2,
   "id": "c74e1077",
   "metadata": {
    "ExecuteTime": {
     "end_time": "2022-01-16T11:54:53.508589Z",
     "start_time": "2022-01-16T11:54:52.972441Z"
    }
   },
   "outputs": [
    {
     "name": "stdout",
     "output_type": "stream",
     "text": [
      "[*********************100%***********************]  1 of 1 completed\n"
     ]
    }
   ],
   "source": [
    "df = data._get_dataframe('AAPL', start=\"2017-01-01\", end=\"2022-01-01\")"
   ]
  },
  {
   "cell_type": "code",
   "execution_count": 3,
   "id": "40362164",
   "metadata": {
    "ExecuteTime": {
     "end_time": "2022-01-16T11:54:53.575195Z",
     "start_time": "2022-01-16T11:54:53.512606Z"
    }
   },
   "outputs": [],
   "source": [
    "prep = PreProc.preproc(df)"
   ]
  },
  {
   "cell_type": "code",
   "execution_count": 4,
   "id": "9aded855",
   "metadata": {
    "ExecuteTime": {
     "end_time": "2022-01-16T11:54:54.139550Z",
     "start_time": "2022-01-16T11:54:53.610385Z"
    }
   },
   "outputs": [
    {
     "name": "stdout",
     "output_type": "stream",
     "text": [
      "[*********************100%***********************]  1 of 1 completed\n"
     ]
    }
   ],
   "source": [
    "info = prep.lstm_main(op='train')"
   ]
  },
  {
   "cell_type": "code",
   "execution_count": 5,
   "id": "701baaa5",
   "metadata": {
    "ExecuteTime": {
     "end_time": "2022-01-16T11:54:58.934868Z",
     "start_time": "2022-01-16T11:54:58.887803Z"
    }
   },
   "outputs": [],
   "source": [
    "model = Lstm.lstm(info)"
   ]
  },
  {
   "cell_type": "code",
   "execution_count": 6,
   "id": "7ee41ee0",
   "metadata": {
    "ExecuteTime": {
     "end_time": "2022-01-16T11:55:01.079271Z",
     "start_time": "2022-01-16T11:55:01.000224Z"
    }
   },
   "outputs": [
    {
     "name": "stderr",
     "output_type": "stream",
     "text": [
      "2022-01-16 19:55:01.052742: I tensorflow/core/platform/cpu_feature_guard.cc:151] This TensorFlow binary is optimized with oneAPI Deep Neural Network Library (oneDNN) to use the following CPU instructions in performance-critical operations:  AVX2 FMA\n",
      "To enable them in other operations, rebuild TensorFlow with the appropriate compiler flags.\n"
     ]
    },
    {
     "data": {
      "text/plain": [
       "<keras.engine.sequential.Sequential at 0x14a4c2400>"
      ]
     },
     "execution_count": 6,
     "metadata": {},
     "output_type": "execute_result"
    }
   ],
   "source": [
    "model.initialize()"
   ]
  },
  {
   "cell_type": "code",
   "execution_count": 7,
   "id": "cfd2c39d",
   "metadata": {
    "ExecuteTime": {
     "end_time": "2022-01-16T11:55:04.411089Z",
     "start_time": "2022-01-16T11:55:04.350207Z"
    }
   },
   "outputs": [
    {
     "data": {
      "text/plain": [
       "<keras.engine.sequential.Sequential at 0x14a4c2400>"
      ]
     },
     "execution_count": 7,
     "metadata": {},
     "output_type": "execute_result"
    }
   ],
   "source": [
    "model.compile()"
   ]
  },
  {
   "cell_type": "code",
   "execution_count": 8,
   "id": "a80da225",
   "metadata": {
    "ExecuteTime": {
     "end_time": "2022-01-16T11:55:30.016569Z",
     "start_time": "2022-01-16T11:55:12.100723Z"
    },
    "collapsed": true
   },
   "outputs": [
    {
     "name": "stdout",
     "output_type": "stream",
     "text": [
      "Epoch 1/20\n",
      "266/268 [============================>.] - ETA: 0s - loss: 741.7980 - mae: 22.5102WARNING:tensorflow:Early stopping conditioned on metric `val_loss` which is not available. Available metrics are: loss,mae\n",
      "268/268 [==============================] - 10s 20ms/step - loss: 737.7872 - mae: 22.4109\n",
      "Epoch 2/20\n",
      "268/268 [==============================] - ETA: 0s - loss: 77.2219 - mae: 6.6596WARNING:tensorflow:Early stopping conditioned on metric `val_loss` which is not available. Available metrics are: loss,mae\n",
      "268/268 [==============================] - 7s 27ms/step - loss: 77.2219 - mae: 6.6596\n",
      "Epoch 3/20\n",
      " 14/268 [>.............................] - ETA: 7s - loss: 98.3911 - mae: 7.2696"
     ]
    },
    {
     "ename": "KeyboardInterrupt",
     "evalue": "",
     "output_type": "error",
     "traceback": [
      "\u001b[0;31m---------------------------------------------------------------------------\u001b[0m",
      "\u001b[0;31mKeyboardInterrupt\u001b[0m                         Traceback (most recent call last)",
      "\u001b[0;32m/var/folders/bn/0j_20fj56f9756v0cmcxf0dh0000gn/T/ipykernel_6480/3552846180.py\u001b[0m in \u001b[0;36m<module>\u001b[0;34m\u001b[0m\n\u001b[0;32m----> 1\u001b[0;31m \u001b[0mmodel\u001b[0m\u001b[0;34m.\u001b[0m\u001b[0mfit\u001b[0m\u001b[0;34m(\u001b[0m\u001b[0;34m)\u001b[0m\u001b[0;34m\u001b[0m\u001b[0;34m\u001b[0m\u001b[0m\n\u001b[0m",
      "\u001b[0;32m~/.pyenv/versions/3.8.6/envs/iOracle/lib/python3.8/site-packages/iOracle/lstm.py\u001b[0m in \u001b[0;36mfit\u001b[0;34m(self)\u001b[0m\n\u001b[1;32m     48\u001b[0m                         validation_data=(self.X_val, self.y_val), epochs= 20)\n\u001b[1;32m     49\u001b[0m         \u001b[0;32melse\u001b[0m\u001b[0;34m:\u001b[0m\u001b[0;34m\u001b[0m\u001b[0;34m\u001b[0m\u001b[0m\n\u001b[0;32m---> 50\u001b[0;31m             self.history = self.model.fit(self.X_train, self.y_train,\n\u001b[0m\u001b[1;32m     51\u001b[0m                         batch_size=2, verbose=1, callbacks=self.es, epochs= 20)\n\u001b[1;32m     52\u001b[0m         \u001b[0;32mreturn\u001b[0m \u001b[0mself\u001b[0m\u001b[0;34m.\u001b[0m\u001b[0mmodel\u001b[0m\u001b[0;34m,\u001b[0m \u001b[0mself\u001b[0m\u001b[0;34m.\u001b[0m\u001b[0mhistory\u001b[0m\u001b[0;34m\u001b[0m\u001b[0;34m\u001b[0m\u001b[0m\n",
      "\u001b[0;32m~/.pyenv/versions/3.8.6/envs/iOracle/lib/python3.8/site-packages/keras/utils/traceback_utils.py\u001b[0m in \u001b[0;36merror_handler\u001b[0;34m(*args, **kwargs)\u001b[0m\n\u001b[1;32m     62\u001b[0m     \u001b[0mfiltered_tb\u001b[0m \u001b[0;34m=\u001b[0m \u001b[0;32mNone\u001b[0m\u001b[0;34m\u001b[0m\u001b[0;34m\u001b[0m\u001b[0m\n\u001b[1;32m     63\u001b[0m     \u001b[0;32mtry\u001b[0m\u001b[0;34m:\u001b[0m\u001b[0;34m\u001b[0m\u001b[0;34m\u001b[0m\u001b[0m\n\u001b[0;32m---> 64\u001b[0;31m       \u001b[0;32mreturn\u001b[0m \u001b[0mfn\u001b[0m\u001b[0;34m(\u001b[0m\u001b[0;34m*\u001b[0m\u001b[0margs\u001b[0m\u001b[0;34m,\u001b[0m \u001b[0;34m**\u001b[0m\u001b[0mkwargs\u001b[0m\u001b[0;34m)\u001b[0m\u001b[0;34m\u001b[0m\u001b[0;34m\u001b[0m\u001b[0m\n\u001b[0m\u001b[1;32m     65\u001b[0m     \u001b[0;32mexcept\u001b[0m \u001b[0mException\u001b[0m \u001b[0;32mas\u001b[0m \u001b[0me\u001b[0m\u001b[0;34m:\u001b[0m  \u001b[0;31m# pylint: disable=broad-except\u001b[0m\u001b[0;34m\u001b[0m\u001b[0;34m\u001b[0m\u001b[0m\n\u001b[1;32m     66\u001b[0m       \u001b[0mfiltered_tb\u001b[0m \u001b[0;34m=\u001b[0m \u001b[0m_process_traceback_frames\u001b[0m\u001b[0;34m(\u001b[0m\u001b[0me\u001b[0m\u001b[0;34m.\u001b[0m\u001b[0m__traceback__\u001b[0m\u001b[0;34m)\u001b[0m\u001b[0;34m\u001b[0m\u001b[0;34m\u001b[0m\u001b[0m\n",
      "\u001b[0;32m~/.pyenv/versions/3.8.6/envs/iOracle/lib/python3.8/site-packages/keras/engine/training.py\u001b[0m in \u001b[0;36mfit\u001b[0;34m(self, x, y, batch_size, epochs, verbose, callbacks, validation_split, validation_data, shuffle, class_weight, sample_weight, initial_epoch, steps_per_epoch, validation_steps, validation_batch_size, validation_freq, max_queue_size, workers, use_multiprocessing)\u001b[0m\n\u001b[1;32m   1214\u001b[0m                 _r=1):\n\u001b[1;32m   1215\u001b[0m               \u001b[0mcallbacks\u001b[0m\u001b[0;34m.\u001b[0m\u001b[0mon_train_batch_begin\u001b[0m\u001b[0;34m(\u001b[0m\u001b[0mstep\u001b[0m\u001b[0;34m)\u001b[0m\u001b[0;34m\u001b[0m\u001b[0;34m\u001b[0m\u001b[0m\n\u001b[0;32m-> 1216\u001b[0;31m               \u001b[0mtmp_logs\u001b[0m \u001b[0;34m=\u001b[0m \u001b[0mself\u001b[0m\u001b[0;34m.\u001b[0m\u001b[0mtrain_function\u001b[0m\u001b[0;34m(\u001b[0m\u001b[0miterator\u001b[0m\u001b[0;34m)\u001b[0m\u001b[0;34m\u001b[0m\u001b[0;34m\u001b[0m\u001b[0m\n\u001b[0m\u001b[1;32m   1217\u001b[0m               \u001b[0;32mif\u001b[0m \u001b[0mdata_handler\u001b[0m\u001b[0;34m.\u001b[0m\u001b[0mshould_sync\u001b[0m\u001b[0;34m:\u001b[0m\u001b[0;34m\u001b[0m\u001b[0;34m\u001b[0m\u001b[0m\n\u001b[1;32m   1218\u001b[0m                 \u001b[0mcontext\u001b[0m\u001b[0;34m.\u001b[0m\u001b[0masync_wait\u001b[0m\u001b[0;34m(\u001b[0m\u001b[0;34m)\u001b[0m\u001b[0;34m\u001b[0m\u001b[0;34m\u001b[0m\u001b[0m\n",
      "\u001b[0;32m~/.pyenv/versions/3.8.6/envs/iOracle/lib/python3.8/site-packages/tensorflow/python/util/traceback_utils.py\u001b[0m in \u001b[0;36merror_handler\u001b[0;34m(*args, **kwargs)\u001b[0m\n\u001b[1;32m    148\u001b[0m     \u001b[0mfiltered_tb\u001b[0m \u001b[0;34m=\u001b[0m \u001b[0;32mNone\u001b[0m\u001b[0;34m\u001b[0m\u001b[0;34m\u001b[0m\u001b[0m\n\u001b[1;32m    149\u001b[0m     \u001b[0;32mtry\u001b[0m\u001b[0;34m:\u001b[0m\u001b[0;34m\u001b[0m\u001b[0;34m\u001b[0m\u001b[0m\n\u001b[0;32m--> 150\u001b[0;31m       \u001b[0;32mreturn\u001b[0m \u001b[0mfn\u001b[0m\u001b[0;34m(\u001b[0m\u001b[0;34m*\u001b[0m\u001b[0margs\u001b[0m\u001b[0;34m,\u001b[0m \u001b[0;34m**\u001b[0m\u001b[0mkwargs\u001b[0m\u001b[0;34m)\u001b[0m\u001b[0;34m\u001b[0m\u001b[0;34m\u001b[0m\u001b[0m\n\u001b[0m\u001b[1;32m    151\u001b[0m     \u001b[0;32mexcept\u001b[0m \u001b[0mException\u001b[0m \u001b[0;32mas\u001b[0m \u001b[0me\u001b[0m\u001b[0;34m:\u001b[0m\u001b[0;34m\u001b[0m\u001b[0;34m\u001b[0m\u001b[0m\n\u001b[1;32m    152\u001b[0m       \u001b[0mfiltered_tb\u001b[0m \u001b[0;34m=\u001b[0m \u001b[0m_process_traceback_frames\u001b[0m\u001b[0;34m(\u001b[0m\u001b[0me\u001b[0m\u001b[0;34m.\u001b[0m\u001b[0m__traceback__\u001b[0m\u001b[0;34m)\u001b[0m\u001b[0;34m\u001b[0m\u001b[0;34m\u001b[0m\u001b[0m\n",
      "\u001b[0;32m~/.pyenv/versions/3.8.6/envs/iOracle/lib/python3.8/site-packages/tensorflow/python/eager/def_function.py\u001b[0m in \u001b[0;36m__call__\u001b[0;34m(self, *args, **kwds)\u001b[0m\n\u001b[1;32m    908\u001b[0m \u001b[0;34m\u001b[0m\u001b[0m\n\u001b[1;32m    909\u001b[0m       \u001b[0;32mwith\u001b[0m \u001b[0mOptionalXlaContext\u001b[0m\u001b[0;34m(\u001b[0m\u001b[0mself\u001b[0m\u001b[0;34m.\u001b[0m\u001b[0m_jit_compile\u001b[0m\u001b[0;34m)\u001b[0m\u001b[0;34m:\u001b[0m\u001b[0;34m\u001b[0m\u001b[0;34m\u001b[0m\u001b[0m\n\u001b[0;32m--> 910\u001b[0;31m         \u001b[0mresult\u001b[0m \u001b[0;34m=\u001b[0m \u001b[0mself\u001b[0m\u001b[0;34m.\u001b[0m\u001b[0m_call\u001b[0m\u001b[0;34m(\u001b[0m\u001b[0;34m*\u001b[0m\u001b[0margs\u001b[0m\u001b[0;34m,\u001b[0m \u001b[0;34m**\u001b[0m\u001b[0mkwds\u001b[0m\u001b[0;34m)\u001b[0m\u001b[0;34m\u001b[0m\u001b[0;34m\u001b[0m\u001b[0m\n\u001b[0m\u001b[1;32m    911\u001b[0m \u001b[0;34m\u001b[0m\u001b[0m\n\u001b[1;32m    912\u001b[0m       \u001b[0mnew_tracing_count\u001b[0m \u001b[0;34m=\u001b[0m \u001b[0mself\u001b[0m\u001b[0;34m.\u001b[0m\u001b[0mexperimental_get_tracing_count\u001b[0m\u001b[0;34m(\u001b[0m\u001b[0;34m)\u001b[0m\u001b[0;34m\u001b[0m\u001b[0;34m\u001b[0m\u001b[0m\n",
      "\u001b[0;32m~/.pyenv/versions/3.8.6/envs/iOracle/lib/python3.8/site-packages/tensorflow/python/eager/def_function.py\u001b[0m in \u001b[0;36m_call\u001b[0;34m(self, *args, **kwds)\u001b[0m\n\u001b[1;32m    940\u001b[0m       \u001b[0;31m# In this case we have created variables on the first call, so we run the\u001b[0m\u001b[0;34m\u001b[0m\u001b[0;34m\u001b[0m\u001b[0;34m\u001b[0m\u001b[0m\n\u001b[1;32m    941\u001b[0m       \u001b[0;31m# defunned version which is guaranteed to never create variables.\u001b[0m\u001b[0;34m\u001b[0m\u001b[0;34m\u001b[0m\u001b[0;34m\u001b[0m\u001b[0m\n\u001b[0;32m--> 942\u001b[0;31m       \u001b[0;32mreturn\u001b[0m \u001b[0mself\u001b[0m\u001b[0;34m.\u001b[0m\u001b[0m_stateless_fn\u001b[0m\u001b[0;34m(\u001b[0m\u001b[0;34m*\u001b[0m\u001b[0margs\u001b[0m\u001b[0;34m,\u001b[0m \u001b[0;34m**\u001b[0m\u001b[0mkwds\u001b[0m\u001b[0;34m)\u001b[0m  \u001b[0;31m# pylint: disable=not-callable\u001b[0m\u001b[0;34m\u001b[0m\u001b[0;34m\u001b[0m\u001b[0m\n\u001b[0m\u001b[1;32m    943\u001b[0m     \u001b[0;32melif\u001b[0m \u001b[0mself\u001b[0m\u001b[0;34m.\u001b[0m\u001b[0m_stateful_fn\u001b[0m \u001b[0;32mis\u001b[0m \u001b[0;32mnot\u001b[0m \u001b[0;32mNone\u001b[0m\u001b[0;34m:\u001b[0m\u001b[0;34m\u001b[0m\u001b[0;34m\u001b[0m\u001b[0m\n\u001b[1;32m    944\u001b[0m       \u001b[0;31m# Release the lock early so that multiple threads can perform the call\u001b[0m\u001b[0;34m\u001b[0m\u001b[0;34m\u001b[0m\u001b[0;34m\u001b[0m\u001b[0m\n",
      "\u001b[0;32m~/.pyenv/versions/3.8.6/envs/iOracle/lib/python3.8/site-packages/tensorflow/python/eager/function.py\u001b[0m in \u001b[0;36m__call__\u001b[0;34m(self, *args, **kwargs)\u001b[0m\n\u001b[1;32m   3128\u001b[0m       (graph_function,\n\u001b[1;32m   3129\u001b[0m        filtered_flat_args) = self._maybe_define_function(args, kwargs)\n\u001b[0;32m-> 3130\u001b[0;31m     return graph_function._call_flat(\n\u001b[0m\u001b[1;32m   3131\u001b[0m         filtered_flat_args, captured_inputs=graph_function.captured_inputs)  # pylint: disable=protected-access\n\u001b[1;32m   3132\u001b[0m \u001b[0;34m\u001b[0m\u001b[0m\n",
      "\u001b[0;32m~/.pyenv/versions/3.8.6/envs/iOracle/lib/python3.8/site-packages/tensorflow/python/eager/function.py\u001b[0m in \u001b[0;36m_call_flat\u001b[0;34m(self, args, captured_inputs, cancellation_manager)\u001b[0m\n\u001b[1;32m   1957\u001b[0m         and executing_eagerly):\n\u001b[1;32m   1958\u001b[0m       \u001b[0;31m# No tape is watching; skip to running the function.\u001b[0m\u001b[0;34m\u001b[0m\u001b[0;34m\u001b[0m\u001b[0;34m\u001b[0m\u001b[0m\n\u001b[0;32m-> 1959\u001b[0;31m       return self._build_call_outputs(self._inference_function.call(\n\u001b[0m\u001b[1;32m   1960\u001b[0m           ctx, args, cancellation_manager=cancellation_manager))\n\u001b[1;32m   1961\u001b[0m     forward_backward = self._select_forward_and_backward_functions(\n",
      "\u001b[0;32m~/.pyenv/versions/3.8.6/envs/iOracle/lib/python3.8/site-packages/tensorflow/python/eager/function.py\u001b[0m in \u001b[0;36mcall\u001b[0;34m(self, ctx, args, cancellation_manager)\u001b[0m\n\u001b[1;32m    596\u001b[0m       \u001b[0;32mwith\u001b[0m \u001b[0m_InterpolateFunctionError\u001b[0m\u001b[0;34m(\u001b[0m\u001b[0mself\u001b[0m\u001b[0;34m)\u001b[0m\u001b[0;34m:\u001b[0m\u001b[0;34m\u001b[0m\u001b[0;34m\u001b[0m\u001b[0m\n\u001b[1;32m    597\u001b[0m         \u001b[0;32mif\u001b[0m \u001b[0mcancellation_manager\u001b[0m \u001b[0;32mis\u001b[0m \u001b[0;32mNone\u001b[0m\u001b[0;34m:\u001b[0m\u001b[0;34m\u001b[0m\u001b[0;34m\u001b[0m\u001b[0m\n\u001b[0;32m--> 598\u001b[0;31m           outputs = execute.execute(\n\u001b[0m\u001b[1;32m    599\u001b[0m               \u001b[0mstr\u001b[0m\u001b[0;34m(\u001b[0m\u001b[0mself\u001b[0m\u001b[0;34m.\u001b[0m\u001b[0msignature\u001b[0m\u001b[0;34m.\u001b[0m\u001b[0mname\u001b[0m\u001b[0;34m)\u001b[0m\u001b[0;34m,\u001b[0m\u001b[0;34m\u001b[0m\u001b[0;34m\u001b[0m\u001b[0m\n\u001b[1;32m    600\u001b[0m               \u001b[0mnum_outputs\u001b[0m\u001b[0;34m=\u001b[0m\u001b[0mself\u001b[0m\u001b[0;34m.\u001b[0m\u001b[0m_num_outputs\u001b[0m\u001b[0;34m,\u001b[0m\u001b[0;34m\u001b[0m\u001b[0;34m\u001b[0m\u001b[0m\n",
      "\u001b[0;32m~/.pyenv/versions/3.8.6/envs/iOracle/lib/python3.8/site-packages/tensorflow/python/eager/execute.py\u001b[0m in \u001b[0;36mquick_execute\u001b[0;34m(op_name, num_outputs, inputs, attrs, ctx, name)\u001b[0m\n\u001b[1;32m     56\u001b[0m   \u001b[0;32mtry\u001b[0m\u001b[0;34m:\u001b[0m\u001b[0;34m\u001b[0m\u001b[0;34m\u001b[0m\u001b[0m\n\u001b[1;32m     57\u001b[0m     \u001b[0mctx\u001b[0m\u001b[0;34m.\u001b[0m\u001b[0mensure_initialized\u001b[0m\u001b[0;34m(\u001b[0m\u001b[0;34m)\u001b[0m\u001b[0;34m\u001b[0m\u001b[0;34m\u001b[0m\u001b[0m\n\u001b[0;32m---> 58\u001b[0;31m     tensors = pywrap_tfe.TFE_Py_Execute(ctx._handle, device_name, op_name,\n\u001b[0m\u001b[1;32m     59\u001b[0m                                         inputs, attrs, num_outputs)\n\u001b[1;32m     60\u001b[0m   \u001b[0;32mexcept\u001b[0m \u001b[0mcore\u001b[0m\u001b[0;34m.\u001b[0m\u001b[0m_NotOkStatusException\u001b[0m \u001b[0;32mas\u001b[0m \u001b[0me\u001b[0m\u001b[0;34m:\u001b[0m\u001b[0;34m\u001b[0m\u001b[0;34m\u001b[0m\u001b[0m\n",
      "\u001b[0;31mKeyboardInterrupt\u001b[0m: "
     ]
    }
   ],
   "source": [
    "model.fit()"
   ]
  },
  {
   "cell_type": "code",
   "execution_count": 7,
   "id": "38fd339f",
   "metadata": {
    "ExecuteTime": {
     "end_time": "2022-01-16T11:24:27.860921Z",
     "start_time": "2022-01-16T11:24:27.432233Z"
    }
   },
   "outputs": [
    {
     "name": "stdout",
     "output_type": "stream",
     "text": [
      "[*********************100%***********************]  1 of 1 completed\n"
     ]
    }
   ],
   "source": [
    "prep.add_features()\n",
    "prep.add_target()\n",
    "prep.scale_features()"
   ]
  },
  {
   "cell_type": "code",
   "execution_count": 8,
   "id": "2f08bd4c",
   "metadata": {
    "ExecuteTime": {
     "end_time": "2022-01-16T11:24:35.812109Z",
     "start_time": "2022-01-16T11:24:35.753696Z"
    },
    "collapsed": true
   },
   "outputs": [
    {
     "data": {
      "text/html": [
       "<div>\n",
       "<style scoped>\n",
       "    .dataframe tbody tr th:only-of-type {\n",
       "        vertical-align: middle;\n",
       "    }\n",
       "\n",
       "    .dataframe tbody tr th {\n",
       "        vertical-align: top;\n",
       "    }\n",
       "\n",
       "    .dataframe thead th {\n",
       "        text-align: right;\n",
       "    }\n",
       "</style>\n",
       "<table border=\"1\" class=\"dataframe\">\n",
       "  <thead>\n",
       "    <tr style=\"text-align: right;\">\n",
       "      <th></th>\n",
       "      <th>Adj Close</th>\n",
       "      <th>Volume</th>\n",
       "      <th>14d ma</th>\n",
       "      <th>14d rsi</th>\n",
       "      <th>14d bbwidth</th>\n",
       "      <th>50d ma</th>\n",
       "      <th>50d rsi</th>\n",
       "      <th>50d bbwidth</th>\n",
       "      <th>200d ma</th>\n",
       "      <th>200d rsi</th>\n",
       "      <th>200d bbwidth</th>\n",
       "      <th>VIX</th>\n",
       "      <th>5d_future_close</th>\n",
       "    </tr>\n",
       "    <tr>\n",
       "      <th>Date</th>\n",
       "      <th></th>\n",
       "      <th></th>\n",
       "      <th></th>\n",
       "      <th></th>\n",
       "      <th></th>\n",
       "      <th></th>\n",
       "      <th></th>\n",
       "      <th></th>\n",
       "      <th></th>\n",
       "      <th></th>\n",
       "      <th></th>\n",
       "      <th></th>\n",
       "      <th></th>\n",
       "    </tr>\n",
       "  </thead>\n",
       "  <tbody>\n",
       "    <tr>\n",
       "      <th>2017-10-17</th>\n",
       "      <td>-1.044393</td>\n",
       "      <td>-0.831133</td>\n",
       "      <td>NaN</td>\n",
       "      <td>NaN</td>\n",
       "      <td>NaN</td>\n",
       "      <td>NaN</td>\n",
       "      <td>NaN</td>\n",
       "      <td>NaN</td>\n",
       "      <td>NaN</td>\n",
       "      <td>NaN</td>\n",
       "      <td>NaN</td>\n",
       "      <td>-1.058284</td>\n",
       "      <td>-1.064273</td>\n",
       "    </tr>\n",
       "    <tr>\n",
       "      <th>2017-10-18</th>\n",
       "      <td>-1.048582</td>\n",
       "      <td>-1.013952</td>\n",
       "      <td>NaN</td>\n",
       "      <td>NaN</td>\n",
       "      <td>NaN</td>\n",
       "      <td>NaN</td>\n",
       "      <td>NaN</td>\n",
       "      <td>NaN</td>\n",
       "      <td>NaN</td>\n",
       "      <td>NaN</td>\n",
       "      <td>NaN</td>\n",
       "      <td>-1.085115</td>\n",
       "      <td>-1.068344</td>\n",
       "    </tr>\n",
       "    <tr>\n",
       "      <th>2017-10-19</th>\n",
       "      <td>-1.070881</td>\n",
       "      <td>0.812776</td>\n",
       "      <td>NaN</td>\n",
       "      <td>NaN</td>\n",
       "      <td>NaN</td>\n",
       "      <td>NaN</td>\n",
       "      <td>NaN</td>\n",
       "      <td>NaN</td>\n",
       "      <td>NaN</td>\n",
       "      <td>NaN</td>\n",
       "      <td>NaN</td>\n",
       "      <td>-1.087351</td>\n",
       "      <td>-1.062445</td>\n",
       "    </tr>\n",
       "    <tr>\n",
       "      <th>2017-10-20</th>\n",
       "      <td>-1.069288</td>\n",
       "      <td>-0.484270</td>\n",
       "      <td>NaN</td>\n",
       "      <td>NaN</td>\n",
       "      <td>NaN</td>\n",
       "      <td>NaN</td>\n",
       "      <td>NaN</td>\n",
       "      <td>NaN</td>\n",
       "      <td>NaN</td>\n",
       "      <td>NaN</td>\n",
       "      <td>NaN</td>\n",
       "      <td>-1.096294</td>\n",
       "      <td>-1.029174</td>\n",
       "    </tr>\n",
       "    <tr>\n",
       "      <th>2017-10-23</th>\n",
       "      <td>-1.069760</td>\n",
       "      <td>-0.622951</td>\n",
       "      <td>NaN</td>\n",
       "      <td>NaN</td>\n",
       "      <td>NaN</td>\n",
       "      <td>NaN</td>\n",
       "      <td>NaN</td>\n",
       "      <td>NaN</td>\n",
       "      <td>NaN</td>\n",
       "      <td>NaN</td>\n",
       "      <td>NaN</td>\n",
       "      <td>-0.973319</td>\n",
       "      <td>-1.007524</td>\n",
       "    </tr>\n",
       "    <tr>\n",
       "      <th>...</th>\n",
       "      <td>...</td>\n",
       "      <td>...</td>\n",
       "      <td>...</td>\n",
       "      <td>...</td>\n",
       "      <td>...</td>\n",
       "      <td>...</td>\n",
       "      <td>...</td>\n",
       "      <td>...</td>\n",
       "      <td>...</td>\n",
       "      <td>...</td>\n",
       "      <td>...</td>\n",
       "      <td>...</td>\n",
       "      <td>...</td>\n",
       "    </tr>\n",
       "    <tr>\n",
       "      <th>2021-12-17</th>\n",
       "      <td>2.246467</td>\n",
       "      <td>1.250046</td>\n",
       "      <td>2.287991</td>\n",
       "      <td>0.041669</td>\n",
       "      <td>0.174678</td>\n",
       "      <td>2.006004</td>\n",
       "      <td>0.619742</td>\n",
       "      <td>0.076683</td>\n",
       "      <td>1.912604</td>\n",
       "      <td>0.596950</td>\n",
       "      <td>0.038872</td>\n",
       "      <td>0.200540</td>\n",
       "      <td>NaN</td>\n",
       "    </tr>\n",
       "    <tr>\n",
       "      <th>2021-12-20</th>\n",
       "      <td>2.212050</td>\n",
       "      <td>-0.282105</td>\n",
       "      <td>2.295990</td>\n",
       "      <td>-0.126199</td>\n",
       "      <td>0.169084</td>\n",
       "      <td>2.020120</td>\n",
       "      <td>0.490388</td>\n",
       "      <td>0.076390</td>\n",
       "      <td>1.920633</td>\n",
       "      <td>0.524013</td>\n",
       "      <td>0.038824</td>\n",
       "      <td>0.345875</td>\n",
       "      <td>NaN</td>\n",
       "    </tr>\n",
       "    <tr>\n",
       "      <th>2021-12-21</th>\n",
       "      <td>2.292274</td>\n",
       "      <td>-0.566346</td>\n",
       "      <td>2.310767</td>\n",
       "      <td>0.169841</td>\n",
       "      <td>0.160839</td>\n",
       "      <td>2.035973</td>\n",
       "      <td>0.696225</td>\n",
       "      <td>0.076245</td>\n",
       "      <td>1.928444</td>\n",
       "      <td>0.653668</td>\n",
       "      <td>0.038884</td>\n",
       "      <td>0.137934</td>\n",
       "      <td>NaN</td>\n",
       "    </tr>\n",
       "    <tr>\n",
       "      <th>2021-12-22</th>\n",
       "      <td>2.357889</td>\n",
       "      <td>-0.549804</td>\n",
       "      <td>2.332124</td>\n",
       "      <td>0.391886</td>\n",
       "      <td>0.148712</td>\n",
       "      <td>2.053886</td>\n",
       "      <td>0.857856</td>\n",
       "      <td>0.076089</td>\n",
       "      <td>1.936813</td>\n",
       "      <td>0.758365</td>\n",
       "      <td>0.038963</td>\n",
       "      <td>-0.128141</td>\n",
       "      <td>NaN</td>\n",
       "    </tr>\n",
       "    <tr>\n",
       "      <th>2021-12-23</th>\n",
       "      <td>2.373736</td>\n",
       "      <td>-0.964123</td>\n",
       "      <td>2.358082</td>\n",
       "      <td>0.444668</td>\n",
       "      <td>0.122504</td>\n",
       "      <td>2.072445</td>\n",
       "      <td>0.896361</td>\n",
       "      <td>0.075791</td>\n",
       "      <td>1.944985</td>\n",
       "      <td>0.783526</td>\n",
       "      <td>0.039069</td>\n",
       "      <td>-0.203044</td>\n",
       "      <td>NaN</td>\n",
       "    </tr>\n",
       "  </tbody>\n",
       "</table>\n",
       "<p>1055 rows × 13 columns</p>\n",
       "</div>"
      ],
      "text/plain": [
       "            Adj Close    Volume    14d ma   14d rsi  14d bbwidth    50d ma  \\\n",
       "Date                                                                         \n",
       "2017-10-17  -1.044393 -0.831133       NaN       NaN          NaN       NaN   \n",
       "2017-10-18  -1.048582 -1.013952       NaN       NaN          NaN       NaN   \n",
       "2017-10-19  -1.070881  0.812776       NaN       NaN          NaN       NaN   \n",
       "2017-10-20  -1.069288 -0.484270       NaN       NaN          NaN       NaN   \n",
       "2017-10-23  -1.069760 -0.622951       NaN       NaN          NaN       NaN   \n",
       "...               ...       ...       ...       ...          ...       ...   \n",
       "2021-12-17   2.246467  1.250046  2.287991  0.041669     0.174678  2.006004   \n",
       "2021-12-20   2.212050 -0.282105  2.295990 -0.126199     0.169084  2.020120   \n",
       "2021-12-21   2.292274 -0.566346  2.310767  0.169841     0.160839  2.035973   \n",
       "2021-12-22   2.357889 -0.549804  2.332124  0.391886     0.148712  2.053886   \n",
       "2021-12-23   2.373736 -0.964123  2.358082  0.444668     0.122504  2.072445   \n",
       "\n",
       "             50d rsi  50d bbwidth   200d ma  200d rsi  200d bbwidth       VIX  \\\n",
       "Date                                                                            \n",
       "2017-10-17       NaN          NaN       NaN       NaN           NaN -1.058284   \n",
       "2017-10-18       NaN          NaN       NaN       NaN           NaN -1.085115   \n",
       "2017-10-19       NaN          NaN       NaN       NaN           NaN -1.087351   \n",
       "2017-10-20       NaN          NaN       NaN       NaN           NaN -1.096294   \n",
       "2017-10-23       NaN          NaN       NaN       NaN           NaN -0.973319   \n",
       "...              ...          ...       ...       ...           ...       ...   \n",
       "2021-12-17  0.619742     0.076683  1.912604  0.596950      0.038872  0.200540   \n",
       "2021-12-20  0.490388     0.076390  1.920633  0.524013      0.038824  0.345875   \n",
       "2021-12-21  0.696225     0.076245  1.928444  0.653668      0.038884  0.137934   \n",
       "2021-12-22  0.857856     0.076089  1.936813  0.758365      0.038963 -0.128141   \n",
       "2021-12-23  0.896361     0.075791  1.944985  0.783526      0.039069 -0.203044   \n",
       "\n",
       "            5d_future_close  \n",
       "Date                         \n",
       "2017-10-17        -1.064273  \n",
       "2017-10-18        -1.068344  \n",
       "2017-10-19        -1.062445  \n",
       "2017-10-20        -1.029174  \n",
       "2017-10-23        -1.007524  \n",
       "...                     ...  \n",
       "2021-12-17              NaN  \n",
       "2021-12-20              NaN  \n",
       "2021-12-21              NaN  \n",
       "2021-12-22              NaN  \n",
       "2021-12-23              NaN  \n",
       "\n",
       "[1055 rows x 13 columns]"
      ]
     },
     "execution_count": 8,
     "metadata": {},
     "output_type": "execute_result"
    }
   ],
   "source": [
    "prep.df"
   ]
  },
  {
   "cell_type": "code",
   "execution_count": 28,
   "id": "1c91033b",
   "metadata": {
    "ExecuteTime": {
     "end_time": "2022-01-16T10:50:10.705512Z",
     "start_time": "2022-01-16T10:50:10.675209Z"
    },
    "collapsed": true
   },
   "outputs": [
    {
     "name": "stdout",
     "output_type": "stream",
     "text": [
      "<class 'pandas.core.frame.DataFrame'>\n",
      "DatetimeIndex: 1259 entries, 2017-01-03 to 2021-12-31\n",
      "Data columns (total 17 columns):\n",
      " #   Column           Non-Null Count  Dtype  \n",
      "---  ------           --------------  -----  \n",
      " 0   Open             1259 non-null   float64\n",
      " 1   High             1259 non-null   float64\n",
      " 2   Low              1259 non-null   float64\n",
      " 3   Close            1259 non-null   float64\n",
      " 4   Adj Close        1259 non-null   float64\n",
      " 5   Volume           1259 non-null   float64\n",
      " 6   14d ma           1246 non-null   float64\n",
      " 7   14d rsi          1246 non-null   float64\n",
      " 8   14d bbwidth      1246 non-null   float64\n",
      " 9   50d ma           1210 non-null   float64\n",
      " 10  50d rsi          1210 non-null   float64\n",
      " 11  50d bbwidth      1210 non-null   float64\n",
      " 12  200d ma          1060 non-null   float64\n",
      " 13  200d rsi         1060 non-null   float64\n",
      " 14  200d bbwidth     1060 non-null   float64\n",
      " 15  VIX              1259 non-null   float64\n",
      " 16  5d_future_close  1254 non-null   float64\n",
      "dtypes: float64(17)\n",
      "memory usage: 177.0 KB\n"
     ]
    }
   ],
   "source": [
    "prep.df.info()"
   ]
  },
  {
   "cell_type": "code",
   "execution_count": 8,
   "id": "f4c888da",
   "metadata": {
    "ExecuteTime": {
     "end_time": "2022-01-17T14:02:34.450730Z",
     "start_time": "2022-01-17T14:02:34.447737Z"
    }
   },
   "outputs": [],
   "source": [
    "import datetime as dt"
   ]
  },
  {
   "cell_type": "code",
   "execution_count": 6,
   "id": "7c7820fb",
   "metadata": {
    "ExecuteTime": {
     "end_time": "2022-01-17T13:59:20.498730Z",
     "start_time": "2022-01-17T13:59:20.493929Z"
    }
   },
   "outputs": [],
   "source": [
    "date_string = '2021-01-01'\n",
    "date_format = \"%Y-%m-%d\"\n",
    "converted = dt.strptime(date_string, date_format)"
   ]
  },
  {
   "cell_type": "code",
   "execution_count": 7,
   "id": "22bb41c2",
   "metadata": {
    "ExecuteTime": {
     "end_time": "2022-01-17T13:59:24.032561Z",
     "start_time": "2022-01-17T13:59:24.015134Z"
    }
   },
   "outputs": [
    {
     "data": {
      "text/plain": [
       "datetime.datetime(2021, 1, 1, 0, 0)"
      ]
     },
     "execution_count": 7,
     "metadata": {},
     "output_type": "execute_result"
    }
   ],
   "source": [
    "converted"
   ]
  },
  {
   "cell_type": "code",
   "execution_count": 10,
   "id": "ae32f645",
   "metadata": {
    "ExecuteTime": {
     "end_time": "2022-01-17T14:03:22.124983Z",
     "start_time": "2022-01-17T14:03:22.117998Z"
    }
   },
   "outputs": [
    {
     "data": {
      "text/plain": [
       "'2021-01-01'"
      ]
     },
     "execution_count": 10,
     "metadata": {},
     "output_type": "execute_result"
    }
   ],
   "source": [
    "dt.datetime(2021,1,1,0,0,0).strftime(\"%Y-%m-%d\")"
   ]
  }
 ],
 "metadata": {
  "kernelspec": {
   "display_name": "Python 3 (ipykernel)",
   "language": "python",
   "name": "python3"
  },
  "language_info": {
   "codemirror_mode": {
    "name": "ipython",
    "version": 3
   },
   "file_extension": ".py",
   "mimetype": "text/x-python",
   "name": "python",
   "nbconvert_exporter": "python",
   "pygments_lexer": "ipython3",
   "version": "3.8.6"
  },
  "toc": {
   "base_numbering": 1,
   "nav_menu": {},
   "number_sections": true,
   "sideBar": true,
   "skip_h1_title": false,
   "title_cell": "Table of Contents",
   "title_sidebar": "Contents",
   "toc_cell": false,
   "toc_position": {},
   "toc_section_display": true,
   "toc_window_display": false
  }
 },
 "nbformat": 4,
 "nbformat_minor": 5
}
