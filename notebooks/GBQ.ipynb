{
 "cells": [
  {
   "cell_type": "markdown",
   "id": "9dd1073a",
   "metadata": {},
   "source": [
    "# GBQ Script"
   ]
  },
  {
   "cell_type": "markdown",
   "id": "b1b29fa1",
   "metadata": {},
   "source": [
    "## get df"
   ]
  },
  {
   "cell_type": "code",
   "execution_count": 1,
   "id": "690d9bc7",
   "metadata": {
    "ExecuteTime": {
     "end_time": "2022-01-01T07:48:54.075287Z",
     "start_time": "2022-01-01T07:48:53.912956Z"
    },
    "scrolled": false
   },
   "outputs": [
    {
     "data": {
      "text/html": [
       "<div>\n",
       "<style scoped>\n",
       "    .dataframe tbody tr th:only-of-type {\n",
       "        vertical-align: middle;\n",
       "    }\n",
       "\n",
       "    .dataframe tbody tr th {\n",
       "        vertical-align: top;\n",
       "    }\n",
       "\n",
       "    .dataframe thead th {\n",
       "        text-align: right;\n",
       "    }\n",
       "</style>\n",
       "<table border=\"1\" class=\"dataframe\">\n",
       "  <thead>\n",
       "    <tr style=\"text-align: right;\">\n",
       "      <th></th>\n",
       "      <th>Open</th>\n",
       "      <th>High</th>\n",
       "      <th>Low</th>\n",
       "      <th>Close</th>\n",
       "      <th>Adj Close</th>\n",
       "      <th>Volume</th>\n",
       "    </tr>\n",
       "    <tr>\n",
       "      <th>Date</th>\n",
       "      <th></th>\n",
       "      <th></th>\n",
       "      <th></th>\n",
       "      <th></th>\n",
       "      <th></th>\n",
       "      <th></th>\n",
       "    </tr>\n",
       "  </thead>\n",
       "  <tbody>\n",
       "    <tr>\n",
       "      <th>2017-01-03</th>\n",
       "      <td>28.950001</td>\n",
       "      <td>29.082500</td>\n",
       "      <td>28.690001</td>\n",
       "      <td>29.037500</td>\n",
       "      <td>27.332472</td>\n",
       "      <td>115127600</td>\n",
       "    </tr>\n",
       "    <tr>\n",
       "      <th>2017-01-04</th>\n",
       "      <td>28.962500</td>\n",
       "      <td>29.127501</td>\n",
       "      <td>28.937500</td>\n",
       "      <td>29.004999</td>\n",
       "      <td>27.301876</td>\n",
       "      <td>84472400</td>\n",
       "    </tr>\n",
       "    <tr>\n",
       "      <th>2017-01-05</th>\n",
       "      <td>28.980000</td>\n",
       "      <td>29.215000</td>\n",
       "      <td>28.952499</td>\n",
       "      <td>29.152500</td>\n",
       "      <td>27.440716</td>\n",
       "      <td>88774400</td>\n",
       "    </tr>\n",
       "    <tr>\n",
       "      <th>2017-01-06</th>\n",
       "      <td>29.195000</td>\n",
       "      <td>29.540001</td>\n",
       "      <td>29.117500</td>\n",
       "      <td>29.477501</td>\n",
       "      <td>27.746637</td>\n",
       "      <td>127007600</td>\n",
       "    </tr>\n",
       "    <tr>\n",
       "      <th>2017-01-09</th>\n",
       "      <td>29.487499</td>\n",
       "      <td>29.857500</td>\n",
       "      <td>29.485001</td>\n",
       "      <td>29.747499</td>\n",
       "      <td>28.000778</td>\n",
       "      <td>134247600</td>\n",
       "    </tr>\n",
       "    <tr>\n",
       "      <th>...</th>\n",
       "      <td>...</td>\n",
       "      <td>...</td>\n",
       "      <td>...</td>\n",
       "      <td>...</td>\n",
       "      <td>...</td>\n",
       "      <td>...</td>\n",
       "    </tr>\n",
       "    <tr>\n",
       "      <th>2020-12-24</th>\n",
       "      <td>131.320007</td>\n",
       "      <td>133.460007</td>\n",
       "      <td>131.100006</td>\n",
       "      <td>131.970001</td>\n",
       "      <td>131.161407</td>\n",
       "      <td>54930100</td>\n",
       "    </tr>\n",
       "    <tr>\n",
       "      <th>2020-12-28</th>\n",
       "      <td>133.990005</td>\n",
       "      <td>137.339996</td>\n",
       "      <td>133.509995</td>\n",
       "      <td>136.690002</td>\n",
       "      <td>135.852509</td>\n",
       "      <td>124486200</td>\n",
       "    </tr>\n",
       "    <tr>\n",
       "      <th>2020-12-29</th>\n",
       "      <td>138.050003</td>\n",
       "      <td>138.789993</td>\n",
       "      <td>134.339996</td>\n",
       "      <td>134.869995</td>\n",
       "      <td>134.043640</td>\n",
       "      <td>121047300</td>\n",
       "    </tr>\n",
       "    <tr>\n",
       "      <th>2020-12-30</th>\n",
       "      <td>135.580002</td>\n",
       "      <td>135.990005</td>\n",
       "      <td>133.399994</td>\n",
       "      <td>133.720001</td>\n",
       "      <td>132.900696</td>\n",
       "      <td>96452100</td>\n",
       "    </tr>\n",
       "    <tr>\n",
       "      <th>2020-12-31</th>\n",
       "      <td>134.080002</td>\n",
       "      <td>134.740005</td>\n",
       "      <td>131.720001</td>\n",
       "      <td>132.690002</td>\n",
       "      <td>131.876999</td>\n",
       "      <td>99116600</td>\n",
       "    </tr>\n",
       "  </tbody>\n",
       "</table>\n",
       "<p>1007 rows × 6 columns</p>\n",
       "</div>"
      ],
      "text/plain": [
       "                  Open        High         Low       Close   Adj Close  \\\n",
       "Date                                                                     \n",
       "2017-01-03   28.950001   29.082500   28.690001   29.037500   27.332472   \n",
       "2017-01-04   28.962500   29.127501   28.937500   29.004999   27.301876   \n",
       "2017-01-05   28.980000   29.215000   28.952499   29.152500   27.440716   \n",
       "2017-01-06   29.195000   29.540001   29.117500   29.477501   27.746637   \n",
       "2017-01-09   29.487499   29.857500   29.485001   29.747499   28.000778   \n",
       "...                ...         ...         ...         ...         ...   \n",
       "2020-12-24  131.320007  133.460007  131.100006  131.970001  131.161407   \n",
       "2020-12-28  133.990005  137.339996  133.509995  136.690002  135.852509   \n",
       "2020-12-29  138.050003  138.789993  134.339996  134.869995  134.043640   \n",
       "2020-12-30  135.580002  135.990005  133.399994  133.720001  132.900696   \n",
       "2020-12-31  134.080002  134.740005  131.720001  132.690002  131.876999   \n",
       "\n",
       "               Volume  \n",
       "Date                   \n",
       "2017-01-03  115127600  \n",
       "2017-01-04   84472400  \n",
       "2017-01-05   88774400  \n",
       "2017-01-06  127007600  \n",
       "2017-01-09  134247600  \n",
       "...               ...  \n",
       "2020-12-24   54930100  \n",
       "2020-12-28  124486200  \n",
       "2020-12-29  121047300  \n",
       "2020-12-30   96452100  \n",
       "2020-12-31   99116600  \n",
       "\n",
       "[1007 rows x 6 columns]"
      ]
     },
     "execution_count": 1,
     "metadata": {},
     "output_type": "execute_result"
    }
   ],
   "source": [
    "import pandas as pd\n",
    "\n",
    "# read file temp (from data script)\n",
    "def read_local(path_filename):\n",
    "    \"\"\"\n",
    "    read_local(path_filename)\n",
    "    reads the csv file and parses date col as date, setting the date as the index\n",
    "    returns the df\n",
    "    \"\"\"\n",
    "    df = pd.read_csv(path_filename)\n",
    "    df['Date'] = pd.to_datetime(df['Date'])\n",
    "    return df.set_index('Date')\n",
    "    \n",
    "df = read_local(\"play.csv\")\n",
    "df\n"
   ]
  },
  {
   "cell_type": "markdown",
   "id": "5dbeedef",
   "metadata": {},
   "source": [
    "## get splits"
   ]
  },
  {
   "cell_type": "code",
   "execution_count": 2,
   "id": "fc303b74",
   "metadata": {
    "ExecuteTime": {
     "end_time": "2022-01-01T07:48:54.084959Z",
     "start_time": "2022-01-01T07:48:54.077001Z"
    }
   },
   "outputs": [],
   "source": [
    "#splits from time split\n",
    "from datetime import datetime as dt\n",
    "\n",
    "class train_val_split:\n",
    "    \n",
    "    def __init__(self, df, duration=30, window=1, prediction_period=5, start = '2018-01-01', end = '2020-03-31'):\n",
    "        self.duration = duration # training period, for dates\n",
    "        self.window = window # rolling window freq, for dates\n",
    "        self.prediction_period = prediction_period # prediciton horizon, for dates\n",
    "        self.start = start\n",
    "        self.end = end\n",
    "        self.df = df.loc[(df.index >= start) & (df.index <= end)].reset_index()\n",
    "        self.start_ind = self.df[self.df.Date>=self.start].index.min()\n",
    "           \n",
    "    \n",
    "    @staticmethod\n",
    "    def _strfdate(date):\n",
    "        return dt.strftime(date, '%Y-%m-%d')\n",
    "           \n",
    "    \n",
    "    def split_by_date(self):\n",
    "        self.end_ind = self.start_ind + self.duration\n",
    "        \n",
    "        dates = []\n",
    "        \n",
    "        while self.end_ind <=  len(self.df) - self.prediction_period:\n",
    "            date_start = self._strfdate(self.df.Date[self.start_ind])\n",
    "            date_end = self._strfdate(self.df.Date[self.end_ind])\n",
    "            \n",
    "            dates.append([date_start, date_end])\n",
    "            \n",
    "            self.start_ind += self.window\n",
    "            self.end_ind = self.start_ind + self.duration\n",
    "            \n",
    "        return dates\n",
    "    \n",
    "    \n",
    "    def get_val_map(self, start='2020-06-01', end='2020-12-31'):\n",
    "        start_ind = self.df[self.df.Date>=start].index.min()\n",
    "        end_ind = self.df[self.df.Date<=end].index.max()\n",
    "        \n",
    "        return {self._strfdate(self.df.Date[n-5]):self._strfdate(self.df.Date[n]) for n in range(start_ind, end_ind+1)}  "
   ]
  },
  {
   "cell_type": "code",
   "execution_count": 3,
   "id": "09960e3d",
   "metadata": {
    "ExecuteTime": {
     "end_time": "2022-01-01T07:48:54.105611Z",
     "start_time": "2022-01-01T07:48:54.086454Z"
    }
   },
   "outputs": [],
   "source": [
    "split = train_val_split(df)\n",
    "train_date_list = split.split_by_date()"
   ]
  },
  {
   "cell_type": "code",
   "execution_count": 4,
   "id": "ef993cd0",
   "metadata": {
    "ExecuteTime": {
     "end_time": "2022-01-01T07:48:54.112457Z",
     "start_time": "2022-01-01T07:48:54.107894Z"
    },
    "scrolled": true
   },
   "outputs": [
    {
     "data": {
      "text/plain": [
       "['2018-01-02', '2018-02-14']"
      ]
     },
     "execution_count": 4,
     "metadata": {},
     "output_type": "execute_result"
    }
   ],
   "source": [
    "train_date_list[:5]\n",
    "train_index = train_date_list[0]\n",
    "train_index"
   ]
  },
  {
   "cell_type": "markdown",
   "id": "160e752e",
   "metadata": {},
   "source": [
    "## Get Model"
   ]
  },
  {
   "cell_type": "code",
   "execution_count": 5,
   "id": "b5cf15ed",
   "metadata": {
    "ExecuteTime": {
     "end_time": "2022-01-01T07:48:54.238646Z",
     "start_time": "2022-01-01T07:48:54.114122Z"
    }
   },
   "outputs": [],
   "source": [
    "from google.cloud import bigquery as bq\n",
    "from tqdm import tqdm"
   ]
  },
  {
   "cell_type": "code",
   "execution_count": 7,
   "id": "ce7ae7b3",
   "metadata": {
    "ExecuteTime": {
     "end_time": "2022-01-01T08:05:46.394118Z",
     "start_time": "2022-01-01T07:49:36.193509Z"
    }
   },
   "outputs": [
    {
     "name": "stderr",
     "output_type": "stream",
     "text": [
      "100%|█████████████████████████████████████████████████████████████████████████████████| 531/531 [16:10<00:00,  1.83s/it]\n"
     ]
    }
   ],
   "source": [
    "\n",
    "\n",
    "client = bq.Client.from_service_account_json(\"service-account-file.json\")\n",
    "coeff_dict = {}\n",
    "\n",
    "for n, date in enumerate(tqdm(train_date_list)):\n",
    "\n",
    "    start, end = train_index[0], train_index[1]\n",
    "    #create model\n",
    "    query1 = f\"\"\"\n",
    "            CREATE OR REPLACE MODEL ioracle.main.arima_test\n",
    "            OPTIONS\n",
    "              (model_type = 'ARIMA_PLUS',\n",
    "               time_series_timestamp_col = 'Date',\n",
    "               time_series_data_col = 'Adj_Close',\n",
    "               auto_arima = TRUE,\n",
    "               data_frequency = 'DAILY',\n",
    "               decompose_time_series = TRUE,\n",
    "               holiday_region='US',\n",
    "               CLEAN_SPIKES_AND_DIPS=FALSE\n",
    "              ) AS\n",
    "            SELECT *\n",
    "            FROM `ioracle.main.aapl_data`\n",
    "            WHERE Date BETWEEN '{start}' AND '{end}'\n",
    "            ORDER BY Date ASC\"\"\"\n",
    "\n",
    "    client.query(query1)\n",
    "    \n",
    "    #cannot scale cos will be new scaler with evey training\n",
    "    \n",
    "    #iterate through training periods\n",
    "    query2 = \"\"\"\n",
    "            SELECT\n",
    "             *\n",
    "            FROM\n",
    "             ML.EVALUATE(MODEL ioracle.main.arima_test)\n",
    "            \"\"\"\n",
    "    \n",
    "    results = client.query(query2).to_dataframe()\n",
    "    val_series = results.sort_values('log_likelihood', ascending=False).iloc[0]\n",
    "   \n",
    "    coeff_dict[n] = val_series[:4].to_dict()\n"
   ]
  },
  {
   "cell_type": "code",
   "execution_count": 8,
   "id": "6b32bb7c",
   "metadata": {
    "ExecuteTime": {
     "end_time": "2022-01-01T08:28:48.046213Z",
     "start_time": "2022-01-01T08:28:48.020688Z"
    }
   },
   "outputs": [
    {
     "data": {
      "text/plain": [
       "((0, 1, 5), False)"
      ]
     },
     "execution_count": 8,
     "metadata": {},
     "output_type": "execute_result"
    }
   ],
   "source": [
    "from statistics import mode\n",
    "def get_mode(dic):\n",
    "    count_list = []\n",
    "    for v in dic.values():\n",
    "        count_list.append(tuple([v[k] for k in v]))\n",
    "    results = mode(count_list) \n",
    "    return results[:3], results[-1]\n",
    "    \n",
    "\n",
    "non_seasonal_order, include_drift = get_mode(coeff_dict)  \n",
    "non_seasonal_order, include_drift    "
   ]
  },
  {
   "cell_type": "code",
   "execution_count": null,
   "id": "941e53e2",
   "metadata": {},
   "outputs": [],
   "source": [
    "#hard code (if model not run)\n",
    "non_seasonal_order = (0, 1, 5)\n",
    "include_drift = True"
   ]
  },
  {
   "cell_type": "code",
   "execution_count": 9,
   "id": "5c15f57d",
   "metadata": {
    "ExecuteTime": {
     "end_time": "2022-01-01T08:28:52.085339Z",
     "start_time": "2022-01-01T08:28:52.065332Z"
    }
   },
   "outputs": [
    {
     "data": {
      "text/plain": [
       "{'2020-05-22': '2020-06-01',\n",
       " '2020-05-26': '2020-06-02',\n",
       " '2020-05-27': '2020-06-03',\n",
       " '2020-05-28': '2020-06-04',\n",
       " '2020-05-29': '2020-06-05',\n",
       " '2020-06-01': '2020-06-08',\n",
       " '2020-06-02': '2020-06-09',\n",
       " '2020-06-03': '2020-06-10',\n",
       " '2020-06-04': '2020-06-11',\n",
       " '2020-06-05': '2020-06-12',\n",
       " '2020-06-08': '2020-06-15',\n",
       " '2020-06-09': '2020-06-16',\n",
       " '2020-06-10': '2020-06-17',\n",
       " '2020-06-11': '2020-06-18',\n",
       " '2020-06-12': '2020-06-19',\n",
       " '2020-06-15': '2020-06-22',\n",
       " '2020-06-16': '2020-06-23',\n",
       " '2020-06-17': '2020-06-24',\n",
       " '2020-06-18': '2020-06-25',\n",
       " '2020-06-19': '2020-06-26',\n",
       " '2020-06-22': '2020-06-29',\n",
       " '2020-06-23': '2020-06-30',\n",
       " '2020-06-24': '2020-07-01',\n",
       " '2020-06-25': '2020-07-02',\n",
       " '2020-06-26': '2020-07-06',\n",
       " '2020-06-29': '2020-07-07',\n",
       " '2020-06-30': '2020-07-08',\n",
       " '2020-07-01': '2020-07-09',\n",
       " '2020-07-02': '2020-07-10',\n",
       " '2020-07-06': '2020-07-13',\n",
       " '2020-07-07': '2020-07-14',\n",
       " '2020-07-08': '2020-07-15',\n",
       " '2020-07-09': '2020-07-16',\n",
       " '2020-07-10': '2020-07-17',\n",
       " '2020-07-13': '2020-07-20',\n",
       " '2020-07-14': '2020-07-21',\n",
       " '2020-07-15': '2020-07-22',\n",
       " '2020-07-16': '2020-07-23',\n",
       " '2020-07-17': '2020-07-24',\n",
       " '2020-07-20': '2020-07-27',\n",
       " '2020-07-21': '2020-07-28',\n",
       " '2020-07-22': '2020-07-29',\n",
       " '2020-07-23': '2020-07-30',\n",
       " '2020-07-24': '2020-07-31',\n",
       " '2020-07-27': '2020-08-03',\n",
       " '2020-07-28': '2020-08-04',\n",
       " '2020-07-29': '2020-08-05',\n",
       " '2020-07-30': '2020-08-06',\n",
       " '2020-07-31': '2020-08-07',\n",
       " '2020-08-03': '2020-08-10',\n",
       " '2020-08-04': '2020-08-11',\n",
       " '2020-08-05': '2020-08-12',\n",
       " '2020-08-06': '2020-08-13',\n",
       " '2020-08-07': '2020-08-14',\n",
       " '2020-08-10': '2020-08-17',\n",
       " '2020-08-11': '2020-08-18',\n",
       " '2020-08-12': '2020-08-19',\n",
       " '2020-08-13': '2020-08-20',\n",
       " '2020-08-14': '2020-08-21',\n",
       " '2020-08-17': '2020-08-24',\n",
       " '2020-08-18': '2020-08-25',\n",
       " '2020-08-19': '2020-08-26',\n",
       " '2020-08-20': '2020-08-27',\n",
       " '2020-08-21': '2020-08-28',\n",
       " '2020-08-24': '2020-08-31',\n",
       " '2020-08-25': '2020-09-01',\n",
       " '2020-08-26': '2020-09-02',\n",
       " '2020-08-27': '2020-09-03',\n",
       " '2020-08-28': '2020-09-04',\n",
       " '2020-08-31': '2020-09-08',\n",
       " '2020-09-01': '2020-09-09',\n",
       " '2020-09-02': '2020-09-10',\n",
       " '2020-09-03': '2020-09-11',\n",
       " '2020-09-04': '2020-09-14',\n",
       " '2020-09-08': '2020-09-15',\n",
       " '2020-09-09': '2020-09-16',\n",
       " '2020-09-10': '2020-09-17',\n",
       " '2020-09-11': '2020-09-18',\n",
       " '2020-09-14': '2020-09-21',\n",
       " '2020-09-15': '2020-09-22',\n",
       " '2020-09-16': '2020-09-23',\n",
       " '2020-09-17': '2020-09-24',\n",
       " '2020-09-18': '2020-09-25',\n",
       " '2020-09-21': '2020-09-28',\n",
       " '2020-09-22': '2020-09-29',\n",
       " '2020-09-23': '2020-09-30',\n",
       " '2020-09-24': '2020-10-01',\n",
       " '2020-09-25': '2020-10-02',\n",
       " '2020-09-28': '2020-10-05',\n",
       " '2020-09-29': '2020-10-06',\n",
       " '2020-09-30': '2020-10-07',\n",
       " '2020-10-01': '2020-10-08',\n",
       " '2020-10-02': '2020-10-09',\n",
       " '2020-10-05': '2020-10-12',\n",
       " '2020-10-06': '2020-10-13',\n",
       " '2020-10-07': '2020-10-14',\n",
       " '2020-10-08': '2020-10-15',\n",
       " '2020-10-09': '2020-10-16',\n",
       " '2020-10-12': '2020-10-19',\n",
       " '2020-10-13': '2020-10-20',\n",
       " '2020-10-14': '2020-10-21',\n",
       " '2020-10-15': '2020-10-22',\n",
       " '2020-10-16': '2020-10-23',\n",
       " '2020-10-19': '2020-10-26',\n",
       " '2020-10-20': '2020-10-27',\n",
       " '2020-10-21': '2020-10-28',\n",
       " '2020-10-22': '2020-10-29',\n",
       " '2020-10-23': '2020-10-30',\n",
       " '2020-10-26': '2020-11-02',\n",
       " '2020-10-27': '2020-11-03',\n",
       " '2020-10-28': '2020-11-04',\n",
       " '2020-10-29': '2020-11-05',\n",
       " '2020-10-30': '2020-11-06',\n",
       " '2020-11-02': '2020-11-09',\n",
       " '2020-11-03': '2020-11-10',\n",
       " '2020-11-04': '2020-11-11',\n",
       " '2020-11-05': '2020-11-12',\n",
       " '2020-11-06': '2020-11-13',\n",
       " '2020-11-09': '2020-11-16',\n",
       " '2020-11-10': '2020-11-17',\n",
       " '2020-11-11': '2020-11-18',\n",
       " '2020-11-12': '2020-11-19',\n",
       " '2020-11-13': '2020-11-20',\n",
       " '2020-11-16': '2020-11-23',\n",
       " '2020-11-17': '2020-11-24',\n",
       " '2020-11-18': '2020-11-25',\n",
       " '2020-11-19': '2020-11-27',\n",
       " '2020-11-20': '2020-11-30',\n",
       " '2020-11-23': '2020-12-01',\n",
       " '2020-11-24': '2020-12-02',\n",
       " '2020-11-25': '2020-12-03',\n",
       " '2020-11-27': '2020-12-04',\n",
       " '2020-11-30': '2020-12-07',\n",
       " '2020-12-01': '2020-12-08',\n",
       " '2020-12-02': '2020-12-09',\n",
       " '2020-12-03': '2020-12-10',\n",
       " '2020-12-04': '2020-12-11',\n",
       " '2020-12-07': '2020-12-14',\n",
       " '2020-12-08': '2020-12-15',\n",
       " '2020-12-09': '2020-12-16',\n",
       " '2020-12-10': '2020-12-17',\n",
       " '2020-12-11': '2020-12-18',\n",
       " '2020-12-14': '2020-12-21',\n",
       " '2020-12-15': '2020-12-22',\n",
       " '2020-12-16': '2020-12-23',\n",
       " '2020-12-17': '2020-12-24',\n",
       " '2020-12-18': '2020-12-28',\n",
       " '2020-12-21': '2020-12-29',\n",
       " '2020-12-22': '2020-12-30',\n",
       " '2020-12-23': '2020-12-31'}"
      ]
     },
     "execution_count": 9,
     "metadata": {},
     "output_type": "execute_result"
    }
   ],
   "source": [
    "val_split = train_val_split(df, end='2020-12-31')\n",
    "val_map = val_split.get_val_map()\n",
    "val_map"
   ]
  },
  {
   "cell_type": "code",
   "execution_count": 16,
   "id": "e386bdfd",
   "metadata": {
    "ExecuteTime": {
     "end_time": "2022-01-01T08:38:33.497340Z",
     "start_time": "2022-01-01T08:38:33.493796Z"
    }
   },
   "outputs": [],
   "source": [
    "train_start = '2018-01-01'\n",
    "val_start = '2020-06-01'\n",
    "val_end = '2020-12-31'\n"
   ]
  },
  {
   "cell_type": "code",
   "execution_count": 37,
   "id": "ee557352",
   "metadata": {
    "ExecuteTime": {
     "end_time": "2022-01-01T10:46:27.410732Z",
     "start_time": "2022-01-01T10:14:09.450225Z"
    },
    "scrolled": true
   },
   "outputs": [
    {
     "name": "stderr",
     "output_type": "stream",
     "text": [
      "100%|█████████████████████████████████████████████████████████████████████████████████| 150/150 [32:17<00:00, 12.92s/it]\n"
     ]
    }
   ],
   "source": [
    "from time import sleep\n",
    "\n",
    "pred_list=[]\n",
    "\n",
    "for k, v in tqdm(val_map.items()):\n",
    "\n",
    "    query3 = \"DROP MODEL IF EXISTS ioracle.main.arima_model\"\n",
    "    client.query(query3)\n",
    "    \n",
    "    query4 = f\"\"\"\n",
    "    CREATE OR REPLACE MODEL ioracle.main.arima_model\n",
    "    OPTIONS\n",
    "      (model_type = 'ARIMA_PLUS',\n",
    "       time_series_timestamp_col = 'Date',\n",
    "       time_series_data_col = 'Adj_Close',\n",
    "       auto_arima = FALSE,\n",
    "       data_frequency = 'DAILY',\n",
    "       decompose_time_series = TRUE,\n",
    "       holiday_region='US',\n",
    "       CLEAN_SPIKES_AND_DIPS=FALSE,\n",
    "       NON_SEASONAL_ORDER={non_seasonal_order},\n",
    "       INCLUDE_DRIFT={include_drift}\n",
    "      ) AS\n",
    "    SELECT Date, Adj_Close\n",
    "    FROM `ioracle.main.aapl_data`\n",
    "    WHERE Date BETWEEN '{train_start}' AND '{k}'\n",
    "    ORDER BY Date ASC\"\"\"\n",
    "\n",
    "    client.query(query4)\n",
    "    \n",
    "    sleep(10) # give time for model to be built\n",
    "\n",
    "    query5 = \"\"\"\n",
    "    SELECT\n",
    "     *\n",
    "    FROM\n",
    "     ML.FORECAST(MODEL ioracle.main.arima_model,\n",
    "     STRUCT(20 AS horizon)\n",
    "     )\n",
    "    \"\"\"\n",
    "\n",
    "    forecast = client.query(query5).to_dataframe()\n",
    "    forecast['Date'] = forecast.forecast_timestamp.apply(lambda x: dt.strftime(x, '%Y-%m-%d'))\n",
    "    pred_list.append(forecast.set_index('Date').loc[v,'forecast_value'])"
   ]
  },
  {
   "cell_type": "code",
   "execution_count": 39,
   "id": "5711e241",
   "metadata": {
    "ExecuteTime": {
     "end_time": "2022-01-01T10:52:59.636955Z",
     "start_time": "2022-01-01T10:52:59.631053Z"
    }
   },
   "outputs": [],
   "source": [
    "def get_y(df, start, end):\n",
    "    return df.loc[(df.index>=start) & (df.index<=end)]['Adj Close']\n",
    "\n",
    "y = get_y(df, val_start, val_end)\n",
    "    "
   ]
  },
  {
   "cell_type": "code",
   "execution_count": 41,
   "id": "1a1f3154",
   "metadata": {
    "ExecuteTime": {
     "end_time": "2022-01-01T10:56:24.101376Z",
     "start_time": "2022-01-01T10:56:24.091676Z"
    }
   },
   "outputs": [],
   "source": [
    "# save prediction dataframe to csv\n",
    "pd.DataFrame(pred_list, index=y.index, columns=['y_pred']).to_csv('aapl_arima_pred.csv')"
   ]
  },
  {
   "cell_type": "code",
   "execution_count": null,
   "id": "9a584485",
   "metadata": {},
   "outputs": [],
   "source": []
  },
  {
   "cell_type": "code",
   "execution_count": 43,
   "id": "103e5820",
   "metadata": {
    "ExecuteTime": {
     "end_time": "2022-01-01T11:05:18.142755Z",
     "start_time": "2022-01-01T11:05:18.062136Z"
    }
   },
   "outputs": [
    {
     "data": {
      "text/plain": [
       "4.588839355207132"
      ]
     },
     "execution_count": 43,
     "metadata": {},
     "output_type": "execute_result"
    }
   ],
   "source": [
    "from sklearn.metrics import mean_absolute_error\n",
    "\n",
    "mean_absolute_error(y, pred_list)"
   ]
  }
 ],
 "metadata": {
  "kernelspec": {
   "display_name": "Python 3 (ipykernel)",
   "language": "python",
   "name": "python3"
  },
  "language_info": {
   "codemirror_mode": {
    "name": "ipython",
    "version": 3
   },
   "file_extension": ".py",
   "mimetype": "text/x-python",
   "name": "python",
   "nbconvert_exporter": "python",
   "pygments_lexer": "ipython3",
   "version": "3.8.6"
  },
  "toc": {
   "base_numbering": 1,
   "nav_menu": {},
   "number_sections": true,
   "sideBar": true,
   "skip_h1_title": false,
   "title_cell": "Table of Contents",
   "title_sidebar": "Contents",
   "toc_cell": false,
   "toc_position": {},
   "toc_section_display": true,
   "toc_window_display": false
  },
  "varInspector": {
   "cols": {
    "lenName": 16,
    "lenType": 16,
    "lenVar": 40
   },
   "kernels_config": {
    "python": {
     "delete_cmd_postfix": "",
     "delete_cmd_prefix": "del ",
     "library": "var_list.py",
     "varRefreshCmd": "print(var_dic_list())"
    },
    "r": {
     "delete_cmd_postfix": ") ",
     "delete_cmd_prefix": "rm(",
     "library": "var_list.r",
     "varRefreshCmd": "cat(var_dic_list()) "
    }
   },
   "types_to_exclude": [
    "module",
    "function",
    "builtin_function_or_method",
    "instance",
    "_Feature"
   ],
   "window_display": false
  }
 },
 "nbformat": 4,
 "nbformat_minor": 5
}
