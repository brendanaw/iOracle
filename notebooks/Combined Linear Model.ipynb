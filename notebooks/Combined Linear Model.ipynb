{
 "cells": [
  {
   "cell_type": "code",
   "execution_count": 1,
   "id": "df8cf472",
   "metadata": {
    "ExecuteTime": {
     "end_time": "2022-01-18T13:55:22.424491Z",
     "start_time": "2022-01-18T13:55:20.928507Z"
    }
   },
   "outputs": [],
   "source": [
    "import yfinance as yf\n",
    "import pandas as pd\n",
    "import numpy as np\n",
    "import matplotlib.pyplot as plt\n",
    "import datetime \n",
    "import ta\n",
    "from sklearn.tree import DecisionTreeRegressor\n",
    "from sklearn.ensemble import RandomForestRegressor\n",
    "from sklearn.model_selection import cross_validate, ParameterGrid, train_test_split, GridSearchCV, RandomizedSearchCV, learning_curve\n",
    "from sklearn import metrics\n",
    "from sklearn.preprocessing import StandardScaler\n",
    "from sklearn.linear_model import LinearRegression\n",
    "from ta.momentum import RSIIndicator\n",
    "from ta.trend import SMAIndicator\n",
    "from ta.volatility import BollingerBands\n",
    "from datetime import datetime as dt\n",
    "import joblib"
   ]
  },
  {
   "cell_type": "markdown",
   "id": "3ad09d76",
   "metadata": {},
   "source": [
    "## Import CSVs"
   ]
  },
  {
   "cell_type": "code",
   "execution_count": 2,
   "id": "ee617870",
   "metadata": {
    "ExecuteTime": {
     "end_time": "2022-01-18T13:55:24.075779Z",
     "start_time": "2022-01-18T13:55:24.047188Z"
    }
   },
   "outputs": [],
   "source": [
    "rf_pred = pd.read_csv('prediction csv/rf_random.csv', index_col=0)\n",
    "arima_pred = pd.read_csv('prediction csv/arima.csv', index_col=0)\n",
    "lstm_pred = pd.read_csv('prediction csv/lstm_pred.csv', index_col=0)"
   ]
  },
  {
   "cell_type": "markdown",
   "id": "560b54e1",
   "metadata": {},
   "source": [
    "## Format rf_pred"
   ]
  },
  {
   "cell_type": "code",
   "execution_count": 3,
   "id": "940b718f",
   "metadata": {
    "ExecuteTime": {
     "end_time": "2022-01-18T13:55:26.130078Z",
     "start_time": "2022-01-18T13:55:26.121698Z"
    },
    "scrolled": true
   },
   "outputs": [],
   "source": [
    "rf_pred.index = pd.to_datetime(rf_pred.index)"
   ]
  },
  {
   "cell_type": "code",
   "execution_count": 4,
   "id": "8dfbb10e",
   "metadata": {
    "ExecuteTime": {
     "end_time": "2022-01-18T13:55:27.772297Z",
     "start_time": "2022-01-18T13:55:27.744694Z"
    },
    "scrolled": false
   },
   "outputs": [
    {
     "data": {
      "text/html": [
       "<div>\n",
       "<style scoped>\n",
       "    .dataframe tbody tr th:only-of-type {\n",
       "        vertical-align: middle;\n",
       "    }\n",
       "\n",
       "    .dataframe tbody tr th {\n",
       "        vertical-align: top;\n",
       "    }\n",
       "\n",
       "    .dataframe thead th {\n",
       "        text-align: right;\n",
       "    }\n",
       "</style>\n",
       "<table border=\"1\" class=\"dataframe\">\n",
       "  <thead>\n",
       "    <tr style=\"text-align: right;\">\n",
       "      <th></th>\n",
       "      <th>Actual</th>\n",
       "      <th>RF_pred</th>\n",
       "    </tr>\n",
       "    <tr>\n",
       "      <th>Date</th>\n",
       "      <th></th>\n",
       "      <th></th>\n",
       "    </tr>\n",
       "  </thead>\n",
       "  <tbody>\n",
       "    <tr>\n",
       "      <th>2021-01-04</th>\n",
       "      <td>128.189713</td>\n",
       "      <td>133.982366</td>\n",
       "    </tr>\n",
       "    <tr>\n",
       "      <th>2021-01-05</th>\n",
       "      <td>128.010849</td>\n",
       "      <td>130.505458</td>\n",
       "    </tr>\n",
       "    <tr>\n",
       "      <th>2021-01-06</th>\n",
       "      <td>130.088043</td>\n",
       "      <td>133.982366</td>\n",
       "    </tr>\n",
       "    <tr>\n",
       "      <th>2021-01-07</th>\n",
       "      <td>128.120163</td>\n",
       "      <td>129.519951</td>\n",
       "    </tr>\n",
       "    <tr>\n",
       "      <th>2021-01-08</th>\n",
       "      <td>126.361008</td>\n",
       "      <td>130.012704</td>\n",
       "    </tr>\n",
       "    <tr>\n",
       "      <th>...</th>\n",
       "      <td>...</td>\n",
       "      <td>...</td>\n",
       "    </tr>\n",
       "    <tr>\n",
       "      <th>2021-12-17</th>\n",
       "      <td>180.330002</td>\n",
       "      <td>133.170698</td>\n",
       "    </tr>\n",
       "    <tr>\n",
       "      <th>2021-12-20</th>\n",
       "      <td>179.289993</td>\n",
       "      <td>130.012704</td>\n",
       "    </tr>\n",
       "    <tr>\n",
       "      <th>2021-12-21</th>\n",
       "      <td>179.380005</td>\n",
       "      <td>130.992063</td>\n",
       "    </tr>\n",
       "    <tr>\n",
       "      <th>2021-12-22</th>\n",
       "      <td>178.199997</td>\n",
       "      <td>130.992063</td>\n",
       "    </tr>\n",
       "    <tr>\n",
       "      <th>2021-12-23</th>\n",
       "      <td>177.570007</td>\n",
       "      <td>130.992063</td>\n",
       "    </tr>\n",
       "  </tbody>\n",
       "</table>\n",
       "<p>247 rows × 2 columns</p>\n",
       "</div>"
      ],
      "text/plain": [
       "                Actual     RF_pred\n",
       "Date                              \n",
       "2021-01-04  128.189713  133.982366\n",
       "2021-01-05  128.010849  130.505458\n",
       "2021-01-06  130.088043  133.982366\n",
       "2021-01-07  128.120163  129.519951\n",
       "2021-01-08  126.361008  130.012704\n",
       "...                ...         ...\n",
       "2021-12-17  180.330002  133.170698\n",
       "2021-12-20  179.289993  130.012704\n",
       "2021-12-21  179.380005  130.992063\n",
       "2021-12-22  178.199997  130.992063\n",
       "2021-12-23  177.570007  130.992063\n",
       "\n",
       "[247 rows x 2 columns]"
      ]
     },
     "execution_count": 4,
     "metadata": {},
     "output_type": "execute_result"
    }
   ],
   "source": [
    "rf_pred.drop(columns='Residual', inplace=True)\n",
    "rf_pred"
   ]
  },
  {
   "cell_type": "markdown",
   "id": "1db5ca76",
   "metadata": {},
   "source": [
    "## Format arima_pred"
   ]
  },
  {
   "cell_type": "code",
   "execution_count": null,
   "id": "ba41ed50",
   "metadata": {
    "ExecuteTime": {
     "end_time": "2022-01-11T13:20:29.449419Z",
     "start_time": "2022-01-11T13:20:29.437462Z"
    }
   },
   "outputs": [],
   "source": [
    "arima_pred.index = pd.to_datetime(arima_pred.index, yearfirst=True, dayfirst=True)"
   ]
  },
  {
   "cell_type": "code",
   "execution_count": null,
   "id": "4092a985",
   "metadata": {
    "ExecuteTime": {
     "end_time": "2022-01-11T13:20:29.453192Z",
     "start_time": "2022-01-11T13:20:29.450885Z"
    },
    "scrolled": false
   },
   "outputs": [],
   "source": [
    "arima_pred.drop(columns='y_actual', inplace=True)"
   ]
  },
  {
   "cell_type": "code",
   "execution_count": null,
   "id": "210a5ebc",
   "metadata": {
    "ExecuteTime": {
     "end_time": "2022-01-11T13:20:29.456426Z",
     "start_time": "2022-01-11T13:20:29.454138Z"
    }
   },
   "outputs": [],
   "source": [
    "arima_pred.rename(columns={'arima_predicted':'arima_pred'}, inplace=True)"
   ]
  },
  {
   "cell_type": "code",
   "execution_count": null,
   "id": "38f2c506",
   "metadata": {
    "ExecuteTime": {
     "end_time": "2022-01-11T13:20:29.463385Z",
     "start_time": "2022-01-11T13:20:29.457501Z"
    },
    "scrolled": true
   },
   "outputs": [],
   "source": [
    "arima_pred"
   ]
  },
  {
   "cell_type": "markdown",
   "id": "4859ff5f",
   "metadata": {},
   "source": [
    "## Format lstm_pred"
   ]
  },
  {
   "cell_type": "code",
   "execution_count": 5,
   "id": "0a8694b2",
   "metadata": {
    "ExecuteTime": {
     "end_time": "2022-01-18T13:55:31.657420Z",
     "start_time": "2022-01-18T13:55:31.650583Z"
    }
   },
   "outputs": [],
   "source": [
    "lstm_pred.index = pd.to_datetime(lstm_pred.index)"
   ]
  },
  {
   "cell_type": "code",
   "execution_count": 6,
   "id": "82727d66",
   "metadata": {
    "ExecuteTime": {
     "end_time": "2022-01-18T13:55:31.814658Z",
     "start_time": "2022-01-18T13:55:31.808694Z"
    },
    "scrolled": true
   },
   "outputs": [],
   "source": [
    "lstm_pred.drop(columns='actual', inplace=True)"
   ]
  },
  {
   "cell_type": "code",
   "execution_count": 7,
   "id": "0f838517",
   "metadata": {
    "ExecuteTime": {
     "end_time": "2022-01-18T13:55:32.476685Z",
     "start_time": "2022-01-18T13:55:32.460388Z"
    },
    "scrolled": true
   },
   "outputs": [
    {
     "data": {
      "text/html": [
       "<div>\n",
       "<style scoped>\n",
       "    .dataframe tbody tr th:only-of-type {\n",
       "        vertical-align: middle;\n",
       "    }\n",
       "\n",
       "    .dataframe tbody tr th {\n",
       "        vertical-align: top;\n",
       "    }\n",
       "\n",
       "    .dataframe thead th {\n",
       "        text-align: right;\n",
       "    }\n",
       "</style>\n",
       "<table border=\"1\" class=\"dataframe\">\n",
       "  <thead>\n",
       "    <tr style=\"text-align: right;\">\n",
       "      <th></th>\n",
       "      <th>y_pred_LSTM</th>\n",
       "    </tr>\n",
       "    <tr>\n",
       "      <th>Date</th>\n",
       "      <th></th>\n",
       "    </tr>\n",
       "  </thead>\n",
       "  <tbody>\n",
       "    <tr>\n",
       "      <th>2021-01-04</th>\n",
       "      <td>37.250350</td>\n",
       "    </tr>\n",
       "    <tr>\n",
       "      <th>2021-01-05</th>\n",
       "      <td>37.244180</td>\n",
       "    </tr>\n",
       "    <tr>\n",
       "      <th>2021-01-06</th>\n",
       "      <td>36.586370</td>\n",
       "    </tr>\n",
       "    <tr>\n",
       "      <th>2021-01-07</th>\n",
       "      <td>37.019730</td>\n",
       "    </tr>\n",
       "    <tr>\n",
       "      <th>2021-01-08</th>\n",
       "      <td>37.626160</td>\n",
       "    </tr>\n",
       "    <tr>\n",
       "      <th>...</th>\n",
       "      <td>...</td>\n",
       "    </tr>\n",
       "    <tr>\n",
       "      <th>2021-12-17</th>\n",
       "      <td>120.968720</td>\n",
       "    </tr>\n",
       "    <tr>\n",
       "      <th>2021-12-20</th>\n",
       "      <td>119.670440</td>\n",
       "    </tr>\n",
       "    <tr>\n",
       "      <th>2021-12-21</th>\n",
       "      <td>117.874374</td>\n",
       "    </tr>\n",
       "    <tr>\n",
       "      <th>2021-12-22</th>\n",
       "      <td>116.365710</td>\n",
       "    </tr>\n",
       "    <tr>\n",
       "      <th>2021-12-23</th>\n",
       "      <td>115.801765</td>\n",
       "    </tr>\n",
       "  </tbody>\n",
       "</table>\n",
       "<p>247 rows × 1 columns</p>\n",
       "</div>"
      ],
      "text/plain": [
       "            y_pred_LSTM\n",
       "Date                   \n",
       "2021-01-04    37.250350\n",
       "2021-01-05    37.244180\n",
       "2021-01-06    36.586370\n",
       "2021-01-07    37.019730\n",
       "2021-01-08    37.626160\n",
       "...                 ...\n",
       "2021-12-17   120.968720\n",
       "2021-12-20   119.670440\n",
       "2021-12-21   117.874374\n",
       "2021-12-22   116.365710\n",
       "2021-12-23   115.801765\n",
       "\n",
       "[247 rows x 1 columns]"
      ]
     },
     "execution_count": 7,
     "metadata": {},
     "output_type": "execute_result"
    }
   ],
   "source": [
    "lstm_pred"
   ]
  },
  {
   "cell_type": "code",
   "execution_count": 8,
   "id": "fa0fa7ef",
   "metadata": {
    "ExecuteTime": {
     "end_time": "2022-01-18T13:55:34.672344Z",
     "start_time": "2022-01-18T13:55:34.654403Z"
    }
   },
   "outputs": [
    {
     "data": {
      "text/html": [
       "<div>\n",
       "<style scoped>\n",
       "    .dataframe tbody tr th:only-of-type {\n",
       "        vertical-align: middle;\n",
       "    }\n",
       "\n",
       "    .dataframe tbody tr th {\n",
       "        vertical-align: top;\n",
       "    }\n",
       "\n",
       "    .dataframe thead th {\n",
       "        text-align: right;\n",
       "    }\n",
       "</style>\n",
       "<table border=\"1\" class=\"dataframe\">\n",
       "  <thead>\n",
       "    <tr style=\"text-align: right;\">\n",
       "      <th></th>\n",
       "      <th>LSTM_pred</th>\n",
       "    </tr>\n",
       "    <tr>\n",
       "      <th>Date</th>\n",
       "      <th></th>\n",
       "    </tr>\n",
       "  </thead>\n",
       "  <tbody>\n",
       "    <tr>\n",
       "      <th>2021-01-04</th>\n",
       "      <td>37.250350</td>\n",
       "    </tr>\n",
       "    <tr>\n",
       "      <th>2021-01-05</th>\n",
       "      <td>37.244180</td>\n",
       "    </tr>\n",
       "    <tr>\n",
       "      <th>2021-01-06</th>\n",
       "      <td>36.586370</td>\n",
       "    </tr>\n",
       "    <tr>\n",
       "      <th>2021-01-07</th>\n",
       "      <td>37.019730</td>\n",
       "    </tr>\n",
       "    <tr>\n",
       "      <th>2021-01-08</th>\n",
       "      <td>37.626160</td>\n",
       "    </tr>\n",
       "    <tr>\n",
       "      <th>...</th>\n",
       "      <td>...</td>\n",
       "    </tr>\n",
       "    <tr>\n",
       "      <th>2021-12-17</th>\n",
       "      <td>120.968720</td>\n",
       "    </tr>\n",
       "    <tr>\n",
       "      <th>2021-12-20</th>\n",
       "      <td>119.670440</td>\n",
       "    </tr>\n",
       "    <tr>\n",
       "      <th>2021-12-21</th>\n",
       "      <td>117.874374</td>\n",
       "    </tr>\n",
       "    <tr>\n",
       "      <th>2021-12-22</th>\n",
       "      <td>116.365710</td>\n",
       "    </tr>\n",
       "    <tr>\n",
       "      <th>2021-12-23</th>\n",
       "      <td>115.801765</td>\n",
       "    </tr>\n",
       "  </tbody>\n",
       "</table>\n",
       "<p>247 rows × 1 columns</p>\n",
       "</div>"
      ],
      "text/plain": [
       "             LSTM_pred\n",
       "Date                  \n",
       "2021-01-04   37.250350\n",
       "2021-01-05   37.244180\n",
       "2021-01-06   36.586370\n",
       "2021-01-07   37.019730\n",
       "2021-01-08   37.626160\n",
       "...                ...\n",
       "2021-12-17  120.968720\n",
       "2021-12-20  119.670440\n",
       "2021-12-21  117.874374\n",
       "2021-12-22  116.365710\n",
       "2021-12-23  115.801765\n",
       "\n",
       "[247 rows x 1 columns]"
      ]
     },
     "execution_count": 8,
     "metadata": {},
     "output_type": "execute_result"
    }
   ],
   "source": [
    "lstm_pred.rename(columns={'y_pred_LSTM':'LSTM_pred'}, inplace=True)\n",
    "lstm_pred"
   ]
  },
  {
   "cell_type": "markdown",
   "id": "b7e4c8a2",
   "metadata": {},
   "source": [
    "## Combine all dfs"
   ]
  },
  {
   "cell_type": "code",
   "execution_count": 9,
   "id": "32ccbe51",
   "metadata": {
    "ExecuteTime": {
     "end_time": "2022-01-18T13:55:52.766045Z",
     "start_time": "2022-01-18T13:55:52.732024Z"
    },
    "scrolled": false
   },
   "outputs": [
    {
     "data": {
      "text/html": [
       "<div>\n",
       "<style scoped>\n",
       "    .dataframe tbody tr th:only-of-type {\n",
       "        vertical-align: middle;\n",
       "    }\n",
       "\n",
       "    .dataframe tbody tr th {\n",
       "        vertical-align: top;\n",
       "    }\n",
       "\n",
       "    .dataframe thead th {\n",
       "        text-align: right;\n",
       "    }\n",
       "</style>\n",
       "<table border=\"1\" class=\"dataframe\">\n",
       "  <thead>\n",
       "    <tr style=\"text-align: right;\">\n",
       "      <th></th>\n",
       "      <th>Actual</th>\n",
       "      <th>RF_pred</th>\n",
       "      <th>LSTM_pred</th>\n",
       "    </tr>\n",
       "    <tr>\n",
       "      <th>Date</th>\n",
       "      <th></th>\n",
       "      <th></th>\n",
       "      <th></th>\n",
       "    </tr>\n",
       "  </thead>\n",
       "  <tbody>\n",
       "    <tr>\n",
       "      <th>2021-01-04</th>\n",
       "      <td>128.189713</td>\n",
       "      <td>133.982366</td>\n",
       "      <td>37.250350</td>\n",
       "    </tr>\n",
       "    <tr>\n",
       "      <th>2021-01-05</th>\n",
       "      <td>128.010849</td>\n",
       "      <td>130.505458</td>\n",
       "      <td>37.244180</td>\n",
       "    </tr>\n",
       "    <tr>\n",
       "      <th>2021-01-06</th>\n",
       "      <td>130.088043</td>\n",
       "      <td>133.982366</td>\n",
       "      <td>36.586370</td>\n",
       "    </tr>\n",
       "    <tr>\n",
       "      <th>2021-01-07</th>\n",
       "      <td>128.120163</td>\n",
       "      <td>129.519951</td>\n",
       "      <td>37.019730</td>\n",
       "    </tr>\n",
       "    <tr>\n",
       "      <th>2021-01-08</th>\n",
       "      <td>126.361008</td>\n",
       "      <td>130.012704</td>\n",
       "      <td>37.626160</td>\n",
       "    </tr>\n",
       "    <tr>\n",
       "      <th>...</th>\n",
       "      <td>...</td>\n",
       "      <td>...</td>\n",
       "      <td>...</td>\n",
       "    </tr>\n",
       "    <tr>\n",
       "      <th>2021-12-17</th>\n",
       "      <td>180.330002</td>\n",
       "      <td>133.170698</td>\n",
       "      <td>120.968720</td>\n",
       "    </tr>\n",
       "    <tr>\n",
       "      <th>2021-12-20</th>\n",
       "      <td>179.289993</td>\n",
       "      <td>130.012704</td>\n",
       "      <td>119.670440</td>\n",
       "    </tr>\n",
       "    <tr>\n",
       "      <th>2021-12-21</th>\n",
       "      <td>179.380005</td>\n",
       "      <td>130.992063</td>\n",
       "      <td>117.874374</td>\n",
       "    </tr>\n",
       "    <tr>\n",
       "      <th>2021-12-22</th>\n",
       "      <td>178.199997</td>\n",
       "      <td>130.992063</td>\n",
       "      <td>116.365710</td>\n",
       "    </tr>\n",
       "    <tr>\n",
       "      <th>2021-12-23</th>\n",
       "      <td>177.570007</td>\n",
       "      <td>130.992063</td>\n",
       "      <td>115.801765</td>\n",
       "    </tr>\n",
       "  </tbody>\n",
       "</table>\n",
       "<p>247 rows × 3 columns</p>\n",
       "</div>"
      ],
      "text/plain": [
       "                Actual     RF_pred   LSTM_pred\n",
       "Date                                          \n",
       "2021-01-04  128.189713  133.982366   37.250350\n",
       "2021-01-05  128.010849  130.505458   37.244180\n",
       "2021-01-06  130.088043  133.982366   36.586370\n",
       "2021-01-07  128.120163  129.519951   37.019730\n",
       "2021-01-08  126.361008  130.012704   37.626160\n",
       "...                ...         ...         ...\n",
       "2021-12-17  180.330002  133.170698  120.968720\n",
       "2021-12-20  179.289993  130.012704  119.670440\n",
       "2021-12-21  179.380005  130.992063  117.874374\n",
       "2021-12-22  178.199997  130.992063  116.365710\n",
       "2021-12-23  177.570007  130.992063  115.801765\n",
       "\n",
       "[247 rows x 3 columns]"
      ]
     },
     "execution_count": 9,
     "metadata": {},
     "output_type": "execute_result"
    }
   ],
   "source": [
    "comb_df = rf_pred.merge(lstm_pred, left_on='Date', right_on='Date')\n",
    "comb_df"
   ]
  },
  {
   "cell_type": "markdown",
   "id": "089211c0",
   "metadata": {},
   "source": [
    "## Scale features"
   ]
  },
  {
   "cell_type": "code",
   "execution_count": 10,
   "id": "5af6d3ff",
   "metadata": {
    "ExecuteTime": {
     "end_time": "2022-01-18T13:56:31.337465Z",
     "start_time": "2022-01-18T13:56:31.308803Z"
    },
    "scrolled": true
   },
   "outputs": [
    {
     "data": {
      "text/html": [
       "<div>\n",
       "<style scoped>\n",
       "    .dataframe tbody tr th:only-of-type {\n",
       "        vertical-align: middle;\n",
       "    }\n",
       "\n",
       "    .dataframe tbody tr th {\n",
       "        vertical-align: top;\n",
       "    }\n",
       "\n",
       "    .dataframe thead th {\n",
       "        text-align: right;\n",
       "    }\n",
       "</style>\n",
       "<table border=\"1\" class=\"dataframe\">\n",
       "  <thead>\n",
       "    <tr style=\"text-align: right;\">\n",
       "      <th></th>\n",
       "      <th>Actual</th>\n",
       "      <th>RF_pred</th>\n",
       "      <th>LSTM_pred</th>\n",
       "    </tr>\n",
       "    <tr>\n",
       "      <th>Date</th>\n",
       "      <th></th>\n",
       "      <th></th>\n",
       "      <th></th>\n",
       "    </tr>\n",
       "  </thead>\n",
       "  <tbody>\n",
       "    <tr>\n",
       "      <th>2021-01-04</th>\n",
       "      <td>128.189713</td>\n",
       "      <td>2.347368</td>\n",
       "      <td>-1.089139</td>\n",
       "    </tr>\n",
       "    <tr>\n",
       "      <th>2021-01-05</th>\n",
       "      <td>128.010849</td>\n",
       "      <td>0.259478</td>\n",
       "      <td>-1.089378</td>\n",
       "    </tr>\n",
       "    <tr>\n",
       "      <th>2021-01-06</th>\n",
       "      <td>130.088043</td>\n",
       "      <td>2.347368</td>\n",
       "      <td>-1.114853</td>\n",
       "    </tr>\n",
       "    <tr>\n",
       "      <th>2021-01-07</th>\n",
       "      <td>128.120163</td>\n",
       "      <td>-0.332320</td>\n",
       "      <td>-1.098070</td>\n",
       "    </tr>\n",
       "    <tr>\n",
       "      <th>2021-01-08</th>\n",
       "      <td>126.361008</td>\n",
       "      <td>-0.036421</td>\n",
       "      <td>-1.074585</td>\n",
       "    </tr>\n",
       "    <tr>\n",
       "      <th>...</th>\n",
       "      <td>...</td>\n",
       "      <td>...</td>\n",
       "      <td>...</td>\n",
       "    </tr>\n",
       "    <tr>\n",
       "      <th>2021-12-17</th>\n",
       "      <td>180.330002</td>\n",
       "      <td>1.859960</td>\n",
       "      <td>2.152955</td>\n",
       "    </tr>\n",
       "    <tr>\n",
       "      <th>2021-12-20</th>\n",
       "      <td>179.289993</td>\n",
       "      <td>-0.036421</td>\n",
       "      <td>2.102677</td>\n",
       "    </tr>\n",
       "    <tr>\n",
       "      <th>2021-12-21</th>\n",
       "      <td>179.380005</td>\n",
       "      <td>0.551686</td>\n",
       "      <td>2.033123</td>\n",
       "    </tr>\n",
       "    <tr>\n",
       "      <th>2021-12-22</th>\n",
       "      <td>178.199997</td>\n",
       "      <td>0.551686</td>\n",
       "      <td>1.974698</td>\n",
       "    </tr>\n",
       "    <tr>\n",
       "      <th>2021-12-23</th>\n",
       "      <td>177.570007</td>\n",
       "      <td>0.551686</td>\n",
       "      <td>1.952858</td>\n",
       "    </tr>\n",
       "  </tbody>\n",
       "</table>\n",
       "<p>247 rows × 3 columns</p>\n",
       "</div>"
      ],
      "text/plain": [
       "                Actual   RF_pred  LSTM_pred\n",
       "Date                                       \n",
       "2021-01-04  128.189713  2.347368  -1.089139\n",
       "2021-01-05  128.010849  0.259478  -1.089378\n",
       "2021-01-06  130.088043  2.347368  -1.114853\n",
       "2021-01-07  128.120163 -0.332320  -1.098070\n",
       "2021-01-08  126.361008 -0.036421  -1.074585\n",
       "...                ...       ...        ...\n",
       "2021-12-17  180.330002  1.859960   2.152955\n",
       "2021-12-20  179.289993 -0.036421   2.102677\n",
       "2021-12-21  179.380005  0.551686   2.033123\n",
       "2021-12-22  178.199997  0.551686   1.974698\n",
       "2021-12-23  177.570007  0.551686   1.952858\n",
       "\n",
       "[247 rows x 3 columns]"
      ]
     },
     "execution_count": 10,
     "metadata": {},
     "output_type": "execute_result"
    }
   ],
   "source": [
    "#Instantiate scaler\n",
    "scaler = StandardScaler()\n",
    "#fit and transform features\n",
    "comb_df[['RF_pred','LSTM_pred']] = scaler.fit_transform(comb_df[['RF_pred','LSTM_pred']])\n",
    "#Show scaled features\n",
    "comb_df"
   ]
  },
  {
   "cell_type": "markdown",
   "id": "fe6350cc",
   "metadata": {},
   "source": [
    "## Splitting the Data "
   ]
  },
  {
   "cell_type": "code",
   "execution_count": 11,
   "id": "1d43e5d6",
   "metadata": {
    "ExecuteTime": {
     "end_time": "2022-01-18T13:56:42.408217Z",
     "start_time": "2022-01-18T13:56:42.404286Z"
    }
   },
   "outputs": [],
   "source": [
    "train_length = len(comb_df)*0.8\n",
    "test_length = len(comb_df)*0.2"
   ]
  },
  {
   "cell_type": "code",
   "execution_count": 12,
   "id": "405fd805",
   "metadata": {
    "ExecuteTime": {
     "end_time": "2022-01-18T13:56:59.712912Z",
     "start_time": "2022-01-18T13:56:59.702559Z"
    }
   },
   "outputs": [],
   "source": [
    "X_train = comb_df[['RF_pred','LSTM_pred']][0:int(train_length)]\n",
    "y_train = comb_df['Actual'][0:int(train_length)]\n",
    "X_test = comb_df[['RF_pred','LSTM_pred']][int(train_length):]\n",
    "y_test = comb_df['Actual'][int(train_length):]"
   ]
  },
  {
   "cell_type": "markdown",
   "id": "3630abf3",
   "metadata": {},
   "source": [
    "## Fit linear model"
   ]
  },
  {
   "cell_type": "code",
   "execution_count": 13,
   "id": "84aebc51",
   "metadata": {
    "ExecuteTime": {
     "end_time": "2022-01-18T13:57:01.955151Z",
     "start_time": "2022-01-18T13:57:01.933878Z"
    }
   },
   "outputs": [
    {
     "data": {
      "text/plain": [
       "LinearRegression()"
      ]
     },
     "execution_count": 13,
     "metadata": {},
     "output_type": "execute_result"
    }
   ],
   "source": [
    "model = LinearRegression()\n",
    "model.fit(X_train, y_train)"
   ]
  },
  {
   "cell_type": "code",
   "execution_count": 14,
   "id": "8dd54e49",
   "metadata": {
    "ExecuteTime": {
     "end_time": "2022-01-18T13:57:03.030454Z",
     "start_time": "2022-01-18T13:57:03.017569Z"
    }
   },
   "outputs": [
    {
     "data": {
      "text/plain": [
       "0.3764664502562559"
      ]
     },
     "execution_count": 14,
     "metadata": {},
     "output_type": "execute_result"
    }
   ],
   "source": [
    "model.score(X_test, y_test)"
   ]
  },
  {
   "cell_type": "code",
   "execution_count": 15,
   "id": "1d5168a2",
   "metadata": {
    "ExecuteTime": {
     "end_time": "2022-01-18T13:57:04.107436Z",
     "start_time": "2022-01-18T13:57:04.101441Z"
    }
   },
   "outputs": [],
   "source": [
    "y_pred = model.predict(X_test)"
   ]
  },
  {
   "cell_type": "code",
   "execution_count": 20,
   "id": "7f80dc6e",
   "metadata": {
    "ExecuteTime": {
     "end_time": "2022-01-18T13:58:34.894036Z",
     "start_time": "2022-01-18T13:58:34.886264Z"
    }
   },
   "outputs": [
    {
     "data": {
      "text/plain": [
       "7.598365010973891"
      ]
     },
     "execution_count": 20,
     "metadata": {},
     "output_type": "execute_result"
    }
   ],
   "source": [
    "metrics.mean_absolute_error(y_test, y_pred)"
   ]
  },
  {
   "cell_type": "markdown",
   "id": "b1fd0e82",
   "metadata": {},
   "source": []
  },
  {
   "cell_type": "code",
   "execution_count": 19,
   "id": "ecdf4953",
   "metadata": {
    "ExecuteTime": {
     "end_time": "2022-01-18T13:58:18.411895Z",
     "start_time": "2022-01-18T13:58:18.272421Z"
    }
   },
   "outputs": [
    {
     "data": {
      "text/plain": [
       "<matplotlib.legend.Legend at 0x15556ed90>"
      ]
     },
     "execution_count": 19,
     "metadata": {},
     "output_type": "execute_result"
    },
    {
     "data": {
      "image/png": "[encoded data removed]",
      "text/plain": [
       "<Figure size 432x288 with 1 Axes>"
      ]
     },
     "metadata": {
      "needs_background": "light"
     },
     "output_type": "display_data"
    }
   ],
   "source": [
    "plt.plot(y_test.index, y_pred, label='y_pred')\n",
    "plt.plot(y_test.index, y_test, label='y_test')\n",
    "plt.legend()"
   ]
  },
  {
   "cell_type": "markdown",
   "id": "472224c2",
   "metadata": {},
   "source": [
    "## Without arima"
   ]
  },
  {
   "cell_type": "code",
   "execution_count": null,
   "id": "adeb9719",
   "metadata": {
    "ExecuteTime": {
     "end_time": "2022-01-11T13:20:29.663465Z",
     "start_time": "2022-01-11T13:20:29.655371Z"
    }
   },
   "outputs": [],
   "source": [
    "no_arima_df = comb_df.drop(columns='arima_pred')\n",
    "no_arima_df"
   ]
  },
  {
   "cell_type": "code",
   "execution_count": null,
   "id": "543809d7",
   "metadata": {
    "ExecuteTime": {
     "end_time": "2022-01-11T13:20:29.669783Z",
     "start_time": "2022-01-11T13:20:29.666560Z"
    }
   },
   "outputs": [],
   "source": [
    "X_train_na = no_arima_df[['RF_pred', 'LSTM_pred']][0:int(train_length)]\n",
    "X_test_na = no_arima_df[['RF_pred', 'LSTM_pred']][int(train_length):]"
   ]
  },
  {
   "cell_type": "code",
   "execution_count": null,
   "id": "3f7bb60e",
   "metadata": {
    "ExecuteTime": {
     "end_time": "2022-01-11T13:37:31.517062Z",
     "start_time": "2022-01-11T13:37:31.497279Z"
    }
   },
   "outputs": [],
   "source": [
    "X_train_na"
   ]
  },
  {
   "cell_type": "code",
   "execution_count": null,
   "id": "3d7f7b33",
   "metadata": {
    "ExecuteTime": {
     "end_time": "2022-01-11T13:20:29.683988Z",
     "start_time": "2022-01-11T13:20:29.679059Z"
    }
   },
   "outputs": [],
   "source": [
    "model = LinearRegression()\n",
    "model.fit(X_train_na, y_train)"
   ]
  },
  {
   "cell_type": "code",
   "execution_count": null,
   "id": "31ac08dd",
   "metadata": {
    "ExecuteTime": {
     "end_time": "2022-01-11T13:20:47.812156Z",
     "start_time": "2022-01-11T13:20:47.798885Z"
    }
   },
   "outputs": [],
   "source": [
    "model.score(X_test_na, y_test)"
   ]
  },
  {
   "cell_type": "code",
   "execution_count": null,
   "id": "b962e0da",
   "metadata": {
    "ExecuteTime": {
     "end_time": "2022-01-11T13:21:23.236744Z",
     "start_time": "2022-01-11T13:21:23.229476Z"
    }
   },
   "outputs": [],
   "source": [
    "new_y_pred = model.predict(X_test_na)"
   ]
  },
  {
   "cell_type": "code",
   "execution_count": null,
   "id": "22b0a7f6",
   "metadata": {
    "ExecuteTime": {
     "end_time": "2022-01-11T13:21:31.590329Z",
     "start_time": "2022-01-11T13:21:31.582038Z"
    }
   },
   "outputs": [],
   "source": [
    "metrics.mean_absolute_error(y_test, new_y_pred)"
   ]
  },
  {
   "cell_type": "markdown",
   "id": "57521c7e",
   "metadata": {},
   "source": [
    "## Plot graph"
   ]
  },
  {
   "cell_type": "code",
   "execution_count": null,
   "id": "de0ee450",
   "metadata": {
    "ExecuteTime": {
     "end_time": "2022-01-11T13:22:34.307353Z",
     "start_time": "2022-01-11T13:22:34.181992Z"
    }
   },
   "outputs": [],
   "source": [
    "plt.plot(y_test.index, new_y_pred, label='y_pred')\n",
    "plt.plot(y_test.index, y_test, label='y_test')\n",
    "plt.legend();"
   ]
  },
  {
   "cell_type": "markdown",
   "id": "76b4a66e",
   "metadata": {},
   "source": [
    "## Ridge Regression"
   ]
  },
  {
   "cell_type": "code",
   "execution_count": null,
   "id": "8acb4499",
   "metadata": {
    "ExecuteTime": {
     "end_time": "2022-01-11T13:39:55.313751Z",
     "start_time": "2022-01-11T13:39:55.307479Z"
    }
   },
   "outputs": [],
   "source": [
    "from sklearn import linear_model"
   ]
  },
  {
   "cell_type": "code",
   "execution_count": null,
   "id": "715759f0",
   "metadata": {
    "ExecuteTime": {
     "end_time": "2022-01-11T13:40:28.054367Z",
     "start_time": "2022-01-11T13:40:28.034725Z"
    }
   },
   "outputs": [],
   "source": [
    "reg = linear_model.Ridge(alpha=.5)\n",
    "reg.fit(X_train_na, y_train)"
   ]
  },
  {
   "cell_type": "code",
   "execution_count": null,
   "id": "fc56514b",
   "metadata": {
    "ExecuteTime": {
     "end_time": "2022-01-11T13:40:43.619196Z",
     "start_time": "2022-01-11T13:40:43.602122Z"
    }
   },
   "outputs": [],
   "source": [
    "reg.score(X_test_na, y_test)"
   ]
  },
  {
   "cell_type": "code",
   "execution_count": null,
   "id": "179399d5",
   "metadata": {
    "ExecuteTime": {
     "end_time": "2022-01-11T13:41:27.921455Z",
     "start_time": "2022-01-11T13:41:27.912432Z"
    }
   },
   "outputs": [],
   "source": [
    "reg_y_pred = reg.predict(X_test_na)"
   ]
  },
  {
   "cell_type": "code",
   "execution_count": null,
   "id": "7440b0ad",
   "metadata": {
    "ExecuteTime": {
     "end_time": "2022-01-11T13:41:32.094260Z",
     "start_time": "2022-01-11T13:41:32.082356Z"
    }
   },
   "outputs": [],
   "source": [
    "metrics.mean_absolute_error(y_test, reg_y_pred)"
   ]
  },
  {
   "cell_type": "code",
   "execution_count": null,
   "id": "1af93a11",
   "metadata": {
    "ExecuteTime": {
     "end_time": "2022-01-11T13:41:55.549615Z",
     "start_time": "2022-01-11T13:41:55.422484Z"
    }
   },
   "outputs": [],
   "source": [
    "plt.plot(y_test.index, reg_y_pred, label='y_pred')\n",
    "plt.plot(y_test.index, y_test, label='y_test')\n",
    "plt.legend();"
   ]
  },
  {
   "cell_type": "code",
   "execution_count": null,
   "id": "229da5e7",
   "metadata": {},
   "outputs": [],
   "source": []
  }
 ],
 "metadata": {
  "kernelspec": {
   "display_name": "Python 3 (ipykernel)",
   "language": "python",
   "name": "python3"
  },
  "language_info": {
   "codemirror_mode": {
    "name": "ipython",
    "version": 3
   },
   "file_extension": ".py",
   "mimetype": "text/x-python",
   "name": "python",
   "nbconvert_exporter": "python",
   "pygments_lexer": "ipython3",
   "version": "3.8.12"
  },
  "toc": {
   "base_numbering": 1,
   "nav_menu": {},
   "number_sections": true,
   "sideBar": true,
   "skip_h1_title": false,
   "title_cell": "Table of Contents",
   "title_sidebar": "Contents",
   "toc_cell": false,
   "toc_position": {},
   "toc_section_display": true,
   "toc_window_display": false
  },
  "varInspector": {
   "cols": {
    "lenName": 16,
    "lenType": 16,
    "lenVar": 40
   },
   "kernels_config": {
    "python": {
     "delete_cmd_postfix": "",
     "delete_cmd_prefix": "del ",
     "library": "var_list.py",
     "varRefreshCmd": "print(var_dic_list())"
    },
    "r": {
     "delete_cmd_postfix": ") ",
     "delete_cmd_prefix": "rm(",
     "library": "var_list.r",
     "varRefreshCmd": "cat(var_dic_list()) "
    }
   },
   "types_to_exclude": [
    "module",
    "function",
    "builtin_function_or_method",
    "instance",
    "_Feature"
   ],
   "window_display": false
  }
 },
 "nbformat": 4,
 "nbformat_minor": 5
}
