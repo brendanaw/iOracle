{
 "cells": [
  {
   "cell_type": "code",
   "execution_count": 2,
   "id": "df8cf472",
   "metadata": {
    "ExecuteTime": {
     "end_time": "2022-01-19T08:38:54.836970Z",
     "start_time": "2022-01-19T08:38:53.971881Z"
    }
   },
   "outputs": [],
   "source": [
    "import yfinance as yf\n",
    "import pandas as pd\n",
    "import numpy as np\n",
    "import matplotlib.pyplot as plt\n",
    "import datetime \n",
    "import ta\n",
    "from sklearn.tree import DecisionTreeRegressor\n",
    "from sklearn.ensemble import RandomForestRegressor\n",
    "from sklearn.model_selection import cross_validate, ParameterGrid, train_test_split, GridSearchCV, RandomizedSearchCV, learning_curve\n",
    "from sklearn import metrics\n",
    "from sklearn.preprocessing import StandardScaler\n",
    "from sklearn.linear_model import LinearRegression\n",
    "from ta.momentum import RSIIndicator\n",
    "from ta.trend import SMAIndicator\n",
    "from ta.volatility import BollingerBands\n",
    "from datetime import datetime as dt\n",
    "import joblib"
   ]
  },
  {
   "cell_type": "markdown",
   "id": "3ad09d76",
   "metadata": {},
   "source": [
    "## Import CSVs"
   ]
  },
  {
   "cell_type": "code",
   "execution_count": 3,
   "id": "e085309b",
   "metadata": {
    "ExecuteTime": {
     "end_time": "2022-01-19T08:38:57.882226Z",
     "start_time": "2022-01-19T08:38:57.857380Z"
    }
   },
   "outputs": [
    {
     "data": {
      "text/html": [
       "<div>\n",
       "<style scoped>\n",
       "    .dataframe tbody tr th:only-of-type {\n",
       "        vertical-align: middle;\n",
       "    }\n",
       "\n",
       "    .dataframe tbody tr th {\n",
       "        vertical-align: top;\n",
       "    }\n",
       "\n",
       "    .dataframe thead th {\n",
       "        text-align: right;\n",
       "    }\n",
       "</style>\n",
       "<table border=\"1\" class=\"dataframe\">\n",
       "  <thead>\n",
       "    <tr style=\"text-align: right;\">\n",
       "      <th></th>\n",
       "      <th>actual</th>\n",
       "      <th>y_pred_LSTM</th>\n",
       "    </tr>\n",
       "    <tr>\n",
       "      <th>Date</th>\n",
       "      <th></th>\n",
       "      <th></th>\n",
       "    </tr>\n",
       "  </thead>\n",
       "  <tbody>\n",
       "    <tr>\n",
       "      <th>2021-01-04</th>\n",
       "      <td>128.189713</td>\n",
       "      <td>37.250351</td>\n",
       "    </tr>\n",
       "    <tr>\n",
       "      <th>2021-01-05</th>\n",
       "      <td>128.010849</td>\n",
       "      <td>37.244179</td>\n",
       "    </tr>\n",
       "    <tr>\n",
       "      <th>2021-01-06</th>\n",
       "      <td>130.088043</td>\n",
       "      <td>36.586369</td>\n",
       "    </tr>\n",
       "    <tr>\n",
       "      <th>2021-01-07</th>\n",
       "      <td>128.120163</td>\n",
       "      <td>37.019730</td>\n",
       "    </tr>\n",
       "    <tr>\n",
       "      <th>2021-01-08</th>\n",
       "      <td>126.361008</td>\n",
       "      <td>37.626160</td>\n",
       "    </tr>\n",
       "    <tr>\n",
       "      <th>...</th>\n",
       "      <td>...</td>\n",
       "      <td>...</td>\n",
       "    </tr>\n",
       "    <tr>\n",
       "      <th>2021-12-17</th>\n",
       "      <td>180.330002</td>\n",
       "      <td>120.968719</td>\n",
       "    </tr>\n",
       "    <tr>\n",
       "      <th>2021-12-20</th>\n",
       "      <td>179.289993</td>\n",
       "      <td>119.670441</td>\n",
       "    </tr>\n",
       "    <tr>\n",
       "      <th>2021-12-21</th>\n",
       "      <td>179.380005</td>\n",
       "      <td>117.874374</td>\n",
       "    </tr>\n",
       "    <tr>\n",
       "      <th>2021-12-22</th>\n",
       "      <td>178.199997</td>\n",
       "      <td>116.365707</td>\n",
       "    </tr>\n",
       "    <tr>\n",
       "      <th>2021-12-23</th>\n",
       "      <td>177.570007</td>\n",
       "      <td>115.801765</td>\n",
       "    </tr>\n",
       "  </tbody>\n",
       "</table>\n",
       "<p>247 rows × 2 columns</p>\n",
       "</div>"
      ],
      "text/plain": [
       "                actual  y_pred_LSTM\n",
       "Date                               \n",
       "2021-01-04  128.189713    37.250351\n",
       "2021-01-05  128.010849    37.244179\n",
       "2021-01-06  130.088043    36.586369\n",
       "2021-01-07  128.120163    37.019730\n",
       "2021-01-08  126.361008    37.626160\n",
       "...                ...          ...\n",
       "2021-12-17  180.330002   120.968719\n",
       "2021-12-20  179.289993   119.670441\n",
       "2021-12-21  179.380005   117.874374\n",
       "2021-12-22  178.199997   116.365707\n",
       "2021-12-23  177.570007   115.801765\n",
       "\n",
       "[247 rows x 2 columns]"
      ]
     },
     "execution_count": 3,
     "metadata": {},
     "output_type": "execute_result"
    }
   ],
   "source": [
    "lstm_pred = pd.read_pickle('lstm_result.pickle')\n",
    "lstm_pred"
   ]
  },
  {
   "cell_type": "code",
   "execution_count": 4,
   "id": "ee617870",
   "metadata": {
    "ExecuteTime": {
     "end_time": "2022-01-19T08:38:57.934584Z",
     "start_time": "2022-01-19T08:38:57.884274Z"
    }
   },
   "outputs": [],
   "source": [
    "rf_pred = pd.read_csv('csv/rf_random.csv', index_col=0)\n",
    "# arima_pred = pd.read_csv('csv/arima.csv', index_col=0)\n",
    "# lstm_pred = pd.read_csv('csv/lstm_pred.csv', index_col=0)"
   ]
  },
  {
   "cell_type": "markdown",
   "id": "560b54e1",
   "metadata": {},
   "source": [
    "## Format rf_pred"
   ]
  },
  {
   "cell_type": "code",
   "execution_count": 5,
   "id": "940b718f",
   "metadata": {
    "ExecuteTime": {
     "end_time": "2022-01-19T08:39:04.367311Z",
     "start_time": "2022-01-19T08:39:04.361698Z"
    },
    "scrolled": true
   },
   "outputs": [],
   "source": [
    "rf_pred.index = pd.to_datetime(rf_pred.index)"
   ]
  },
  {
   "cell_type": "code",
   "execution_count": 6,
   "id": "8dfbb10e",
   "metadata": {
    "ExecuteTime": {
     "end_time": "2022-01-19T08:39:04.420632Z",
     "start_time": "2022-01-19T08:39:04.370374Z"
    },
    "scrolled": true
   },
   "outputs": [
    {
     "data": {
      "text/html": [
       "<div>\n",
       "<style scoped>\n",
       "    .dataframe tbody tr th:only-of-type {\n",
       "        vertical-align: middle;\n",
       "    }\n",
       "\n",
       "    .dataframe tbody tr th {\n",
       "        vertical-align: top;\n",
       "    }\n",
       "\n",
       "    .dataframe thead th {\n",
       "        text-align: right;\n",
       "    }\n",
       "</style>\n",
       "<table border=\"1\" class=\"dataframe\">\n",
       "  <thead>\n",
       "    <tr style=\"text-align: right;\">\n",
       "      <th></th>\n",
       "      <th>Actual</th>\n",
       "      <th>RF_pred</th>\n",
       "    </tr>\n",
       "    <tr>\n",
       "      <th>Date</th>\n",
       "      <th></th>\n",
       "      <th></th>\n",
       "    </tr>\n",
       "  </thead>\n",
       "  <tbody>\n",
       "    <tr>\n",
       "      <th>2021-01-04</th>\n",
       "      <td>128.189713</td>\n",
       "      <td>133.982366</td>\n",
       "    </tr>\n",
       "    <tr>\n",
       "      <th>2021-01-05</th>\n",
       "      <td>128.010849</td>\n",
       "      <td>130.505458</td>\n",
       "    </tr>\n",
       "    <tr>\n",
       "      <th>2021-01-06</th>\n",
       "      <td>130.088043</td>\n",
       "      <td>133.982366</td>\n",
       "    </tr>\n",
       "    <tr>\n",
       "      <th>2021-01-07</th>\n",
       "      <td>128.120163</td>\n",
       "      <td>129.519951</td>\n",
       "    </tr>\n",
       "    <tr>\n",
       "      <th>2021-01-08</th>\n",
       "      <td>126.361008</td>\n",
       "      <td>130.012704</td>\n",
       "    </tr>\n",
       "    <tr>\n",
       "      <th>...</th>\n",
       "      <td>...</td>\n",
       "      <td>...</td>\n",
       "    </tr>\n",
       "    <tr>\n",
       "      <th>2021-12-17</th>\n",
       "      <td>180.330002</td>\n",
       "      <td>133.170698</td>\n",
       "    </tr>\n",
       "    <tr>\n",
       "      <th>2021-12-20</th>\n",
       "      <td>179.289993</td>\n",
       "      <td>130.012704</td>\n",
       "    </tr>\n",
       "    <tr>\n",
       "      <th>2021-12-21</th>\n",
       "      <td>179.380005</td>\n",
       "      <td>130.992063</td>\n",
       "    </tr>\n",
       "    <tr>\n",
       "      <th>2021-12-22</th>\n",
       "      <td>178.199997</td>\n",
       "      <td>130.992063</td>\n",
       "    </tr>\n",
       "    <tr>\n",
       "      <th>2021-12-23</th>\n",
       "      <td>177.570007</td>\n",
       "      <td>130.992063</td>\n",
       "    </tr>\n",
       "  </tbody>\n",
       "</table>\n",
       "<p>247 rows × 2 columns</p>\n",
       "</div>"
      ],
      "text/plain": [
       "                Actual     RF_pred\n",
       "Date                              \n",
       "2021-01-04  128.189713  133.982366\n",
       "2021-01-05  128.010849  130.505458\n",
       "2021-01-06  130.088043  133.982366\n",
       "2021-01-07  128.120163  129.519951\n",
       "2021-01-08  126.361008  130.012704\n",
       "...                ...         ...\n",
       "2021-12-17  180.330002  133.170698\n",
       "2021-12-20  179.289993  130.012704\n",
       "2021-12-21  179.380005  130.992063\n",
       "2021-12-22  178.199997  130.992063\n",
       "2021-12-23  177.570007  130.992063\n",
       "\n",
       "[247 rows x 2 columns]"
      ]
     },
     "execution_count": 6,
     "metadata": {},
     "output_type": "execute_result"
    }
   ],
   "source": [
    "rf_pred.drop(columns='Residual', inplace=True)\n",
    "rf_pred"
   ]
  },
  {
   "cell_type": "markdown",
   "id": "4859ff5f",
   "metadata": {},
   "source": [
    "## Format lstm_pred"
   ]
  },
  {
   "cell_type": "code",
   "execution_count": 7,
   "id": "0a8694b2",
   "metadata": {
    "ExecuteTime": {
     "end_time": "2022-01-19T08:39:11.892009Z",
     "start_time": "2022-01-19T08:39:11.885405Z"
    }
   },
   "outputs": [],
   "source": [
    "lstm_pred.index = pd.to_datetime(lstm_pred.index)"
   ]
  },
  {
   "cell_type": "code",
   "execution_count": 8,
   "id": "82727d66",
   "metadata": {
    "ExecuteTime": {
     "end_time": "2022-01-19T08:39:11.935091Z",
     "start_time": "2022-01-19T08:39:11.895421Z"
    },
    "scrolled": true
   },
   "outputs": [],
   "source": [
    "lstm_pred.drop(columns='actual', inplace=True)"
   ]
  },
  {
   "cell_type": "code",
   "execution_count": 9,
   "id": "0f838517",
   "metadata": {
    "ExecuteTime": {
     "end_time": "2022-01-19T08:39:11.948577Z",
     "start_time": "2022-01-19T08:39:11.937812Z"
    },
    "scrolled": true
   },
   "outputs": [
    {
     "data": {
      "text/html": [
       "<div>\n",
       "<style scoped>\n",
       "    .dataframe tbody tr th:only-of-type {\n",
       "        vertical-align: middle;\n",
       "    }\n",
       "\n",
       "    .dataframe tbody tr th {\n",
       "        vertical-align: top;\n",
       "    }\n",
       "\n",
       "    .dataframe thead th {\n",
       "        text-align: right;\n",
       "    }\n",
       "</style>\n",
       "<table border=\"1\" class=\"dataframe\">\n",
       "  <thead>\n",
       "    <tr style=\"text-align: right;\">\n",
       "      <th></th>\n",
       "      <th>y_pred_LSTM</th>\n",
       "    </tr>\n",
       "    <tr>\n",
       "      <th>Date</th>\n",
       "      <th></th>\n",
       "    </tr>\n",
       "  </thead>\n",
       "  <tbody>\n",
       "    <tr>\n",
       "      <th>2021-01-04</th>\n",
       "      <td>37.250351</td>\n",
       "    </tr>\n",
       "    <tr>\n",
       "      <th>2021-01-05</th>\n",
       "      <td>37.244179</td>\n",
       "    </tr>\n",
       "    <tr>\n",
       "      <th>2021-01-06</th>\n",
       "      <td>36.586369</td>\n",
       "    </tr>\n",
       "    <tr>\n",
       "      <th>2021-01-07</th>\n",
       "      <td>37.019730</td>\n",
       "    </tr>\n",
       "    <tr>\n",
       "      <th>2021-01-08</th>\n",
       "      <td>37.626160</td>\n",
       "    </tr>\n",
       "    <tr>\n",
       "      <th>...</th>\n",
       "      <td>...</td>\n",
       "    </tr>\n",
       "    <tr>\n",
       "      <th>2021-12-17</th>\n",
       "      <td>120.968719</td>\n",
       "    </tr>\n",
       "    <tr>\n",
       "      <th>2021-12-20</th>\n",
       "      <td>119.670441</td>\n",
       "    </tr>\n",
       "    <tr>\n",
       "      <th>2021-12-21</th>\n",
       "      <td>117.874374</td>\n",
       "    </tr>\n",
       "    <tr>\n",
       "      <th>2021-12-22</th>\n",
       "      <td>116.365707</td>\n",
       "    </tr>\n",
       "    <tr>\n",
       "      <th>2021-12-23</th>\n",
       "      <td>115.801765</td>\n",
       "    </tr>\n",
       "  </tbody>\n",
       "</table>\n",
       "<p>247 rows × 1 columns</p>\n",
       "</div>"
      ],
      "text/plain": [
       "            y_pred_LSTM\n",
       "Date                   \n",
       "2021-01-04    37.250351\n",
       "2021-01-05    37.244179\n",
       "2021-01-06    36.586369\n",
       "2021-01-07    37.019730\n",
       "2021-01-08    37.626160\n",
       "...                 ...\n",
       "2021-12-17   120.968719\n",
       "2021-12-20   119.670441\n",
       "2021-12-21   117.874374\n",
       "2021-12-22   116.365707\n",
       "2021-12-23   115.801765\n",
       "\n",
       "[247 rows x 1 columns]"
      ]
     },
     "execution_count": 9,
     "metadata": {},
     "output_type": "execute_result"
    }
   ],
   "source": [
    "lstm_pred"
   ]
  },
  {
   "cell_type": "code",
   "execution_count": 10,
   "id": "fa0fa7ef",
   "metadata": {
    "ExecuteTime": {
     "end_time": "2022-01-19T08:39:11.962781Z",
     "start_time": "2022-01-19T08:39:11.952602Z"
    }
   },
   "outputs": [
    {
     "data": {
      "text/html": [
       "<div>\n",
       "<style scoped>\n",
       "    .dataframe tbody tr th:only-of-type {\n",
       "        vertical-align: middle;\n",
       "    }\n",
       "\n",
       "    .dataframe tbody tr th {\n",
       "        vertical-align: top;\n",
       "    }\n",
       "\n",
       "    .dataframe thead th {\n",
       "        text-align: right;\n",
       "    }\n",
       "</style>\n",
       "<table border=\"1\" class=\"dataframe\">\n",
       "  <thead>\n",
       "    <tr style=\"text-align: right;\">\n",
       "      <th></th>\n",
       "      <th>LSTM_pred</th>\n",
       "    </tr>\n",
       "    <tr>\n",
       "      <th>Date</th>\n",
       "      <th></th>\n",
       "    </tr>\n",
       "  </thead>\n",
       "  <tbody>\n",
       "    <tr>\n",
       "      <th>2021-01-04</th>\n",
       "      <td>37.250351</td>\n",
       "    </tr>\n",
       "    <tr>\n",
       "      <th>2021-01-05</th>\n",
       "      <td>37.244179</td>\n",
       "    </tr>\n",
       "    <tr>\n",
       "      <th>2021-01-06</th>\n",
       "      <td>36.586369</td>\n",
       "    </tr>\n",
       "    <tr>\n",
       "      <th>2021-01-07</th>\n",
       "      <td>37.019730</td>\n",
       "    </tr>\n",
       "    <tr>\n",
       "      <th>2021-01-08</th>\n",
       "      <td>37.626160</td>\n",
       "    </tr>\n",
       "    <tr>\n",
       "      <th>...</th>\n",
       "      <td>...</td>\n",
       "    </tr>\n",
       "    <tr>\n",
       "      <th>2021-12-17</th>\n",
       "      <td>120.968719</td>\n",
       "    </tr>\n",
       "    <tr>\n",
       "      <th>2021-12-20</th>\n",
       "      <td>119.670441</td>\n",
       "    </tr>\n",
       "    <tr>\n",
       "      <th>2021-12-21</th>\n",
       "      <td>117.874374</td>\n",
       "    </tr>\n",
       "    <tr>\n",
       "      <th>2021-12-22</th>\n",
       "      <td>116.365707</td>\n",
       "    </tr>\n",
       "    <tr>\n",
       "      <th>2021-12-23</th>\n",
       "      <td>115.801765</td>\n",
       "    </tr>\n",
       "  </tbody>\n",
       "</table>\n",
       "<p>247 rows × 1 columns</p>\n",
       "</div>"
      ],
      "text/plain": [
       "             LSTM_pred\n",
       "Date                  \n",
       "2021-01-04   37.250351\n",
       "2021-01-05   37.244179\n",
       "2021-01-06   36.586369\n",
       "2021-01-07   37.019730\n",
       "2021-01-08   37.626160\n",
       "...                ...\n",
       "2021-12-17  120.968719\n",
       "2021-12-20  119.670441\n",
       "2021-12-21  117.874374\n",
       "2021-12-22  116.365707\n",
       "2021-12-23  115.801765\n",
       "\n",
       "[247 rows x 1 columns]"
      ]
     },
     "execution_count": 10,
     "metadata": {},
     "output_type": "execute_result"
    }
   ],
   "source": [
    "lstm_pred.rename(columns={'y_pred_LSTM':'LSTM_pred'}, inplace=True)\n",
    "lstm_pred"
   ]
  },
  {
   "cell_type": "markdown",
   "id": "b7e4c8a2",
   "metadata": {},
   "source": [
    "## Combine all dfs"
   ]
  },
  {
   "cell_type": "code",
   "execution_count": 11,
   "id": "32ccbe51",
   "metadata": {
    "ExecuteTime": {
     "end_time": "2022-01-19T08:39:23.569207Z",
     "start_time": "2022-01-19T08:39:23.549485Z"
    },
    "scrolled": false
   },
   "outputs": [
    {
     "data": {
      "text/html": [
       "<div>\n",
       "<style scoped>\n",
       "    .dataframe tbody tr th:only-of-type {\n",
       "        vertical-align: middle;\n",
       "    }\n",
       "\n",
       "    .dataframe tbody tr th {\n",
       "        vertical-align: top;\n",
       "    }\n",
       "\n",
       "    .dataframe thead th {\n",
       "        text-align: right;\n",
       "    }\n",
       "</style>\n",
       "<table border=\"1\" class=\"dataframe\">\n",
       "  <thead>\n",
       "    <tr style=\"text-align: right;\">\n",
       "      <th></th>\n",
       "      <th>Actual</th>\n",
       "      <th>RF_pred</th>\n",
       "      <th>LSTM_pred</th>\n",
       "    </tr>\n",
       "    <tr>\n",
       "      <th>Date</th>\n",
       "      <th></th>\n",
       "      <th></th>\n",
       "      <th></th>\n",
       "    </tr>\n",
       "  </thead>\n",
       "  <tbody>\n",
       "    <tr>\n",
       "      <th>2021-01-04</th>\n",
       "      <td>128.189713</td>\n",
       "      <td>133.982366</td>\n",
       "      <td>37.250351</td>\n",
       "    </tr>\n",
       "    <tr>\n",
       "      <th>2021-01-05</th>\n",
       "      <td>128.010849</td>\n",
       "      <td>130.505458</td>\n",
       "      <td>37.244179</td>\n",
       "    </tr>\n",
       "    <tr>\n",
       "      <th>2021-01-06</th>\n",
       "      <td>130.088043</td>\n",
       "      <td>133.982366</td>\n",
       "      <td>36.586369</td>\n",
       "    </tr>\n",
       "    <tr>\n",
       "      <th>2021-01-07</th>\n",
       "      <td>128.120163</td>\n",
       "      <td>129.519951</td>\n",
       "      <td>37.019730</td>\n",
       "    </tr>\n",
       "    <tr>\n",
       "      <th>2021-01-08</th>\n",
       "      <td>126.361008</td>\n",
       "      <td>130.012704</td>\n",
       "      <td>37.626160</td>\n",
       "    </tr>\n",
       "    <tr>\n",
       "      <th>...</th>\n",
       "      <td>...</td>\n",
       "      <td>...</td>\n",
       "      <td>...</td>\n",
       "    </tr>\n",
       "    <tr>\n",
       "      <th>2021-12-17</th>\n",
       "      <td>180.330002</td>\n",
       "      <td>133.170698</td>\n",
       "      <td>120.968719</td>\n",
       "    </tr>\n",
       "    <tr>\n",
       "      <th>2021-12-20</th>\n",
       "      <td>179.289993</td>\n",
       "      <td>130.012704</td>\n",
       "      <td>119.670441</td>\n",
       "    </tr>\n",
       "    <tr>\n",
       "      <th>2021-12-21</th>\n",
       "      <td>179.380005</td>\n",
       "      <td>130.992063</td>\n",
       "      <td>117.874374</td>\n",
       "    </tr>\n",
       "    <tr>\n",
       "      <th>2021-12-22</th>\n",
       "      <td>178.199997</td>\n",
       "      <td>130.992063</td>\n",
       "      <td>116.365707</td>\n",
       "    </tr>\n",
       "    <tr>\n",
       "      <th>2021-12-23</th>\n",
       "      <td>177.570007</td>\n",
       "      <td>130.992063</td>\n",
       "      <td>115.801765</td>\n",
       "    </tr>\n",
       "  </tbody>\n",
       "</table>\n",
       "<p>247 rows × 3 columns</p>\n",
       "</div>"
      ],
      "text/plain": [
       "                Actual     RF_pred   LSTM_pred\n",
       "Date                                          \n",
       "2021-01-04  128.189713  133.982366   37.250351\n",
       "2021-01-05  128.010849  130.505458   37.244179\n",
       "2021-01-06  130.088043  133.982366   36.586369\n",
       "2021-01-07  128.120163  129.519951   37.019730\n",
       "2021-01-08  126.361008  130.012704   37.626160\n",
       "...                ...         ...         ...\n",
       "2021-12-17  180.330002  133.170698  120.968719\n",
       "2021-12-20  179.289993  130.012704  119.670441\n",
       "2021-12-21  179.380005  130.992063  117.874374\n",
       "2021-12-22  178.199997  130.992063  116.365707\n",
       "2021-12-23  177.570007  130.992063  115.801765\n",
       "\n",
       "[247 rows x 3 columns]"
      ]
     },
     "execution_count": 11,
     "metadata": {},
     "output_type": "execute_result"
    }
   ],
   "source": [
    "comb_df = rf_pred.merge(lstm_pred, left_on='Date', right_on='Date')\n",
    "comb_df"
   ]
  },
  {
   "cell_type": "markdown",
   "id": "fe6350cc",
   "metadata": {},
   "source": [
    "## Splitting the Data "
   ]
  },
  {
   "cell_type": "code",
   "execution_count": 12,
   "id": "1d43e5d6",
   "metadata": {
    "ExecuteTime": {
     "end_time": "2022-01-19T08:39:23.576728Z",
     "start_time": "2022-01-19T08:39:23.573754Z"
    }
   },
   "outputs": [],
   "source": [
    "train_length = len(comb_df)*0.8\n",
    "test_length = len(comb_df)*0.2"
   ]
  },
  {
   "cell_type": "code",
   "execution_count": 13,
   "id": "405fd805",
   "metadata": {
    "ExecuteTime": {
     "end_time": "2022-01-19T08:39:23.585582Z",
     "start_time": "2022-01-19T08:39:23.578588Z"
    }
   },
   "outputs": [],
   "source": [
    "X_train = comb_df[['RF_pred','LSTM_pred']][0:int(train_length)]\n",
    "y_train = comb_df['Actual'][0:int(train_length)]\n",
    "X_test = comb_df[['RF_pred','LSTM_pred']][int(train_length):]\n",
    "y_test = comb_df['Actual'][int(train_length):]"
   ]
  },
  {
   "cell_type": "markdown",
   "id": "3630abf3",
   "metadata": {},
   "source": [
    "## Fit linear model"
   ]
  },
  {
   "cell_type": "code",
   "execution_count": 14,
   "id": "84aebc51",
   "metadata": {
    "ExecuteTime": {
     "end_time": "2022-01-19T08:39:23.601274Z",
     "start_time": "2022-01-19T08:39:23.588322Z"
    }
   },
   "outputs": [
    {
     "data": {
      "text/plain": [
       "LinearRegression()"
      ]
     },
     "execution_count": 14,
     "metadata": {},
     "output_type": "execute_result"
    }
   ],
   "source": [
    "model = LinearRegression()\n",
    "model.fit(X_train, y_train)"
   ]
  },
  {
   "cell_type": "code",
   "execution_count": 15,
   "id": "11e8f2f1",
   "metadata": {
    "ExecuteTime": {
     "end_time": "2022-01-19T08:39:23.612332Z",
     "start_time": "2022-01-19T08:39:23.603973Z"
    }
   },
   "outputs": [
    {
     "data": {
      "text/plain": [
       "['rf_lstm_linear.joblib']"
      ]
     },
     "execution_count": 15,
     "metadata": {},
     "output_type": "execute_result"
    }
   ],
   "source": [
    "joblib.dump(model, 'rf_lstm_linear.joblib')"
   ]
  },
  {
   "cell_type": "code",
   "execution_count": 16,
   "id": "8dd54e49",
   "metadata": {
    "ExecuteTime": {
     "end_time": "2022-01-19T08:39:23.624507Z",
     "start_time": "2022-01-19T08:39:23.615785Z"
    }
   },
   "outputs": [
    {
     "data": {
      "text/plain": [
       "0.37646645354331354"
      ]
     },
     "execution_count": 16,
     "metadata": {},
     "output_type": "execute_result"
    }
   ],
   "source": [
    "model.score(X_test, y_test)"
   ]
  },
  {
   "cell_type": "code",
   "execution_count": 17,
   "id": "1d5168a2",
   "metadata": {
    "ExecuteTime": {
     "end_time": "2022-01-19T08:39:23.632822Z",
     "start_time": "2022-01-19T08:39:23.626702Z"
    }
   },
   "outputs": [],
   "source": [
    "y_pred = model.predict(X_test)"
   ]
  },
  {
   "cell_type": "code",
   "execution_count": 18,
   "id": "7f80dc6e",
   "metadata": {
    "ExecuteTime": {
     "end_time": "2022-01-19T08:39:23.642068Z",
     "start_time": "2022-01-19T08:39:23.634794Z"
    }
   },
   "outputs": [
    {
     "data": {
      "text/plain": [
       "7.59836497886138"
      ]
     },
     "execution_count": 18,
     "metadata": {},
     "output_type": "execute_result"
    }
   ],
   "source": [
    "metrics.mean_absolute_error(y_test, y_pred)"
   ]
  },
  {
   "cell_type": "markdown",
   "id": "b1fd0e82",
   "metadata": {},
   "source": []
  },
  {
   "cell_type": "code",
   "execution_count": 19,
   "id": "ecdf4953",
   "metadata": {
    "ExecuteTime": {
     "end_time": "2022-01-19T08:39:23.751857Z",
     "start_time": "2022-01-19T08:39:23.644728Z"
    }
   },
   "outputs": [
    {
     "data": {
      "text/plain": [
       "<matplotlib.legend.Legend at 0x7f0f8d1fcdf0>"
      ]
     },
     "execution_count": 19,
     "metadata": {},
     "output_type": "execute_result"
    },
    {
     "data": {
      "image/png": "[encoded data removed]",
      "text/plain": [
       "<Figure size 432x288 with 1 Axes>"
      ]
     },
     "metadata": {
      "needs_background": "light"
     },
     "output_type": "display_data"
    }
   ],
   "source": [
    "plt.plot(y_test.index, y_pred, label='y_pred')\n",
    "plt.plot(y_test.index, y_test, label='y_test')\n",
    "plt.legend()"
   ]
  },
  {
   "cell_type": "markdown",
   "id": "fb4c2254",
   "metadata": {
    "ExecuteTime": {
     "end_time": "2022-01-19T08:30:56.898967Z",
     "start_time": "2022-01-19T08:30:56.893483Z"
    }
   },
   "source": [
    "## format arima"
   ]
  },
  {
   "cell_type": "code",
   "execution_count": 25,
   "id": "38d95af0",
   "metadata": {
    "ExecuteTime": {
     "end_time": "2022-01-19T08:43:19.506507Z",
     "start_time": "2022-01-19T08:43:19.486272Z"
    }
   },
   "outputs": [
    {
     "data": {
      "text/html": [
       "<div>\n",
       "<style scoped>\n",
       "    .dataframe tbody tr th:only-of-type {\n",
       "        vertical-align: middle;\n",
       "    }\n",
       "\n",
       "    .dataframe tbody tr th {\n",
       "        vertical-align: top;\n",
       "    }\n",
       "\n",
       "    .dataframe thead th {\n",
       "        text-align: right;\n",
       "    }\n",
       "</style>\n",
       "<table border=\"1\" class=\"dataframe\">\n",
       "  <thead>\n",
       "    <tr style=\"text-align: right;\">\n",
       "      <th></th>\n",
       "      <th>ARIMA_pred</th>\n",
       "    </tr>\n",
       "    <tr>\n",
       "      <th>Date</th>\n",
       "      <th></th>\n",
       "    </tr>\n",
       "  </thead>\n",
       "  <tbody>\n",
       "    <tr>\n",
       "      <th>2021-01-04</th>\n",
       "      <td>128.333703</td>\n",
       "    </tr>\n",
       "    <tr>\n",
       "      <th>2021-01-05</th>\n",
       "      <td>129.454595</td>\n",
       "    </tr>\n",
       "    <tr>\n",
       "      <th>2021-01-06</th>\n",
       "      <td>122.907843</td>\n",
       "    </tr>\n",
       "    <tr>\n",
       "      <th>2021-01-07</th>\n",
       "      <td>130.062883</td>\n",
       "    </tr>\n",
       "    <tr>\n",
       "      <th>2021-01-08</th>\n",
       "      <td>133.188385</td>\n",
       "    </tr>\n",
       "    <tr>\n",
       "      <th>...</th>\n",
       "      <td>...</td>\n",
       "    </tr>\n",
       "    <tr>\n",
       "      <th>2021-12-17</th>\n",
       "      <td>164.255411</td>\n",
       "    </tr>\n",
       "    <tr>\n",
       "      <th>2021-12-20</th>\n",
       "      <td>163.700089</td>\n",
       "    </tr>\n",
       "    <tr>\n",
       "      <th>2021-12-21</th>\n",
       "      <td>167.684540</td>\n",
       "    </tr>\n",
       "    <tr>\n",
       "      <th>2021-12-22</th>\n",
       "      <td>167.373625</td>\n",
       "    </tr>\n",
       "    <tr>\n",
       "      <th>2021-12-23</th>\n",
       "      <td>167.528290</td>\n",
       "    </tr>\n",
       "  </tbody>\n",
       "</table>\n",
       "<p>247 rows × 1 columns</p>\n",
       "</div>"
      ],
      "text/plain": [
       "            ARIMA_pred\n",
       "Date                  \n",
       "2021-01-04  128.333703\n",
       "2021-01-05  129.454595\n",
       "2021-01-06  122.907843\n",
       "2021-01-07  130.062883\n",
       "2021-01-08  133.188385\n",
       "...                ...\n",
       "2021-12-17  164.255411\n",
       "2021-12-20  163.700089\n",
       "2021-12-21  167.684540\n",
       "2021-12-22  167.373625\n",
       "2021-12-23  167.528290\n",
       "\n",
       "[247 rows x 1 columns]"
      ]
     },
     "execution_count": 25,
     "metadata": {},
     "output_type": "execute_result"
    }
   ],
   "source": [
    "arima_pred = pd.read_csv('csv/arima.csv', index_col=0)\n",
    "arima_pred.index = pd.to_datetime(arima_pred.index)\n",
    "arima_pred = arima_pred.drop(columns='y_actual')\n",
    "arima_pred.columns = ['ARIMA_pred']\n",
    "arima_pred"
   ]
  },
  {
   "cell_type": "markdown",
   "id": "472224c2",
   "metadata": {},
   "source": [
    "## With arima"
   ]
  },
  {
   "cell_type": "code",
   "execution_count": 26,
   "id": "adeb9719",
   "metadata": {
    "ExecuteTime": {
     "end_time": "2022-01-19T08:44:22.883132Z",
     "start_time": "2022-01-19T08:44:22.825909Z"
    }
   },
   "outputs": [
    {
     "data": {
      "text/html": [
       "<div>\n",
       "<style scoped>\n",
       "    .dataframe tbody tr th:only-of-type {\n",
       "        vertical-align: middle;\n",
       "    }\n",
       "\n",
       "    .dataframe tbody tr th {\n",
       "        vertical-align: top;\n",
       "    }\n",
       "\n",
       "    .dataframe thead th {\n",
       "        text-align: right;\n",
       "    }\n",
       "</style>\n",
       "<table border=\"1\" class=\"dataframe\">\n",
       "  <thead>\n",
       "    <tr style=\"text-align: right;\">\n",
       "      <th></th>\n",
       "      <th>Actual</th>\n",
       "      <th>RF_pred</th>\n",
       "      <th>LSTM_pred</th>\n",
       "      <th>ARIMA_pred</th>\n",
       "    </tr>\n",
       "    <tr>\n",
       "      <th>Date</th>\n",
       "      <th></th>\n",
       "      <th></th>\n",
       "      <th></th>\n",
       "      <th></th>\n",
       "    </tr>\n",
       "  </thead>\n",
       "  <tbody>\n",
       "    <tr>\n",
       "      <th>2021-01-04</th>\n",
       "      <td>128.189713</td>\n",
       "      <td>133.982366</td>\n",
       "      <td>37.250351</td>\n",
       "      <td>128.333703</td>\n",
       "    </tr>\n",
       "    <tr>\n",
       "      <th>2021-01-05</th>\n",
       "      <td>128.010849</td>\n",
       "      <td>130.505458</td>\n",
       "      <td>37.244179</td>\n",
       "      <td>129.454595</td>\n",
       "    </tr>\n",
       "    <tr>\n",
       "      <th>2021-01-06</th>\n",
       "      <td>130.088043</td>\n",
       "      <td>133.982366</td>\n",
       "      <td>36.586369</td>\n",
       "      <td>122.907843</td>\n",
       "    </tr>\n",
       "    <tr>\n",
       "      <th>2021-01-07</th>\n",
       "      <td>128.120163</td>\n",
       "      <td>129.519951</td>\n",
       "      <td>37.019730</td>\n",
       "      <td>130.062883</td>\n",
       "    </tr>\n",
       "    <tr>\n",
       "      <th>2021-01-08</th>\n",
       "      <td>126.361008</td>\n",
       "      <td>130.012704</td>\n",
       "      <td>37.626160</td>\n",
       "      <td>133.188385</td>\n",
       "    </tr>\n",
       "    <tr>\n",
       "      <th>...</th>\n",
       "      <td>...</td>\n",
       "      <td>...</td>\n",
       "      <td>...</td>\n",
       "      <td>...</td>\n",
       "    </tr>\n",
       "    <tr>\n",
       "      <th>2021-12-17</th>\n",
       "      <td>180.330002</td>\n",
       "      <td>133.170698</td>\n",
       "      <td>120.968719</td>\n",
       "      <td>164.255411</td>\n",
       "    </tr>\n",
       "    <tr>\n",
       "      <th>2021-12-20</th>\n",
       "      <td>179.289993</td>\n",
       "      <td>130.012704</td>\n",
       "      <td>119.670441</td>\n",
       "      <td>163.700089</td>\n",
       "    </tr>\n",
       "    <tr>\n",
       "      <th>2021-12-21</th>\n",
       "      <td>179.380005</td>\n",
       "      <td>130.992063</td>\n",
       "      <td>117.874374</td>\n",
       "      <td>167.684540</td>\n",
       "    </tr>\n",
       "    <tr>\n",
       "      <th>2021-12-22</th>\n",
       "      <td>178.199997</td>\n",
       "      <td>130.992063</td>\n",
       "      <td>116.365707</td>\n",
       "      <td>167.373625</td>\n",
       "    </tr>\n",
       "    <tr>\n",
       "      <th>2021-12-23</th>\n",
       "      <td>177.570007</td>\n",
       "      <td>130.992063</td>\n",
       "      <td>115.801765</td>\n",
       "      <td>167.528290</td>\n",
       "    </tr>\n",
       "  </tbody>\n",
       "</table>\n",
       "<p>247 rows × 4 columns</p>\n",
       "</div>"
      ],
      "text/plain": [
       "                Actual     RF_pred   LSTM_pred  ARIMA_pred\n",
       "Date                                                      \n",
       "2021-01-04  128.189713  133.982366   37.250351  128.333703\n",
       "2021-01-05  128.010849  130.505458   37.244179  129.454595\n",
       "2021-01-06  130.088043  133.982366   36.586369  122.907843\n",
       "2021-01-07  128.120163  129.519951   37.019730  130.062883\n",
       "2021-01-08  126.361008  130.012704   37.626160  133.188385\n",
       "...                ...         ...         ...         ...\n",
       "2021-12-17  180.330002  133.170698  120.968719  164.255411\n",
       "2021-12-20  179.289993  130.012704  119.670441  163.700089\n",
       "2021-12-21  179.380005  130.992063  117.874374  167.684540\n",
       "2021-12-22  178.199997  130.992063  116.365707  167.373625\n",
       "2021-12-23  177.570007  130.992063  115.801765  167.528290\n",
       "\n",
       "[247 rows x 4 columns]"
      ]
     },
     "execution_count": 26,
     "metadata": {},
     "output_type": "execute_result"
    }
   ],
   "source": [
    "comb3_df = comb_df.join(arima_pred)\n",
    "comb3_df"
   ]
  },
  {
   "cell_type": "code",
   "execution_count": 33,
   "id": "f1818a90",
   "metadata": {
    "ExecuteTime": {
     "end_time": "2022-01-19T08:48:27.637771Z",
     "start_time": "2022-01-19T08:48:27.627717Z"
    }
   },
   "outputs": [],
   "source": [
    "X3_train = comb3_df[['RF_pred','LSTM_pred','ARIMA_pred']][0:int(train_length)]\n",
    "X3_test = comb3_df[['RF_pred','LSTM_pred','ARIMA_pred']][int(train_length):]\n"
   ]
  },
  {
   "cell_type": "code",
   "execution_count": 34,
   "id": "3d7f7b33",
   "metadata": {
    "ExecuteTime": {
     "end_time": "2022-01-19T08:48:27.684571Z",
     "start_time": "2022-01-19T08:48:27.641016Z"
    }
   },
   "outputs": [
    {
     "data": {
      "text/plain": [
       "LinearRegression()"
      ]
     },
     "execution_count": 34,
     "metadata": {},
     "output_type": "execute_result"
    }
   ],
   "source": [
    "model3 = LinearRegression()\n",
    "model3.fit(X3_train, y_train)"
   ]
  },
  {
   "cell_type": "code",
   "execution_count": 35,
   "id": "31ac08dd",
   "metadata": {
    "ExecuteTime": {
     "end_time": "2022-01-19T08:48:27.697936Z",
     "start_time": "2022-01-19T08:48:27.686905Z"
    }
   },
   "outputs": [
    {
     "data": {
      "text/plain": [
       "0.3570590370694525"
      ]
     },
     "execution_count": 35,
     "metadata": {},
     "output_type": "execute_result"
    }
   ],
   "source": [
    "model3.score(X3_test, y_test)"
   ]
  },
  {
   "cell_type": "code",
   "execution_count": 36,
   "id": "b962e0da",
   "metadata": {
    "ExecuteTime": {
     "end_time": "2022-01-19T08:48:27.707221Z",
     "start_time": "2022-01-19T08:48:27.701225Z"
    }
   },
   "outputs": [],
   "source": [
    "y3_pred = model3.predict(X3_test)"
   ]
  },
  {
   "cell_type": "code",
   "execution_count": 37,
   "id": "22b0a7f6",
   "metadata": {
    "ExecuteTime": {
     "end_time": "2022-01-19T08:48:27.716710Z",
     "start_time": "2022-01-19T08:48:27.709088Z"
    }
   },
   "outputs": [
    {
     "data": {
      "text/plain": [
       "7.028217128620859"
      ]
     },
     "execution_count": 37,
     "metadata": {},
     "output_type": "execute_result"
    }
   ],
   "source": [
    "metrics.mean_absolute_error(y_test, y3_pred)"
   ]
  },
  {
   "cell_type": "markdown",
   "id": "6ec3d6ec",
   "metadata": {},
   "source": [
    "## without RF"
   ]
  },
  {
   "cell_type": "code",
   "execution_count": 40,
   "id": "4e93e460",
   "metadata": {
    "ExecuteTime": {
     "end_time": "2022-01-19T08:52:17.246859Z",
     "start_time": "2022-01-19T08:52:17.240368Z"
    }
   },
   "outputs": [],
   "source": [
    "X4_train = comb3_df[['LSTM_pred','ARIMA_pred']][0:int(train_length)]\n",
    "X4_test = comb3_df[['LSTM_pred','ARIMA_pred']][int(train_length):]\n"
   ]
  },
  {
   "cell_type": "code",
   "execution_count": 41,
   "id": "d124ae9b",
   "metadata": {
    "ExecuteTime": {
     "end_time": "2022-01-19T08:52:18.931168Z",
     "start_time": "2022-01-19T08:52:18.918327Z"
    }
   },
   "outputs": [
    {
     "data": {
      "text/plain": [
       "0.35623002116312596"
      ]
     },
     "execution_count": 41,
     "metadata": {},
     "output_type": "execute_result"
    }
   ],
   "source": [
    "model4 = LinearRegression()\n",
    "model4.fit(X4_train, y_train)\n",
    "model4.score(X4_test, y_test)"
   ]
  },
  {
   "cell_type": "code",
   "execution_count": 43,
   "id": "22c4158c",
   "metadata": {
    "ExecuteTime": {
     "end_time": "2022-01-19T08:52:55.823071Z",
     "start_time": "2022-01-19T08:52:55.812999Z"
    }
   },
   "outputs": [
    {
     "data": {
      "text/plain": [
       "7.025184745227412"
      ]
     },
     "execution_count": 43,
     "metadata": {},
     "output_type": "execute_result"
    }
   ],
   "source": [
    "y4_pred = model4.predict(X4_test)\n",
    "metrics.mean_absolute_error(y_test, y4_pred)"
   ]
  },
  {
   "cell_type": "markdown",
   "id": "25a6e9a9",
   "metadata": {},
   "source": [
    "## without LSTM"
   ]
  },
  {
   "cell_type": "code",
   "execution_count": 44,
   "id": "a6503105",
   "metadata": {
    "ExecuteTime": {
     "end_time": "2022-01-19T08:54:03.769630Z",
     "start_time": "2022-01-19T08:54:03.761316Z"
    }
   },
   "outputs": [],
   "source": [
    "X5_train = comb3_df[['RF_pred','ARIMA_pred']][0:int(train_length)]\n",
    "X5_test = comb3_df[['RF_pred','ARIMA_pred']][int(train_length):]"
   ]
  },
  {
   "cell_type": "code",
   "execution_count": 47,
   "id": "bac3ebfa",
   "metadata": {
    "ExecuteTime": {
     "end_time": "2022-01-19T08:54:25.262392Z",
     "start_time": "2022-01-19T08:54:25.250768Z"
    }
   },
   "outputs": [
    {
     "data": {
      "text/plain": [
       "-0.029233822007779908"
      ]
     },
     "execution_count": 47,
     "metadata": {},
     "output_type": "execute_result"
    }
   ],
   "source": [
    "model5 = LinearRegression()\n",
    "model5.fit(X5_train, y_train)\n",
    "model5.score(X5_test, y_test)\n",
    "\n",
    "# does not work"
   ]
  },
  {
   "cell_type": "markdown",
   "id": "bf515665",
   "metadata": {},
   "source": [
    "## Get graphs"
   ]
  },
  {
   "cell_type": "code",
   "execution_count": 61,
   "id": "2874f3be",
   "metadata": {
    "ExecuteTime": {
     "end_time": "2022-01-19T09:29:00.353899Z",
     "start_time": "2022-01-19T09:29:00.246803Z"
    }
   },
   "outputs": [
    {
     "data": {
      "text/plain": [
       "[<matplotlib.lines.Line2D at 0x7f0f87eca730>]"
      ]
     },
     "execution_count": 61,
     "metadata": {},
     "output_type": "execute_result"
    },
    {
     "data": {
      "image/png": "[encoded data removed]",
      "text/plain": [
       "<Figure size 432x288 with 1 Axes>"
      ]
     },
     "metadata": {
      "needs_background": "light"
     },
     "output_type": "display_data"
    }
   ],
   "source": [
    "plt.plot(y_test.index, y_pred, label='RF_LSTM_pred')\n",
    "plt.plot(y_test.index, y3_pred, label='RF_LSTM_ARIMA_pred')\n",
    "plt.plot(y_test.index, y4_pred, label='LSTM_ARIMA_pred')\n",
    "plt.plot(y_test.index, y_test, label='y_test')\n",
    "# plt.legend()"
   ]
  },
  {
   "cell_type": "markdown",
   "id": "5a06175e",
   "metadata": {},
   "source": [
    "## Individual graphs"
   ]
  },
  {
   "cell_type": "code",
   "execution_count": 59,
   "id": "9a9d5c82",
   "metadata": {
    "ExecuteTime": {
     "end_time": "2022-01-19T09:20:38.037675Z",
     "start_time": "2022-01-19T09:20:37.912310Z"
    }
   },
   "outputs": [
    {
     "data": {
      "text/plain": [
       "<matplotlib.legend.Legend at 0x7f0f87e296d0>"
      ]
     },
     "execution_count": 59,
     "metadata": {},
     "output_type": "execute_result"
    },
    {
     "data": {
      "image/png": "[encoded data removed]",
      "text/plain": [
       "<Figure size 432x288 with 1 Axes>"
      ]
     },
     "metadata": {
      "needs_background": "light"
     },
     "output_type": "display_data"
    }
   ],
   "source": [
    "plt.plot(y_test.index, comb3_df['RF_pred'][int(train_length):], label='RF')\n",
    "plt.plot(y_test.index, comb3_df['LSTM_pred'][int(train_length):], label='LSTM')\n",
    "plt.plot(y_test.index,comb3_df['ARIMA_pred'][int(train_length):], label='ARIMA')\n",
    "plt.plot(y_test.index, y_test, label='y_test')\n",
    "plt.legend()"
   ]
  },
  {
   "cell_type": "code",
   "execution_count": 60,
   "id": "a6ab6931",
   "metadata": {
    "ExecuteTime": {
     "end_time": "2022-01-19T09:24:04.439341Z",
     "start_time": "2022-01-19T09:24:04.432705Z"
    }
   },
   "outputs": [
    {
     "name": "stdout",
     "output_type": "stream",
     "text": [
      "7.169204970496094\n"
     ]
    }
   ],
   "source": [
    "print(metrics.mean_absolute_error(y_test, comb3_df['ARIMA_pred'][int(train_length):]))"
   ]
  },
  {
   "cell_type": "markdown",
   "id": "c3b869e9",
   "metadata": {},
   "source": [
    "## Elastic Net CV"
   ]
  },
  {
   "cell_type": "code",
   "execution_count": 51,
   "id": "8acb4499",
   "metadata": {
    "ExecuteTime": {
     "end_time": "2022-01-19T09:09:33.473055Z",
     "start_time": "2022-01-19T09:09:33.468244Z"
    }
   },
   "outputs": [],
   "source": [
    "from sklearn.linear_model import ElasticNetCV\n",
    "from sklearn.model_selection import TimeSeriesSplit"
   ]
  },
  {
   "cell_type": "markdown",
   "id": "da53ea9f",
   "metadata": {},
   "source": [
    "### No Arima"
   ]
  },
  {
   "cell_type": "code",
   "execution_count": 55,
   "id": "715759f0",
   "metadata": {
    "ExecuteTime": {
     "end_time": "2022-01-19T09:17:00.205368Z",
     "start_time": "2022-01-19T09:16:59.911284Z"
    }
   },
   "outputs": [
    {
     "name": "stdout",
     "output_type": "stream",
     "text": [
      "3: 0.08192384728379887, 8.831810580369256\n",
      "4: -0.23002517895545482, 9.8348468854995\n",
      "5: 0.3057913516012819, 8.025940373074919\n",
      "6: 0.20219131999593243, 8.404151422880954\n",
      "7: 0.11101065792575804, 8.72757963741996\n",
      "8: 0.25051141659334464, 8.232638320978605\n",
      "9: 0.13731663475601563, 8.63537144797909\n",
      "10: 0.3140797049039735, 7.992204374340774\n"
     ]
    }
   ],
   "source": [
    "for n in range(3, 11):\n",
    "    cv = TimeSeriesSplit(n_splits=n)\n",
    "    cv.split(X_train)\n",
    "    regr = ElasticNetCV(cv=cv, random_state=0)\n",
    "    regr.fit(X_train, y_train)\n",
    "    print(f'{n}: {regr.score(X_test, y_test)}, {metrics.mean_absolute_error(y_test, regr.predict(X_test))}')\n",
    "    \n"
   ]
  },
  {
   "cell_type": "markdown",
   "id": "e9b6762b",
   "metadata": {
    "ExecuteTime": {
     "end_time": "2022-01-11T13:40:43.619196Z",
     "start_time": "2022-01-11T13:40:43.602122Z"
    }
   },
   "source": [
    "### all3"
   ]
  },
  {
   "cell_type": "code",
   "execution_count": 56,
   "id": "e9ef3d66",
   "metadata": {
    "ExecuteTime": {
     "end_time": "2022-01-19T09:17:09.148008Z",
     "start_time": "2022-01-19T09:17:08.862014Z"
    }
   },
   "outputs": [
    {
     "name": "stdout",
     "output_type": "stream",
     "text": [
      "3: 0.30069569964780596, 7.42335216263612\n",
      "4: 0.3254311081208925, 7.26015384848996\n",
      "5: 0.31668979326085644, 7.31968859943573\n",
      "6: 0.3093916179123867, 7.367706769314647\n",
      "7: 0.33008877222609334, 7.227372109472952\n",
      "8: 0.3132077323143869, 7.342773406864792\n",
      "9: 0.3254311081208925, 7.26015384848996\n",
      "10: 0.31668979326085644, 7.31968859943573\n"
     ]
    }
   ],
   "source": [
    "for n in range(3, 11):\n",
    "    cv = TimeSeriesSplit(n_splits=n)\n",
    "    cv.split(X3_train)\n",
    "    regr = ElasticNetCV(cv=cv, random_state=0)\n",
    "    regr.fit(X3_train, y_train)\n",
    "    print(f'{n}: {regr.score(X3_test, y_test)}, {metrics.mean_absolute_error(y_test, regr.predict(X3_test))}')"
   ]
  },
  {
   "cell_type": "code",
   "execution_count": null,
   "id": "179399d5",
   "metadata": {
    "ExecuteTime": {
     "end_time": "2022-01-11T13:41:27.921455Z",
     "start_time": "2022-01-11T13:41:27.912432Z"
    }
   },
   "outputs": [],
   "source": [
    "reg_y_pred = reg.predict(X_test_na)"
   ]
  },
  {
   "cell_type": "code",
   "execution_count": null,
   "id": "7440b0ad",
   "metadata": {
    "ExecuteTime": {
     "end_time": "2022-01-11T13:41:32.094260Z",
     "start_time": "2022-01-11T13:41:32.082356Z"
    }
   },
   "outputs": [],
   "source": [
    "metrics.mean_absolute_error(y_test, reg_y_pred)"
   ]
  },
  {
   "cell_type": "code",
   "execution_count": null,
   "id": "1af93a11",
   "metadata": {
    "ExecuteTime": {
     "end_time": "2022-01-11T13:41:55.549615Z",
     "start_time": "2022-01-11T13:41:55.422484Z"
    }
   },
   "outputs": [],
   "source": [
    "plt.plot(y_test.index, reg_y_pred, label='y_pred')\n",
    "plt.plot(y_test.index, y_test, label='y_test')\n",
    "plt.legend();"
   ]
  },
  {
   "cell_type": "code",
   "execution_count": null,
   "id": "229da5e7",
   "metadata": {},
   "outputs": [],
   "source": []
  }
 ],
 "metadata": {
  "kernelspec": {
   "display_name": "Python 3 (ipykernel)",
   "language": "python",
   "name": "python3"
  },
  "language_info": {
   "codemirror_mode": {
    "name": "ipython",
    "version": 3
   },
   "file_extension": ".py",
   "mimetype": "text/x-python",
   "name": "python",
   "nbconvert_exporter": "python",
   "pygments_lexer": "ipython3",
   "version": "3.8.6"
  },
  "toc": {
   "base_numbering": 1,
   "nav_menu": {},
   "number_sections": true,
   "sideBar": true,
   "skip_h1_title": false,
   "title_cell": "Table of Contents",
   "title_sidebar": "Contents",
   "toc_cell": false,
   "toc_position": {},
   "toc_section_display": true,
   "toc_window_display": false
  },
  "varInspector": {
   "cols": {
    "lenName": 16,
    "lenType": 16,
    "lenVar": 40
   },
   "kernels_config": {
    "python": {
     "delete_cmd_postfix": "",
     "delete_cmd_prefix": "del ",
     "library": "var_list.py",
     "varRefreshCmd": "print(var_dic_list())"
    },
    "r": {
     "delete_cmd_postfix": ") ",
     "delete_cmd_prefix": "rm(",
     "library": "var_list.r",
     "varRefreshCmd": "cat(var_dic_list()) "
    }
   },
   "types_to_exclude": [
    "module",
    "function",
    "builtin_function_or_method",
    "instance",
    "_Feature"
   ],
   "window_display": false
  }
 },
 "nbformat": 4,
 "nbformat_minor": 5
}
