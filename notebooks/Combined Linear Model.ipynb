{
 "cells": [
  {
   "cell_type": "code",
   "execution_count": 1,
   "id": "df8cf472",
   "metadata": {
    "ExecuteTime": {
     "end_time": "2022-01-11T13:20:29.410258Z",
     "start_time": "2022-01-11T13:20:28.106513Z"
    }
   },
   "outputs": [],
   "source": [
    "import yfinance as yf\n",
    "import pandas as pd\n",
    "import numpy as np\n",
    "import matplotlib.pyplot as plt\n",
    "import datetime \n",
    "import ta\n",
    "from sklearn.tree import DecisionTreeRegressor\n",
    "from sklearn.ensemble import RandomForestRegressor\n",
    "from sklearn.model_selection import cross_validate, ParameterGrid, train_test_split, GridSearchCV, RandomizedSearchCV, learning_curve\n",
    "from sklearn import metrics\n",
    "from sklearn.preprocessing import StandardScaler\n",
    "from sklearn.linear_model import LinearRegression\n",
    "from ta.momentum import RSIIndicator\n",
    "from ta.trend import SMAIndicator\n",
    "from ta.volatility import BollingerBands\n",
    "from datetime import datetime as dt\n",
    "import joblib"
   ]
  },
  {
   "cell_type": "markdown",
   "id": "3ad09d76",
   "metadata": {},
   "source": [
    "## Import CSVs"
   ]
  },
  {
   "cell_type": "code",
   "execution_count": 2,
   "id": "ee617870",
   "metadata": {
    "ExecuteTime": {
     "end_time": "2022-01-11T13:20:29.420326Z",
     "start_time": "2022-01-11T13:20:29.411253Z"
    }
   },
   "outputs": [],
   "source": [
    "rf_pred = pd.read_csv('prediction csv/rf_random.csv', index_col=0)\n",
    "arima_pred = pd.read_csv('prediction csv/arima.csv', index_col=0)\n",
    "lstm_pred = pd.read_csv('prediction csv/lstm_pred.csv', index_col=0)"
   ]
  },
  {
   "cell_type": "markdown",
   "id": "560b54e1",
   "metadata": {},
   "source": [
    "## Format rf_pred"
   ]
  },
  {
   "cell_type": "code",
   "execution_count": 3,
   "id": "940b718f",
   "metadata": {
    "ExecuteTime": {
     "end_time": "2022-01-11T13:20:29.425961Z",
     "start_time": "2022-01-11T13:20:29.422071Z"
    },
    "scrolled": true
   },
   "outputs": [],
   "source": [
    "rf_pred.index = pd.to_datetime(rf_pred.index)"
   ]
  },
  {
   "cell_type": "code",
   "execution_count": 4,
   "id": "8dfbb10e",
   "metadata": {
    "ExecuteTime": {
     "end_time": "2022-01-11T13:20:29.436513Z",
     "start_time": "2022-01-11T13:20:29.426956Z"
    },
    "scrolled": false
   },
   "outputs": [
    {
     "data": {
      "text/html": [
       "<div>\n",
       "<style scoped>\n",
       "    .dataframe tbody tr th:only-of-type {\n",
       "        vertical-align: middle;\n",
       "    }\n",
       "\n",
       "    .dataframe tbody tr th {\n",
       "        vertical-align: top;\n",
       "    }\n",
       "\n",
       "    .dataframe thead th {\n",
       "        text-align: right;\n",
       "    }\n",
       "</style>\n",
       "<table border=\"1\" class=\"dataframe\">\n",
       "  <thead>\n",
       "    <tr style=\"text-align: right;\">\n",
       "      <th></th>\n",
       "      <th>Actual</th>\n",
       "      <th>RF_pred</th>\n",
       "    </tr>\n",
       "    <tr>\n",
       "      <th>Date</th>\n",
       "      <th></th>\n",
       "      <th></th>\n",
       "    </tr>\n",
       "  </thead>\n",
       "  <tbody>\n",
       "    <tr>\n",
       "      <th>2021-01-04</th>\n",
       "      <td>128.189713</td>\n",
       "      <td>133.982366</td>\n",
       "    </tr>\n",
       "    <tr>\n",
       "      <th>2021-01-05</th>\n",
       "      <td>128.010849</td>\n",
       "      <td>130.505458</td>\n",
       "    </tr>\n",
       "    <tr>\n",
       "      <th>2021-01-06</th>\n",
       "      <td>130.088043</td>\n",
       "      <td>133.982366</td>\n",
       "    </tr>\n",
       "    <tr>\n",
       "      <th>2021-01-07</th>\n",
       "      <td>128.120163</td>\n",
       "      <td>129.519951</td>\n",
       "    </tr>\n",
       "    <tr>\n",
       "      <th>2021-01-08</th>\n",
       "      <td>126.361008</td>\n",
       "      <td>130.012704</td>\n",
       "    </tr>\n",
       "    <tr>\n",
       "      <th>...</th>\n",
       "      <td>...</td>\n",
       "      <td>...</td>\n",
       "    </tr>\n",
       "    <tr>\n",
       "      <th>2021-12-17</th>\n",
       "      <td>180.330002</td>\n",
       "      <td>133.170698</td>\n",
       "    </tr>\n",
       "    <tr>\n",
       "      <th>2021-12-20</th>\n",
       "      <td>179.289993</td>\n",
       "      <td>130.012704</td>\n",
       "    </tr>\n",
       "    <tr>\n",
       "      <th>2021-12-21</th>\n",
       "      <td>179.380005</td>\n",
       "      <td>130.992063</td>\n",
       "    </tr>\n",
       "    <tr>\n",
       "      <th>2021-12-22</th>\n",
       "      <td>178.199997</td>\n",
       "      <td>130.992063</td>\n",
       "    </tr>\n",
       "    <tr>\n",
       "      <th>2021-12-23</th>\n",
       "      <td>177.570007</td>\n",
       "      <td>130.992063</td>\n",
       "    </tr>\n",
       "  </tbody>\n",
       "</table>\n",
       "<p>247 rows × 2 columns</p>\n",
       "</div>"
      ],
      "text/plain": [
       "                Actual     RF_pred\n",
       "Date                              \n",
       "2021-01-04  128.189713  133.982366\n",
       "2021-01-05  128.010849  130.505458\n",
       "2021-01-06  130.088043  133.982366\n",
       "2021-01-07  128.120163  129.519951\n",
       "2021-01-08  126.361008  130.012704\n",
       "...                ...         ...\n",
       "2021-12-17  180.330002  133.170698\n",
       "2021-12-20  179.289993  130.012704\n",
       "2021-12-21  179.380005  130.992063\n",
       "2021-12-22  178.199997  130.992063\n",
       "2021-12-23  177.570007  130.992063\n",
       "\n",
       "[247 rows x 2 columns]"
      ]
     },
     "execution_count": 4,
     "metadata": {},
     "output_type": "execute_result"
    }
   ],
   "source": [
    "rf_pred.drop(columns='Residual', inplace=True)\n",
    "rf_pred"
   ]
  },
  {
   "cell_type": "markdown",
   "id": "1db5ca76",
   "metadata": {},
   "source": [
    "## Format arima_pred"
   ]
  },
  {
   "cell_type": "code",
   "execution_count": 5,
   "id": "ba41ed50",
   "metadata": {
    "ExecuteTime": {
     "end_time": "2022-01-11T13:20:29.449419Z",
     "start_time": "2022-01-11T13:20:29.437462Z"
    }
   },
   "outputs": [],
   "source": [
    "arima_pred.index = pd.to_datetime(arima_pred.index, yearfirst=True, dayfirst=True)"
   ]
  },
  {
   "cell_type": "code",
   "execution_count": 6,
   "id": "4092a985",
   "metadata": {
    "ExecuteTime": {
     "end_time": "2022-01-11T13:20:29.453192Z",
     "start_time": "2022-01-11T13:20:29.450885Z"
    },
    "scrolled": false
   },
   "outputs": [],
   "source": [
    "arima_pred.drop(columns='y_actual', inplace=True)"
   ]
  },
  {
   "cell_type": "code",
   "execution_count": 7,
   "id": "210a5ebc",
   "metadata": {
    "ExecuteTime": {
     "end_time": "2022-01-11T13:20:29.456426Z",
     "start_time": "2022-01-11T13:20:29.454138Z"
    }
   },
   "outputs": [],
   "source": [
    "arima_pred.rename(columns={'arima_predicted':'arima_pred'}, inplace=True)"
   ]
  },
  {
   "cell_type": "code",
   "execution_count": 8,
   "id": "38f2c506",
   "metadata": {
    "ExecuteTime": {
     "end_time": "2022-01-11T13:20:29.463385Z",
     "start_time": "2022-01-11T13:20:29.457501Z"
    },
    "scrolled": true
   },
   "outputs": [
    {
     "data": {
      "text/html": [
       "<div>\n",
       "<style scoped>\n",
       "    .dataframe tbody tr th:only-of-type {\n",
       "        vertical-align: middle;\n",
       "    }\n",
       "\n",
       "    .dataframe tbody tr th {\n",
       "        vertical-align: top;\n",
       "    }\n",
       "\n",
       "    .dataframe thead th {\n",
       "        text-align: right;\n",
       "    }\n",
       "</style>\n",
       "<table border=\"1\" class=\"dataframe\">\n",
       "  <thead>\n",
       "    <tr style=\"text-align: right;\">\n",
       "      <th></th>\n",
       "      <th>arima_pred</th>\n",
       "    </tr>\n",
       "    <tr>\n",
       "      <th>Date</th>\n",
       "      <th></th>\n",
       "    </tr>\n",
       "  </thead>\n",
       "  <tbody>\n",
       "    <tr>\n",
       "      <th>2021-01-04</th>\n",
       "      <td>128.333703</td>\n",
       "    </tr>\n",
       "    <tr>\n",
       "      <th>2021-01-05</th>\n",
       "      <td>129.454595</td>\n",
       "    </tr>\n",
       "    <tr>\n",
       "      <th>2021-01-06</th>\n",
       "      <td>122.907843</td>\n",
       "    </tr>\n",
       "    <tr>\n",
       "      <th>2021-01-07</th>\n",
       "      <td>130.062883</td>\n",
       "    </tr>\n",
       "    <tr>\n",
       "      <th>2021-01-08</th>\n",
       "      <td>133.188385</td>\n",
       "    </tr>\n",
       "    <tr>\n",
       "      <th>...</th>\n",
       "      <td>...</td>\n",
       "    </tr>\n",
       "    <tr>\n",
       "      <th>2021-12-17</th>\n",
       "      <td>164.255411</td>\n",
       "    </tr>\n",
       "    <tr>\n",
       "      <th>2021-12-20</th>\n",
       "      <td>163.700089</td>\n",
       "    </tr>\n",
       "    <tr>\n",
       "      <th>2021-12-21</th>\n",
       "      <td>167.684540</td>\n",
       "    </tr>\n",
       "    <tr>\n",
       "      <th>2021-12-22</th>\n",
       "      <td>167.373625</td>\n",
       "    </tr>\n",
       "    <tr>\n",
       "      <th>2021-12-23</th>\n",
       "      <td>167.528290</td>\n",
       "    </tr>\n",
       "  </tbody>\n",
       "</table>\n",
       "<p>247 rows × 1 columns</p>\n",
       "</div>"
      ],
      "text/plain": [
       "            arima_pred\n",
       "Date                  \n",
       "2021-01-04  128.333703\n",
       "2021-01-05  129.454595\n",
       "2021-01-06  122.907843\n",
       "2021-01-07  130.062883\n",
       "2021-01-08  133.188385\n",
       "...                ...\n",
       "2021-12-17  164.255411\n",
       "2021-12-20  163.700089\n",
       "2021-12-21  167.684540\n",
       "2021-12-22  167.373625\n",
       "2021-12-23  167.528290\n",
       "\n",
       "[247 rows x 1 columns]"
      ]
     },
     "execution_count": 8,
     "metadata": {},
     "output_type": "execute_result"
    }
   ],
   "source": [
    "arima_pred"
   ]
  },
  {
   "cell_type": "markdown",
   "id": "4859ff5f",
   "metadata": {},
   "source": [
    "## Format lstm_pred"
   ]
  },
  {
   "cell_type": "code",
   "execution_count": 9,
   "id": "0a8694b2",
   "metadata": {
    "ExecuteTime": {
     "end_time": "2022-01-11T13:20:29.468610Z",
     "start_time": "2022-01-11T13:20:29.466022Z"
    }
   },
   "outputs": [],
   "source": [
    "lstm_pred.index = pd.to_datetime(lstm_pred.index)"
   ]
  },
  {
   "cell_type": "code",
   "execution_count": 10,
   "id": "82727d66",
   "metadata": {
    "ExecuteTime": {
     "end_time": "2022-01-11T13:20:29.472015Z",
     "start_time": "2022-01-11T13:20:29.469561Z"
    },
    "scrolled": true
   },
   "outputs": [],
   "source": [
    "lstm_pred.drop(columns='actual', inplace=True)"
   ]
  },
  {
   "cell_type": "code",
   "execution_count": 11,
   "id": "0f838517",
   "metadata": {
    "ExecuteTime": {
     "end_time": "2022-01-11T13:20:29.478487Z",
     "start_time": "2022-01-11T13:20:29.473043Z"
    },
    "scrolled": true
   },
   "outputs": [
    {
     "data": {
      "text/html": [
       "<div>\n",
       "<style scoped>\n",
       "    .dataframe tbody tr th:only-of-type {\n",
       "        vertical-align: middle;\n",
       "    }\n",
       "\n",
       "    .dataframe tbody tr th {\n",
       "        vertical-align: top;\n",
       "    }\n",
       "\n",
       "    .dataframe thead th {\n",
       "        text-align: right;\n",
       "    }\n",
       "</style>\n",
       "<table border=\"1\" class=\"dataframe\">\n",
       "  <thead>\n",
       "    <tr style=\"text-align: right;\">\n",
       "      <th></th>\n",
       "      <th>y_pred_LSTM</th>\n",
       "    </tr>\n",
       "    <tr>\n",
       "      <th>Date</th>\n",
       "      <th></th>\n",
       "    </tr>\n",
       "  </thead>\n",
       "  <tbody>\n",
       "    <tr>\n",
       "      <th>2021-01-04</th>\n",
       "      <td>43.178593</td>\n",
       "    </tr>\n",
       "    <tr>\n",
       "      <th>2021-01-05</th>\n",
       "      <td>43.134594</td>\n",
       "    </tr>\n",
       "    <tr>\n",
       "      <th>2021-01-06</th>\n",
       "      <td>43.155163</td>\n",
       "    </tr>\n",
       "    <tr>\n",
       "      <th>2021-01-07</th>\n",
       "      <td>43.321625</td>\n",
       "    </tr>\n",
       "    <tr>\n",
       "      <th>2021-01-08</th>\n",
       "      <td>43.455400</td>\n",
       "    </tr>\n",
       "    <tr>\n",
       "      <th>...</th>\n",
       "      <td>...</td>\n",
       "    </tr>\n",
       "    <tr>\n",
       "      <th>2021-12-17</th>\n",
       "      <td>117.532270</td>\n",
       "    </tr>\n",
       "    <tr>\n",
       "      <th>2021-12-20</th>\n",
       "      <td>117.589540</td>\n",
       "    </tr>\n",
       "    <tr>\n",
       "      <th>2021-12-21</th>\n",
       "      <td>117.620926</td>\n",
       "    </tr>\n",
       "    <tr>\n",
       "      <th>2021-12-22</th>\n",
       "      <td>117.640740</td>\n",
       "    </tr>\n",
       "    <tr>\n",
       "      <th>2021-12-23</th>\n",
       "      <td>117.642890</td>\n",
       "    </tr>\n",
       "  </tbody>\n",
       "</table>\n",
       "<p>247 rows × 1 columns</p>\n",
       "</div>"
      ],
      "text/plain": [
       "            y_pred_LSTM\n",
       "Date                   \n",
       "2021-01-04    43.178593\n",
       "2021-01-05    43.134594\n",
       "2021-01-06    43.155163\n",
       "2021-01-07    43.321625\n",
       "2021-01-08    43.455400\n",
       "...                 ...\n",
       "2021-12-17   117.532270\n",
       "2021-12-20   117.589540\n",
       "2021-12-21   117.620926\n",
       "2021-12-22   117.640740\n",
       "2021-12-23   117.642890\n",
       "\n",
       "[247 rows x 1 columns]"
      ]
     },
     "execution_count": 11,
     "metadata": {},
     "output_type": "execute_result"
    }
   ],
   "source": [
    "lstm_pred"
   ]
  },
  {
   "cell_type": "code",
   "execution_count": 12,
   "id": "fa0fa7ef",
   "metadata": {
    "ExecuteTime": {
     "end_time": "2022-01-11T13:20:29.486203Z",
     "start_time": "2022-01-11T13:20:29.479350Z"
    }
   },
   "outputs": [
    {
     "data": {
      "text/html": [
       "<div>\n",
       "<style scoped>\n",
       "    .dataframe tbody tr th:only-of-type {\n",
       "        vertical-align: middle;\n",
       "    }\n",
       "\n",
       "    .dataframe tbody tr th {\n",
       "        vertical-align: top;\n",
       "    }\n",
       "\n",
       "    .dataframe thead th {\n",
       "        text-align: right;\n",
       "    }\n",
       "</style>\n",
       "<table border=\"1\" class=\"dataframe\">\n",
       "  <thead>\n",
       "    <tr style=\"text-align: right;\">\n",
       "      <th></th>\n",
       "      <th>LSTM_pred</th>\n",
       "    </tr>\n",
       "    <tr>\n",
       "      <th>Date</th>\n",
       "      <th></th>\n",
       "    </tr>\n",
       "  </thead>\n",
       "  <tbody>\n",
       "    <tr>\n",
       "      <th>2021-01-04</th>\n",
       "      <td>43.178593</td>\n",
       "    </tr>\n",
       "    <tr>\n",
       "      <th>2021-01-05</th>\n",
       "      <td>43.134594</td>\n",
       "    </tr>\n",
       "    <tr>\n",
       "      <th>2021-01-06</th>\n",
       "      <td>43.155163</td>\n",
       "    </tr>\n",
       "    <tr>\n",
       "      <th>2021-01-07</th>\n",
       "      <td>43.321625</td>\n",
       "    </tr>\n",
       "    <tr>\n",
       "      <th>2021-01-08</th>\n",
       "      <td>43.455400</td>\n",
       "    </tr>\n",
       "    <tr>\n",
       "      <th>...</th>\n",
       "      <td>...</td>\n",
       "    </tr>\n",
       "    <tr>\n",
       "      <th>2021-12-17</th>\n",
       "      <td>117.532270</td>\n",
       "    </tr>\n",
       "    <tr>\n",
       "      <th>2021-12-20</th>\n",
       "      <td>117.589540</td>\n",
       "    </tr>\n",
       "    <tr>\n",
       "      <th>2021-12-21</th>\n",
       "      <td>117.620926</td>\n",
       "    </tr>\n",
       "    <tr>\n",
       "      <th>2021-12-22</th>\n",
       "      <td>117.640740</td>\n",
       "    </tr>\n",
       "    <tr>\n",
       "      <th>2021-12-23</th>\n",
       "      <td>117.642890</td>\n",
       "    </tr>\n",
       "  </tbody>\n",
       "</table>\n",
       "<p>247 rows × 1 columns</p>\n",
       "</div>"
      ],
      "text/plain": [
       "             LSTM_pred\n",
       "Date                  \n",
       "2021-01-04   43.178593\n",
       "2021-01-05   43.134594\n",
       "2021-01-06   43.155163\n",
       "2021-01-07   43.321625\n",
       "2021-01-08   43.455400\n",
       "...                ...\n",
       "2021-12-17  117.532270\n",
       "2021-12-20  117.589540\n",
       "2021-12-21  117.620926\n",
       "2021-12-22  117.640740\n",
       "2021-12-23  117.642890\n",
       "\n",
       "[247 rows x 1 columns]"
      ]
     },
     "execution_count": 12,
     "metadata": {},
     "output_type": "execute_result"
    }
   ],
   "source": [
    "lstm_pred.rename(columns={'y_pred_LSTM':'LSTM_pred'}, inplace=True)\n",
    "lstm_pred"
   ]
  },
  {
   "cell_type": "markdown",
   "id": "b7e4c8a2",
   "metadata": {},
   "source": [
    "## Combine all dfs"
   ]
  },
  {
   "cell_type": "code",
   "execution_count": 13,
   "id": "32ccbe51",
   "metadata": {
    "ExecuteTime": {
     "end_time": "2022-01-11T13:20:29.499376Z",
     "start_time": "2022-01-11T13:20:29.487324Z"
    },
    "scrolled": false
   },
   "outputs": [
    {
     "data": {
      "text/html": [
       "<div>\n",
       "<style scoped>\n",
       "    .dataframe tbody tr th:only-of-type {\n",
       "        vertical-align: middle;\n",
       "    }\n",
       "\n",
       "    .dataframe tbody tr th {\n",
       "        vertical-align: top;\n",
       "    }\n",
       "\n",
       "    .dataframe thead th {\n",
       "        text-align: right;\n",
       "    }\n",
       "</style>\n",
       "<table border=\"1\" class=\"dataframe\">\n",
       "  <thead>\n",
       "    <tr style=\"text-align: right;\">\n",
       "      <th></th>\n",
       "      <th>Actual</th>\n",
       "      <th>RF_pred</th>\n",
       "      <th>arima_pred</th>\n",
       "      <th>LSTM_pred</th>\n",
       "    </tr>\n",
       "    <tr>\n",
       "      <th>Date</th>\n",
       "      <th></th>\n",
       "      <th></th>\n",
       "      <th></th>\n",
       "      <th></th>\n",
       "    </tr>\n",
       "  </thead>\n",
       "  <tbody>\n",
       "    <tr>\n",
       "      <th>2021-01-04</th>\n",
       "      <td>128.189713</td>\n",
       "      <td>133.982366</td>\n",
       "      <td>128.333703</td>\n",
       "      <td>43.178593</td>\n",
       "    </tr>\n",
       "    <tr>\n",
       "      <th>2021-01-05</th>\n",
       "      <td>128.010849</td>\n",
       "      <td>130.505458</td>\n",
       "      <td>129.454595</td>\n",
       "      <td>43.134594</td>\n",
       "    </tr>\n",
       "    <tr>\n",
       "      <th>2021-01-06</th>\n",
       "      <td>130.088043</td>\n",
       "      <td>133.982366</td>\n",
       "      <td>122.907843</td>\n",
       "      <td>43.155163</td>\n",
       "    </tr>\n",
       "    <tr>\n",
       "      <th>2021-01-07</th>\n",
       "      <td>128.120163</td>\n",
       "      <td>129.519951</td>\n",
       "      <td>130.062883</td>\n",
       "      <td>43.321625</td>\n",
       "    </tr>\n",
       "    <tr>\n",
       "      <th>2021-01-08</th>\n",
       "      <td>126.361008</td>\n",
       "      <td>130.012704</td>\n",
       "      <td>133.188385</td>\n",
       "      <td>43.455400</td>\n",
       "    </tr>\n",
       "    <tr>\n",
       "      <th>...</th>\n",
       "      <td>...</td>\n",
       "      <td>...</td>\n",
       "      <td>...</td>\n",
       "      <td>...</td>\n",
       "    </tr>\n",
       "    <tr>\n",
       "      <th>2021-12-17</th>\n",
       "      <td>180.330002</td>\n",
       "      <td>133.170698</td>\n",
       "      <td>164.255411</td>\n",
       "      <td>117.532270</td>\n",
       "    </tr>\n",
       "    <tr>\n",
       "      <th>2021-12-20</th>\n",
       "      <td>179.289993</td>\n",
       "      <td>130.012704</td>\n",
       "      <td>163.700089</td>\n",
       "      <td>117.589540</td>\n",
       "    </tr>\n",
       "    <tr>\n",
       "      <th>2021-12-21</th>\n",
       "      <td>179.380005</td>\n",
       "      <td>130.992063</td>\n",
       "      <td>167.684540</td>\n",
       "      <td>117.620926</td>\n",
       "    </tr>\n",
       "    <tr>\n",
       "      <th>2021-12-22</th>\n",
       "      <td>178.199997</td>\n",
       "      <td>130.992063</td>\n",
       "      <td>167.373625</td>\n",
       "      <td>117.640740</td>\n",
       "    </tr>\n",
       "    <tr>\n",
       "      <th>2021-12-23</th>\n",
       "      <td>177.570007</td>\n",
       "      <td>130.992063</td>\n",
       "      <td>167.528290</td>\n",
       "      <td>117.642890</td>\n",
       "    </tr>\n",
       "  </tbody>\n",
       "</table>\n",
       "<p>247 rows × 4 columns</p>\n",
       "</div>"
      ],
      "text/plain": [
       "                Actual     RF_pred  arima_pred   LSTM_pred\n",
       "Date                                                      \n",
       "2021-01-04  128.189713  133.982366  128.333703   43.178593\n",
       "2021-01-05  128.010849  130.505458  129.454595   43.134594\n",
       "2021-01-06  130.088043  133.982366  122.907843   43.155163\n",
       "2021-01-07  128.120163  129.519951  130.062883   43.321625\n",
       "2021-01-08  126.361008  130.012704  133.188385   43.455400\n",
       "...                ...         ...         ...         ...\n",
       "2021-12-17  180.330002  133.170698  164.255411  117.532270\n",
       "2021-12-20  179.289993  130.012704  163.700089  117.589540\n",
       "2021-12-21  179.380005  130.992063  167.684540  117.620926\n",
       "2021-12-22  178.199997  130.992063  167.373625  117.640740\n",
       "2021-12-23  177.570007  130.992063  167.528290  117.642890\n",
       "\n",
       "[247 rows x 4 columns]"
      ]
     },
     "execution_count": 13,
     "metadata": {},
     "output_type": "execute_result"
    }
   ],
   "source": [
    "comb_df = rf_pred.merge(arima_pred, left_on='Date', right_on=\"Date\").merge(lstm_pred, left_on='Date', right_on='Date')\n",
    "comb_df"
   ]
  },
  {
   "cell_type": "markdown",
   "id": "089211c0",
   "metadata": {},
   "source": [
    "## Scale features"
   ]
  },
  {
   "cell_type": "code",
   "execution_count": 14,
   "id": "5af6d3ff",
   "metadata": {
    "ExecuteTime": {
     "end_time": "2022-01-11T13:20:29.510380Z",
     "start_time": "2022-01-11T13:20:29.500419Z"
    },
    "scrolled": true
   },
   "outputs": [
    {
     "data": {
      "text/html": [
       "<div>\n",
       "<style scoped>\n",
       "    .dataframe tbody tr th:only-of-type {\n",
       "        vertical-align: middle;\n",
       "    }\n",
       "\n",
       "    .dataframe tbody tr th {\n",
       "        vertical-align: top;\n",
       "    }\n",
       "\n",
       "    .dataframe thead th {\n",
       "        text-align: right;\n",
       "    }\n",
       "</style>\n",
       "<table border=\"1\" class=\"dataframe\">\n",
       "  <thead>\n",
       "    <tr style=\"text-align: right;\">\n",
       "      <th></th>\n",
       "      <th>Actual</th>\n",
       "      <th>RF_pred</th>\n",
       "      <th>arima_pred</th>\n",
       "      <th>LSTM_pred</th>\n",
       "    </tr>\n",
       "    <tr>\n",
       "      <th>Date</th>\n",
       "      <th></th>\n",
       "      <th></th>\n",
       "      <th></th>\n",
       "      <th></th>\n",
       "    </tr>\n",
       "  </thead>\n",
       "  <tbody>\n",
       "    <tr>\n",
       "      <th>2021-01-04</th>\n",
       "      <td>128.189713</td>\n",
       "      <td>2.347368</td>\n",
       "      <td>-0.874783</td>\n",
       "      <td>-0.944059</td>\n",
       "    </tr>\n",
       "    <tr>\n",
       "      <th>2021-01-05</th>\n",
       "      <td>128.010849</td>\n",
       "      <td>0.259478</td>\n",
       "      <td>-0.787400</td>\n",
       "      <td>-0.946202</td>\n",
       "    </tr>\n",
       "    <tr>\n",
       "      <th>2021-01-06</th>\n",
       "      <td>130.088043</td>\n",
       "      <td>2.347368</td>\n",
       "      <td>-1.297777</td>\n",
       "      <td>-0.945201</td>\n",
       "    </tr>\n",
       "    <tr>\n",
       "      <th>2021-01-07</th>\n",
       "      <td>128.120163</td>\n",
       "      <td>-0.332320</td>\n",
       "      <td>-0.739978</td>\n",
       "      <td>-0.937093</td>\n",
       "    </tr>\n",
       "    <tr>\n",
       "      <th>2021-01-08</th>\n",
       "      <td>126.361008</td>\n",
       "      <td>-0.036421</td>\n",
       "      <td>-0.496318</td>\n",
       "      <td>-0.930578</td>\n",
       "    </tr>\n",
       "    <tr>\n",
       "      <th>...</th>\n",
       "      <td>...</td>\n",
       "      <td>...</td>\n",
       "      <td>...</td>\n",
       "      <td>...</td>\n",
       "    </tr>\n",
       "    <tr>\n",
       "      <th>2021-12-17</th>\n",
       "      <td>180.330002</td>\n",
       "      <td>1.859960</td>\n",
       "      <td>1.925633</td>\n",
       "      <td>2.677256</td>\n",
       "    </tr>\n",
       "    <tr>\n",
       "      <th>2021-12-20</th>\n",
       "      <td>179.289993</td>\n",
       "      <td>-0.036421</td>\n",
       "      <td>1.882341</td>\n",
       "      <td>2.680045</td>\n",
       "    </tr>\n",
       "    <tr>\n",
       "      <th>2021-12-21</th>\n",
       "      <td>179.380005</td>\n",
       "      <td>0.551686</td>\n",
       "      <td>2.192964</td>\n",
       "      <td>2.681574</td>\n",
       "    </tr>\n",
       "    <tr>\n",
       "      <th>2021-12-22</th>\n",
       "      <td>178.199997</td>\n",
       "      <td>0.551686</td>\n",
       "      <td>2.168726</td>\n",
       "      <td>2.682539</td>\n",
       "    </tr>\n",
       "    <tr>\n",
       "      <th>2021-12-23</th>\n",
       "      <td>177.570007</td>\n",
       "      <td>0.551686</td>\n",
       "      <td>2.180783</td>\n",
       "      <td>2.682644</td>\n",
       "    </tr>\n",
       "  </tbody>\n",
       "</table>\n",
       "<p>247 rows × 4 columns</p>\n",
       "</div>"
      ],
      "text/plain": [
       "                Actual   RF_pred  arima_pred  LSTM_pred\n",
       "Date                                                   \n",
       "2021-01-04  128.189713  2.347368   -0.874783  -0.944059\n",
       "2021-01-05  128.010849  0.259478   -0.787400  -0.946202\n",
       "2021-01-06  130.088043  2.347368   -1.297777  -0.945201\n",
       "2021-01-07  128.120163 -0.332320   -0.739978  -0.937093\n",
       "2021-01-08  126.361008 -0.036421   -0.496318  -0.930578\n",
       "...                ...       ...         ...        ...\n",
       "2021-12-17  180.330002  1.859960    1.925633   2.677256\n",
       "2021-12-20  179.289993 -0.036421    1.882341   2.680045\n",
       "2021-12-21  179.380005  0.551686    2.192964   2.681574\n",
       "2021-12-22  178.199997  0.551686    2.168726   2.682539\n",
       "2021-12-23  177.570007  0.551686    2.180783   2.682644\n",
       "\n",
       "[247 rows x 4 columns]"
      ]
     },
     "execution_count": 14,
     "metadata": {},
     "output_type": "execute_result"
    }
   ],
   "source": [
    "#Instantiate scaler\n",
    "scaler = StandardScaler()\n",
    "#fit and transform features\n",
    "comb_df[['RF_pred', 'arima_pred', 'LSTM_pred']] = scaler.fit_transform(comb_df[['RF_pred', 'arima_pred', 'LSTM_pred']])\n",
    "#Show scaled features\n",
    "comb_df"
   ]
  },
  {
   "cell_type": "markdown",
   "id": "fe6350cc",
   "metadata": {},
   "source": [
    "## Splitting the Data "
   ]
  },
  {
   "cell_type": "code",
   "execution_count": 15,
   "id": "1d43e5d6",
   "metadata": {
    "ExecuteTime": {
     "end_time": "2022-01-11T13:20:29.513261Z",
     "start_time": "2022-01-11T13:20:29.511404Z"
    }
   },
   "outputs": [],
   "source": [
    "train_length = len(comb_df)*0.8\n",
    "test_length = len(comb_df)*0.2"
   ]
  },
  {
   "cell_type": "code",
   "execution_count": 16,
   "id": "405fd805",
   "metadata": {
    "ExecuteTime": {
     "end_time": "2022-01-11T13:20:29.517714Z",
     "start_time": "2022-01-11T13:20:29.514110Z"
    }
   },
   "outputs": [],
   "source": [
    "X_train = comb_df[['RF_pred', 'arima_pred', 'LSTM_pred']][0:int(train_length)]\n",
    "y_train = comb_df['Actual'][0:int(train_length)]\n",
    "X_test = comb_df[['RF_pred', 'arima_pred', 'LSTM_pred']][int(train_length):]\n",
    "y_test = comb_df['Actual'][int(train_length):]"
   ]
  },
  {
   "cell_type": "markdown",
   "id": "3630abf3",
   "metadata": {},
   "source": [
    "## Fit linear model"
   ]
  },
  {
   "cell_type": "code",
   "execution_count": 17,
   "id": "84aebc51",
   "metadata": {
    "ExecuteTime": {
     "end_time": "2022-01-11T13:20:29.525310Z",
     "start_time": "2022-01-11T13:20:29.519852Z"
    }
   },
   "outputs": [
    {
     "data": {
      "text/plain": [
       "LinearRegression()"
      ]
     },
     "execution_count": 17,
     "metadata": {},
     "output_type": "execute_result"
    }
   ],
   "source": [
    "model = LinearRegression()\n",
    "model.fit(X_train, y_train)"
   ]
  },
  {
   "cell_type": "code",
   "execution_count": 18,
   "id": "8dd54e49",
   "metadata": {
    "ExecuteTime": {
     "end_time": "2022-01-11T13:20:29.530359Z",
     "start_time": "2022-01-11T13:20:29.526317Z"
    }
   },
   "outputs": [
    {
     "data": {
      "text/plain": [
       "0.46022616896513235"
      ]
     },
     "execution_count": 18,
     "metadata": {},
     "output_type": "execute_result"
    }
   ],
   "source": [
    "model.score(X_test, y_test)"
   ]
  },
  {
   "cell_type": "code",
   "execution_count": 19,
   "id": "1d5168a2",
   "metadata": {
    "ExecuteTime": {
     "end_time": "2022-01-11T13:20:29.533909Z",
     "start_time": "2022-01-11T13:20:29.531259Z"
    }
   },
   "outputs": [],
   "source": [
    "y_pred = model.predict(X_test)"
   ]
  },
  {
   "cell_type": "code",
   "execution_count": 20,
   "id": "7f80dc6e",
   "metadata": {
    "ExecuteTime": {
     "end_time": "2022-01-11T13:20:29.537908Z",
     "start_time": "2022-01-11T13:20:29.534885Z"
    }
   },
   "outputs": [
    {
     "data": {
      "text/plain": [
       "6.451741761197745"
      ]
     },
     "execution_count": 20,
     "metadata": {},
     "output_type": "execute_result"
    }
   ],
   "source": [
    "metrics.mean_absolute_error(y_test, y_pred)"
   ]
  },
  {
   "cell_type": "markdown",
   "id": "b1fd0e82",
   "metadata": {},
   "source": []
  },
  {
   "cell_type": "code",
   "execution_count": 21,
   "id": "ecdf4953",
   "metadata": {
    "ExecuteTime": {
     "end_time": "2022-01-11T13:20:29.654016Z",
     "start_time": "2022-01-11T13:20:29.539678Z"
    }
   },
   "outputs": [
    {
     "data": {
      "text/plain": [
       "<matplotlib.legend.Legend at 0x153ed0a00>"
      ]
     },
     "execution_count": 21,
     "metadata": {},
     "output_type": "execute_result"
    },
    {
     "data": {
      "image/png": "[encoded data removed]",
      "text/plain": [
       "<Figure size 432x288 with 1 Axes>"
      ]
     },
     "metadata": {
      "needs_background": "light"
     },
     "output_type": "display_data"
    }
   ],
   "source": [
    "plt.plot(y_test.index, y_pred, label='y_pred')\n",
    "plt.plot(y_test.index, y_test, label='y_test')\n",
    "plt.legend()"
   ]
  },
  {
   "cell_type": "markdown",
   "id": "472224c2",
   "metadata": {},
   "source": [
    "## Without arima"
   ]
  },
  {
   "cell_type": "code",
   "execution_count": 22,
   "id": "adeb9719",
   "metadata": {
    "ExecuteTime": {
     "end_time": "2022-01-11T13:20:29.663465Z",
     "start_time": "2022-01-11T13:20:29.655371Z"
    }
   },
   "outputs": [
    {
     "data": {
      "text/html": [
       "<div>\n",
       "<style scoped>\n",
       "    .dataframe tbody tr th:only-of-type {\n",
       "        vertical-align: middle;\n",
       "    }\n",
       "\n",
       "    .dataframe tbody tr th {\n",
       "        vertical-align: top;\n",
       "    }\n",
       "\n",
       "    .dataframe thead th {\n",
       "        text-align: right;\n",
       "    }\n",
       "</style>\n",
       "<table border=\"1\" class=\"dataframe\">\n",
       "  <thead>\n",
       "    <tr style=\"text-align: right;\">\n",
       "      <th></th>\n",
       "      <th>Actual</th>\n",
       "      <th>RF_pred</th>\n",
       "      <th>LSTM_pred</th>\n",
       "    </tr>\n",
       "    <tr>\n",
       "      <th>Date</th>\n",
       "      <th></th>\n",
       "      <th></th>\n",
       "      <th></th>\n",
       "    </tr>\n",
       "  </thead>\n",
       "  <tbody>\n",
       "    <tr>\n",
       "      <th>2021-01-04</th>\n",
       "      <td>128.189713</td>\n",
       "      <td>2.347368</td>\n",
       "      <td>-0.944059</td>\n",
       "    </tr>\n",
       "    <tr>\n",
       "      <th>2021-01-05</th>\n",
       "      <td>128.010849</td>\n",
       "      <td>0.259478</td>\n",
       "      <td>-0.946202</td>\n",
       "    </tr>\n",
       "    <tr>\n",
       "      <th>2021-01-06</th>\n",
       "      <td>130.088043</td>\n",
       "      <td>2.347368</td>\n",
       "      <td>-0.945201</td>\n",
       "    </tr>\n",
       "    <tr>\n",
       "      <th>2021-01-07</th>\n",
       "      <td>128.120163</td>\n",
       "      <td>-0.332320</td>\n",
       "      <td>-0.937093</td>\n",
       "    </tr>\n",
       "    <tr>\n",
       "      <th>2021-01-08</th>\n",
       "      <td>126.361008</td>\n",
       "      <td>-0.036421</td>\n",
       "      <td>-0.930578</td>\n",
       "    </tr>\n",
       "    <tr>\n",
       "      <th>...</th>\n",
       "      <td>...</td>\n",
       "      <td>...</td>\n",
       "      <td>...</td>\n",
       "    </tr>\n",
       "    <tr>\n",
       "      <th>2021-12-17</th>\n",
       "      <td>180.330002</td>\n",
       "      <td>1.859960</td>\n",
       "      <td>2.677256</td>\n",
       "    </tr>\n",
       "    <tr>\n",
       "      <th>2021-12-20</th>\n",
       "      <td>179.289993</td>\n",
       "      <td>-0.036421</td>\n",
       "      <td>2.680045</td>\n",
       "    </tr>\n",
       "    <tr>\n",
       "      <th>2021-12-21</th>\n",
       "      <td>179.380005</td>\n",
       "      <td>0.551686</td>\n",
       "      <td>2.681574</td>\n",
       "    </tr>\n",
       "    <tr>\n",
       "      <th>2021-12-22</th>\n",
       "      <td>178.199997</td>\n",
       "      <td>0.551686</td>\n",
       "      <td>2.682539</td>\n",
       "    </tr>\n",
       "    <tr>\n",
       "      <th>2021-12-23</th>\n",
       "      <td>177.570007</td>\n",
       "      <td>0.551686</td>\n",
       "      <td>2.682644</td>\n",
       "    </tr>\n",
       "  </tbody>\n",
       "</table>\n",
       "<p>247 rows × 3 columns</p>\n",
       "</div>"
      ],
      "text/plain": [
       "                Actual   RF_pred  LSTM_pred\n",
       "Date                                       \n",
       "2021-01-04  128.189713  2.347368  -0.944059\n",
       "2021-01-05  128.010849  0.259478  -0.946202\n",
       "2021-01-06  130.088043  2.347368  -0.945201\n",
       "2021-01-07  128.120163 -0.332320  -0.937093\n",
       "2021-01-08  126.361008 -0.036421  -0.930578\n",
       "...                ...       ...        ...\n",
       "2021-12-17  180.330002  1.859960   2.677256\n",
       "2021-12-20  179.289993 -0.036421   2.680045\n",
       "2021-12-21  179.380005  0.551686   2.681574\n",
       "2021-12-22  178.199997  0.551686   2.682539\n",
       "2021-12-23  177.570007  0.551686   2.682644\n",
       "\n",
       "[247 rows x 3 columns]"
      ]
     },
     "execution_count": 22,
     "metadata": {},
     "output_type": "execute_result"
    }
   ],
   "source": [
    "no_arima_df = comb_df.drop(columns='arima_pred')\n",
    "no_arima_df"
   ]
  },
  {
   "cell_type": "code",
   "execution_count": 23,
   "id": "543809d7",
   "metadata": {
    "ExecuteTime": {
     "end_time": "2022-01-11T13:20:29.669783Z",
     "start_time": "2022-01-11T13:20:29.666560Z"
    }
   },
   "outputs": [],
   "source": [
    "X_train_na = no_arima_df[['RF_pred', 'LSTM_pred']][0:int(train_length)]\n",
    "X_test_na = no_arima_df[['RF_pred', 'LSTM_pred']][int(train_length):]"
   ]
  },
  {
   "cell_type": "code",
   "execution_count": 31,
   "id": "3f7bb60e",
   "metadata": {
    "ExecuteTime": {
     "end_time": "2022-01-11T13:37:31.517062Z",
     "start_time": "2022-01-11T13:37:31.497279Z"
    }
   },
   "outputs": [
    {
     "data": {
      "text/html": [
       "<div>\n",
       "<style scoped>\n",
       "    .dataframe tbody tr th:only-of-type {\n",
       "        vertical-align: middle;\n",
       "    }\n",
       "\n",
       "    .dataframe tbody tr th {\n",
       "        vertical-align: top;\n",
       "    }\n",
       "\n",
       "    .dataframe thead th {\n",
       "        text-align: right;\n",
       "    }\n",
       "</style>\n",
       "<table border=\"1\" class=\"dataframe\">\n",
       "  <thead>\n",
       "    <tr style=\"text-align: right;\">\n",
       "      <th></th>\n",
       "      <th>RF_pred</th>\n",
       "      <th>LSTM_pred</th>\n",
       "    </tr>\n",
       "    <tr>\n",
       "      <th>Date</th>\n",
       "      <th></th>\n",
       "      <th></th>\n",
       "    </tr>\n",
       "  </thead>\n",
       "  <tbody>\n",
       "    <tr>\n",
       "      <th>2021-01-04</th>\n",
       "      <td>2.347368</td>\n",
       "      <td>-0.944059</td>\n",
       "    </tr>\n",
       "    <tr>\n",
       "      <th>2021-01-05</th>\n",
       "      <td>0.259478</td>\n",
       "      <td>-0.946202</td>\n",
       "    </tr>\n",
       "    <tr>\n",
       "      <th>2021-01-06</th>\n",
       "      <td>2.347368</td>\n",
       "      <td>-0.945201</td>\n",
       "    </tr>\n",
       "    <tr>\n",
       "      <th>2021-01-07</th>\n",
       "      <td>-0.332320</td>\n",
       "      <td>-0.937093</td>\n",
       "    </tr>\n",
       "    <tr>\n",
       "      <th>2021-01-08</th>\n",
       "      <td>-0.036421</td>\n",
       "      <td>-0.930578</td>\n",
       "    </tr>\n",
       "    <tr>\n",
       "      <th>...</th>\n",
       "      <td>...</td>\n",
       "      <td>...</td>\n",
       "    </tr>\n",
       "    <tr>\n",
       "      <th>2021-10-07</th>\n",
       "      <td>-0.216067</td>\n",
       "      <td>0.407376</td>\n",
       "    </tr>\n",
       "    <tr>\n",
       "      <th>2021-10-08</th>\n",
       "      <td>-0.216067</td>\n",
       "      <td>0.439659</td>\n",
       "    </tr>\n",
       "    <tr>\n",
       "      <th>2021-10-11</th>\n",
       "      <td>-0.216067</td>\n",
       "      <td>0.459939</td>\n",
       "    </tr>\n",
       "    <tr>\n",
       "      <th>2021-10-12</th>\n",
       "      <td>-0.216067</td>\n",
       "      <td>0.469323</td>\n",
       "    </tr>\n",
       "    <tr>\n",
       "      <th>2021-10-13</th>\n",
       "      <td>-0.216067</td>\n",
       "      <td>0.476414</td>\n",
       "    </tr>\n",
       "  </tbody>\n",
       "</table>\n",
       "<p>197 rows × 2 columns</p>\n",
       "</div>"
      ],
      "text/plain": [
       "             RF_pred  LSTM_pred\n",
       "Date                           \n",
       "2021-01-04  2.347368  -0.944059\n",
       "2021-01-05  0.259478  -0.946202\n",
       "2021-01-06  2.347368  -0.945201\n",
       "2021-01-07 -0.332320  -0.937093\n",
       "2021-01-08 -0.036421  -0.930578\n",
       "...              ...        ...\n",
       "2021-10-07 -0.216067   0.407376\n",
       "2021-10-08 -0.216067   0.439659\n",
       "2021-10-11 -0.216067   0.459939\n",
       "2021-10-12 -0.216067   0.469323\n",
       "2021-10-13 -0.216067   0.476414\n",
       "\n",
       "[197 rows x 2 columns]"
      ]
     },
     "execution_count": 31,
     "metadata": {},
     "output_type": "execute_result"
    }
   ],
   "source": [
    "X_train_na"
   ]
  },
  {
   "cell_type": "code",
   "execution_count": 25,
   "id": "3d7f7b33",
   "metadata": {
    "ExecuteTime": {
     "end_time": "2022-01-11T13:20:29.683988Z",
     "start_time": "2022-01-11T13:20:29.679059Z"
    }
   },
   "outputs": [
    {
     "data": {
      "text/plain": [
       "LinearRegression()"
      ]
     },
     "execution_count": 25,
     "metadata": {},
     "output_type": "execute_result"
    }
   ],
   "source": [
    "model = LinearRegression()\n",
    "model.fit(X_train_na, y_train)"
   ]
  },
  {
   "cell_type": "code",
   "execution_count": 26,
   "id": "31ac08dd",
   "metadata": {
    "ExecuteTime": {
     "end_time": "2022-01-11T13:20:47.812156Z",
     "start_time": "2022-01-11T13:20:47.798885Z"
    }
   },
   "outputs": [
    {
     "data": {
      "text/plain": [
       "0.7994012261180882"
      ]
     },
     "execution_count": 26,
     "metadata": {},
     "output_type": "execute_result"
    }
   ],
   "source": [
    "model.score(X_test_na, y_test)"
   ]
  },
  {
   "cell_type": "code",
   "execution_count": 27,
   "id": "b962e0da",
   "metadata": {
    "ExecuteTime": {
     "end_time": "2022-01-11T13:21:23.236744Z",
     "start_time": "2022-01-11T13:21:23.229476Z"
    }
   },
   "outputs": [],
   "source": [
    "new_y_pred = model.predict(X_test_na)"
   ]
  },
  {
   "cell_type": "code",
   "execution_count": 28,
   "id": "22b0a7f6",
   "metadata": {
    "ExecuteTime": {
     "end_time": "2022-01-11T13:21:31.590329Z",
     "start_time": "2022-01-11T13:21:31.582038Z"
    }
   },
   "outputs": [
    {
     "data": {
      "text/plain": [
       "4.010787650538157"
      ]
     },
     "execution_count": 28,
     "metadata": {},
     "output_type": "execute_result"
    }
   ],
   "source": [
    "metrics.mean_absolute_error(y_test, new_y_pred)"
   ]
  },
  {
   "cell_type": "markdown",
   "id": "57521c7e",
   "metadata": {},
   "source": [
    "## Plot graph"
   ]
  },
  {
   "cell_type": "code",
   "execution_count": 30,
   "id": "de0ee450",
   "metadata": {
    "ExecuteTime": {
     "end_time": "2022-01-11T13:22:34.307353Z",
     "start_time": "2022-01-11T13:22:34.181992Z"
    }
   },
   "outputs": [
    {
     "data": {
      "image/png": "[encoded data removed]",
      "text/plain": [
       "<Figure size 432x288 with 1 Axes>"
      ]
     },
     "metadata": {
      "needs_background": "light"
     },
     "output_type": "display_data"
    }
   ],
   "source": [
    "plt.plot(y_test.index, new_y_pred, label='y_pred')\n",
    "plt.plot(y_test.index, y_test, label='y_test')\n",
    "plt.legend();"
   ]
  },
  {
   "cell_type": "markdown",
   "id": "76b4a66e",
   "metadata": {},
   "source": [
    "## Ridge Regression"
   ]
  },
  {
   "cell_type": "code",
   "execution_count": 32,
   "id": "8acb4499",
   "metadata": {
    "ExecuteTime": {
     "end_time": "2022-01-11T13:39:55.313751Z",
     "start_time": "2022-01-11T13:39:55.307479Z"
    }
   },
   "outputs": [],
   "source": [
    "from sklearn import linear_model"
   ]
  },
  {
   "cell_type": "code",
   "execution_count": 33,
   "id": "715759f0",
   "metadata": {
    "ExecuteTime": {
     "end_time": "2022-01-11T13:40:28.054367Z",
     "start_time": "2022-01-11T13:40:28.034725Z"
    }
   },
   "outputs": [
    {
     "data": {
      "text/plain": [
       "Ridge(alpha=0.5)"
      ]
     },
     "execution_count": 33,
     "metadata": {},
     "output_type": "execute_result"
    }
   ],
   "source": [
    "reg = linear_model.Ridge(alpha=.5)\n",
    "reg.fit(X_train_na, y_train)"
   ]
  },
  {
   "cell_type": "code",
   "execution_count": 34,
   "id": "fc56514b",
   "metadata": {
    "ExecuteTime": {
     "end_time": "2022-01-11T13:40:43.619196Z",
     "start_time": "2022-01-11T13:40:43.602122Z"
    }
   },
   "outputs": [
    {
     "data": {
      "text/plain": [
       "0.790615109093911"
      ]
     },
     "execution_count": 34,
     "metadata": {},
     "output_type": "execute_result"
    }
   ],
   "source": [
    "reg.score(X_test_na, y_test)"
   ]
  },
  {
   "cell_type": "code",
   "execution_count": 35,
   "id": "179399d5",
   "metadata": {
    "ExecuteTime": {
     "end_time": "2022-01-11T13:41:27.921455Z",
     "start_time": "2022-01-11T13:41:27.912432Z"
    }
   },
   "outputs": [],
   "source": [
    "reg_y_pred = reg.predict(X_test_na)"
   ]
  },
  {
   "cell_type": "code",
   "execution_count": 36,
   "id": "7440b0ad",
   "metadata": {
    "ExecuteTime": {
     "end_time": "2022-01-11T13:41:32.094260Z",
     "start_time": "2022-01-11T13:41:32.082356Z"
    }
   },
   "outputs": [
    {
     "data": {
      "text/plain": [
       "4.0809220172651735"
      ]
     },
     "execution_count": 36,
     "metadata": {},
     "output_type": "execute_result"
    }
   ],
   "source": [
    "metrics.mean_absolute_error(y_test, reg_y_pred)"
   ]
  },
  {
   "cell_type": "code",
   "execution_count": 37,
   "id": "1af93a11",
   "metadata": {
    "ExecuteTime": {
     "end_time": "2022-01-11T13:41:55.549615Z",
     "start_time": "2022-01-11T13:41:55.422484Z"
    }
   },
   "outputs": [
    {
     "data": {
      "image/png": "[encoded data removed]",
      "text/plain": [
       "<Figure size 432x288 with 1 Axes>"
      ]
     },
     "metadata": {
      "needs_background": "light"
     },
     "output_type": "display_data"
    }
   ],
   "source": [
    "plt.plot(y_test.index, reg_y_pred, label='y_pred')\n",
    "plt.plot(y_test.index, y_test, label='y_test')\n",
    "plt.legend();"
   ]
  },
  {
   "cell_type": "code",
   "execution_count": null,
   "id": "229da5e7",
   "metadata": {},
   "outputs": [],
   "source": []
  }
 ],
 "metadata": {
  "kernelspec": {
   "display_name": "Python 3 (ipykernel)",
   "language": "python",
   "name": "python3"
  },
  "language_info": {
   "codemirror_mode": {
    "name": "ipython",
    "version": 3
   },
   "file_extension": ".py",
   "mimetype": "text/x-python",
   "name": "python",
   "nbconvert_exporter": "python",
   "pygments_lexer": "ipython3",
   "version": "3.8.12"
  },
  "toc": {
   "base_numbering": 1,
   "nav_menu": {},
   "number_sections": true,
   "sideBar": true,
   "skip_h1_title": false,
   "title_cell": "Table of Contents",
   "title_sidebar": "Contents",
   "toc_cell": false,
   "toc_position": {},
   "toc_section_display": true,
   "toc_window_display": false
  },
  "varInspector": {
   "cols": {
    "lenName": 16,
    "lenType": 16,
    "lenVar": 40
   },
   "kernels_config": {
    "python": {
     "delete_cmd_postfix": "",
     "delete_cmd_prefix": "del ",
     "library": "var_list.py",
     "varRefreshCmd": "print(var_dic_list())"
    },
    "r": {
     "delete_cmd_postfix": ") ",
     "delete_cmd_prefix": "rm(",
     "library": "var_list.r",
     "varRefreshCmd": "cat(var_dic_list()) "
    }
   },
   "types_to_exclude": [
    "module",
    "function",
    "builtin_function_or_method",
    "instance",
    "_Feature"
   ],
   "window_display": false
  }
 },
 "nbformat": 4,
 "nbformat_minor": 5
}
