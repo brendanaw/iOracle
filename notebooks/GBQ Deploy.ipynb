{
 "cells": [
  {
   "cell_type": "code",
   "execution_count": 1,
   "id": "4dcf2539",
   "metadata": {
    "ExecuteTime": {
     "end_time": "2022-01-09T01:49:29.491506Z",
     "start_time": "2022-01-09T01:49:29.223582Z"
    }
   },
   "outputs": [],
   "source": [
    "# imports\n",
    "from google.cloud import bigquery as bq\n",
    "from datetime import datetime as dt\n",
    "from time import sleep\n",
    "\n",
    "# from data import save_gbq\n",
    "\n",
    "# parameters\n",
    "project_id = 'ioracle'\n",
    "table_name = 'aapl_data'\n",
    "ticker_name = 'aapl'\n",
    "model_name= 'aapl_arima_predict'\n",
    "train_start = '2018-01-01'\n",
    "train_end = dt.today().strftime('%Y-%m-%d')\n",
    "# model parameters\n",
    "NON_SEASONAL_ORDER, INCLUDE_DRIFT = (0,1,5), False\n",
    "\n",
    "\n"
   ]
  },
  {
   "cell_type": "code",
   "execution_count": 2,
   "id": "7436ed09",
   "metadata": {
    "ExecuteTime": {
     "end_time": "2022-01-09T01:49:29.503195Z",
     "start_time": "2022-01-09T01:49:29.493720Z"
    }
   },
   "outputs": [],
   "source": [
    "import yfinance as yf\n",
    "import pandas as pd\n",
    "from datetime import datetime as dt\n",
    "import os #only for jupyter notebook"
   ]
  },
  {
   "cell_type": "code",
   "execution_count": 3,
   "id": "73d2e30a",
   "metadata": {
    "ExecuteTime": {
     "end_time": "2022-01-09T01:49:29.542347Z",
     "start_time": "2022-01-09T01:49:29.505282Z"
    }
   },
   "outputs": [],
   "source": [
    "# only for jupyter notebook\n",
    "os.environ[\"GOOGLE_APPLICATION_CREDENTIALS\"]=\"../../service-account-file.json\""
   ]
  },
  {
   "cell_type": "code",
   "execution_count": 4,
   "id": "5bf653e3",
   "metadata": {
    "ExecuteTime": {
     "end_time": "2022-01-09T01:49:29.565461Z",
     "start_time": "2022-01-09T01:49:29.547136Z"
    }
   },
   "outputs": [],
   "source": [
    "def _get_dataframe(ticker_name, start, end):\n",
    "    \"\"\"\n",
    "    get_dataframe(ticker_name, start, end)\n",
    "    Downloads OHLC,adj close and volume from yahoo finance\n",
    "    returns dataframe\n",
    "\n",
    "    \"\"\"\n",
    "    df = yf.download(ticker_name, start=start, end=end)\n",
    "    return df\n",
    "\n",
    "\n",
    "def _get_start_end(kwargs):\n",
    "    '''\n",
    "    get_start_end(kwargs)\n",
    "    from kwargs, get start, end dates\n",
    "    if not stated, will return default values\n",
    "    return start, end dates\n",
    "    '''\n",
    "    start = kwargs.get('start', \"2017-01-01\")\n",
    "    end = kwargs.get('end', dt.today().strftime('%Y-%m-%d')) #not inclusive\n",
    "    return start, end\n",
    "         \n",
    "\n",
    "def save_local(ticker_name, path_filename, **kwargs):\n",
    "    \"\"\"\n",
    "    save_local(path_filename, ticker_name, **kwargs)\n",
    "    save df to local path\n",
    "    \"\"\"\n",
    "    start, end = _get_start_end(kwargs)\n",
    "      \n",
    "    df = _get_dataframe(ticker_name, start=start, end=end)\n",
    "    if len(df) != 0:\n",
    "        df.to_csv(path_filename)\n",
    "        print(f\"{ticker_name} from {start} to {end} saved to {path_filename}\")\n",
    "        \n",
    "\n",
    "def save_gbq(ticker_name, table_name, **kwargs):\n",
    "    \"\"\"\n",
    "    save_to_gbq(table_name, project_id=None)\n",
    "    convert df to uploadable format for gbq\n",
    "    \"\"\"\n",
    "    \n",
    "    start, end = _get_start_end(kwargs)\n",
    "    project_id = kwargs.get('project_id', \"ioracle\")\n",
    "    \n",
    "            \n",
    "    temp = _get_dataframe(ticker_name, start=start, end=end)\n",
    "    \n",
    "##    For testing, avoid keep downloading data\n",
    "#     temp = pd.read_csv('play.csv')\n",
    "\n",
    "    if len(temp) != 0: # check that df is not empty\n",
    "        temp = temp.rename(columns={'Adj Close': 'Adj_Close'}).reset_index()\n",
    "        temp.to_gbq(f'{project_id}.main.{table_name}', \n",
    "                    project_id=project_id, \n",
    "                    table_schema = [{'name': 'Date','type':'DATE'}], #hard code schema for date from DATETIME to DATE\n",
    "                    if_exists='replace'\n",
    "                   )\n",
    "        \n",
    "\n",
    "def read_local(path_filename):\n",
    "    \"\"\"\n",
    "    read_local(path_filename)\n",
    "    reads the csv file and parses date col as date, setting the date as the index\n",
    "    returns the df\n",
    "    \"\"\"\n",
    "    df = pd.read_csv(path_filename)\n",
    "    df['Date'] = pd.to_datetime(df['Date'])\n",
    "    return df.set_index('Date')\n",
    "    \n",
    "\n",
    "# read from gbq (undo changes)\n",
    "def read_gbq(table_name, **kwargs):\n",
    "\n",
    "        \n",
    "    project_id = kwargs.get('project_id', \"ioracle\")\n",
    "\n",
    "    sql = f\"SELECT * FROM `{project_id}.main.{table_name}` \"\n",
    "\n",
    "    df = pd.read_gbq(sql, project_id=project_id)\n",
    "    df = df.sort_values('Date').set_index('Date')   \n",
    "    return df"
   ]
  },
  {
   "cell_type": "code",
   "execution_count": 5,
   "id": "832b4180",
   "metadata": {
    "ExecuteTime": {
     "end_time": "2022-01-09T01:49:29.576584Z",
     "start_time": "2022-01-09T01:49:29.567831Z"
    }
   },
   "outputs": [],
   "source": [
    "def predict(tgt_date):\n",
    "\n",
    "#     # upload latest data from yfinance\n",
    "#     save_gbq(ticker_name, table_name)\n",
    "\n",
    "    # initialize client\n",
    "    client = bq.Client(project=project_id)\n",
    "\n",
    "    #delete any previous models of same name\n",
    "    query1 = f\"DROP MODEL IF EXISTS `{project_id}.main.{model_name}`\"\n",
    "    client.query(query1)\n",
    "\n",
    "    # train model\n",
    "    query2 = f\"\"\"\n",
    "            CREATE MODEL IF NOT EXISTS `{project_id}.main.{model_name}`\n",
    "                OPTIONS(MODEL_TYPE='ARIMA_PLUS',\n",
    "                         time_series_timestamp_col='Date',\n",
    "                         time_series_data_col='Adj_Close',\n",
    "                         DATA_FREQUENCY = 'DAILY',\n",
    "                         HOLIDAY_REGION = 'GLOBAL',\n",
    "                         CLEAN_SPIKES_AND_DIPS = FALSE,\n",
    "                         AUTO_ARIMA = FALSE,\n",
    "                         NON_SEASONAL_ORDER = {NON_SEASONAL_ORDER},\n",
    "                         INCLUDE_DRIFT = {INCLUDE_DRIFT}) AS\n",
    "                SELECT Date, Adj_Close\n",
    "                FROM `{project_id}.main.{table_name}`\n",
    "                WHERE Date Between '{train_start}' AND '{train_end}'\n",
    "                ORDER BY Date ASC\n",
    "            \"\"\"\n",
    "    client.query(query2)\n",
    "\n",
    "    #get predicted value\n",
    "    query3 = f\"\"\"SELECT * FROM ML.FORECAST(MODEL `{project_id}.main.{model_name}`,\n",
    "                STRUCT(50 AS horizon)\n",
    "                )\"\"\"\n",
    "    while True:\n",
    "        try:\n",
    "            df = client.query(query3).to_dataframe()\n",
    "            df['Date'] = df['forecast_timestamp'].apply(lambda x: x.date())\n",
    "            df = df.set_index('Date')\n",
    "            pred = df.loc[dt.strptime(tgt_date, '%Y-%m-%d').date(), 'forecast_value']\n",
    "            return pred\n",
    "        except:\n",
    "            sleep(1)\n",
    "    "
   ]
  },
  {
   "cell_type": "code",
   "execution_count": 7,
   "id": "7ddad6f7",
   "metadata": {
    "ExecuteTime": {
     "end_time": "2022-01-09T01:50:25.375353Z",
     "start_time": "2022-01-09T01:50:13.271104Z"
    },
    "scrolled": false
   },
   "outputs": [
    {
     "data": {
      "text/plain": [
       "165.61896769005656"
      ]
     },
     "execution_count": 7,
     "metadata": {},
     "output_type": "execute_result"
    }
   ],
   "source": [
    "predict('2022-02-02')"
   ]
  }
 ],
 "metadata": {
  "kernelspec": {
   "display_name": "Python 3 (ipykernel)",
   "language": "python",
   "name": "python3"
  },
  "language_info": {
   "codemirror_mode": {
    "name": "ipython",
    "version": 3
   },
   "file_extension": ".py",
   "mimetype": "text/x-python",
   "name": "python",
   "nbconvert_exporter": "python",
   "pygments_lexer": "ipython3",
   "version": "3.8.6"
  },
  "toc": {
   "base_numbering": 1,
   "nav_menu": {},
   "number_sections": true,
   "sideBar": true,
   "skip_h1_title": false,
   "title_cell": "Table of Contents",
   "title_sidebar": "Contents",
   "toc_cell": false,
   "toc_position": {},
   "toc_section_display": true,
   "toc_window_display": false
  },
  "varInspector": {
   "cols": {
    "lenName": 16,
    "lenType": 16,
    "lenVar": 40
   },
   "kernels_config": {
    "python": {
     "delete_cmd_postfix": "",
     "delete_cmd_prefix": "del ",
     "library": "var_list.py",
     "varRefreshCmd": "print(var_dic_list())"
    },
    "r": {
     "delete_cmd_postfix": ") ",
     "delete_cmd_prefix": "rm(",
     "library": "var_list.r",
     "varRefreshCmd": "cat(var_dic_list()) "
    }
   },
   "types_to_exclude": [
    "module",
    "function",
    "builtin_function_or_method",
    "instance",
    "_Feature"
   ],
   "window_display": false
  }
 },
 "nbformat": 4,
 "nbformat_minor": 5
}
