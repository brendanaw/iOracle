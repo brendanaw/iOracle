{
 "cells": [
  {
   "cell_type": "markdown",
   "id": "aaa38fde",
   "metadata": {},
   "source": [
    "# yfinance"
   ]
  },
  {
   "cell_type": "markdown",
   "id": "16f9ceb2",
   "metadata": {},
   "source": [
    "## Package imports"
   ]
  },
  {
   "cell_type": "code",
   "execution_count": 1,
   "id": "292dfb7c",
   "metadata": {
    "ExecuteTime": {
     "end_time": "2021-12-26T02:59:55.234370Z",
     "start_time": "2021-12-26T02:59:54.808564Z"
    }
   },
   "outputs": [],
   "source": [
    "import yfinance as yf\n",
    "import pandas as pd\n",
    "from google_auth_oauthlib import flow"
   ]
  },
  {
   "cell_type": "code",
   "execution_count": 6,
   "id": "2edfc898-614d-41d0-97f9-15952c0908b1",
   "metadata": {
    "ExecuteTime": {
     "end_time": "2021-12-26T03:27:56.782785Z",
     "start_time": "2021-12-26T03:27:56.775978Z"
    }
   },
   "outputs": [],
   "source": [
    "def _get_dataframe(ticker_name, start, end):\n",
    "    \"\"\"\n",
    "    get_dataframe(ticker_name, start, end)\n",
    "    Downloads OHLC,adj close and volume from yahoo finance\n",
    "    returns dataframe\n",
    "\n",
    "    \"\"\"\n",
    "    df = yf.download(ticker_name, start=start, end=end)\n",
    "    return df\n",
    "\n",
    "\n",
    "def _get_start_end(kwargs):\n",
    "    '''\n",
    "    get_start_end(kwargs)\n",
    "    from kwargs, get start, end dates\n",
    "    if not stated, will return default values\n",
    "    return start, end dates\n",
    "    '''\n",
    "    start = kwargs.get('start', \"2018-01-01\")\n",
    "    end = kwargs.get('end', \"2020-12-31\") \n",
    "    return start, end\n",
    "         \n",
    "\n",
    "def save_local(ticker_name, path_filename, **kwargs):\n",
    "    \"\"\"\n",
    "    save_local(path_filename, ticker_name, **kwargs)\n",
    "    save df to local path\n",
    "    \"\"\"\n",
    "    start, end = _get_start_end(kwargs)\n",
    "      \n",
    "    df = _get_dataframe(ticker_name, start=start, end=end)\n",
    "    if len(df) != 0:\n",
    "        df.to_csv(path_filename)\n",
    "        print(f\"{ticker_name} from {start} to {end} saved to {path_filename}\")\n",
    "        \n",
    "\n",
    "def _get_credentials(secrets='client_secrets.json'):\n",
    "    \"\"\"\n",
    "    get_credentials(secrets='client_secrets.json')\n",
    "    open browser to authenticate file transfer,\n",
    "    saves credentials to global var\n",
    "    \"\"\"\n",
    "    appflow = flow.InstalledAppFlow.from_client_secrets_file(\n",
    "        secrets, scopes=[\"https://www.googleapis.com/auth/bigquery\"]\n",
    "    )\n",
    "    appflow.run_local_server()\n",
    "    global credentials \n",
    "    credentials = appflow.credentials\n",
    "    \n",
    "\n",
    "def save_gbq(ticker_name, table_name, **kwargs):\n",
    "    \"\"\"\n",
    "    save_to_gbq(table_name, project_id=None)\n",
    "    convert df to uploadable format for gbq\n",
    "    \"\"\"\n",
    "    #check if credentials exist, create credentials if necssary\n",
    "    try: \n",
    "        credentials\n",
    "    except:\n",
    "        _get_credentials()\n",
    "    \n",
    "    start, end = _get_start_end(kwargs)\n",
    "    project_id = kwargs.get('project_id', \"ioracle\")\n",
    "    \n",
    "            \n",
    "    temp = _get_dataframe(ticker_name, start=start, end=end)\n",
    "    \n",
    "##    For testing, avoid keep downloading data\n",
    "#     temp = pd.read_csv('play.csv')\n",
    "\n",
    "    if len(temp) != 0: # check that df is not empty\n",
    "        temp = temp.rename(columns={'Adj Close': 'Adj_Close'}).reset_index()\n",
    "        temp.to_gbq(f'{project_id}.main.{table_name}', \n",
    "                    project_id=project_id, \n",
    "                    credentials=credentials,\n",
    "                    table_schema = [{'name': 'Date','type':'DATE'}] #hard code schema for date from DATETIME to DATE\n",
    "                   )\n",
    "        \n",
    "\n",
    "def read_local(path_filename):\n",
    "    \"\"\"\n",
    "    read_local(path_filename)\n",
    "    reads the csv file and parses date col as date, setting the date as the index\n",
    "    returns the df\n",
    "    \"\"\"\n",
    "    df = pd.read_csv(path_filename)\n",
    "    df['Date'] = pd.to_datetime(df['Date'])\n",
    "    return df.set_index('Date')\n",
    "    \n",
    "\n",
    "# read from gbq (undo changes)\n",
    "def read_gbq(table_name, **kwargs):\n",
    "    #check if credentials exist, create credentials if necssary\n",
    "    try: \n",
    "        credentials\n",
    "    except:\n",
    "        _get_credentials()\n",
    "        \n",
    "    project_id = kwargs.get('project_id', \"ioracle\")\n",
    "    \n",
    "    sql = f\"SELECT * FROM `{project_id}.main.{table_name}` \"\n",
    "    \n",
    "    df = pd.read_gbq(sql, project_id=project_id, credentials=credentials)\n",
    "    df = df.sort_values('Date').set_index('Date')\n",
    "    \n",
    "    return df\n",
    "    \n"
   ]
  },
  {
   "cell_type": "code",
   "execution_count": 12,
   "id": "bdf15239",
   "metadata": {
    "ExecuteTime": {
     "end_time": "2021-12-25T02:36:00.844625Z",
     "start_time": "2021-12-25T02:36:00.555556Z"
    },
    "scrolled": false
   },
   "outputs": [
    {
     "name": "stdout",
     "output_type": "stream",
     "text": [
      "[*********************100%***********************]  1 of 1 completed\n",
      "aapl from 2020-01-01 to 2020-12-31 saved to play.csv\n"
     ]
    }
   ],
   "source": [
    "save_local('aapl', 'play.csv', start='2020-01-01')"
   ]
  },
  {
   "cell_type": "code",
   "execution_count": 31,
   "id": "46632d36",
   "metadata": {
    "ExecuteTime": {
     "end_time": "2021-12-25T03:33:39.019951Z",
     "start_time": "2021-12-25T03:33:39.006300Z"
    },
    "scrolled": true
   },
   "outputs": [
    {
     "data": {
      "text/plain": [
       "DatetimeIndex(['2019-12-31', '2020-01-02', '2020-01-03', '2020-01-06',\n",
       "               '2020-01-07', '2020-01-08', '2020-01-09', '2020-01-10',\n",
       "               '2020-01-13', '2020-01-14',\n",
       "               ...\n",
       "               '2020-12-16', '2020-12-17', '2020-12-18', '2020-12-21',\n",
       "               '2020-12-22', '2020-12-23', '2020-12-24', '2020-12-28',\n",
       "               '2020-12-29', '2020-12-30'],\n",
       "              dtype='datetime64[ns]', name='Date', length=253, freq=None)"
      ]
     },
     "execution_count": 31,
     "metadata": {},
     "output_type": "execute_result"
    }
   ],
   "source": [
    "read_local('play.csv').index"
   ]
  },
  {
   "cell_type": "code",
   "execution_count": 36,
   "id": "fd7915e2",
   "metadata": {
    "ExecuteTime": {
     "end_time": "2021-12-25T04:03:31.594510Z",
     "start_time": "2021-12-25T04:03:25.643048Z"
    },
    "scrolled": true
   },
   "outputs": [
    {
     "name": "stdout",
     "output_type": "stream",
     "text": [
      "[*********************100%***********************]  1 of 1 completed\n"
     ]
    }
   ],
   "source": [
    "save_gbq(\"TSLA\", 'test_data', start='2020-01-01')"
   ]
  },
  {
   "cell_type": "code",
   "execution_count": 22,
   "id": "7917bd4c",
   "metadata": {
    "ExecuteTime": {
     "end_time": "2021-12-25T03:25:33.181959Z",
     "start_time": "2021-12-25T03:25:33.171673Z"
    }
   },
   "outputs": [
    {
     "data": {
      "text/plain": [
       "Date          object\n",
       "Open         float64\n",
       "High         float64\n",
       "Low          float64\n",
       "Close        float64\n",
       "Adj Close    float64\n",
       "Volume         int64\n",
       "dtype: object"
      ]
     },
     "execution_count": 22,
     "metadata": {},
     "output_type": "execute_result"
    }
   ],
   "source": [
    "df = pd.read_csv('play.csv')\n",
    "df.dtypes"
   ]
  },
  {
   "cell_type": "code",
   "execution_count": 23,
   "id": "5f552835",
   "metadata": {
    "ExecuteTime": {
     "end_time": "2021-12-25T03:25:33.199021Z",
     "start_time": "2021-12-25T03:25:33.184680Z"
    },
    "scrolled": true
   },
   "outputs": [
    {
     "data": {
      "text/html": [
       "<div>\n",
       "<style scoped>\n",
       "    .dataframe tbody tr th:only-of-type {\n",
       "        vertical-align: middle;\n",
       "    }\n",
       "\n",
       "    .dataframe tbody tr th {\n",
       "        vertical-align: top;\n",
       "    }\n",
       "\n",
       "    .dataframe thead th {\n",
       "        text-align: right;\n",
       "    }\n",
       "</style>\n",
       "<table border=\"1\" class=\"dataframe\">\n",
       "  <thead>\n",
       "    <tr style=\"text-align: right;\">\n",
       "      <th></th>\n",
       "      <th>Open</th>\n",
       "      <th>High</th>\n",
       "      <th>Low</th>\n",
       "      <th>Close</th>\n",
       "      <th>Adj Close</th>\n",
       "      <th>Volume</th>\n",
       "    </tr>\n",
       "    <tr>\n",
       "      <th>Date</th>\n",
       "      <th></th>\n",
       "      <th></th>\n",
       "      <th></th>\n",
       "      <th></th>\n",
       "      <th></th>\n",
       "      <th></th>\n",
       "    </tr>\n",
       "  </thead>\n",
       "  <tbody>\n",
       "    <tr>\n",
       "      <th>2019-12-31</th>\n",
       "      <td>72.482498</td>\n",
       "      <td>73.419998</td>\n",
       "      <td>72.379997</td>\n",
       "      <td>73.412498</td>\n",
       "      <td>72.337990</td>\n",
       "      <td>100805600</td>\n",
       "    </tr>\n",
       "    <tr>\n",
       "      <th>2020-01-02</th>\n",
       "      <td>74.059998</td>\n",
       "      <td>75.150002</td>\n",
       "      <td>73.797501</td>\n",
       "      <td>75.087502</td>\n",
       "      <td>73.988480</td>\n",
       "      <td>135480400</td>\n",
       "    </tr>\n",
       "    <tr>\n",
       "      <th>2020-01-03</th>\n",
       "      <td>74.287498</td>\n",
       "      <td>75.144997</td>\n",
       "      <td>74.125000</td>\n",
       "      <td>74.357498</td>\n",
       "      <td>73.269142</td>\n",
       "      <td>146322800</td>\n",
       "    </tr>\n",
       "    <tr>\n",
       "      <th>2020-01-06</th>\n",
       "      <td>73.447502</td>\n",
       "      <td>74.989998</td>\n",
       "      <td>73.187500</td>\n",
       "      <td>74.949997</td>\n",
       "      <td>73.852982</td>\n",
       "      <td>118387200</td>\n",
       "    </tr>\n",
       "    <tr>\n",
       "      <th>2020-01-07</th>\n",
       "      <td>74.959999</td>\n",
       "      <td>75.224998</td>\n",
       "      <td>74.370003</td>\n",
       "      <td>74.597504</td>\n",
       "      <td>73.505638</td>\n",
       "      <td>108872000</td>\n",
       "    </tr>\n",
       "  </tbody>\n",
       "</table>\n",
       "</div>"
      ],
      "text/plain": [
       "                 Open       High        Low      Close  Adj Close     Volume\n",
       "Date                                                                        \n",
       "2019-12-31  72.482498  73.419998  72.379997  73.412498  72.337990  100805600\n",
       "2020-01-02  74.059998  75.150002  73.797501  75.087502  73.988480  135480400\n",
       "2020-01-03  74.287498  75.144997  74.125000  74.357498  73.269142  146322800\n",
       "2020-01-06  73.447502  74.989998  73.187500  74.949997  73.852982  118387200\n",
       "2020-01-07  74.959999  75.224998  74.370003  74.597504  73.505638  108872000"
      ]
     },
     "execution_count": 23,
     "metadata": {},
     "output_type": "execute_result"
    }
   ],
   "source": [
    "df = df.set_index('Date')\n",
    "df.head()"
   ]
  },
  {
   "cell_type": "code",
   "execution_count": 24,
   "id": "ed11030e",
   "metadata": {
    "ExecuteTime": {
     "end_time": "2021-12-25T03:25:50.466068Z",
     "start_time": "2021-12-25T03:25:50.460573Z"
    }
   },
   "outputs": [
    {
     "data": {
      "text/plain": [
       "Index(['2019-12-31', '2020-01-02', '2020-01-03', '2020-01-06', '2020-01-07',\n",
       "       '2020-01-08', '2020-01-09', '2020-01-10', '2020-01-13', '2020-01-14',\n",
       "       ...\n",
       "       '2020-12-16', '2020-12-17', '2020-12-18', '2020-12-21', '2020-12-22',\n",
       "       '2020-12-23', '2020-12-24', '2020-12-28', '2020-12-29', '2020-12-30'],\n",
       "      dtype='object', name='Date', length=253)"
      ]
     },
     "execution_count": 24,
     "metadata": {},
     "output_type": "execute_result"
    }
   ],
   "source": [
    "df.index"
   ]
  },
  {
   "cell_type": "code",
   "execution_count": null,
   "id": "9359a92f",
   "metadata": {},
   "outputs": [],
   "source": []
  },
  {
   "cell_type": "markdown",
   "id": "8b32817b",
   "metadata": {},
   "source": [
    "## Download Data"
   ]
  },
  {
   "cell_type": "code",
   "execution_count": 14,
   "id": "d9288959",
   "metadata": {
    "ExecuteTime": {
     "end_time": "2021-12-25T02:37:35.222191Z",
     "start_time": "2021-12-25T02:37:34.918768Z"
    }
   },
   "outputs": [
    {
     "name": "stdout",
     "output_type": "stream",
     "text": [
      "[*********************100%***********************]  1 of 1 completed\n"
     ]
    }
   ],
   "source": [
    "aapl_data = yf.download(\"AAPL\", start=\"2018-01-01\", end=\"2020-12-31\")"
   ]
  },
  {
   "cell_type": "code",
   "execution_count": 15,
   "id": "fc818abb",
   "metadata": {
    "ExecuteTime": {
     "end_time": "2021-12-25T02:37:42.691434Z",
     "start_time": "2021-12-25T02:37:42.675426Z"
    }
   },
   "outputs": [
    {
     "data": {
      "text/html": [
       "<div>\n",
       "<style scoped>\n",
       "    .dataframe tbody tr th:only-of-type {\n",
       "        vertical-align: middle;\n",
       "    }\n",
       "\n",
       "    .dataframe tbody tr th {\n",
       "        vertical-align: top;\n",
       "    }\n",
       "\n",
       "    .dataframe thead th {\n",
       "        text-align: right;\n",
       "    }\n",
       "</style>\n",
       "<table border=\"1\" class=\"dataframe\">\n",
       "  <thead>\n",
       "    <tr style=\"text-align: right;\">\n",
       "      <th></th>\n",
       "      <th>Open</th>\n",
       "      <th>High</th>\n",
       "      <th>Low</th>\n",
       "      <th>Close</th>\n",
       "      <th>Adj Close</th>\n",
       "      <th>Volume</th>\n",
       "    </tr>\n",
       "    <tr>\n",
       "      <th>Date</th>\n",
       "      <th></th>\n",
       "      <th></th>\n",
       "      <th></th>\n",
       "      <th></th>\n",
       "      <th></th>\n",
       "      <th></th>\n",
       "    </tr>\n",
       "  </thead>\n",
       "  <tbody>\n",
       "    <tr>\n",
       "      <th>2018-01-02</th>\n",
       "      <td>42.540001</td>\n",
       "      <td>43.075001</td>\n",
       "      <td>42.314999</td>\n",
       "      <td>43.064999</td>\n",
       "      <td>41.188164</td>\n",
       "      <td>102223600</td>\n",
       "    </tr>\n",
       "    <tr>\n",
       "      <th>2018-01-03</th>\n",
       "      <td>43.132500</td>\n",
       "      <td>43.637501</td>\n",
       "      <td>42.990002</td>\n",
       "      <td>43.057499</td>\n",
       "      <td>41.180988</td>\n",
       "      <td>118071600</td>\n",
       "    </tr>\n",
       "    <tr>\n",
       "      <th>2018-01-04</th>\n",
       "      <td>43.134998</td>\n",
       "      <td>43.367500</td>\n",
       "      <td>43.020000</td>\n",
       "      <td>43.257500</td>\n",
       "      <td>41.372272</td>\n",
       "      <td>89738400</td>\n",
       "    </tr>\n",
       "    <tr>\n",
       "      <th>2018-01-05</th>\n",
       "      <td>43.360001</td>\n",
       "      <td>43.842499</td>\n",
       "      <td>43.262501</td>\n",
       "      <td>43.750000</td>\n",
       "      <td>41.843307</td>\n",
       "      <td>94640000</td>\n",
       "    </tr>\n",
       "    <tr>\n",
       "      <th>2018-01-08</th>\n",
       "      <td>43.587502</td>\n",
       "      <td>43.902500</td>\n",
       "      <td>43.482498</td>\n",
       "      <td>43.587502</td>\n",
       "      <td>41.687889</td>\n",
       "      <td>82271200</td>\n",
       "    </tr>\n",
       "    <tr>\n",
       "      <th>...</th>\n",
       "      <td>...</td>\n",
       "      <td>...</td>\n",
       "      <td>...</td>\n",
       "      <td>...</td>\n",
       "      <td>...</td>\n",
       "      <td>...</td>\n",
       "    </tr>\n",
       "    <tr>\n",
       "      <th>2020-12-23</th>\n",
       "      <td>132.160004</td>\n",
       "      <td>132.429993</td>\n",
       "      <td>130.779999</td>\n",
       "      <td>130.960007</td>\n",
       "      <td>130.157623</td>\n",
       "      <td>88223700</td>\n",
       "    </tr>\n",
       "    <tr>\n",
       "      <th>2020-12-24</th>\n",
       "      <td>131.320007</td>\n",
       "      <td>133.460007</td>\n",
       "      <td>131.100006</td>\n",
       "      <td>131.970001</td>\n",
       "      <td>131.161407</td>\n",
       "      <td>54930100</td>\n",
       "    </tr>\n",
       "    <tr>\n",
       "      <th>2020-12-28</th>\n",
       "      <td>133.990005</td>\n",
       "      <td>137.339996</td>\n",
       "      <td>133.509995</td>\n",
       "      <td>136.690002</td>\n",
       "      <td>135.852493</td>\n",
       "      <td>124486200</td>\n",
       "    </tr>\n",
       "    <tr>\n",
       "      <th>2020-12-29</th>\n",
       "      <td>138.050003</td>\n",
       "      <td>138.789993</td>\n",
       "      <td>134.339996</td>\n",
       "      <td>134.869995</td>\n",
       "      <td>134.043640</td>\n",
       "      <td>121047300</td>\n",
       "    </tr>\n",
       "    <tr>\n",
       "      <th>2020-12-30</th>\n",
       "      <td>135.580002</td>\n",
       "      <td>135.990005</td>\n",
       "      <td>133.399994</td>\n",
       "      <td>133.720001</td>\n",
       "      <td>132.900696</td>\n",
       "      <td>96452100</td>\n",
       "    </tr>\n",
       "  </tbody>\n",
       "</table>\n",
       "<p>755 rows × 6 columns</p>\n",
       "</div>"
      ],
      "text/plain": [
       "                  Open        High         Low       Close   Adj Close  \\\n",
       "Date                                                                     \n",
       "2018-01-02   42.540001   43.075001   42.314999   43.064999   41.188164   \n",
       "2018-01-03   43.132500   43.637501   42.990002   43.057499   41.180988   \n",
       "2018-01-04   43.134998   43.367500   43.020000   43.257500   41.372272   \n",
       "2018-01-05   43.360001   43.842499   43.262501   43.750000   41.843307   \n",
       "2018-01-08   43.587502   43.902500   43.482498   43.587502   41.687889   \n",
       "...                ...         ...         ...         ...         ...   \n",
       "2020-12-23  132.160004  132.429993  130.779999  130.960007  130.157623   \n",
       "2020-12-24  131.320007  133.460007  131.100006  131.970001  131.161407   \n",
       "2020-12-28  133.990005  137.339996  133.509995  136.690002  135.852493   \n",
       "2020-12-29  138.050003  138.789993  134.339996  134.869995  134.043640   \n",
       "2020-12-30  135.580002  135.990005  133.399994  133.720001  132.900696   \n",
       "\n",
       "               Volume  \n",
       "Date                   \n",
       "2018-01-02  102223600  \n",
       "2018-01-03  118071600  \n",
       "2018-01-04   89738400  \n",
       "2018-01-05   94640000  \n",
       "2018-01-08   82271200  \n",
       "...               ...  \n",
       "2020-12-23   88223700  \n",
       "2020-12-24   54930100  \n",
       "2020-12-28  124486200  \n",
       "2020-12-29  121047300  \n",
       "2020-12-30   96452100  \n",
       "\n",
       "[755 rows x 6 columns]"
      ]
     },
     "execution_count": 15,
     "metadata": {},
     "output_type": "execute_result"
    }
   ],
   "source": [
    "aapl_data"
   ]
  },
  {
   "cell_type": "code",
   "execution_count": 6,
   "id": "2cf053a9",
   "metadata": {
    "ExecuteTime": {
     "end_time": "2021-12-23T11:05:18.168464Z",
     "start_time": "2021-12-23T11:05:18.109202Z"
    }
   },
   "outputs": [],
   "source": [
    "aapl_data.to_csv('test.csv')"
   ]
  },
  {
   "cell_type": "code",
   "execution_count": 7,
   "id": "3fb28426",
   "metadata": {
    "ExecuteTime": {
     "end_time": "2021-12-23T11:37:48.680422Z",
     "start_time": "2021-12-23T11:37:48.183386Z"
    }
   },
   "outputs": [
    {
     "name": "stdout",
     "output_type": "stream",
     "text": [
      "[*********************100%***********************]  1 of 1 completed\n"
     ]
    }
   ],
   "source": [
    "tsla_data = yf.download(\"TSLA\", start=\"2018-01-01\", end=\"2020-12-31\")"
   ]
  },
  {
   "cell_type": "code",
   "execution_count": 8,
   "id": "a5d8d0ac-2a04-40c9-9fa6-c64e27cdd83d",
   "metadata": {
    "ExecuteTime": {
     "end_time": "2021-12-23T11:37:51.184591Z",
     "start_time": "2021-12-23T11:37:51.117696Z"
    }
   },
   "outputs": [
    {
     "data": {
      "text/html": [
       "<div>\n",
       "<style scoped>\n",
       "    .dataframe tbody tr th:only-of-type {\n",
       "        vertical-align: middle;\n",
       "    }\n",
       "\n",
       "    .dataframe tbody tr th {\n",
       "        vertical-align: top;\n",
       "    }\n",
       "\n",
       "    .dataframe thead th {\n",
       "        text-align: right;\n",
       "    }\n",
       "</style>\n",
       "<table border=\"1\" class=\"dataframe\">\n",
       "  <thead>\n",
       "    <tr style=\"text-align: right;\">\n",
       "      <th></th>\n",
       "      <th>Date</th>\n",
       "      <th>Open</th>\n",
       "      <th>High</th>\n",
       "      <th>Low</th>\n",
       "      <th>Close</th>\n",
       "      <th>Adj_Close</th>\n",
       "      <th>Volume</th>\n",
       "    </tr>\n",
       "  </thead>\n",
       "  <tbody>\n",
       "    <tr>\n",
       "      <th>0</th>\n",
       "      <td>2018-01-02</td>\n",
       "      <td>62.400002</td>\n",
       "      <td>64.421997</td>\n",
       "      <td>62.200001</td>\n",
       "      <td>64.106003</td>\n",
       "      <td>64.106003</td>\n",
       "      <td>21761000</td>\n",
       "    </tr>\n",
       "    <tr>\n",
       "      <th>1</th>\n",
       "      <td>2018-01-03</td>\n",
       "      <td>64.199997</td>\n",
       "      <td>65.050003</td>\n",
       "      <td>63.110001</td>\n",
       "      <td>63.450001</td>\n",
       "      <td>63.450001</td>\n",
       "      <td>22607500</td>\n",
       "    </tr>\n",
       "    <tr>\n",
       "      <th>2</th>\n",
       "      <td>2018-01-04</td>\n",
       "      <td>62.574001</td>\n",
       "      <td>63.709999</td>\n",
       "      <td>61.136002</td>\n",
       "      <td>62.924000</td>\n",
       "      <td>62.924000</td>\n",
       "      <td>49731500</td>\n",
       "    </tr>\n",
       "    <tr>\n",
       "      <th>3</th>\n",
       "      <td>2018-01-05</td>\n",
       "      <td>63.324001</td>\n",
       "      <td>63.448002</td>\n",
       "      <td>62.400002</td>\n",
       "      <td>63.316002</td>\n",
       "      <td>63.316002</td>\n",
       "      <td>22956000</td>\n",
       "    </tr>\n",
       "    <tr>\n",
       "      <th>4</th>\n",
       "      <td>2018-01-08</td>\n",
       "      <td>63.200001</td>\n",
       "      <td>67.403999</td>\n",
       "      <td>63.099998</td>\n",
       "      <td>67.281998</td>\n",
       "      <td>67.281998</td>\n",
       "      <td>49297000</td>\n",
       "    </tr>\n",
       "    <tr>\n",
       "      <th>...</th>\n",
       "      <td>...</td>\n",
       "      <td>...</td>\n",
       "      <td>...</td>\n",
       "      <td>...</td>\n",
       "      <td>...</td>\n",
       "      <td>...</td>\n",
       "      <td>...</td>\n",
       "    </tr>\n",
       "    <tr>\n",
       "      <th>750</th>\n",
       "      <td>2020-12-23</td>\n",
       "      <td>632.200012</td>\n",
       "      <td>651.500000</td>\n",
       "      <td>622.570007</td>\n",
       "      <td>645.979980</td>\n",
       "      <td>645.979980</td>\n",
       "      <td>33173000</td>\n",
       "    </tr>\n",
       "    <tr>\n",
       "      <th>751</th>\n",
       "      <td>2020-12-24</td>\n",
       "      <td>642.989990</td>\n",
       "      <td>666.090027</td>\n",
       "      <td>641.000000</td>\n",
       "      <td>661.770020</td>\n",
       "      <td>661.770020</td>\n",
       "      <td>22865600</td>\n",
       "    </tr>\n",
       "    <tr>\n",
       "      <th>752</th>\n",
       "      <td>2020-12-28</td>\n",
       "      <td>674.510010</td>\n",
       "      <td>681.400024</td>\n",
       "      <td>660.799988</td>\n",
       "      <td>663.690002</td>\n",
       "      <td>663.690002</td>\n",
       "      <td>32278600</td>\n",
       "    </tr>\n",
       "    <tr>\n",
       "      <th>753</th>\n",
       "      <td>2020-12-29</td>\n",
       "      <td>661.000000</td>\n",
       "      <td>669.900024</td>\n",
       "      <td>655.000000</td>\n",
       "      <td>665.989990</td>\n",
       "      <td>665.989990</td>\n",
       "      <td>22910800</td>\n",
       "    </tr>\n",
       "    <tr>\n",
       "      <th>754</th>\n",
       "      <td>2020-12-30</td>\n",
       "      <td>672.000000</td>\n",
       "      <td>696.599976</td>\n",
       "      <td>668.359985</td>\n",
       "      <td>694.780029</td>\n",
       "      <td>694.780029</td>\n",
       "      <td>42846000</td>\n",
       "    </tr>\n",
       "  </tbody>\n",
       "</table>\n",
       "<p>755 rows × 7 columns</p>\n",
       "</div>"
      ],
      "text/plain": [
       "          Date        Open        High         Low       Close   Adj_Close  \\\n",
       "0   2018-01-02   62.400002   64.421997   62.200001   64.106003   64.106003   \n",
       "1   2018-01-03   64.199997   65.050003   63.110001   63.450001   63.450001   \n",
       "2   2018-01-04   62.574001   63.709999   61.136002   62.924000   62.924000   \n",
       "3   2018-01-05   63.324001   63.448002   62.400002   63.316002   63.316002   \n",
       "4   2018-01-08   63.200001   67.403999   63.099998   67.281998   67.281998   \n",
       "..         ...         ...         ...         ...         ...         ...   \n",
       "750 2020-12-23  632.200012  651.500000  622.570007  645.979980  645.979980   \n",
       "751 2020-12-24  642.989990  666.090027  641.000000  661.770020  661.770020   \n",
       "752 2020-12-28  674.510010  681.400024  660.799988  663.690002  663.690002   \n",
       "753 2020-12-29  661.000000  669.900024  655.000000  665.989990  665.989990   \n",
       "754 2020-12-30  672.000000  696.599976  668.359985  694.780029  694.780029   \n",
       "\n",
       "       Volume  \n",
       "0    21761000  \n",
       "1    22607500  \n",
       "2    49731500  \n",
       "3    22956000  \n",
       "4    49297000  \n",
       "..        ...  \n",
       "750  33173000  \n",
       "751  22865600  \n",
       "752  32278600  \n",
       "753  22910800  \n",
       "754  42846000  \n",
       "\n",
       "[755 rows x 7 columns]"
      ]
     },
     "execution_count": 8,
     "metadata": {},
     "output_type": "execute_result"
    }
   ],
   "source": [
    "tsla_data = tsla_data.rename(columns={'Adj Close': 'Adj_Close'}).reset_index()\n",
    "tsla_data"
   ]
  },
  {
   "cell_type": "code",
   "execution_count": 17,
   "id": "b3d8600f",
   "metadata": {
    "ExecuteTime": {
     "end_time": "2021-12-21T13:44:52.999170Z",
     "start_time": "2021-12-21T13:44:52.990511Z"
    },
    "scrolled": true
   },
   "outputs": [
    {
     "data": {
      "text/plain": [
       "Date         datetime64[ns]\n",
       "Open                float64\n",
       "High                float64\n",
       "Low                 float64\n",
       "Close               float64\n",
       "Adj_Close           float64\n",
       "Volume                int64\n",
       "dtype: object"
      ]
     },
     "execution_count": 17,
     "metadata": {},
     "output_type": "execute_result"
    }
   ],
   "source": [
    "tsla_data.dtypes"
   ]
  },
  {
   "cell_type": "code",
   "execution_count": 5,
   "id": "f1d8b926",
   "metadata": {
    "ExecuteTime": {
     "end_time": "2021-12-25T13:56:56.126670Z",
     "start_time": "2021-12-25T13:56:42.797655Z"
    }
   },
   "outputs": [
    {
     "name": "stdout",
     "output_type": "stream",
     "text": [
      "Please visit this URL to authorize this application: https://accounts.google.com/o/oauth2/auth?response_type=code&client_id=284152559720-tp4cmv7dh2fff2a0n0h6rel90pmnj7t4.apps.googleusercontent.com&redirect_uri=http%3A%2F%2Flocalhost%3A8080%2F&scope=https%3A%2F%2Fwww.googleapis.com%2Fauth%2Fbigquery&state=01tOsnOG2i52ewfRy8Bw16F8a5ZmmL&access_type=offline\n"
     ]
    }
   ],
   "source": [
    "\n",
    "\n",
    "# TODO: Uncomment the line below to set the `launch_browser` variable.\n",
    "launch_browser = True\n",
    "#\n",
    "# The `launch_browser` boolean variable indicates if a local server is used\n",
    "# as the callback URL in the auth flow. A value of `True` is recommended,\n",
    "# but a local server does not work if accessing the application remotely,\n",
    "# such as over SSH or from a remote Jupyter notebook.\n",
    "\n",
    "appflow = flow.InstalledAppFlow.from_client_secrets_file(\n",
    "    \"client_secrets.json\", scopes=[\"https://www.googleapis.com/auth/bigquery\"]\n",
    ")\n",
    "\n",
    "if launch_browser:\n",
    "    appflow.run_local_server()\n",
    "else:\n",
    "    appflow.run_console()\n",
    "\n",
    "credentials = appflow.credentials"
   ]
  },
  {
   "cell_type": "code",
   "execution_count": 18,
   "id": "0a069ddd",
   "metadata": {
    "ExecuteTime": {
     "end_time": "2021-12-23T11:52:53.843869Z",
     "start_time": "2021-12-23T11:52:53.834674Z"
    }
   },
   "outputs": [
    {
     "data": {
      "text/plain": [
       "<google.oauth2.credentials.Credentials at 0x7f2c835d7490>"
      ]
     },
     "execution_count": 18,
     "metadata": {},
     "output_type": "execute_result"
    }
   ],
   "source": [
    "credentials"
   ]
  },
  {
   "cell_type": "code",
   "execution_count": 22,
   "id": "49e78609-e1a5-449d-9521-0866580c1b98",
   "metadata": {
    "ExecuteTime": {
     "end_time": "2021-12-23T11:58:06.758922Z",
     "start_time": "2021-12-23T11:58:00.254686Z"
    }
   },
   "outputs": [],
   "source": [
    "tsla_data.to_gbq(\"ioracle.main.test_data\", project_id=project_id, credentials=credentials)"
   ]
  },
  {
   "cell_type": "markdown",
   "id": "565d00e9",
   "metadata": {},
   "source": [
    "## Read Data"
   ]
  },
  {
   "cell_type": "code",
   "execution_count": 4,
   "id": "64cde8a1",
   "metadata": {
    "ExecuteTime": {
     "end_time": "2021-12-26T03:17:34.148516Z",
     "start_time": "2021-12-26T03:17:34.133845Z"
    }
   },
   "outputs": [
    {
     "data": {
      "text/html": [
       "<div>\n",
       "<style scoped>\n",
       "    .dataframe tbody tr th:only-of-type {\n",
       "        vertical-align: middle;\n",
       "    }\n",
       "\n",
       "    .dataframe tbody tr th {\n",
       "        vertical-align: top;\n",
       "    }\n",
       "\n",
       "    .dataframe thead th {\n",
       "        text-align: right;\n",
       "    }\n",
       "</style>\n",
       "<table border=\"1\" class=\"dataframe\">\n",
       "  <thead>\n",
       "    <tr style=\"text-align: right;\">\n",
       "      <th></th>\n",
       "      <th>Open</th>\n",
       "      <th>High</th>\n",
       "      <th>Low</th>\n",
       "      <th>Close</th>\n",
       "      <th>Adj Close</th>\n",
       "      <th>Volume</th>\n",
       "    </tr>\n",
       "    <tr>\n",
       "      <th>Date</th>\n",
       "      <th></th>\n",
       "      <th></th>\n",
       "      <th></th>\n",
       "      <th></th>\n",
       "      <th></th>\n",
       "      <th></th>\n",
       "    </tr>\n",
       "  </thead>\n",
       "  <tbody>\n",
       "    <tr>\n",
       "      <th>2019-12-31</th>\n",
       "      <td>72.482498</td>\n",
       "      <td>73.419998</td>\n",
       "      <td>72.379997</td>\n",
       "      <td>73.412498</td>\n",
       "      <td>72.337990</td>\n",
       "      <td>100805600</td>\n",
       "    </tr>\n",
       "    <tr>\n",
       "      <th>2020-01-02</th>\n",
       "      <td>74.059998</td>\n",
       "      <td>75.150002</td>\n",
       "      <td>73.797501</td>\n",
       "      <td>75.087502</td>\n",
       "      <td>73.988480</td>\n",
       "      <td>135480400</td>\n",
       "    </tr>\n",
       "    <tr>\n",
       "      <th>2020-01-03</th>\n",
       "      <td>74.287498</td>\n",
       "      <td>75.144997</td>\n",
       "      <td>74.125000</td>\n",
       "      <td>74.357498</td>\n",
       "      <td>73.269142</td>\n",
       "      <td>146322800</td>\n",
       "    </tr>\n",
       "    <tr>\n",
       "      <th>2020-01-06</th>\n",
       "      <td>73.447502</td>\n",
       "      <td>74.989998</td>\n",
       "      <td>73.187500</td>\n",
       "      <td>74.949997</td>\n",
       "      <td>73.852982</td>\n",
       "      <td>118387200</td>\n",
       "    </tr>\n",
       "    <tr>\n",
       "      <th>2020-01-07</th>\n",
       "      <td>74.959999</td>\n",
       "      <td>75.224998</td>\n",
       "      <td>74.370003</td>\n",
       "      <td>74.597504</td>\n",
       "      <td>73.505638</td>\n",
       "      <td>108872000</td>\n",
       "    </tr>\n",
       "    <tr>\n",
       "      <th>...</th>\n",
       "      <td>...</td>\n",
       "      <td>...</td>\n",
       "      <td>...</td>\n",
       "      <td>...</td>\n",
       "      <td>...</td>\n",
       "      <td>...</td>\n",
       "    </tr>\n",
       "    <tr>\n",
       "      <th>2020-12-23</th>\n",
       "      <td>132.160004</td>\n",
       "      <td>132.429993</td>\n",
       "      <td>130.779999</td>\n",
       "      <td>130.960007</td>\n",
       "      <td>130.157608</td>\n",
       "      <td>88223700</td>\n",
       "    </tr>\n",
       "    <tr>\n",
       "      <th>2020-12-24</th>\n",
       "      <td>131.320007</td>\n",
       "      <td>133.460007</td>\n",
       "      <td>131.100006</td>\n",
       "      <td>131.970001</td>\n",
       "      <td>131.161407</td>\n",
       "      <td>54930100</td>\n",
       "    </tr>\n",
       "    <tr>\n",
       "      <th>2020-12-28</th>\n",
       "      <td>133.990005</td>\n",
       "      <td>137.339996</td>\n",
       "      <td>133.509995</td>\n",
       "      <td>136.690002</td>\n",
       "      <td>135.852509</td>\n",
       "      <td>124486200</td>\n",
       "    </tr>\n",
       "    <tr>\n",
       "      <th>2020-12-29</th>\n",
       "      <td>138.050003</td>\n",
       "      <td>138.789993</td>\n",
       "      <td>134.339996</td>\n",
       "      <td>134.869995</td>\n",
       "      <td>134.043655</td>\n",
       "      <td>121047300</td>\n",
       "    </tr>\n",
       "    <tr>\n",
       "      <th>2020-12-30</th>\n",
       "      <td>135.580002</td>\n",
       "      <td>135.990005</td>\n",
       "      <td>133.399994</td>\n",
       "      <td>133.720001</td>\n",
       "      <td>132.900696</td>\n",
       "      <td>96452100</td>\n",
       "    </tr>\n",
       "  </tbody>\n",
       "</table>\n",
       "<p>253 rows × 6 columns</p>\n",
       "</div>"
      ],
      "text/plain": [
       "                  Open        High         Low       Close   Adj Close  \\\n",
       "Date                                                                     \n",
       "2019-12-31   72.482498   73.419998   72.379997   73.412498   72.337990   \n",
       "2020-01-02   74.059998   75.150002   73.797501   75.087502   73.988480   \n",
       "2020-01-03   74.287498   75.144997   74.125000   74.357498   73.269142   \n",
       "2020-01-06   73.447502   74.989998   73.187500   74.949997   73.852982   \n",
       "2020-01-07   74.959999   75.224998   74.370003   74.597504   73.505638   \n",
       "...                ...         ...         ...         ...         ...   \n",
       "2020-12-23  132.160004  132.429993  130.779999  130.960007  130.157608   \n",
       "2020-12-24  131.320007  133.460007  131.100006  131.970001  131.161407   \n",
       "2020-12-28  133.990005  137.339996  133.509995  136.690002  135.852509   \n",
       "2020-12-29  138.050003  138.789993  134.339996  134.869995  134.043655   \n",
       "2020-12-30  135.580002  135.990005  133.399994  133.720001  132.900696   \n",
       "\n",
       "               Volume  \n",
       "Date                   \n",
       "2019-12-31  100805600  \n",
       "2020-01-02  135480400  \n",
       "2020-01-03  146322800  \n",
       "2020-01-06  118387200  \n",
       "2020-01-07  108872000  \n",
       "...               ...  \n",
       "2020-12-23   88223700  \n",
       "2020-12-24   54930100  \n",
       "2020-12-28  124486200  \n",
       "2020-12-29  121047300  \n",
       "2020-12-30   96452100  \n",
       "\n",
       "[253 rows x 6 columns]"
      ]
     },
     "execution_count": 4,
     "metadata": {},
     "output_type": "execute_result"
    }
   ],
   "source": [
    "read_local('play.csv')"
   ]
  },
  {
   "cell_type": "code",
   "execution_count": 7,
   "id": "88d8e1dc",
   "metadata": {
    "ExecuteTime": {
     "end_time": "2021-12-26T03:28:09.738027Z",
     "start_time": "2021-12-26T03:28:08.118945Z"
    }
   },
   "outputs": [
    {
     "data": {
      "text/html": [
       "<div>\n",
       "<style scoped>\n",
       "    .dataframe tbody tr th:only-of-type {\n",
       "        vertical-align: middle;\n",
       "    }\n",
       "\n",
       "    .dataframe tbody tr th {\n",
       "        vertical-align: top;\n",
       "    }\n",
       "\n",
       "    .dataframe thead th {\n",
       "        text-align: right;\n",
       "    }\n",
       "</style>\n",
       "<table border=\"1\" class=\"dataframe\">\n",
       "  <thead>\n",
       "    <tr style=\"text-align: right;\">\n",
       "      <th></th>\n",
       "      <th>Open</th>\n",
       "      <th>High</th>\n",
       "      <th>Low</th>\n",
       "      <th>Close</th>\n",
       "      <th>Adj_Close</th>\n",
       "      <th>Volume</th>\n",
       "    </tr>\n",
       "    <tr>\n",
       "      <th>Date</th>\n",
       "      <th></th>\n",
       "      <th></th>\n",
       "      <th></th>\n",
       "      <th></th>\n",
       "      <th></th>\n",
       "      <th></th>\n",
       "    </tr>\n",
       "  </thead>\n",
       "  <tbody>\n",
       "    <tr>\n",
       "      <th>2019-12-31</th>\n",
       "      <td>72.482498</td>\n",
       "      <td>73.419998</td>\n",
       "      <td>72.379997</td>\n",
       "      <td>73.412498</td>\n",
       "      <td>72.337990</td>\n",
       "      <td>100805600</td>\n",
       "    </tr>\n",
       "    <tr>\n",
       "      <th>2020-01-02</th>\n",
       "      <td>74.059998</td>\n",
       "      <td>75.150002</td>\n",
       "      <td>73.797501</td>\n",
       "      <td>75.087502</td>\n",
       "      <td>73.988464</td>\n",
       "      <td>135480400</td>\n",
       "    </tr>\n",
       "    <tr>\n",
       "      <th>2020-01-03</th>\n",
       "      <td>74.287498</td>\n",
       "      <td>75.144997</td>\n",
       "      <td>74.125000</td>\n",
       "      <td>74.357498</td>\n",
       "      <td>73.269157</td>\n",
       "      <td>146322800</td>\n",
       "    </tr>\n",
       "    <tr>\n",
       "      <th>2020-01-06</th>\n",
       "      <td>73.447502</td>\n",
       "      <td>74.989998</td>\n",
       "      <td>73.187500</td>\n",
       "      <td>74.949997</td>\n",
       "      <td>73.852974</td>\n",
       "      <td>118387200</td>\n",
       "    </tr>\n",
       "    <tr>\n",
       "      <th>2020-01-07</th>\n",
       "      <td>74.959999</td>\n",
       "      <td>75.224998</td>\n",
       "      <td>74.370003</td>\n",
       "      <td>74.597504</td>\n",
       "      <td>73.505646</td>\n",
       "      <td>108872000</td>\n",
       "    </tr>\n",
       "    <tr>\n",
       "      <th>...</th>\n",
       "      <td>...</td>\n",
       "      <td>...</td>\n",
       "      <td>...</td>\n",
       "      <td>...</td>\n",
       "      <td>...</td>\n",
       "      <td>...</td>\n",
       "    </tr>\n",
       "    <tr>\n",
       "      <th>2020-12-23</th>\n",
       "      <td>132.160004</td>\n",
       "      <td>132.429993</td>\n",
       "      <td>130.779999</td>\n",
       "      <td>130.960007</td>\n",
       "      <td>130.157608</td>\n",
       "      <td>88223700</td>\n",
       "    </tr>\n",
       "    <tr>\n",
       "      <th>2020-12-24</th>\n",
       "      <td>131.320007</td>\n",
       "      <td>133.460007</td>\n",
       "      <td>131.100006</td>\n",
       "      <td>131.970001</td>\n",
       "      <td>131.161423</td>\n",
       "      <td>54930100</td>\n",
       "    </tr>\n",
       "    <tr>\n",
       "      <th>2020-12-28</th>\n",
       "      <td>133.990005</td>\n",
       "      <td>137.339996</td>\n",
       "      <td>133.509995</td>\n",
       "      <td>136.690002</td>\n",
       "      <td>135.852509</td>\n",
       "      <td>124486200</td>\n",
       "    </tr>\n",
       "    <tr>\n",
       "      <th>2020-12-29</th>\n",
       "      <td>138.050003</td>\n",
       "      <td>138.789993</td>\n",
       "      <td>134.339996</td>\n",
       "      <td>134.869995</td>\n",
       "      <td>134.043655</td>\n",
       "      <td>121047300</td>\n",
       "    </tr>\n",
       "    <tr>\n",
       "      <th>2020-12-30</th>\n",
       "      <td>135.580002</td>\n",
       "      <td>135.990005</td>\n",
       "      <td>133.399994</td>\n",
       "      <td>133.720001</td>\n",
       "      <td>132.900696</td>\n",
       "      <td>96452100</td>\n",
       "    </tr>\n",
       "  </tbody>\n",
       "</table>\n",
       "<p>253 rows × 6 columns</p>\n",
       "</div>"
      ],
      "text/plain": [
       "                  Open        High         Low       Close   Adj_Close  \\\n",
       "Date                                                                     \n",
       "2019-12-31   72.482498   73.419998   72.379997   73.412498   72.337990   \n",
       "2020-01-02   74.059998   75.150002   73.797501   75.087502   73.988464   \n",
       "2020-01-03   74.287498   75.144997   74.125000   74.357498   73.269157   \n",
       "2020-01-06   73.447502   74.989998   73.187500   74.949997   73.852974   \n",
       "2020-01-07   74.959999   75.224998   74.370003   74.597504   73.505646   \n",
       "...                ...         ...         ...         ...         ...   \n",
       "2020-12-23  132.160004  132.429993  130.779999  130.960007  130.157608   \n",
       "2020-12-24  131.320007  133.460007  131.100006  131.970001  131.161423   \n",
       "2020-12-28  133.990005  137.339996  133.509995  136.690002  135.852509   \n",
       "2020-12-29  138.050003  138.789993  134.339996  134.869995  134.043655   \n",
       "2020-12-30  135.580002  135.990005  133.399994  133.720001  132.900696   \n",
       "\n",
       "               Volume  \n",
       "Date                   \n",
       "2019-12-31  100805600  \n",
       "2020-01-02  135480400  \n",
       "2020-01-03  146322800  \n",
       "2020-01-06  118387200  \n",
       "2020-01-07  108872000  \n",
       "...               ...  \n",
       "2020-12-23   88223700  \n",
       "2020-12-24   54930100  \n",
       "2020-12-28  124486200  \n",
       "2020-12-29  121047300  \n",
       "2020-12-30   96452100  \n",
       "\n",
       "[253 rows x 6 columns]"
      ]
     },
     "execution_count": 7,
     "metadata": {},
     "output_type": "execute_result"
    }
   ],
   "source": [
    "read_gbq('play_data')"
   ]
  },
  {
   "cell_type": "code",
   "execution_count": 13,
   "id": "713c293b",
   "metadata": {
    "ExecuteTime": {
     "end_time": "2021-12-25T15:26:51.788053Z",
     "start_time": "2021-12-25T15:26:51.783704Z"
    }
   },
   "outputs": [],
   "source": [
    "project_id = \"ioracle\"\n",
    "table = \"play_data\""
   ]
  },
  {
   "cell_type": "code",
   "execution_count": 14,
   "id": "29bebffb-f09b-451f-93c5-2d298e6c9127",
   "metadata": {
    "ExecuteTime": {
     "end_time": "2021-12-25T15:26:55.417926Z",
     "start_time": "2021-12-25T15:26:51.790070Z"
    }
   },
   "outputs": [],
   "source": [
    " sql = f\"SELECT * FROM `{project_id}.main.{table}` \"\n",
    "df = pd.read_gbq(sql, project_id=project_id, credentials=credentials)"
   ]
  },
  {
   "cell_type": "code",
   "execution_count": 15,
   "id": "61395c9b",
   "metadata": {
    "ExecuteTime": {
     "end_time": "2021-12-25T15:26:55.435507Z",
     "start_time": "2021-12-25T15:26:55.419531Z"
    },
    "scrolled": true
   },
   "outputs": [
    {
     "data": {
      "text/html": [
       "<div>\n",
       "<style scoped>\n",
       "    .dataframe tbody tr th:only-of-type {\n",
       "        vertical-align: middle;\n",
       "    }\n",
       "\n",
       "    .dataframe tbody tr th {\n",
       "        vertical-align: top;\n",
       "    }\n",
       "\n",
       "    .dataframe thead th {\n",
       "        text-align: right;\n",
       "    }\n",
       "</style>\n",
       "<table border=\"1\" class=\"dataframe\">\n",
       "  <thead>\n",
       "    <tr style=\"text-align: right;\">\n",
       "      <th></th>\n",
       "      <th>Open</th>\n",
       "      <th>High</th>\n",
       "      <th>Low</th>\n",
       "      <th>Close</th>\n",
       "      <th>Adj_Close</th>\n",
       "      <th>Volume</th>\n",
       "    </tr>\n",
       "    <tr>\n",
       "      <th>Date</th>\n",
       "      <th></th>\n",
       "      <th></th>\n",
       "      <th></th>\n",
       "      <th></th>\n",
       "      <th></th>\n",
       "      <th></th>\n",
       "    </tr>\n",
       "  </thead>\n",
       "  <tbody>\n",
       "    <tr>\n",
       "      <th>2019-12-31</th>\n",
       "      <td>72.482498</td>\n",
       "      <td>73.419998</td>\n",
       "      <td>72.379997</td>\n",
       "      <td>73.412498</td>\n",
       "      <td>72.337990</td>\n",
       "      <td>100805600</td>\n",
       "    </tr>\n",
       "    <tr>\n",
       "      <th>2020-01-02</th>\n",
       "      <td>74.059998</td>\n",
       "      <td>75.150002</td>\n",
       "      <td>73.797501</td>\n",
       "      <td>75.087502</td>\n",
       "      <td>73.988464</td>\n",
       "      <td>135480400</td>\n",
       "    </tr>\n",
       "    <tr>\n",
       "      <th>2020-01-03</th>\n",
       "      <td>74.287498</td>\n",
       "      <td>75.144997</td>\n",
       "      <td>74.125000</td>\n",
       "      <td>74.357498</td>\n",
       "      <td>73.269157</td>\n",
       "      <td>146322800</td>\n",
       "    </tr>\n",
       "    <tr>\n",
       "      <th>2020-01-06</th>\n",
       "      <td>73.447502</td>\n",
       "      <td>74.989998</td>\n",
       "      <td>73.187500</td>\n",
       "      <td>74.949997</td>\n",
       "      <td>73.852974</td>\n",
       "      <td>118387200</td>\n",
       "    </tr>\n",
       "    <tr>\n",
       "      <th>2020-01-07</th>\n",
       "      <td>74.959999</td>\n",
       "      <td>75.224998</td>\n",
       "      <td>74.370003</td>\n",
       "      <td>74.597504</td>\n",
       "      <td>73.505646</td>\n",
       "      <td>108872000</td>\n",
       "    </tr>\n",
       "    <tr>\n",
       "      <th>...</th>\n",
       "      <td>...</td>\n",
       "      <td>...</td>\n",
       "      <td>...</td>\n",
       "      <td>...</td>\n",
       "      <td>...</td>\n",
       "      <td>...</td>\n",
       "    </tr>\n",
       "    <tr>\n",
       "      <th>2020-12-23</th>\n",
       "      <td>132.160004</td>\n",
       "      <td>132.429993</td>\n",
       "      <td>130.779999</td>\n",
       "      <td>130.960007</td>\n",
       "      <td>130.157608</td>\n",
       "      <td>88223700</td>\n",
       "    </tr>\n",
       "    <tr>\n",
       "      <th>2020-12-24</th>\n",
       "      <td>131.320007</td>\n",
       "      <td>133.460007</td>\n",
       "      <td>131.100006</td>\n",
       "      <td>131.970001</td>\n",
       "      <td>131.161423</td>\n",
       "      <td>54930100</td>\n",
       "    </tr>\n",
       "    <tr>\n",
       "      <th>2020-12-28</th>\n",
       "      <td>133.990005</td>\n",
       "      <td>137.339996</td>\n",
       "      <td>133.509995</td>\n",
       "      <td>136.690002</td>\n",
       "      <td>135.852509</td>\n",
       "      <td>124486200</td>\n",
       "    </tr>\n",
       "    <tr>\n",
       "      <th>2020-12-29</th>\n",
       "      <td>138.050003</td>\n",
       "      <td>138.789993</td>\n",
       "      <td>134.339996</td>\n",
       "      <td>134.869995</td>\n",
       "      <td>134.043655</td>\n",
       "      <td>121047300</td>\n",
       "    </tr>\n",
       "    <tr>\n",
       "      <th>2020-12-30</th>\n",
       "      <td>135.580002</td>\n",
       "      <td>135.990005</td>\n",
       "      <td>133.399994</td>\n",
       "      <td>133.720001</td>\n",
       "      <td>132.900696</td>\n",
       "      <td>96452100</td>\n",
       "    </tr>\n",
       "  </tbody>\n",
       "</table>\n",
       "<p>253 rows × 6 columns</p>\n",
       "</div>"
      ],
      "text/plain": [
       "                  Open        High         Low       Close   Adj_Close  \\\n",
       "Date                                                                     \n",
       "2019-12-31   72.482498   73.419998   72.379997   73.412498   72.337990   \n",
       "2020-01-02   74.059998   75.150002   73.797501   75.087502   73.988464   \n",
       "2020-01-03   74.287498   75.144997   74.125000   74.357498   73.269157   \n",
       "2020-01-06   73.447502   74.989998   73.187500   74.949997   73.852974   \n",
       "2020-01-07   74.959999   75.224998   74.370003   74.597504   73.505646   \n",
       "...                ...         ...         ...         ...         ...   \n",
       "2020-12-23  132.160004  132.429993  130.779999  130.960007  130.157608   \n",
       "2020-12-24  131.320007  133.460007  131.100006  131.970001  131.161423   \n",
       "2020-12-28  133.990005  137.339996  133.509995  136.690002  135.852509   \n",
       "2020-12-29  138.050003  138.789993  134.339996  134.869995  134.043655   \n",
       "2020-12-30  135.580002  135.990005  133.399994  133.720001  132.900696   \n",
       "\n",
       "               Volume  \n",
       "Date                   \n",
       "2019-12-31  100805600  \n",
       "2020-01-02  135480400  \n",
       "2020-01-03  146322800  \n",
       "2020-01-06  118387200  \n",
       "2020-01-07  108872000  \n",
       "...               ...  \n",
       "2020-12-23   88223700  \n",
       "2020-12-24   54930100  \n",
       "2020-12-28  124486200  \n",
       "2020-12-29  121047300  \n",
       "2020-12-30   96452100  \n",
       "\n",
       "[253 rows x 6 columns]"
      ]
     },
     "execution_count": 15,
     "metadata": {},
     "output_type": "execute_result"
    }
   ],
   "source": [
    "df.sort_values('Date').set_index('Date')"
   ]
  }
 ],
 "metadata": {
  "environment": {
   "kernel": "python3",
   "name": "common-cpu.m87",
   "type": "gcloud",
   "uri": "gcr.io/deeplearning-platform-release/base-cpu:m87"
  },
  "kernelspec": {
   "display_name": "Python 3 (ipykernel)",
   "language": "python",
   "name": "python3"
  },
  "language_info": {
   "codemirror_mode": {
    "name": "ipython",
    "version": 3
   },
   "file_extension": ".py",
   "mimetype": "text/x-python",
   "name": "python",
   "nbconvert_exporter": "python",
   "pygments_lexer": "ipython3",
   "version": "3.8.6"
  },
  "toc": {
   "base_numbering": 1,
   "nav_menu": {},
   "number_sections": true,
   "sideBar": true,
   "skip_h1_title": false,
   "title_cell": "Table of Contents",
   "title_sidebar": "Contents",
   "toc_cell": false,
   "toc_position": {
    "height": "calc(100% - 180px)",
    "left": "10px",
    "top": "150px",
    "width": "307.2px"
   },
   "toc_section_display": true,
   "toc_window_display": true
  },
  "varInspector": {
   "cols": {
    "lenName": 16,
    "lenType": 16,
    "lenVar": 40
   },
   "kernels_config": {
    "python": {
     "delete_cmd_postfix": "",
     "delete_cmd_prefix": "del ",
     "library": "var_list.py",
     "varRefreshCmd": "print(var_dic_list())"
    },
    "r": {
     "delete_cmd_postfix": ") ",
     "delete_cmd_prefix": "rm(",
     "library": "var_list.r",
     "varRefreshCmd": "cat(var_dic_list()) "
    }
   },
   "types_to_exclude": [
    "module",
    "function",
    "builtin_function_or_method",
    "instance",
    "_Feature"
   ],
   "window_display": false
  }
 },
 "nbformat": 4,
 "nbformat_minor": 5
}
