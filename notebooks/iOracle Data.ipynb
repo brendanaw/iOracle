{
 "cells": [
  {
   "cell_type": "markdown",
   "id": "aaa38fde",
   "metadata": {},
   "source": [
    "# yfinance"
   ]
  },
  {
   "cell_type": "markdown",
   "id": "16f9ceb2",
   "metadata": {},
   "source": [
    "## Package imports"
   ]
  },
  {
   "cell_type": "code",
   "execution_count": 5,
   "id": "292dfb7c",
   "metadata": {
    "ExecuteTime": {
     "end_time": "2022-01-08T14:31:23.791925Z",
     "start_time": "2022-01-08T14:31:23.788964Z"
    }
   },
   "outputs": [],
   "source": [
    "import yfinance as yf\n",
    "import pandas as pd\n",
    "from datetime import datetime as dt\n",
    "import os #only for jupyter notebook"
   ]
  },
  {
   "cell_type": "code",
   "execution_count": 2,
   "id": "937d5aa9",
   "metadata": {
    "ExecuteTime": {
     "end_time": "2022-01-08T14:30:31.568802Z",
     "start_time": "2022-01-08T14:30:31.565524Z"
    }
   },
   "outputs": [],
   "source": [
    "# only for jupyter notebook\n",
    "os.environ[\"GOOGLE_APPLICATION_CREDENTIALS\"]=\"../../service-account-file.json\""
   ]
  },
  {
   "cell_type": "code",
   "execution_count": 3,
   "id": "2edfc898-614d-41d0-97f9-15952c0908b1",
   "metadata": {
    "ExecuteTime": {
     "end_time": "2022-01-08T14:30:31.577586Z",
     "start_time": "2022-01-08T14:30:31.570219Z"
    }
   },
   "outputs": [],
   "source": [
    "def _get_dataframe(ticker_name, start, end):\n",
    "    \"\"\"\n",
    "    get_dataframe(ticker_name, start, end)\n",
    "    Downloads OHLC,adj close and volume from yahoo finance\n",
    "    returns dataframe\n",
    "\n",
    "    \"\"\"\n",
    "    df = yf.download(ticker_name, start=start, end=end)\n",
    "    return df\n",
    "\n",
    "\n",
    "def _get_start_end(kwargs):\n",
    "    '''\n",
    "    get_start_end(kwargs)\n",
    "    from kwargs, get start, end dates\n",
    "    if not stated, will return default values\n",
    "    return start, end dates\n",
    "    '''\n",
    "    start = kwargs.get('start', \"2017-01-01\")\n",
    "    end = kwargs.get('end', dt.today().strftime('%Y-%m-%d')) #not inclusive\n",
    "    return start, end\n",
    "         \n",
    "\n",
    "def save_local(ticker_name, path_filename, **kwargs):\n",
    "    \"\"\"\n",
    "    save_local(path_filename, ticker_name, **kwargs)\n",
    "    save df to local path\n",
    "    \"\"\"\n",
    "    start, end = _get_start_end(kwargs)\n",
    "      \n",
    "    df = _get_dataframe(ticker_name, start=start, end=end)\n",
    "    if len(df) != 0:\n",
    "        df.to_csv(path_filename)\n",
    "        print(f\"{ticker_name} from {start} to {end} saved to {path_filename}\")\n",
    "        \n",
    "\n",
    "def save_gbq(ticker_name, table_name, **kwargs):\n",
    "    \"\"\"\n",
    "    save_to_gbq(table_name, project_id=None)\n",
    "    convert df to uploadable format for gbq\n",
    "    \"\"\"\n",
    "    \n",
    "    start, end = _get_start_end(kwargs)\n",
    "    project_id = kwargs.get('project_id', \"ioracle\")\n",
    "    \n",
    "            \n",
    "    temp = _get_dataframe(ticker_name, start=start, end=end)\n",
    "    \n",
    "##    For testing, avoid keep downloading data\n",
    "#     temp = pd.read_csv('play.csv')\n",
    "\n",
    "    if len(temp) != 0: # check that df is not empty\n",
    "        temp = temp.rename(columns={'Adj Close': 'Adj_Close'}).reset_index()\n",
    "        temp.to_gbq(f'{project_id}.main.{table_name}', \n",
    "                    project_id=project_id, \n",
    "                    table_schema = [{'name': 'Date','type':'DATE'}], #hard code schema for date from DATETIME to DATE\n",
    "                    if_exists='replace'\n",
    "                   )\n",
    "        \n",
    "\n",
    "def read_local(path_filename):\n",
    "    \"\"\"\n",
    "    read_local(path_filename)\n",
    "    reads the csv file and parses date col as date, setting the date as the index\n",
    "    returns the df\n",
    "    \"\"\"\n",
    "    df = pd.read_csv(path_filename)\n",
    "    df['Date'] = pd.to_datetime(df['Date'])\n",
    "    return df.set_index('Date')\n",
    "    \n",
    "\n",
    "# read from gbq (undo changes)\n",
    "def read_gbq(table_name, **kwargs):\n",
    "\n",
    "        \n",
    "    project_id = kwargs.get('project_id', \"ioracle\")\n",
    "\n",
    "    sql = f\"SELECT * FROM `{project_id}.main.{table_name}` \"\n",
    "\n",
    "    df = pd.read_gbq(sql, project_id=project_id)\n",
    "    df = df.sort_values('Date').set_index('Date')   \n",
    "    return df"
   ]
  },
  {
   "cell_type": "markdown",
   "id": "d01d0348",
   "metadata": {},
   "source": [
    "## Download Data"
   ]
  },
  {
   "cell_type": "code",
   "execution_count": 3,
   "id": "bdf15239",
   "metadata": {
    "ExecuteTime": {
     "end_time": "2022-01-08T13:34:38.962062Z",
     "start_time": "2022-01-08T13:34:38.512087Z"
    },
    "scrolled": false
   },
   "outputs": [
    {
     "name": "stdout",
     "output_type": "stream",
     "text": [
      "[*********************100%***********************]  1 of 1 completed\n",
      "aapl from 2017-01-01 to 2022-01-08 saved to aapl.csv\n"
     ]
    }
   ],
   "source": [
    "save_local('aapl', 'aapl.csv')"
   ]
  },
  {
   "cell_type": "code",
   "execution_count": 4,
   "id": "fd7915e2",
   "metadata": {
    "ExecuteTime": {
     "end_time": "2022-01-08T14:28:29.273568Z",
     "start_time": "2022-01-08T14:28:23.191816Z"
    },
    "scrolled": true
   },
   "outputs": [
    {
     "name": "stdout",
     "output_type": "stream",
     "text": [
      "[*********************100%***********************]  1 of 1 completed\n"
     ]
    },
    {
     "name": "stderr",
     "output_type": "stream",
     "text": [
      "100%|███████████████████████████████████████████████████████████████████████████████████| 1/1 [00:00<00:00, 7710.12it/s]\n"
     ]
    }
   ],
   "source": [
    "save_gbq(\"aapl\", 'aapl_data')"
   ]
  },
  {
   "cell_type": "markdown",
   "id": "565d00e9",
   "metadata": {},
   "source": [
    "## Read Data"
   ]
  },
  {
   "cell_type": "code",
   "execution_count": 7,
   "id": "64cde8a1",
   "metadata": {
    "ExecuteTime": {
     "end_time": "2022-01-01T03:52:04.713360Z",
     "start_time": "2022-01-01T03:52:04.697578Z"
    }
   },
   "outputs": [
    {
     "data": {
      "text/html": [
       "<div>\n",
       "<style scoped>\n",
       "    .dataframe tbody tr th:only-of-type {\n",
       "        vertical-align: middle;\n",
       "    }\n",
       "\n",
       "    .dataframe tbody tr th {\n",
       "        vertical-align: top;\n",
       "    }\n",
       "\n",
       "    .dataframe thead th {\n",
       "        text-align: right;\n",
       "    }\n",
       "</style>\n",
       "<table border=\"1\" class=\"dataframe\">\n",
       "  <thead>\n",
       "    <tr style=\"text-align: right;\">\n",
       "      <th></th>\n",
       "      <th>Open</th>\n",
       "      <th>High</th>\n",
       "      <th>Low</th>\n",
       "      <th>Close</th>\n",
       "      <th>Adj Close</th>\n",
       "      <th>Volume</th>\n",
       "    </tr>\n",
       "    <tr>\n",
       "      <th>Date</th>\n",
       "      <th></th>\n",
       "      <th></th>\n",
       "      <th></th>\n",
       "      <th></th>\n",
       "      <th></th>\n",
       "      <th></th>\n",
       "    </tr>\n",
       "  </thead>\n",
       "  <tbody>\n",
       "    <tr>\n",
       "      <th>2017-01-03</th>\n",
       "      <td>28.950001</td>\n",
       "      <td>29.082500</td>\n",
       "      <td>28.690001</td>\n",
       "      <td>29.037500</td>\n",
       "      <td>27.332468</td>\n",
       "      <td>115127600</td>\n",
       "    </tr>\n",
       "    <tr>\n",
       "      <th>2017-01-04</th>\n",
       "      <td>28.962500</td>\n",
       "      <td>29.127501</td>\n",
       "      <td>28.937500</td>\n",
       "      <td>29.004999</td>\n",
       "      <td>27.301880</td>\n",
       "      <td>84472400</td>\n",
       "    </tr>\n",
       "    <tr>\n",
       "      <th>2017-01-05</th>\n",
       "      <td>28.980000</td>\n",
       "      <td>29.215000</td>\n",
       "      <td>28.952499</td>\n",
       "      <td>29.152500</td>\n",
       "      <td>27.440718</td>\n",
       "      <td>88774400</td>\n",
       "    </tr>\n",
       "    <tr>\n",
       "      <th>2017-01-06</th>\n",
       "      <td>29.195000</td>\n",
       "      <td>29.540001</td>\n",
       "      <td>29.117500</td>\n",
       "      <td>29.477501</td>\n",
       "      <td>27.746639</td>\n",
       "      <td>127007600</td>\n",
       "    </tr>\n",
       "    <tr>\n",
       "      <th>2017-01-09</th>\n",
       "      <td>29.487499</td>\n",
       "      <td>29.857500</td>\n",
       "      <td>29.485001</td>\n",
       "      <td>29.747499</td>\n",
       "      <td>28.000778</td>\n",
       "      <td>134247600</td>\n",
       "    </tr>\n",
       "    <tr>\n",
       "      <th>...</th>\n",
       "      <td>...</td>\n",
       "      <td>...</td>\n",
       "      <td>...</td>\n",
       "      <td>...</td>\n",
       "      <td>...</td>\n",
       "      <td>...</td>\n",
       "    </tr>\n",
       "    <tr>\n",
       "      <th>2021-12-27</th>\n",
       "      <td>177.089996</td>\n",
       "      <td>180.419998</td>\n",
       "      <td>177.070007</td>\n",
       "      <td>180.330002</td>\n",
       "      <td>180.330002</td>\n",
       "      <td>74919600</td>\n",
       "    </tr>\n",
       "    <tr>\n",
       "      <th>2021-12-28</th>\n",
       "      <td>180.160004</td>\n",
       "      <td>181.330002</td>\n",
       "      <td>178.529999</td>\n",
       "      <td>179.289993</td>\n",
       "      <td>179.289993</td>\n",
       "      <td>79144300</td>\n",
       "    </tr>\n",
       "    <tr>\n",
       "      <th>2021-12-29</th>\n",
       "      <td>179.330002</td>\n",
       "      <td>180.630005</td>\n",
       "      <td>178.139999</td>\n",
       "      <td>179.380005</td>\n",
       "      <td>179.380005</td>\n",
       "      <td>62348900</td>\n",
       "    </tr>\n",
       "    <tr>\n",
       "      <th>2021-12-30</th>\n",
       "      <td>179.470001</td>\n",
       "      <td>180.570007</td>\n",
       "      <td>178.089996</td>\n",
       "      <td>178.199997</td>\n",
       "      <td>178.199997</td>\n",
       "      <td>59773000</td>\n",
       "    </tr>\n",
       "    <tr>\n",
       "      <th>2021-12-31</th>\n",
       "      <td>178.089996</td>\n",
       "      <td>179.229996</td>\n",
       "      <td>177.259995</td>\n",
       "      <td>177.570007</td>\n",
       "      <td>177.570007</td>\n",
       "      <td>64025500</td>\n",
       "    </tr>\n",
       "  </tbody>\n",
       "</table>\n",
       "<p>1259 rows × 6 columns</p>\n",
       "</div>"
      ],
      "text/plain": [
       "                  Open        High         Low       Close   Adj Close  \\\n",
       "Date                                                                     \n",
       "2017-01-03   28.950001   29.082500   28.690001   29.037500   27.332468   \n",
       "2017-01-04   28.962500   29.127501   28.937500   29.004999   27.301880   \n",
       "2017-01-05   28.980000   29.215000   28.952499   29.152500   27.440718   \n",
       "2017-01-06   29.195000   29.540001   29.117500   29.477501   27.746639   \n",
       "2017-01-09   29.487499   29.857500   29.485001   29.747499   28.000778   \n",
       "...                ...         ...         ...         ...         ...   \n",
       "2021-12-27  177.089996  180.419998  177.070007  180.330002  180.330002   \n",
       "2021-12-28  180.160004  181.330002  178.529999  179.289993  179.289993   \n",
       "2021-12-29  179.330002  180.630005  178.139999  179.380005  179.380005   \n",
       "2021-12-30  179.470001  180.570007  178.089996  178.199997  178.199997   \n",
       "2021-12-31  178.089996  179.229996  177.259995  177.570007  177.570007   \n",
       "\n",
       "               Volume  \n",
       "Date                   \n",
       "2017-01-03  115127600  \n",
       "2017-01-04   84472400  \n",
       "2017-01-05   88774400  \n",
       "2017-01-06  127007600  \n",
       "2017-01-09  134247600  \n",
       "...               ...  \n",
       "2021-12-27   74919600  \n",
       "2021-12-28   79144300  \n",
       "2021-12-29   62348900  \n",
       "2021-12-30   59773000  \n",
       "2021-12-31   64025500  \n",
       "\n",
       "[1259 rows x 6 columns]"
      ]
     },
     "execution_count": 7,
     "metadata": {},
     "output_type": "execute_result"
    }
   ],
   "source": [
    "read_local('aapl.csv')"
   ]
  },
  {
   "cell_type": "code",
   "execution_count": 4,
   "id": "51e68125",
   "metadata": {
    "ExecuteTime": {
     "end_time": "2022-01-08T14:30:36.116862Z",
     "start_time": "2022-01-08T14:30:34.144624Z"
    },
    "scrolled": true
   },
   "outputs": [
    {
     "data": {
      "text/html": [
       "<div>\n",
       "<style scoped>\n",
       "    .dataframe tbody tr th:only-of-type {\n",
       "        vertical-align: middle;\n",
       "    }\n",
       "\n",
       "    .dataframe tbody tr th {\n",
       "        vertical-align: top;\n",
       "    }\n",
       "\n",
       "    .dataframe thead th {\n",
       "        text-align: right;\n",
       "    }\n",
       "</style>\n",
       "<table border=\"1\" class=\"dataframe\">\n",
       "  <thead>\n",
       "    <tr style=\"text-align: right;\">\n",
       "      <th></th>\n",
       "      <th>Open</th>\n",
       "      <th>High</th>\n",
       "      <th>Low</th>\n",
       "      <th>Close</th>\n",
       "      <th>Adj_Close</th>\n",
       "      <th>Volume</th>\n",
       "    </tr>\n",
       "    <tr>\n",
       "      <th>Date</th>\n",
       "      <th></th>\n",
       "      <th></th>\n",
       "      <th></th>\n",
       "      <th></th>\n",
       "      <th></th>\n",
       "      <th></th>\n",
       "    </tr>\n",
       "  </thead>\n",
       "  <tbody>\n",
       "    <tr>\n",
       "      <th>2017-01-03</th>\n",
       "      <td>28.950001</td>\n",
       "      <td>29.082500</td>\n",
       "      <td>28.690001</td>\n",
       "      <td>29.037500</td>\n",
       "      <td>27.332472</td>\n",
       "      <td>115127600</td>\n",
       "    </tr>\n",
       "    <tr>\n",
       "      <th>2017-01-04</th>\n",
       "      <td>28.962500</td>\n",
       "      <td>29.127501</td>\n",
       "      <td>28.937500</td>\n",
       "      <td>29.004999</td>\n",
       "      <td>27.301874</td>\n",
       "      <td>84472400</td>\n",
       "    </tr>\n",
       "    <tr>\n",
       "      <th>2017-01-05</th>\n",
       "      <td>28.980000</td>\n",
       "      <td>29.215000</td>\n",
       "      <td>28.952499</td>\n",
       "      <td>29.152500</td>\n",
       "      <td>27.440720</td>\n",
       "      <td>88774400</td>\n",
       "    </tr>\n",
       "    <tr>\n",
       "      <th>2017-01-06</th>\n",
       "      <td>29.195000</td>\n",
       "      <td>29.540001</td>\n",
       "      <td>29.117500</td>\n",
       "      <td>29.477501</td>\n",
       "      <td>27.746634</td>\n",
       "      <td>127007600</td>\n",
       "    </tr>\n",
       "    <tr>\n",
       "      <th>2017-01-09</th>\n",
       "      <td>29.487499</td>\n",
       "      <td>29.857500</td>\n",
       "      <td>29.485001</td>\n",
       "      <td>29.747499</td>\n",
       "      <td>28.000778</td>\n",
       "      <td>134247600</td>\n",
       "    </tr>\n",
       "    <tr>\n",
       "      <th>...</th>\n",
       "      <td>...</td>\n",
       "      <td>...</td>\n",
       "      <td>...</td>\n",
       "      <td>...</td>\n",
       "      <td>...</td>\n",
       "      <td>...</td>\n",
       "    </tr>\n",
       "    <tr>\n",
       "      <th>2022-01-03</th>\n",
       "      <td>177.830002</td>\n",
       "      <td>182.880005</td>\n",
       "      <td>177.710007</td>\n",
       "      <td>182.009995</td>\n",
       "      <td>182.009995</td>\n",
       "      <td>104487900</td>\n",
       "    </tr>\n",
       "    <tr>\n",
       "      <th>2022-01-04</th>\n",
       "      <td>182.630005</td>\n",
       "      <td>182.940002</td>\n",
       "      <td>179.119995</td>\n",
       "      <td>179.699997</td>\n",
       "      <td>179.699997</td>\n",
       "      <td>99310400</td>\n",
       "    </tr>\n",
       "    <tr>\n",
       "      <th>2022-01-05</th>\n",
       "      <td>179.610001</td>\n",
       "      <td>180.169998</td>\n",
       "      <td>174.639999</td>\n",
       "      <td>174.919998</td>\n",
       "      <td>174.919998</td>\n",
       "      <td>94537600</td>\n",
       "    </tr>\n",
       "    <tr>\n",
       "      <th>2022-01-06</th>\n",
       "      <td>172.699997</td>\n",
       "      <td>175.300003</td>\n",
       "      <td>171.639999</td>\n",
       "      <td>172.000000</td>\n",
       "      <td>172.000000</td>\n",
       "      <td>96904000</td>\n",
       "    </tr>\n",
       "    <tr>\n",
       "      <th>2022-01-07</th>\n",
       "      <td>172.889999</td>\n",
       "      <td>174.139999</td>\n",
       "      <td>171.029999</td>\n",
       "      <td>172.169998</td>\n",
       "      <td>172.169998</td>\n",
       "      <td>86580100</td>\n",
       "    </tr>\n",
       "  </tbody>\n",
       "</table>\n",
       "<p>1264 rows × 6 columns</p>\n",
       "</div>"
      ],
      "text/plain": [
       "                  Open        High         Low       Close   Adj_Close  \\\n",
       "Date                                                                     \n",
       "2017-01-03   28.950001   29.082500   28.690001   29.037500   27.332472   \n",
       "2017-01-04   28.962500   29.127501   28.937500   29.004999   27.301874   \n",
       "2017-01-05   28.980000   29.215000   28.952499   29.152500   27.440720   \n",
       "2017-01-06   29.195000   29.540001   29.117500   29.477501   27.746634   \n",
       "2017-01-09   29.487499   29.857500   29.485001   29.747499   28.000778   \n",
       "...                ...         ...         ...         ...         ...   \n",
       "2022-01-03  177.830002  182.880005  177.710007  182.009995  182.009995   \n",
       "2022-01-04  182.630005  182.940002  179.119995  179.699997  179.699997   \n",
       "2022-01-05  179.610001  180.169998  174.639999  174.919998  174.919998   \n",
       "2022-01-06  172.699997  175.300003  171.639999  172.000000  172.000000   \n",
       "2022-01-07  172.889999  174.139999  171.029999  172.169998  172.169998   \n",
       "\n",
       "               Volume  \n",
       "Date                   \n",
       "2017-01-03  115127600  \n",
       "2017-01-04   84472400  \n",
       "2017-01-05   88774400  \n",
       "2017-01-06  127007600  \n",
       "2017-01-09  134247600  \n",
       "...               ...  \n",
       "2022-01-03  104487900  \n",
       "2022-01-04   99310400  \n",
       "2022-01-05   94537600  \n",
       "2022-01-06   96904000  \n",
       "2022-01-07   86580100  \n",
       "\n",
       "[1264 rows x 6 columns]"
      ]
     },
     "execution_count": 4,
     "metadata": {},
     "output_type": "execute_result"
    }
   ],
   "source": [
    "read_gbq('aapl_data')\n"
   ]
  }
 ],
 "metadata": {
  "environment": {
   "kernel": "python3",
   "name": "common-cpu.m87",
   "type": "gcloud",
   "uri": "gcr.io/deeplearning-platform-release/base-cpu:m87"
  },
  "kernelspec": {
   "display_name": "Python 3 (ipykernel)",
   "language": "python",
   "name": "python3"
  },
  "language_info": {
   "codemirror_mode": {
    "name": "ipython",
    "version": 3
   },
   "file_extension": ".py",
   "mimetype": "text/x-python",
   "name": "python",
   "nbconvert_exporter": "python",
   "pygments_lexer": "ipython3",
   "version": "3.8.6"
  },
  "toc": {
   "base_numbering": 1,
   "nav_menu": {},
   "number_sections": true,
   "sideBar": true,
   "skip_h1_title": false,
   "title_cell": "Table of Contents",
   "title_sidebar": "Contents",
   "toc_cell": false,
   "toc_position": {
    "height": "calc(100% - 180px)",
    "left": "10px",
    "top": "150px",
    "width": "307.2px"
   },
   "toc_section_display": true,
   "toc_window_display": true
  },
  "varInspector": {
   "cols": {
    "lenName": 16,
    "lenType": 16,
    "lenVar": 40
   },
   "kernels_config": {
    "python": {
     "delete_cmd_postfix": "",
     "delete_cmd_prefix": "del ",
     "library": "var_list.py",
     "varRefreshCmd": "print(var_dic_list())"
    },
    "r": {
     "delete_cmd_postfix": ") ",
     "delete_cmd_prefix": "rm(",
     "library": "var_list.r",
     "varRefreshCmd": "cat(var_dic_list()) "
    }
   },
   "types_to_exclude": [
    "module",
    "function",
    "builtin_function_or_method",
    "instance",
    "_Feature"
   ],
   "window_display": false
  }
 },
 "nbformat": 4,
 "nbformat_minor": 5
}
